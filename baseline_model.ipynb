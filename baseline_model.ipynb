{
 "cells": [
  {
   "cell_type": "code",
   "execution_count": 153,
   "id": "bc83010d",
   "metadata": {},
   "outputs": [],
   "source": [
    "import pandas as pd\n",
    "import numpy as np"
   ]
  },
  {
   "cell_type": "code",
   "execution_count": 154,
   "id": "0a5c5766",
   "metadata": {},
   "outputs": [],
   "source": [
    "data = pd.read_csv('data/all_2012.csv')\n",
    "data = data.drop(columns = ['Unnamed: 0.1'])"
   ]
  },
  {
   "cell_type": "markdown",
   "id": "64db8a63",
   "metadata": {},
   "source": [
    "99 = LEGITIMATE SKIP (31.48% in 2012 data)"
   ]
  },
  {
   "cell_type": "code",
   "execution_count": 155,
   "id": "b0369a91",
   "metadata": {},
   "outputs": [],
   "source": [
    "#drop nan for religion\n",
    "religion_col = ['religion_services','religion_services','religion_important','religion_influence_decision','religion_share_important']\n",
    "\n",
    "for col in religion_col:\n",
    "    data = data[data[col] != '99']\n"
   ]
  },
  {
   "cell_type": "markdown",
   "id": "6da7663e",
   "metadata": {},
   "source": [
    "- Not religious (NR - 0): disagreed with all three state- ments and reported no service attendance over the past 12 months.\n",
    "- Religious (R - 1): agreed with any of the three statements or reported attending at least one service over the past 12 months."
   ]
  },
  {
   "cell_type": "code",
   "execution_count": 172,
   "id": "d69134d0",
   "metadata": {},
   "outputs": [
    {
     "data": {
      "text/plain": [
       "1    0.79063\n",
       "0    0.20937\n",
       "Name: religious, dtype: float64"
      ]
     },
     "execution_count": 172,
     "metadata": {},
     "output_type": "execute_result"
    }
   ],
   "source": [
    "data['religious'].value_counts(normalize=True)"
   ]
  },
  {
   "cell_type": "code",
   "execution_count": 156,
   "id": "567d49b0",
   "metadata": {},
   "outputs": [],
   "source": [
    "#get y\n",
    "disagree = lambda x: True if 'Disagree' in x else False\n",
    "def check_religion(x):\n",
    "    if (x['religion_important'].apply(disagree)) and (x['religion_services'] == '0'):\n",
    "        return 0 #not religious\n",
    "    else:\n",
    "        return 1 #religious\n",
    "\n",
    "data['religious'] = np.where((data['religion_important'].apply(disagree)) & (data['religion_services'] == '0'), 0, 1)"
   ]
  },
  {
   "cell_type": "code",
   "execution_count": 157,
   "id": "fbe5af2e",
   "metadata": {},
   "outputs": [],
   "source": [
    "def normalize(series):\n",
    "    \"\"\"\n",
    "    normalize a series\n",
    "    \"\"\"\n",
    "\n",
    "    array = np.array(series)\n",
    "    array_norm = (array-np.min(array)) / (np.max(array)-np.min(array))\n",
    "    return pd.Series(array_norm)\n",
    "\n",
    "normalize_col = ['Age_First_Use', 'Year_First_Use', 'whodas_score', ]\n",
    "one_hot_encoding = ['Ever_Steal_50', 'Sell_Illgal_Drugs', 'Age', 'Health', 'Marriage', 'Education', 'Race', 'Employment']\n",
    "binary_col = ['Ever_Booked_Arrested', 'Drug_or_Alc_Past_year', 'Sex']"
   ]
  },
  {
   "cell_type": "code",
   "execution_count": 158,
   "id": "d81122d0",
   "metadata": {},
   "outputs": [],
   "source": [
    "data = data.drop(columns = ['Unnamed: 0', 'religion_services', 'religion_important', 'religion_influence_decision', 'religion_share_important'])\n",
    "\n"
   ]
  },
  {
   "cell_type": "code",
   "execution_count": 159,
   "id": "f8c1b3df",
   "metadata": {},
   "outputs": [],
   "source": [
    "for col in binary_col:\n",
    "    data[col] = data[col].map({data[col].unique()[0]: 0, data[col].unique()[1]: 1})"
   ]
  },
  {
   "cell_type": "code",
   "execution_count": 160,
   "id": "ef84a2ce",
   "metadata": {},
   "outputs": [],
   "source": [
    "data = data.drop(columns = ['CASEID'])\n",
    "data = data.drop(columns = one_hot_encoding)\n",
    "data = data.drop(columns = normalize_col)"
   ]
  },
  {
   "cell_type": "code",
   "execution_count": 165,
   "id": "b6deb6db",
   "metadata": {},
   "outputs": [],
   "source": [
    "feature_df = data.drop(columns = ['religious'])\n",
    "label = data['religious']"
   ]
  },
  {
   "cell_type": "code",
   "execution_count": 166,
   "id": "2786549c",
   "metadata": {},
   "outputs": [],
   "source": [
    "X = feature_df.values\n",
    "y = pd.factorize(label)[0].tolist()"
   ]
  },
  {
   "cell_type": "code",
   "execution_count": 169,
   "id": "76b84cf8",
   "metadata": {},
   "outputs": [
    {
     "name": "stderr",
     "output_type": "stream",
     "text": [
      "/Users/xiangzairan/opt/anaconda3/lib/python3.8/site-packages/sklearn/linear_model/_logistic.py:814: ConvergenceWarning: lbfgs failed to converge (status=1):\n",
      "STOP: TOTAL NO. of ITERATIONS REACHED LIMIT.\n",
      "\n",
      "Increase the number of iterations (max_iter) or scale the data as shown in:\n",
      "    https://scikit-learn.org/stable/modules/preprocessing.html\n",
      "Please also refer to the documentation for alternative solver options:\n",
      "    https://scikit-learn.org/stable/modules/linear_model.html#logistic-regression\n",
      "  n_iter_i = _check_optimize_result(\n"
     ]
    },
    {
     "data": {
      "text/plain": [
       "0.7912251297577855"
      ]
     },
     "execution_count": 169,
     "metadata": {},
     "output_type": "execute_result"
    }
   ],
   "source": [
    "from sklearn.linear_model import LogisticRegression\n",
    "clf = LogisticRegression(random_state=0).fit(X, y)\n",
    "clf.score(X, y)"
   ]
  },
  {
   "cell_type": "code",
   "execution_count": 170,
   "id": "b4d2af97",
   "metadata": {},
   "outputs": [
    {
     "data": {
      "text/plain": [
       "array([[ 0.12953725,  0.0844392 ,  0.38024595, -0.05327998,  0.06753806,\n",
       "        -0.23748318,  0.3410736 ,  0.31081634,  0.09436614, -0.01886448,\n",
       "         0.09043867,  0.28680765, -0.18254787, -0.14778619, -0.27703181,\n",
       "        -0.04937385,  0.24713518,  0.18542977,  0.00390613, -0.10149203,\n",
       "        -0.04738584, -0.11537691,  0.05486318, -0.17138247,  0.0236709 ,\n",
       "         0.09318743,  0.1752563 , -0.20954127, -0.06631866, -0.22541086,\n",
       "        -0.0575708 ,  0.01780959,  0.06644142, -0.03550547, -0.48958496,\n",
       "         0.37259213]])"
      ]
     },
     "execution_count": 170,
     "metadata": {},
     "output_type": "execute_result"
    }
   ],
   "source": [
    "clf.coef_"
   ]
  },
  {
   "cell_type": "code",
   "execution_count": 171,
   "id": "8b562645",
   "metadata": {},
   "outputs": [
    {
     "data": {
      "text/plain": [
       "Index(['Tabacco_Flag', 'Alcohol_Flag', 'Marijunana_Flag',\n",
       "       'Marijuana_Only_Flag', 'Cocaine_Flag', 'Crack_Flag', 'Herion_Flag',\n",
       "       'Hallcinogens_Flag', 'Inhalants_Flag', 'Painkiller_Flag',\n",
       "       'Tranquilizer_Flag', 'Stimulant Flag', 'CPN_Meth_Flag', 'Meth_Flag',\n",
       "       'Sedatives Flag', 'Any_Drug_Flag', 'Any_Drug_Past_Year',\n",
       "       'Any_Drug_Past_Month', 'Drug_Not_Marijunana', 'inpatient', 'outpatient',\n",
       "       'needed_not_rcvd', 'rcvd_any_tmt', 'suic_thought_pst_12month',\n",
       "       'psych_distress_month', 'psych_distress_yr', 'suic_thought_pst_yr',\n",
       "       'suic_plan', 'suic_attempt', 'predicted_ment_ill',\n",
       "       'svrl_days_depressed', 'lifetime_mde', 'pst_yr_mde',\n",
       "       'Ever_Booked_Arrested', 'Drug_or_Alc_Past_year', 'Sex'],\n",
       "      dtype='object')"
      ]
     },
     "execution_count": 171,
     "metadata": {},
     "output_type": "execute_result"
    }
   ],
   "source": [
    "feature_df.columns"
   ]
  },
  {
   "cell_type": "code",
   "execution_count": null,
   "id": "730da774",
   "metadata": {},
   "outputs": [],
   "source": []
  }
 ],
 "metadata": {
  "kernelspec": {
   "display_name": "Python 3 (ipykernel)",
   "language": "python",
   "name": "python3"
  },
  "language_info": {
   "codemirror_mode": {
    "name": "ipython",
    "version": 3
   },
   "file_extension": ".py",
   "mimetype": "text/x-python",
   "name": "python",
   "nbconvert_exporter": "python",
   "pygments_lexer": "ipython3",
   "version": "3.8.13"
  }
 },
 "nbformat": 4,
 "nbformat_minor": 5
}
