{
 "cells": [
  {
   "cell_type": "code",
   "execution_count": 3,
   "id": "3517fbc7",
   "metadata": {},
   "outputs": [],
   "source": [
    "import pandas as pd\n",
    "import numpy as np\n",
    "import matplotlib.pyplot as plt"
   ]
  },
  {
   "cell_type": "markdown",
   "id": "fe71c00f",
   "metadata": {},
   "source": [
    "### National Survey on Drug Use and Health 2002 to 2014"
   ]
  },
  {
   "cell_type": "markdown",
   "id": "d334fd99",
   "metadata": {},
   "source": [
    "https://www.icpsr.umich.edu/web/RCMD/search/studies?start=0&sort=score%20desc%2CTITLE_SORT%20asc&CLASSIF_FACET=RCMD.V.&ARCHIVE=RCMD&PUBLISH_STATUS=PUBLISHED&TIMEPERIOD_NEW=%5B2012%20TO%202022%5D&rows=50&q=Behavioral%20Risk%20Factor%20Surveillance%20System"
   ]
  },
  {
   "cell_type": "code",
<<<<<<< HEAD
   "execution_count": 6,
=======
   "execution_count": 4,
>>>>>>> f20524db0a23be3e52b35e4d6430114f95b9ddce
   "id": "366d0f82",
   "metadata": {},
   "outputs": [],
   "source": [
<<<<<<< HEAD
    "drug = pd.read_stata('34933-0001-Data.dta', convert_categoricals=False) #2012 example"
=======
    "drug = pd.read_stata('2012.dta', convert_categoricals=False) #2012 example"
>>>>>>> f20524db0a23be3e52b35e4d6430114f95b9ddce
   ]
  },
  {
   "cell_type": "code",
<<<<<<< HEAD
   "execution_count": 7,
=======
   "execution_count": 11,
>>>>>>> f20524db0a23be3e52b35e4d6430114f95b9ddce
   "id": "6e91fc20",
   "metadata": {},
   "outputs": [],
   "source": [
    "#contain race and sex column"
   ]
  },
  {
   "cell_type": "code",
<<<<<<< HEAD
   "execution_count": 8,
=======
   "execution_count": 12,
>>>>>>> f20524db0a23be3e52b35e4d6430114f95b9ddce
   "id": "b67f94d4",
   "metadata": {},
   "outputs": [
    {
     "data": {
      "text/plain": [
       "(55268, 3120)"
      ]
     },
<<<<<<< HEAD
     "execution_count": 8,
=======
     "execution_count": 12,
>>>>>>> f20524db0a23be3e52b35e4d6430114f95b9ddce
     "metadata": {},
     "output_type": "execute_result"
    }
   ],
   "source": [
    "drug.shape"
   ]
  },
  {
   "cell_type": "code",
<<<<<<< HEAD
   "execution_count": 9,
=======
   "execution_count": 13,
>>>>>>> f20524db0a23be3e52b35e4d6430114f95b9ddce
   "id": "5e683eda",
   "metadata": {},
   "outputs": [
    {
     "data": {
      "text/html": [
       "<div>\n",
       "<style scoped>\n",
       "    .dataframe tbody tr th:only-of-type {\n",
       "        vertical-align: middle;\n",
       "    }\n",
       "\n",
       "    .dataframe tbody tr th {\n",
       "        vertical-align: top;\n",
       "    }\n",
       "\n",
       "    .dataframe thead th {\n",
       "        text-align: right;\n",
       "    }\n",
       "</style>\n",
       "<table border=\"1\" class=\"dataframe\">\n",
       "  <thead>\n",
       "    <tr style=\"text-align: right;\">\n",
       "      <th></th>\n",
       "      <th>CASEID</th>\n",
       "      <th>QUESTID2</th>\n",
       "      <th>CIGEVER</th>\n",
       "      <th>CIGOFRSM</th>\n",
       "      <th>CIGWILYR</th>\n",
       "      <th>CIGTRY</th>\n",
       "      <th>CIGYFU</th>\n",
       "      <th>CIGMFU</th>\n",
       "      <th>CIGREC</th>\n",
       "      <th>CIG30USE</th>\n",
       "      <th>...</th>\n",
       "      <th>IIEMPSTY</th>\n",
       "      <th>II2EMSTY</th>\n",
       "      <th>EMPSTAT4</th>\n",
       "      <th>IIEMPST4</th>\n",
       "      <th>II2EMST4</th>\n",
       "      <th>PDEN00</th>\n",
       "      <th>COUTYP2</th>\n",
       "      <th>ANALWT_C</th>\n",
       "      <th>VESTR</th>\n",
       "      <th>VEREP</th>\n",
       "    </tr>\n",
       "  </thead>\n",
       "  <tbody>\n",
       "    <tr>\n",
       "      <th>0</th>\n",
       "      <td>1</td>\n",
       "      <td>50886467</td>\n",
       "      <td>2</td>\n",
       "      <td>4</td>\n",
       "      <td>4</td>\n",
       "      <td>991</td>\n",
       "      <td>9991</td>\n",
       "      <td>91</td>\n",
       "      <td>91</td>\n",
       "      <td>91</td>\n",
       "      <td>...</td>\n",
       "      <td>1</td>\n",
       "      <td>1</td>\n",
       "      <td>99</td>\n",
       "      <td>9</td>\n",
       "      <td>9</td>\n",
       "      <td>2</td>\n",
       "      <td>2</td>\n",
       "      <td>1275.60</td>\n",
       "      <td>30054</td>\n",
       "      <td>2</td>\n",
       "    </tr>\n",
       "    <tr>\n",
       "      <th>1</th>\n",
       "      <td>2</td>\n",
       "      <td>13766883</td>\n",
       "      <td>2</td>\n",
       "      <td>99</td>\n",
       "      <td>99</td>\n",
       "      <td>991</td>\n",
       "      <td>9991</td>\n",
       "      <td>91</td>\n",
       "      <td>91</td>\n",
       "      <td>91</td>\n",
       "      <td>...</td>\n",
       "      <td>1</td>\n",
       "      <td>1</td>\n",
       "      <td>1</td>\n",
       "      <td>1</td>\n",
       "      <td>1</td>\n",
       "      <td>2</td>\n",
       "      <td>2</td>\n",
       "      <td>5191.07</td>\n",
       "      <td>30031</td>\n",
       "      <td>1</td>\n",
       "    </tr>\n",
       "    <tr>\n",
       "      <th>2</th>\n",
       "      <td>3</td>\n",
       "      <td>17772877</td>\n",
       "      <td>2</td>\n",
       "      <td>99</td>\n",
       "      <td>99</td>\n",
       "      <td>991</td>\n",
       "      <td>9991</td>\n",
       "      <td>91</td>\n",
       "      <td>91</td>\n",
       "      <td>91</td>\n",
       "      <td>...</td>\n",
       "      <td>1</td>\n",
       "      <td>1</td>\n",
       "      <td>1</td>\n",
       "      <td>1</td>\n",
       "      <td>1</td>\n",
       "      <td>3</td>\n",
       "      <td>3</td>\n",
       "      <td>419.74</td>\n",
       "      <td>30056</td>\n",
       "      <td>2</td>\n",
       "    </tr>\n",
       "    <tr>\n",
       "      <th>3</th>\n",
       "      <td>4</td>\n",
       "      <td>45622817</td>\n",
       "      <td>1</td>\n",
       "      <td>99</td>\n",
       "      <td>99</td>\n",
       "      <td>13</td>\n",
       "      <td>9999</td>\n",
       "      <td>99</td>\n",
       "      <td>2</td>\n",
       "      <td>93</td>\n",
       "      <td>...</td>\n",
       "      <td>1</td>\n",
       "      <td>1</td>\n",
       "      <td>2</td>\n",
       "      <td>1</td>\n",
       "      <td>1</td>\n",
       "      <td>2</td>\n",
       "      <td>2</td>\n",
       "      <td>1449.30</td>\n",
       "      <td>30054</td>\n",
       "      <td>1</td>\n",
       "    </tr>\n",
       "    <tr>\n",
       "      <th>4</th>\n",
       "      <td>5</td>\n",
       "      <td>17239390</td>\n",
       "      <td>1</td>\n",
       "      <td>99</td>\n",
       "      <td>99</td>\n",
       "      <td>11</td>\n",
       "      <td>9999</td>\n",
       "      <td>99</td>\n",
       "      <td>4</td>\n",
       "      <td>93</td>\n",
       "      <td>...</td>\n",
       "      <td>1</td>\n",
       "      <td>1</td>\n",
       "      <td>1</td>\n",
       "      <td>1</td>\n",
       "      <td>1</td>\n",
       "      <td>1</td>\n",
       "      <td>1</td>\n",
       "      <td>15344.29</td>\n",
       "      <td>30012</td>\n",
       "      <td>2</td>\n",
       "    </tr>\n",
       "    <tr>\n",
       "      <th>...</th>\n",
       "      <td>...</td>\n",
       "      <td>...</td>\n",
       "      <td>...</td>\n",
       "      <td>...</td>\n",
       "      <td>...</td>\n",
       "      <td>...</td>\n",
       "      <td>...</td>\n",
       "      <td>...</td>\n",
       "      <td>...</td>\n",
       "      <td>...</td>\n",
       "      <td>...</td>\n",
       "      <td>...</td>\n",
       "      <td>...</td>\n",
       "      <td>...</td>\n",
       "      <td>...</td>\n",
       "      <td>...</td>\n",
       "      <td>...</td>\n",
       "      <td>...</td>\n",
       "      <td>...</td>\n",
       "      <td>...</td>\n",
       "      <td>...</td>\n",
       "    </tr>\n",
       "    <tr>\n",
       "      <th>55263</th>\n",
       "      <td>55264</td>\n",
       "      <td>54947473</td>\n",
       "      <td>2</td>\n",
       "      <td>99</td>\n",
       "      <td>99</td>\n",
       "      <td>991</td>\n",
       "      <td>9991</td>\n",
       "      <td>91</td>\n",
       "      <td>91</td>\n",
       "      <td>91</td>\n",
       "      <td>...</td>\n",
       "      <td>1</td>\n",
       "      <td>1</td>\n",
       "      <td>1</td>\n",
       "      <td>1</td>\n",
       "      <td>1</td>\n",
       "      <td>1</td>\n",
       "      <td>1</td>\n",
       "      <td>1289.36</td>\n",
       "      <td>30032</td>\n",
       "      <td>2</td>\n",
       "    </tr>\n",
       "    <tr>\n",
       "      <th>55264</th>\n",
       "      <td>55265</td>\n",
       "      <td>67706608</td>\n",
       "      <td>2</td>\n",
       "      <td>4</td>\n",
       "      <td>4</td>\n",
       "      <td>991</td>\n",
       "      <td>9991</td>\n",
       "      <td>91</td>\n",
       "      <td>91</td>\n",
       "      <td>91</td>\n",
       "      <td>...</td>\n",
       "      <td>9</td>\n",
       "      <td>9</td>\n",
       "      <td>99</td>\n",
       "      <td>9</td>\n",
       "      <td>9</td>\n",
       "      <td>2</td>\n",
       "      <td>1</td>\n",
       "      <td>116.92</td>\n",
       "      <td>30050</td>\n",
       "      <td>2</td>\n",
       "    </tr>\n",
       "    <tr>\n",
       "      <th>55265</th>\n",
       "      <td>55266</td>\n",
       "      <td>47284524</td>\n",
       "      <td>2</td>\n",
       "      <td>99</td>\n",
       "      <td>99</td>\n",
       "      <td>991</td>\n",
       "      <td>9991</td>\n",
       "      <td>91</td>\n",
       "      <td>91</td>\n",
       "      <td>91</td>\n",
       "      <td>...</td>\n",
       "      <td>1</td>\n",
       "      <td>1</td>\n",
       "      <td>2</td>\n",
       "      <td>1</td>\n",
       "      <td>1</td>\n",
       "      <td>1</td>\n",
       "      <td>1</td>\n",
       "      <td>1276.95</td>\n",
       "      <td>30018</td>\n",
       "      <td>1</td>\n",
       "    </tr>\n",
       "    <tr>\n",
       "      <th>55266</th>\n",
       "      <td>55267</td>\n",
       "      <td>32935928</td>\n",
       "      <td>1</td>\n",
       "      <td>99</td>\n",
       "      <td>99</td>\n",
       "      <td>13</td>\n",
       "      <td>9999</td>\n",
       "      <td>99</td>\n",
       "      <td>1</td>\n",
       "      <td>4</td>\n",
       "      <td>...</td>\n",
       "      <td>1</td>\n",
       "      <td>1</td>\n",
       "      <td>1</td>\n",
       "      <td>1</td>\n",
       "      <td>1</td>\n",
       "      <td>2</td>\n",
       "      <td>2</td>\n",
       "      <td>8072.38</td>\n",
       "      <td>30030</td>\n",
       "      <td>2</td>\n",
       "    </tr>\n",
       "    <tr>\n",
       "      <th>55267</th>\n",
       "      <td>55268</td>\n",
       "      <td>10816634</td>\n",
       "      <td>1</td>\n",
       "      <td>99</td>\n",
       "      <td>99</td>\n",
       "      <td>18</td>\n",
       "      <td>9999</td>\n",
       "      <td>99</td>\n",
       "      <td>4</td>\n",
       "      <td>93</td>\n",
       "      <td>...</td>\n",
       "      <td>3</td>\n",
       "      <td>3</td>\n",
       "      <td>1</td>\n",
       "      <td>3</td>\n",
       "      <td>3</td>\n",
       "      <td>1</td>\n",
       "      <td>1</td>\n",
       "      <td>1016.92</td>\n",
       "      <td>30002</td>\n",
       "      <td>2</td>\n",
       "    </tr>\n",
       "  </tbody>\n",
       "</table>\n",
       "<p>55268 rows × 3120 columns</p>\n",
       "</div>"
      ],
      "text/plain": [
       "       CASEID  QUESTID2  CIGEVER  CIGOFRSM  CIGWILYR  CIGTRY  CIGYFU  CIGMFU  \\\n",
       "0           1  50886467        2         4         4     991    9991      91   \n",
       "1           2  13766883        2        99        99     991    9991      91   \n",
       "2           3  17772877        2        99        99     991    9991      91   \n",
       "3           4  45622817        1        99        99      13    9999      99   \n",
       "4           5  17239390        1        99        99      11    9999      99   \n",
       "...       ...       ...      ...       ...       ...     ...     ...     ...   \n",
       "55263   55264  54947473        2        99        99     991    9991      91   \n",
       "55264   55265  67706608        2         4         4     991    9991      91   \n",
       "55265   55266  47284524        2        99        99     991    9991      91   \n",
       "55266   55267  32935928        1        99        99      13    9999      99   \n",
       "55267   55268  10816634        1        99        99      18    9999      99   \n",
       "\n",
       "       CIGREC  CIG30USE  ...  IIEMPSTY  II2EMSTY  EMPSTAT4  IIEMPST4  \\\n",
       "0          91        91  ...         1         1        99         9   \n",
       "1          91        91  ...         1         1         1         1   \n",
       "2          91        91  ...         1         1         1         1   \n",
       "3           2        93  ...         1         1         2         1   \n",
       "4           4        93  ...         1         1         1         1   \n",
       "...       ...       ...  ...       ...       ...       ...       ...   \n",
       "55263      91        91  ...         1         1         1         1   \n",
       "55264      91        91  ...         9         9        99         9   \n",
       "55265      91        91  ...         1         1         2         1   \n",
       "55266       1         4  ...         1         1         1         1   \n",
       "55267       4        93  ...         3         3         1         3   \n",
       "\n",
       "       II2EMST4  PDEN00  COUTYP2  ANALWT_C  VESTR  VEREP  \n",
       "0             9       2        2   1275.60  30054      2  \n",
       "1             1       2        2   5191.07  30031      1  \n",
       "2             1       3        3    419.74  30056      2  \n",
       "3             1       2        2   1449.30  30054      1  \n",
       "4             1       1        1  15344.29  30012      2  \n",
       "...         ...     ...      ...       ...    ...    ...  \n",
       "55263         1       1        1   1289.36  30032      2  \n",
       "55264         9       2        1    116.92  30050      2  \n",
       "55265         1       1        1   1276.95  30018      1  \n",
       "55266         1       2        2   8072.38  30030      2  \n",
       "55267         3       1        1   1016.92  30002      2  \n",
       "\n",
       "[55268 rows x 3120 columns]"
      ]
     },
<<<<<<< HEAD
     "execution_count": 9,
=======
     "execution_count": 13,
>>>>>>> f20524db0a23be3e52b35e4d6430114f95b9ddce
     "metadata": {},
     "output_type": "execute_result"
    }
   ],
   "source": [
    "drug"
   ]
  },
  {
   "cell_type": "code",
<<<<<<< HEAD
   "execution_count": 10,
=======
   "execution_count": 15,
>>>>>>> f20524db0a23be3e52b35e4d6430114f95b9ddce
   "id": "11ef6d69",
   "metadata": {},
   "outputs": [
    {
<<<<<<< HEAD
=======
     "name": "stdout",
     "output_type": "stream",
     "text": [
      "Index(['CASEID', 'QUESTID2', 'CIGEVER', 'CIGOFRSM', 'CIGWILYR', 'CIGTRY',\n",
      "       'CIGYFU', 'CIGMFU', 'CIGREC', 'CIG30USE',\n",
      "       ...\n",
      "       'IIEMPSTY', 'II2EMSTY', 'EMPSTAT4', 'IIEMPST4', 'II2EMST4', 'PDEN00',\n",
      "       'COUTYP2', 'ANALWT_C', 'VESTR', 'VEREP'],\n",
      "      dtype='object', length=3120)\n"
     ]
    }
   ],
   "source": [
    "print(drug.columns)"
   ]
  },
  {
   "cell_type": "code",
   "execution_count": 17,
   "id": "ec4463f4",
   "metadata": {},
   "outputs": [
    {
     "data": {
      "text/plain": [
       "0        1\n",
       "1       -9\n",
       "2       -9\n",
       "3       -9\n",
       "4       -9\n",
       "        ..\n",
       "55263   -9\n",
       "55264    1\n",
       "55265   -9\n",
       "55266   -9\n",
       "55267   -9\n",
       "Name: PRMJMO, Length: 55268, dtype: int16"
      ]
     },
     "execution_count": 17,
     "metadata": {},
     "output_type": "execute_result"
    }
   ],
   "source": [
    "drug['PRMJMO']"
   ]
  },
  {
   "cell_type": "code",
   "execution_count": null,
   "id": "c6c8c326",
   "metadata": {},
   "outputs": [],
   "source": []
  },
  {
   "cell_type": "markdown",
   "id": "86bb7349",
   "metadata": {},
   "source": [
    "Non-aggressive (NA): No aggression reported over the\n",
    "past 12 months.\n",
    "\n",
    "• Self-directed aggression (SDA): At least one suicide\n",
    "attempt reported and no physical assault reported over\n",
    "the past 12 months.\n",
    "\n",
    "• Other-directed aggression (ODA): At least one physical\n",
    "assault reported and no suicide attempt reported over\n",
    "the past 12 months.\n",
    "\n",
    "• Combined aggression (CA): At least one suicide\n",
    "attempt and one physical assault reported over the past\n",
    "12 months."
   ]
  },
  {
   "cell_type": "code",
   "execution_count": 19,
   "id": "7867d5d7",
   "metadata": {},
   "outputs": [
    {
     "data": {
      "text/plain": [
       "0       -9\n",
       "1        0\n",
       "2        0\n",
       "3        0\n",
       "4        0\n",
       "        ..\n",
       "55263    0\n",
       "55264   -9\n",
       "55265    0\n",
       "55266    0\n",
       "55267    0\n",
       "Name: MHSUTK_U, Length: 55268, dtype: int16"
      ]
     },
     "execution_count": 19,
     "metadata": {},
     "output_type": "execute_result"
    }
   ],
   "source": [
    "# SERIOUSLY THOUGHT ABOUT KILLING SELF IN PAST YEAR\n",
    "# 1 yes 0 No\n",
    "drug['MHSUTK_U']"
   ]
  },
  {
   "cell_type": "code",
   "execution_count": 25,
   "id": "69567587",
   "metadata": {},
   "outputs": [
    {
     "data": {
      "text/plain": [
       "3"
      ]
     },
     "execution_count": 25,
     "metadata": {},
     "output_type": "execute_result"
    }
   ],
   "source": [
    "drug['MHSUTK_U'].nunique()"
   ]
  },
  {
   "cell_type": "markdown",
   "id": "a6fccbd5",
   "metadata": {},
   "source": [
    "# Creating Religion Features"
   ]
  },
  {
   "cell_type": "code",
   "execution_count": 23,
   "id": "a9669a13",
   "metadata": {},
   "outputs": [
    {
>>>>>>> f20524db0a23be3e52b35e4d6430114f95b9ddce
     "data": {
      "text/plain": [
       "(55268, 4)"
      ]
     },
<<<<<<< HEAD
     "execution_count": 10,
=======
     "execution_count": 23,
>>>>>>> f20524db0a23be3e52b35e4d6430114f95b9ddce
     "metadata": {},
     "output_type": "execute_result"
    }
   ],
   "source": [
    "relgion_df = drug[['SNRLGSVC','SNRLGIMP','SNRLDCSN','SNRLFRND']]\n",
    "religion_df = relgion_df.rename({'SNRLGSVC':'Past_12_months','SNRLGIMP':'Important','SNRLDCSN':'Influence','SNRLFRND':'Friends_Share'},axis=1)\n",
    "religion_df.shape"
   ]
  },
  {
   "cell_type": "code",
<<<<<<< HEAD
   "execution_count": 11,
   "id": "8248a57f",
=======
   "execution_count": 27,
   "id": "36124c4e",
>>>>>>> f20524db0a23be3e52b35e4d6430114f95b9ddce
   "metadata": {},
   "outputs": [
    {
     "data": {
      "text/html": [
       "<div>\n",
       "<style scoped>\n",
       "    .dataframe tbody tr th:only-of-type {\n",
       "        vertical-align: middle;\n",
       "    }\n",
       "\n",
       "    .dataframe tbody tr th {\n",
       "        vertical-align: top;\n",
       "    }\n",
       "\n",
       "    .dataframe thead th {\n",
       "        text-align: right;\n",
       "    }\n",
       "</style>\n",
       "<table border=\"1\" class=\"dataframe\">\n",
       "  <thead>\n",
       "    <tr style=\"text-align: right;\">\n",
       "      <th></th>\n",
       "      <th>Past_12_months</th>\n",
       "      <th>Important</th>\n",
       "      <th>Influence</th>\n",
       "      <th>Friends_Share</th>\n",
       "    </tr>\n",
       "  </thead>\n",
       "  <tbody>\n",
       "    <tr>\n",
<<<<<<< HEAD
       "      <th>0</th>\n",
       "      <td>99</td>\n",
       "      <td>99</td>\n",
       "      <td>99</td>\n",
       "      <td>99</td>\n",
       "    </tr>\n",
       "    <tr>\n",
=======
>>>>>>> f20524db0a23be3e52b35e4d6430114f95b9ddce
       "      <th>1</th>\n",
       "      <td>2</td>\n",
       "      <td>3</td>\n",
       "      <td>3</td>\n",
       "      <td>2</td>\n",
       "    </tr>\n",
       "    <tr>\n",
       "      <th>2</th>\n",
       "      <td>6</td>\n",
       "      <td>4</td>\n",
       "      <td>4</td>\n",
       "      <td>2</td>\n",
       "    </tr>\n",
       "    <tr>\n",
       "      <th>3</th>\n",
       "      <td>4</td>\n",
       "      <td>3</td>\n",
       "      <td>3</td>\n",
       "      <td>1</td>\n",
       "    </tr>\n",
       "    <tr>\n",
       "      <th>4</th>\n",
       "      <td>2</td>\n",
       "      <td>1</td>\n",
       "      <td>1</td>\n",
       "      <td>1</td>\n",
       "    </tr>\n",
       "    <tr>\n",
<<<<<<< HEAD
=======
       "      <th>5</th>\n",
       "      <td>3</td>\n",
       "      <td>3</td>\n",
       "      <td>4</td>\n",
       "      <td>2</td>\n",
       "    </tr>\n",
       "    <tr>\n",
>>>>>>> f20524db0a23be3e52b35e4d6430114f95b9ddce
       "      <th>...</th>\n",
       "      <td>...</td>\n",
       "      <td>...</td>\n",
       "      <td>...</td>\n",
       "      <td>...</td>\n",
       "    </tr>\n",
       "    <tr>\n",
<<<<<<< HEAD
       "      <th>55263</th>\n",
       "      <td>1</td>\n",
       "      <td>3</td>\n",
       "      <td>3</td>\n",
       "      <td>3</td>\n",
       "    </tr>\n",
       "    <tr>\n",
       "      <th>55264</th>\n",
       "      <td>99</td>\n",
       "      <td>99</td>\n",
       "      <td>99</td>\n",
       "      <td>99</td>\n",
       "    </tr>\n",
       "    <tr>\n",
       "      <th>55265</th>\n",
       "      <td>1</td>\n",
       "      <td>97</td>\n",
       "      <td>97</td>\n",
       "      <td>97</td>\n",
=======
       "      <th>55256</th>\n",
       "      <td>6</td>\n",
       "      <td>4</td>\n",
       "      <td>4</td>\n",
       "      <td>4</td>\n",
       "    </tr>\n",
       "    <tr>\n",
       "      <th>55261</th>\n",
       "      <td>3</td>\n",
       "      <td>3</td>\n",
       "      <td>3</td>\n",
       "      <td>2</td>\n",
       "    </tr>\n",
       "    <tr>\n",
       "      <th>55262</th>\n",
       "      <td>6</td>\n",
       "      <td>4</td>\n",
       "      <td>4</td>\n",
       "      <td>3</td>\n",
       "    </tr>\n",
       "    <tr>\n",
       "      <th>55263</th>\n",
       "      <td>1</td>\n",
       "      <td>3</td>\n",
       "      <td>3</td>\n",
       "      <td>3</td>\n",
>>>>>>> f20524db0a23be3e52b35e4d6430114f95b9ddce
       "    </tr>\n",
       "    <tr>\n",
       "      <th>55266</th>\n",
       "      <td>4</td>\n",
       "      <td>3</td>\n",
       "      <td>4</td>\n",
       "      <td>3</td>\n",
       "    </tr>\n",
<<<<<<< HEAD
       "    <tr>\n",
       "      <th>55267</th>\n",
       "      <td>98</td>\n",
       "      <td>98</td>\n",
       "      <td>98</td>\n",
       "      <td>98</td>\n",
       "    </tr>\n",
       "  </tbody>\n",
       "</table>\n",
       "<p>55268 rows × 4 columns</p>\n",
=======
       "  </tbody>\n",
       "</table>\n",
       "<p>36992 rows × 4 columns</p>\n",
>>>>>>> f20524db0a23be3e52b35e4d6430114f95b9ddce
       "</div>"
      ],
      "text/plain": [
       "       Past_12_months  Important  Influence  Friends_Share\n",
<<<<<<< HEAD
       "0                  99         99         99             99\n",
=======
>>>>>>> f20524db0a23be3e52b35e4d6430114f95b9ddce
       "1                   2          3          3              2\n",
       "2                   6          4          4              2\n",
       "3                   4          3          3              1\n",
       "4                   2          1          1              1\n",
<<<<<<< HEAD
       "...               ...        ...        ...            ...\n",
       "55263               1          3          3              3\n",
       "55264              99         99         99             99\n",
       "55265               1         97         97             97\n",
       "55266               4          3          4              3\n",
       "55267              98         98         98             98\n",
       "\n",
       "[55268 rows x 4 columns]"
      ]
     },
     "execution_count": 11,
=======
       "5                   3          3          4              2\n",
       "...               ...        ...        ...            ...\n",
       "55256               6          4          4              4\n",
       "55261               3          3          3              2\n",
       "55262               6          4          4              3\n",
       "55263               1          3          3              3\n",
       "55266               4          3          4              3\n",
       "\n",
       "[36992 rows x 4 columns]"
      ]
     },
     "execution_count": 27,
>>>>>>> f20524db0a23be3e52b35e4d6430114f95b9ddce
     "metadata": {},
     "output_type": "execute_result"
    }
   ],
   "source": [
<<<<<<< HEAD
    "religion_df"
=======
    "drop_values = [94,97,98,99]\n",
    "\n",
    "religion_df[(religion_df.Past_12_months.isin(drop_values) == False) & \n",
    "            (religion_df.Important.isin(drop_values) == False) & \n",
    "            (religion_df.Influence.isin(drop_values) == False) & \n",
    "            (religion_df.Friends_Share.isin(drop_values) == False)]"
>>>>>>> f20524db0a23be3e52b35e4d6430114f95b9ddce
   ]
  },
  {
   "cell_type": "code",
<<<<<<< HEAD
   "execution_count": 12,
   "id": "9b76537e",
   "metadata": {},
   "outputs": [
    {
     "data": {
      "text/html": [
       "<div>\n",
       "<style scoped>\n",
       "    .dataframe tbody tr th:only-of-type {\n",
       "        vertical-align: middle;\n",
       "    }\n",
       "\n",
       "    .dataframe tbody tr th {\n",
       "        vertical-align: top;\n",
       "    }\n",
       "\n",
       "    .dataframe thead th {\n",
       "        text-align: right;\n",
       "    }\n",
       "</style>\n",
       "<table border=\"1\" class=\"dataframe\">\n",
       "  <thead>\n",
       "    <tr style=\"text-align: right;\">\n",
       "      <th></th>\n",
       "      <th>SNYSTOLE</th>\n",
       "      <th>SNYSELL</th>\n",
       "      <th>DRVDONLY</th>\n",
       "      <th>TXYRJAIL</th>\n",
       "      <th>BOOKED</th>\n",
       "    </tr>\n",
       "  </thead>\n",
       "  <tbody>\n",
       "    <tr>\n",
       "      <th>0</th>\n",
       "      <td>99</td>\n",
       "      <td>99</td>\n",
       "      <td>99</td>\n",
       "      <td>99</td>\n",
       "      <td>2</td>\n",
       "    </tr>\n",
       "    <tr>\n",
       "      <th>1</th>\n",
       "      <td>1</td>\n",
       "      <td>1</td>\n",
       "      <td>99</td>\n",
       "      <td>99</td>\n",
       "      <td>2</td>\n",
       "    </tr>\n",
       "    <tr>\n",
       "      <th>2</th>\n",
       "      <td>1</td>\n",
       "      <td>1</td>\n",
       "      <td>91</td>\n",
       "      <td>91</td>\n",
       "      <td>2</td>\n",
       "    </tr>\n",
       "    <tr>\n",
       "      <th>3</th>\n",
       "      <td>1</td>\n",
       "      <td>1</td>\n",
       "      <td>1</td>\n",
       "      <td>99</td>\n",
       "      <td>2</td>\n",
       "    </tr>\n",
       "    <tr>\n",
       "      <th>4</th>\n",
       "      <td>1</td>\n",
       "      <td>1</td>\n",
       "      <td>99</td>\n",
       "      <td>99</td>\n",
       "      <td>2</td>\n",
       "    </tr>\n",
       "    <tr>\n",
       "      <th>...</th>\n",
       "      <td>...</td>\n",
       "      <td>...</td>\n",
       "      <td>...</td>\n",
       "      <td>...</td>\n",
       "      <td>...</td>\n",
       "    </tr>\n",
       "    <tr>\n",
       "      <th>55263</th>\n",
       "      <td>1</td>\n",
       "      <td>1</td>\n",
       "      <td>91</td>\n",
       "      <td>91</td>\n",
       "      <td>2</td>\n",
       "    </tr>\n",
       "    <tr>\n",
       "      <th>55264</th>\n",
       "      <td>99</td>\n",
       "      <td>99</td>\n",
       "      <td>91</td>\n",
       "      <td>91</td>\n",
       "      <td>1</td>\n",
       "    </tr>\n",
       "    <tr>\n",
       "      <th>55265</th>\n",
       "      <td>1</td>\n",
       "      <td>1</td>\n",
       "      <td>99</td>\n",
       "      <td>99</td>\n",
       "      <td>2</td>\n",
       "    </tr>\n",
       "    <tr>\n",
       "      <th>55266</th>\n",
       "      <td>1</td>\n",
       "      <td>1</td>\n",
       "      <td>2</td>\n",
       "      <td>99</td>\n",
       "      <td>2</td>\n",
       "    </tr>\n",
       "    <tr>\n",
       "      <th>55267</th>\n",
       "      <td>98</td>\n",
       "      <td>98</td>\n",
       "      <td>98</td>\n",
       "      <td>98</td>\n",
       "      <td>98</td>\n",
       "    </tr>\n",
       "  </tbody>\n",
       "</table>\n",
       "<p>55268 rows × 5 columns</p>\n",
       "</div>"
      ],
      "text/plain": [
       "       SNYSTOLE  SNYSELL  DRVDONLY  TXYRJAIL  BOOKED\n",
       "0            99       99        99        99       2\n",
       "1             1        1        99        99       2\n",
       "2             1        1        91        91       2\n",
       "3             1        1         1        99       2\n",
       "4             1        1        99        99       2\n",
       "...         ...      ...       ...       ...     ...\n",
       "55263         1        1        91        91       2\n",
       "55264        99       99        91        91       1\n",
       "55265         1        1        99        99       2\n",
       "55266         1        1         2        99       2\n",
       "55267        98       98        98        98      98\n",
       "\n",
       "[55268 rows x 5 columns]"
      ]
     },
     "execution_count": 12,
     "metadata": {},
     "output_type": "execute_result"
    }
   ],
   "source": [
    "crime_df = drug[[\"SNYSTOLE\", \"SNYSELL\", \"DRVDONLY\", \"TXYRJAIL\", \"BOOKED\"]]\n",
    "crime_df"
   ]
  },
  {
   "cell_type": "code",
   "execution_count": 13,
   "id": "2678a108",
   "metadata": {},
   "outputs": [
    {
     "data": {
      "text/plain": [
       "(55268, 9)"
      ]
     },
     "execution_count": 13,
     "metadata": {},
     "output_type": "execute_result"
    }
   ],
   "source": [
    "religion_crime_df = pd.concat([religion_df, crime_df], axis=1)\n",
    "religion_crime_df = religion_crime_df.rename({\"SNYSTOLE\": 'Ever_Steal_50', \"SNYSELL\": 'Sell_Illgal_Drugs',\"DRVDONLY\":'Drunk_Drive',\"TXYRJAIL\":\"Jail_Treatment_past_12\",\"BOOKED\":\"Ever_Booked_Arrested\"},axis=1)\n",
    "religion_crime_df.shape"
   ]
  },
  {
   "cell_type": "code",
   "execution_count": 14,
   "id": "8c322d1b",
=======
   "execution_count": 17,
   "id": "a9a19c09",
>>>>>>> f20524db0a23be3e52b35e4d6430114f95b9ddce
   "metadata": {},
   "outputs": [
    {
     "data": {
      "text/html": [
       "<div>\n",
       "<style scoped>\n",
       "    .dataframe tbody tr th:only-of-type {\n",
       "        vertical-align: middle;\n",
       "    }\n",
       "\n",
       "    .dataframe tbody tr th {\n",
       "        vertical-align: top;\n",
       "    }\n",
       "\n",
       "    .dataframe thead th {\n",
       "        text-align: right;\n",
       "    }\n",
       "</style>\n",
       "<table border=\"1\" class=\"dataframe\">\n",
       "  <thead>\n",
       "    <tr style=\"text-align: right;\">\n",
       "      <th></th>\n",
       "      <th>Past_12_months</th>\n",
       "      <th>Important</th>\n",
       "      <th>Influence</th>\n",
       "      <th>Friends_Share</th>\n",
<<<<<<< HEAD
       "      <th>Ever_Steal_50</th>\n",
       "      <th>Sell_Illgal_Drugs</th>\n",
       "      <th>Drunk_Drive</th>\n",
       "      <th>Jail_Treatment_past_12</th>\n",
       "      <th>Ever_Booked_Arrested</th>\n",
=======
>>>>>>> f20524db0a23be3e52b35e4d6430114f95b9ddce
       "    </tr>\n",
       "  </thead>\n",
       "  <tbody>\n",
       "    <tr>\n",
       "      <th>0</th>\n",
       "      <td>99</td>\n",
       "      <td>99</td>\n",
       "      <td>99</td>\n",
       "      <td>99</td>\n",
<<<<<<< HEAD
       "      <td>99</td>\n",
       "      <td>99</td>\n",
       "      <td>99</td>\n",
       "      <td>99</td>\n",
       "      <td>2</td>\n",
=======
>>>>>>> f20524db0a23be3e52b35e4d6430114f95b9ddce
       "    </tr>\n",
       "    <tr>\n",
       "      <th>1</th>\n",
       "      <td>2</td>\n",
       "      <td>3</td>\n",
       "      <td>3</td>\n",
       "      <td>2</td>\n",
<<<<<<< HEAD
       "      <td>1</td>\n",
       "      <td>1</td>\n",
       "      <td>99</td>\n",
       "      <td>99</td>\n",
       "      <td>2</td>\n",
=======
>>>>>>> f20524db0a23be3e52b35e4d6430114f95b9ddce
       "    </tr>\n",
       "    <tr>\n",
       "      <th>2</th>\n",
       "      <td>6</td>\n",
       "      <td>4</td>\n",
       "      <td>4</td>\n",
       "      <td>2</td>\n",
<<<<<<< HEAD
       "      <td>1</td>\n",
       "      <td>1</td>\n",
       "      <td>91</td>\n",
       "      <td>91</td>\n",
       "      <td>2</td>\n",
=======
>>>>>>> f20524db0a23be3e52b35e4d6430114f95b9ddce
       "    </tr>\n",
       "    <tr>\n",
       "      <th>3</th>\n",
       "      <td>4</td>\n",
       "      <td>3</td>\n",
       "      <td>3</td>\n",
       "      <td>1</td>\n",
<<<<<<< HEAD
       "      <td>1</td>\n",
       "      <td>1</td>\n",
       "      <td>1</td>\n",
       "      <td>99</td>\n",
       "      <td>2</td>\n",
=======
>>>>>>> f20524db0a23be3e52b35e4d6430114f95b9ddce
       "    </tr>\n",
       "    <tr>\n",
       "      <th>4</th>\n",
       "      <td>2</td>\n",
       "      <td>1</td>\n",
       "      <td>1</td>\n",
       "      <td>1</td>\n",
<<<<<<< HEAD
       "      <td>1</td>\n",
       "      <td>1</td>\n",
       "      <td>99</td>\n",
       "      <td>99</td>\n",
       "      <td>2</td>\n",
=======
>>>>>>> f20524db0a23be3e52b35e4d6430114f95b9ddce
       "    </tr>\n",
       "    <tr>\n",
       "      <th>...</th>\n",
       "      <td>...</td>\n",
       "      <td>...</td>\n",
       "      <td>...</td>\n",
       "      <td>...</td>\n",
<<<<<<< HEAD
       "      <td>...</td>\n",
       "      <td>...</td>\n",
       "      <td>...</td>\n",
       "      <td>...</td>\n",
       "      <td>...</td>\n",
=======
>>>>>>> f20524db0a23be3e52b35e4d6430114f95b9ddce
       "    </tr>\n",
       "    <tr>\n",
       "      <th>55263</th>\n",
       "      <td>1</td>\n",
       "      <td>3</td>\n",
       "      <td>3</td>\n",
       "      <td>3</td>\n",
<<<<<<< HEAD
       "      <td>1</td>\n",
       "      <td>1</td>\n",
       "      <td>91</td>\n",
       "      <td>91</td>\n",
       "      <td>2</td>\n",
=======
>>>>>>> f20524db0a23be3e52b35e4d6430114f95b9ddce
       "    </tr>\n",
       "    <tr>\n",
       "      <th>55264</th>\n",
       "      <td>99</td>\n",
       "      <td>99</td>\n",
       "      <td>99</td>\n",
       "      <td>99</td>\n",
<<<<<<< HEAD
       "      <td>99</td>\n",
       "      <td>99</td>\n",
       "      <td>91</td>\n",
       "      <td>91</td>\n",
       "      <td>1</td>\n",
=======
>>>>>>> f20524db0a23be3e52b35e4d6430114f95b9ddce
       "    </tr>\n",
       "    <tr>\n",
       "      <th>55265</th>\n",
       "      <td>1</td>\n",
       "      <td>97</td>\n",
       "      <td>97</td>\n",
       "      <td>97</td>\n",
<<<<<<< HEAD
       "      <td>1</td>\n",
       "      <td>1</td>\n",
       "      <td>99</td>\n",
       "      <td>99</td>\n",
       "      <td>2</td>\n",
=======
>>>>>>> f20524db0a23be3e52b35e4d6430114f95b9ddce
       "    </tr>\n",
       "    <tr>\n",
       "      <th>55266</th>\n",
       "      <td>4</td>\n",
       "      <td>3</td>\n",
       "      <td>4</td>\n",
       "      <td>3</td>\n",
<<<<<<< HEAD
       "      <td>1</td>\n",
       "      <td>1</td>\n",
       "      <td>2</td>\n",
       "      <td>99</td>\n",
       "      <td>2</td>\n",
=======
>>>>>>> f20524db0a23be3e52b35e4d6430114f95b9ddce
       "    </tr>\n",
       "    <tr>\n",
       "      <th>55267</th>\n",
       "      <td>98</td>\n",
       "      <td>98</td>\n",
       "      <td>98</td>\n",
       "      <td>98</td>\n",
<<<<<<< HEAD
       "      <td>98</td>\n",
       "      <td>98</td>\n",
       "      <td>98</td>\n",
       "      <td>98</td>\n",
       "      <td>98</td>\n",
       "    </tr>\n",
       "  </tbody>\n",
       "</table>\n",
       "<p>55268 rows × 9 columns</p>\n",
       "</div>"
      ],
      "text/plain": [
       "       Past_12_months  Important  Influence  Friends_Share  Ever_Steal_50  \\\n",
       "0                  99         99         99             99             99   \n",
       "1                   2          3          3              2              1   \n",
       "2                   6          4          4              2              1   \n",
       "3                   4          3          3              1              1   \n",
       "4                   2          1          1              1              1   \n",
       "...               ...        ...        ...            ...            ...   \n",
       "55263               1          3          3              3              1   \n",
       "55264              99         99         99             99             99   \n",
       "55265               1         97         97             97              1   \n",
       "55266               4          3          4              3              1   \n",
       "55267              98         98         98             98             98   \n",
       "\n",
       "       Sell_Illgal_Drugs  Drunk_Drive  Jail_Treatment_past_12  \\\n",
       "0                     99           99                      99   \n",
       "1                      1           99                      99   \n",
       "2                      1           91                      91   \n",
       "3                      1            1                      99   \n",
       "4                      1           99                      99   \n",
       "...                  ...          ...                     ...   \n",
       "55263                  1           91                      91   \n",
       "55264                 99           91                      91   \n",
       "55265                  1           99                      99   \n",
       "55266                  1            2                      99   \n",
       "55267                 98           98                      98   \n",
       "\n",
       "       Ever_Booked_Arrested  \n",
       "0                         2  \n",
       "1                         2  \n",
       "2                         2  \n",
       "3                         2  \n",
       "4                         2  \n",
       "...                     ...  \n",
       "55263                     2  \n",
       "55264                     1  \n",
       "55265                     2  \n",
       "55266                     2  \n",
       "55267                    98  \n",
       "\n",
       "[55268 rows x 9 columns]"
      ]
     },
     "execution_count": 14,
=======
       "    </tr>\n",
       "  </tbody>\n",
       "</table>\n",
       "<p>55268 rows × 4 columns</p>\n",
       "</div>"
      ],
      "text/plain": [
       "       Past_12_months  Important  Influence  Friends_Share\n",
       "0                  99         99         99             99\n",
       "1                   2          3          3              2\n",
       "2                   6          4          4              2\n",
       "3                   4          3          3              1\n",
       "4                   2          1          1              1\n",
       "...               ...        ...        ...            ...\n",
       "55263               1          3          3              3\n",
       "55264              99         99         99             99\n",
       "55265               1         97         97             97\n",
       "55266               4          3          4              3\n",
       "55267              98         98         98             98\n",
       "\n",
       "[55268 rows x 4 columns]"
      ]
     },
     "execution_count": 17,
>>>>>>> f20524db0a23be3e52b35e4d6430114f95b9ddce
     "metadata": {},
     "output_type": "execute_result"
    }
   ],
   "source": [
<<<<<<< HEAD
    "religion_crime_df"
=======
    "religion_df[]"
>>>>>>> f20524db0a23be3e52b35e4d6430114f95b9ddce
   ]
  },
  {
   "cell_type": "code",
   "execution_count": null,
<<<<<<< HEAD
   "id": "75a5a09c",
=======
   "id": "4cba69f3",
>>>>>>> f20524db0a23be3e52b35e4d6430114f95b9ddce
   "metadata": {},
   "outputs": [],
   "source": []
  }
 ],
 "metadata": {
  "kernelspec": {
   "display_name": "Python 3 (ipykernel)",
   "language": "python",
   "name": "python3"
  },
  "language_info": {
   "codemirror_mode": {
    "name": "ipython",
    "version": 3
   },
   "file_extension": ".py",
   "mimetype": "text/x-python",
   "name": "python",
   "nbconvert_exporter": "python",
   "pygments_lexer": "ipython3",
<<<<<<< HEAD
   "version": "3.9.2"
=======
   "version": "3.9.7"
>>>>>>> f20524db0a23be3e52b35e4d6430114f95b9ddce
  }
 },
 "nbformat": 4,
 "nbformat_minor": 5
}
