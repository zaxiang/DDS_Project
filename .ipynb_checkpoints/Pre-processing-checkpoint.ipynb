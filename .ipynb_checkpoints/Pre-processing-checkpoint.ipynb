{
 "cells": [
  {
   "cell_type": "code",
   "execution_count": 1,
   "id": "50b18622",
   "metadata": {},
   "outputs": [],
   "source": [
    "import pandas as pd"
   ]
  },
  {
   "cell_type": "code",
   "execution_count": 4,
   "id": "910f02ab",
   "metadata": {},
   "outputs": [],
   "source": [
    "data = pd.read_csv('data/health.csv')\n",
    "data = data.drop(columns = ['Unnamed: 0'])"
   ]
  },
  {
   "cell_type": "code",
   "execution_count": 7,
   "id": "d4c1b8da",
   "metadata": {},
   "outputs": [
    {
     "data": {
      "text/plain": [
       "Index(['index', 'SNRLGSVC', 'SNRLGIMP', 'SNRLDCSN', 'SNRLFRND', 'YEAR',\n",
       "       'CASEID', 'Tabacco_Flag', 'Alcohol_Flag', 'Marijunana_Flag',\n",
       "       'Marijuana_Only_Flag', 'Cocaine_Flag', 'Crack_Flag', 'Herion_Flag',\n",
       "       'Hallcinogens_Flag', 'Inhalants_Flag', 'Painkiller_Flag',\n",
       "       'Tranquilizer_Flag', 'Stimulant Flag', 'CPN_Meth_Flag', 'Meth_Flag',\n",
       "       'Sedatives Flag', 'Any_Drug_Flag', 'Any_Drug_Past_Year',\n",
       "       'Any_Drug_Past_Month', 'Age_First_Use', 'Year_First_Use',\n",
       "       'Drug_Not_Marijunana', 'Ever_Steal_50', 'Sell_Illegal_Drugs',\n",
       "       'Ever_Booked_Arrested', 'Drug_or_Alc_Past_year', 'inpatient',\n",
       "       'outpatient', 'needed_not_rcvd', 'rcvd_any_tmt',\n",
       "       'suic_thought_pst_12month', 'psych_distress_month', 'psych_distress_yr',\n",
       "       'suic_thought_pst_yr', 'suic_plan', 'suic_attempt', 'whodas_score',\n",
       "       'predicted_ment_ill', 'svrl_days_depressed', 'lifetime_mde',\n",
       "       'pst_yr_mde', 'CATAG6', 'HEALTH', 'IRSEX', 'IRMARIT', 'EDUCCAT2',\n",
       "       'NEWRACE2', 'EMPSTATY'],\n",
       "      dtype='object')"
      ]
     },
     "execution_count": 7,
     "metadata": {},
     "output_type": "execute_result"
    }
   ],
   "source": [
    "data.columns"
   ]
  },
  {
   "cell_type": "code",
   "execution_count": 12,
   "id": "c9d2c638",
   "metadata": {},
   "outputs": [],
   "source": [
    "suic = data[['suic_thought_pst_12month', 'suic_thought_pst_yr', 'suic_plan', 'suic_attempt']]"
   ]
  },
  {
   "cell_type": "markdown",
   "id": "92e23d31",
   "metadata": {},
   "source": [
    "### Create Suicide Rate"
   ]
  },
  {
   "cell_type": "markdown",
   "id": "735483c9",
   "metadata": {},
   "source": [
    "- plan1: think(1), plan(2), attempt(3) : doesnt work out, attempt doesn't ensure plan, and plan doesnt ensure think: for people who actually tried, half of them didn't have any plan, and some of them havent thought ab killing themselves: something we could put into the slide as an interesting finding (might include some graphs as well)\n",
    "\n",
    "- plan 2: think(1), think+plan(2), think+plan+attempt(3), but what ab those who are attemp only, or plan only, or attempt+think?\n"
   ]
  },
  {
   "cell_type": "code",
   "execution_count": 34,
   "id": "724a0b75",
   "metadata": {},
   "outputs": [
    {
     "data": {
      "text/plain": [
       "0.0    11981\n",
       "1.0     3327\n",
       "Name: suic_plan, dtype: int64"
      ]
     },
     "execution_count": 34,
     "metadata": {},
     "output_type": "execute_result"
    }
   ],
   "source": [
    "suic[suic['suic_thought_pst_yr'] == 1.0].suic_plan.value_counts()\n",
    "#for those who have thought about it, few of them made plan"
   ]
  },
  {
   "cell_type": "code",
   "execution_count": 37,
   "id": "1217668d",
   "metadata": {},
   "outputs": [
    {
     "data": {
      "text/plain": [
       "0.0    263633\n",
       "1.0      1384\n",
       "Name: suic_plan, dtype: int64"
      ]
     },
     "execution_count": 37,
     "metadata": {},
     "output_type": "execute_result"
    }
   ],
   "source": [
    "suic[suic['suic_thought_pst_yr'] == 0.0].suic_plan.value_counts()\n",
    "#for those who have never thought about it, small porportion of them made plan"
   ]
  },
  {
   "cell_type": "code",
   "execution_count": 38,
   "id": "cde8386c",
   "metadata": {},
   "outputs": [
    {
     "data": {
      "text/plain": [
       "0.0    13576\n",
       "1.0     1732\n",
       "Name: suic_attempt, dtype: int64"
      ]
     },
     "execution_count": 38,
     "metadata": {},
     "output_type": "execute_result"
    }
   ],
   "source": [
    "suic[suic['suic_thought_pst_yr'] == 1.0].suic_attempt.value_counts()\n",
    "#for those who have thought ab it, only have few actually tried"
   ]
  },
  {
   "cell_type": "code",
   "execution_count": 40,
   "id": "adc74a54",
   "metadata": {},
   "outputs": [
    {
     "data": {
      "text/plain": [
       "0.0    264236\n",
       "1.0       781\n",
       "Name: suic_attempt, dtype: int64"
      ]
     },
     "execution_count": 40,
     "metadata": {},
     "output_type": "execute_result"
    }
   ],
   "source": [
    "suic[suic['suic_thought_pst_yr'] == 0.0].suic_attempt.value_counts()\n",
    "#for those who have never thought ab it, a very small porportion of them have few actually tried"
   ]
  },
  {
   "cell_type": "code",
   "execution_count": 41,
   "id": "a060962b",
   "metadata": {},
   "outputs": [
    {
     "data": {
      "text/plain": [
       "1.0    1327\n",
       "0.0    1186\n",
       "Name: suic_plan, dtype: int64"
      ]
     },
     "execution_count": 41,
     "metadata": {},
     "output_type": "execute_result"
    }
   ],
   "source": [
    "suic[suic['suic_attempt'] == 1.0].suic_plan.value_counts()\n",
    "#for those who have attempted suicide, half made plan"
   ]
  },
  {
   "cell_type": "code",
   "execution_count": 42,
   "id": "5edef4a4",
   "metadata": {},
   "outputs": [
    {
     "data": {
      "text/plain": [
       "1.0    1732\n",
       "0.0     781\n",
       "Name: suic_thought_pst_yr, dtype: int64"
      ]
     },
     "execution_count": 42,
     "metadata": {},
     "output_type": "execute_result"
    }
   ],
   "source": [
    "suic[suic['suic_attempt'] == 1.0].suic_thought_pst_yr.value_counts()\n",
    "#for those who have attempted suicide, majority thought about it"
   ]
  },
  {
   "cell_type": "code",
   "execution_count": 43,
   "id": "841a4d1a",
   "metadata": {},
   "outputs": [
    {
     "data": {
      "text/plain": [
       "1.0    3327\n",
       "0.0    1384\n",
       "Name: suic_thought_pst_yr, dtype: int64"
      ]
     },
     "execution_count": 43,
     "metadata": {},
     "output_type": "execute_result"
    }
   ],
   "source": [
    "suic[suic['suic_plan'] == 1.0].suic_thought_pst_yr.value_counts()\n",
    "#for those who have made plan, majority have thought ab it"
   ]
  },
  {
   "cell_type": "code",
   "execution_count": 45,
   "id": "22f478f7",
   "metadata": {},
   "outputs": [
    {
     "data": {
      "text/plain": [
       "0.0    263633\n",
       "1.0     11981\n",
       "Name: suic_thought_pst_yr, dtype: int64"
      ]
     },
     "execution_count": 45,
     "metadata": {},
     "output_type": "execute_result"
    }
   ],
   "source": [
    "suic[suic['suic_plan'] == 0.0].suic_thought_pst_yr.value_counts()\n",
    "#for those who dont have any plan, only a few thought about it"
   ]
  },
  {
   "cell_type": "code",
   "execution_count": null,
   "id": "2dbf0c99",
   "metadata": {},
   "outputs": [],
   "source": []
  }
 ],
 "metadata": {
  "kernelspec": {
   "display_name": "Python 3 (ipykernel)",
   "language": "python",
   "name": "python3"
  },
  "language_info": {
   "codemirror_mode": {
    "name": "ipython",
    "version": 3
   },
   "file_extension": ".py",
   "mimetype": "text/x-python",
   "name": "python",
   "nbconvert_exporter": "python",
   "pygments_lexer": "ipython3",
   "version": "3.8.13"
  }
 },
 "nbformat": 4,
 "nbformat_minor": 5
}
