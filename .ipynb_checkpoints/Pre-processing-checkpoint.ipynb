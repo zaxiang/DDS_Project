{
 "cells": [
  {
   "cell_type": "code",
   "execution_count": 103,
   "id": "01c455f3",
   "metadata": {},
   "outputs": [],
   "source": [
    "import pandas as pd\n",
    "import seaborn as sns"
   ]
  },
  {
   "cell_type": "code",
   "execution_count": 104,
   "id": "4ecedae9",
   "metadata": {},
   "outputs": [],
   "source": [
    "data = pd.read_csv('data/health.csv')\n",
    "data = data.drop(columns = ['Unnamed: 0', 'index', 'CASEID'])"
   ]
  },
  {
   "cell_type": "markdown",
   "id": "50405955",
   "metadata": {},
   "source": [
    "### Create Suicide Risk"
   ]
  },
  {
   "cell_type": "markdown",
   "id": "b67ecbc6",
   "metadata": {},
   "source": [
    "- plan1: think(1), plan(2), attempt(3) : doesnt work out, attempt doesn't ensure plan, and plan doesnt ensure think: for people who actually tried, half of them didn't have any plan, and some of them havent thought ab killing themselves: something we could put into the slide as an interesting finding (might include some graphs as well)\n",
    "\n",
    "- plan 2: think(1), think+plan(2), think+plan+attempt(3), but what ab those who are attemp only, or plan only, or attempt+think?\n",
    "\n",
    "- plan 3: think (+1), plan (+2), attempt (+3)\n"
   ]
  },
  {
   "cell_type": "code",
   "execution_count": 105,
   "id": "707fc9de",
   "metadata": {},
   "outputs": [],
   "source": [
    "suic = data[['suic_thought_pst_12month', 'suic_thought_pst_yr', 'suic_plan', 'suic_attempt']]"
   ]
  },
  {
   "cell_type": "code",
   "execution_count": 106,
   "id": "70dbbdb6",
   "metadata": {},
   "outputs": [
    {
     "data": {
      "text/plain": [
       "0.0    262867\n",
       "1.0     11561\n",
       "3.0      2781\n",
       "2.0      1369\n",
       "6.0      1312\n",
       "4.0       420\n",
       "5.0        15\n",
       "dtype: int64"
      ]
     },
     "execution_count": 106,
     "metadata": {},
     "output_type": "execute_result"
    }
   ],
   "source": [
    "suicide_risk = suic['suic_thought_pst_yr'] + 2*suic['suic_plan'] + 3*suic['suic_attempt']\n",
    "suicide_risk.value_counts()"
   ]
  },
  {
   "cell_type": "code",
   "execution_count": 107,
   "id": "94159699",
   "metadata": {},
   "outputs": [],
   "source": [
    "data = data.assign(suicide_risk = suicide_risk)\n",
    "data = data.drop(columns = ['YEAR', 'Age_First_Use', 'Year_First_Use', \n",
    "                            'CPN_Meth_Flag', 'Any_Drug_Past_Year', 'Any_Drug_Past_Month'])\n"
   ]
  },
  {
   "cell_type": "code",
   "execution_count": 108,
   "id": "3aa5aae8",
   "metadata": {},
   "outputs": [
    {
     "data": {
      "text/plain": [
       "Index(['SNRLGSVC', 'SNRLGIMP', 'SNRLDCSN', 'SNRLFRND', 'Tabacco_Flag',\n",
       "       'Alcohol_Flag', 'Marijunana_Flag', 'Marijuana_Only_Flag',\n",
       "       'Cocaine_Flag', 'Crack_Flag', 'Herion_Flag', 'Hallcinogens_Flag',\n",
       "       'Inhalants_Flag', 'Painkiller_Flag', 'Tranquilizer_Flag',\n",
       "       'Stimulant Flag', 'Meth_Flag', 'Sedatives Flag', 'Any_Drug_Flag',\n",
       "       'Drug_Not_Marijunana', 'Ever_Steal_50', 'Sell_Illegal_Drugs',\n",
       "       'Ever_Booked_Arrested', 'Drug_or_Alc_Past_year', 'inpatient',\n",
       "       'outpatient', 'needed_not_rcvd', 'rcvd_any_tmt',\n",
       "       'suic_thought_pst_12month', 'psych_distress_month', 'psych_distress_yr',\n",
       "       'suic_thought_pst_yr', 'suic_plan', 'suic_attempt', 'whodas_score',\n",
       "       'predicted_ment_ill', 'svrl_days_depressed', 'lifetime_mde',\n",
       "       'pst_yr_mde', 'CATAG6', 'HEALTH', 'IRSEX', 'IRMARIT', 'EDUCCAT2',\n",
       "       'NEWRACE2', 'EMPSTATY', 'suicide_risk'],\n",
       "      dtype='object')"
      ]
     },
     "execution_count": 108,
     "metadata": {},
     "output_type": "execute_result"
    }
   ],
   "source": [
    "data.columns"
   ]
  },
  {
   "cell_type": "code",
   "execution_count": 109,
   "id": "a968ffad",
   "metadata": {},
   "outputs": [],
   "source": [
    "data = data[data['SNRLGSVC'] != '99']\n",
    "data = data[data['SNRLGIMP'] != '99']\n",
    "data = data[data['SNRLDCSN'] != '99']\n",
    "data = data[data['SNRLFRND'] != '99']\n",
    "data = data[data['Sell_Illegal_Drugs'] != '97']\n",
    "data = data[data['Sell_Illegal_Drugs'] != '94']"
   ]
  },
  {
   "cell_type": "code",
   "execution_count": 110,
   "id": "529e115f",
   "metadata": {},
   "outputs": [],
   "source": [
    "data['SNRLGSVC'].replace(['0', '1-2', '3-5', '6-24', '25-52', '52+', '99'],\n",
    "                        [0, 1, 2, 3, 4, 5, 6], inplace=True)\n",
    "data['SNRLGIMP'].replace(['Strongly Agree', 'Agree', 'Disagree', 'Strongly Disagree'],\n",
    "                        [0, 1, 2, 3], inplace=True)\n",
    "data['SNRLDCSN'].replace(['Strongly Agree', 'Agree', 'Disagree', 'Strongly Disagree'],\n",
    "                        [0, 1, 2, 3], inplace=True)\n",
    "data['SNRLFRND'].replace(['Strongly Agree', 'Agree', 'Disagree', 'Strongly Disagree'],\n",
    "                        [0, 1, 2, 3], inplace=True)\n",
    "data['Ever_Steal_50'].replace(['0', '1-2', '3-5', '6-9', '>=10'],\n",
    "                        [0, 1, 2, 3, 4], inplace=True)\n",
    "data['Sell_Illegal_Drugs'].replace(['0', '1-2', '3-5', '6-9', '>=10'],\n",
    "                        [0, 1, 2, 3, 4], inplace=True)\n",
    "data['Ever_Booked_Arrested'].replace(['No', 'Yes'],\n",
    "                        [0, 1], inplace=True)\n",
    "data['Drug_or_Alc_Past_year'].replace(['No/Unknown', 'Yes'],\n",
    "                        [0, 1], inplace=True)\n",
    "\n",
    "data['CATAG6'].replace(['A-18-25', 'A-26-34', 'A-35-49','A-50-64','A-65' ],\n",
    "                        [0, 1, 2, 3, 4], inplace=True)\n",
    "data['HEALTH'].replace(['H_Very_good', 'H_Excellent', 'H_Good', 'H_Fair', 'H_Poor'],\n",
    "                        [0, 1, 2, 3, 4], inplace=True)\n",
    "data['IRSEX'].replace(['Male', 'Female'],\n",
    "                        [0, 1], inplace=True)\n",
    "data['IRMARIT'].replace(['Not_Married', 'Married', 'Divorced_Separated', 'Widowed'],\n",
    "                        [0, 1, 2, 3], inplace=True)\n",
    "data['EDUCCAT2'].replace(['Less_than_high_school', 'High_school_graduate', 'Some_college','College_graduate'],\n",
    "                        [0, 1, 2, 3], inplace=True)\n",
    "data['NEWRACE2'].replace(['Black/Afr_Am', 'White', 'Hispanic', 'more_than_one_race', 'Asian',\n",
    " 'Native_Am/AK_Native', 'Native_HI/Other_Pac_Isl'],\n",
    "                        [0, 1, 2, 3, 4, 5, 6], inplace=True)\n",
    "data['EMPSTATY'].replace(['E_full_time', 'E_Other', 'E_Unemployed', 'E_part_time'],\n",
    "                        [0, 1, 2, 3], inplace=True)"
   ]
  },
  {
   "cell_type": "code",
   "execution_count": 111,
   "id": "90de8d4d",
   "metadata": {},
   "outputs": [],
   "source": [
    "map_col = {'SNRLGSVC':'RELIG_SERVICES_12month', 'SNRLGIMP':'RELIG_IMPORTANT', \n",
    "           'SNRLDCSN':'RELIG_influ_decision', 'SNRLFRND': 'friend_SHARE_REL', \n",
    "           'CATAG6':'age'}\n",
    "data = data.rename(columns=map_col)"
   ]
  },
  {
   "cell_type": "code",
   "execution_count": 121,
   "id": "bc6667f3",
   "metadata": {},
   "outputs": [],
   "source": [
    "import numpy as np\n",
    "def normalize(series):\n",
    "    \"\"\"\n",
    "    normalize a series\n",
    "    \"\"\"\n",
    "    array = np.array(series)\n",
    "    array_norm = (array-np.min(array))/(np.max(array)-np.min(array))\n",
    "    return pd.Series(array_norm)\n",
    "\n",
    "norm_data = pd.DataFrame()\n",
    "for col in data.columns:\n",
    "    norm_data[col] = normalize(data[col])"
   ]
  },
  {
   "cell_type": "code",
   "execution_count": 123,
   "id": "be1cb2a7",
   "metadata": {},
   "outputs": [],
   "source": [
    "norm_data.to_csv('data/new_health.csv')"
   ]
  },
  {
   "cell_type": "code",
   "execution_count": 90,
   "id": "cefd41a3",
   "metadata": {},
   "outputs": [],
   "source": [
    "# from sklearn.manifold import TSNE, MDS\n",
    "\n",
    "# X = data[['Tabacco_Flag', 'Alcohol_Flag', 'Marijunana_Flag', 'Marijuana_Only_Flag', 'Cocaine_Flag']].values.tolist()\n",
    "# y = pd.factorize(data['suicide_risk'])[0]\n",
    "# y = y.tolist()\n",
    "\n",
    "# dims = TSNE(random_state=42).fit_transform(X)\n",
    "# dim1, dim2 = dims[:, 0], dims[:, 1]\n",
    "# sns.scatterplot(x=dim1, y=dim2, hue=t, palette='tab10', legend=False)\n",
    "# plt.title('t-SNE')"
   ]
  },
  {
   "cell_type": "code",
   "execution_count": 5,
   "id": "e3c6a8d6",
   "metadata": {},
   "outputs": [
    {
     "data": {
      "text/plain": [
       "0.0    11981\n",
       "1.0     3327\n",
       "Name: suic_plan, dtype: int64"
      ]
     },
     "execution_count": 5,
     "metadata": {},
     "output_type": "execute_result"
    }
   ],
   "source": [
    "suic[suic['suic_thought_pst_yr'] == 1.0].suic_plan.value_counts()\n",
    "#for those who have thought about it, few of them made plan\n",
    "\n",
    "suic[suic['suic_thought_pst_yr'] == 0.0].suic_plan.value_counts()\n",
    "#for those who have never thought about it, small porportion of them made plan\n",
    "\n",
    "suic[suic['suic_thought_pst_yr'] == 1.0].suic_attempt.value_counts()\n",
    "#for those who have thought ab it, only have few actually tried\n",
    "\n",
    "suic[suic['suic_thought_pst_yr'] == 0.0].suic_attempt.value_counts()\n",
    "#for those who have never thought ab it, a very small porportion of them have few actually tried\n",
    "\n",
    "suic[suic['suic_attempt'] == 1.0].suic_plan.value_counts()\n",
    "#for those who have attempted suicide, half made plan\n",
    "\n",
    "suic[suic['suic_attempt'] == 1.0].suic_thought_pst_yr.value_counts()\n",
    "#for those who have attempted suicide, majority thought about it\n",
    "\n",
    "suic[suic['suic_plan'] == 1.0].suic_thought_pst_yr.value_counts()\n",
    "#for those who have made plan, majority have thought ab it\n",
    "\n",
    "suic[suic['suic_plan'] == 0.0].suic_thought_pst_yr.value_counts()\n",
    "#for those who dont have any plan, only a few thought about it"
   ]
  },
  {
   "cell_type": "code",
   "execution_count": null,
   "id": "860096bf",
   "metadata": {},
   "outputs": [],
   "source": []
  }
 ],
 "metadata": {
  "kernelspec": {
   "display_name": "Python 3 (ipykernel)",
   "language": "python",
   "name": "python3"
  },
  "language_info": {
   "codemirror_mode": {
    "name": "ipython",
    "version": 3
   },
   "file_extension": ".py",
   "mimetype": "text/x-python",
   "name": "python",
   "nbconvert_exporter": "python",
   "pygments_lexer": "ipython3",
   "version": "3.8.13"
  }
 },
 "nbformat": 4,
 "nbformat_minor": 5
}
