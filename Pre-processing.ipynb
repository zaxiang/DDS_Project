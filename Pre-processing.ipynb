{
 "cells": [
  {
   "cell_type": "code",
   "execution_count": 1,
   "id": "a97a212a",
   "metadata": {},
   "outputs": [],
   "source": [
    "import pandas as pd"
   ]
  },
  {
   "cell_type": "code",
   "execution_count": 4,
   "id": "8fe53db0",
   "metadata": {},
   "outputs": [],
   "source": [
    "data = pd.read_csv('data/health.csv')\n",
    "data = data.drop(columns = ['Unnamed: 0'])"
   ]
  },
  {
   "cell_type": "code",
   "execution_count": 7,
   "id": "e2aa0df6",
   "metadata": {},
   "outputs": [
    {
     "data": {
      "text/plain": [
       "Index(['index', 'SNRLGSVC', 'SNRLGIMP', 'SNRLDCSN', 'SNRLFRND', 'YEAR',\n",
       "       'CASEID', 'Tabacco_Flag', 'Alcohol_Flag', 'Marijunana_Flag',\n",
       "       'Marijuana_Only_Flag', 'Cocaine_Flag', 'Crack_Flag', 'Herion_Flag',\n",
       "       'Hallcinogens_Flag', 'Inhalants_Flag', 'Painkiller_Flag',\n",
       "       'Tranquilizer_Flag', 'Stimulant Flag', 'CPN_Meth_Flag', 'Meth_Flag',\n",
       "       'Sedatives Flag', 'Any_Drug_Flag', 'Any_Drug_Past_Year',\n",
       "       'Any_Drug_Past_Month', 'Age_First_Use', 'Year_First_Use',\n",
       "       'Drug_Not_Marijunana', 'Ever_Steal_50', 'Sell_Illegal_Drugs',\n",
       "       'Ever_Booked_Arrested', 'Drug_or_Alc_Past_year', 'inpatient',\n",
       "       'outpatient', 'needed_not_rcvd', 'rcvd_any_tmt',\n",
       "       'suic_thought_pst_12month', 'psych_distress_month', 'psych_distress_yr',\n",
       "       'suic_thought_pst_yr', 'suic_plan', 'suic_attempt', 'whodas_score',\n",
       "       'predicted_ment_ill', 'svrl_days_depressed', 'lifetime_mde',\n",
       "       'pst_yr_mde', 'CATAG6', 'HEALTH', 'IRSEX', 'IRMARIT', 'EDUCCAT2',\n",
       "       'NEWRACE2', 'EMPSTATY'],\n",
       "      dtype='object')"
      ]
     },
     "execution_count": 7,
     "metadata": {},
     "output_type": "execute_result"
    }
   ],
   "source": [
    "data.columns"
   ]
  },
  {
   "cell_type": "code",
   "execution_count": 12,
   "id": "e4298509",
   "metadata": {},
   "outputs": [],
   "source": [
    "suic = data[['suic_thought_pst_12month', 'suic_thought_pst_yr', 'suic_plan', 'suic_attempt']]"
   ]
  },
  {
   "cell_type": "code",
   "execution_count": 17,
   "id": "b539a484",
   "metadata": {},
   "outputs": [
    {
     "data": {
      "text/plain": [
       "0.0    277812\n",
       "1.0      2513\n",
       "Name: suic_attempt, dtype: int64"
      ]
     },
     "execution_count": 17,
     "metadata": {},
     "output_type": "execute_result"
    }
   ],
   "source": [
    "suic.suic_attempt.value_counts()"
   ]
  },
  {
   "cell_type": "code",
   "execution_count": null,
   "id": "71cd21c8",
   "metadata": {},
   "outputs": [],
   "source": []
  }
 ],
 "metadata": {
  "kernelspec": {
   "display_name": "Python 3 (ipykernel)",
   "language": "python",
   "name": "python3"
  },
  "language_info": {
   "codemirror_mode": {
    "name": "ipython",
    "version": 3
   },
   "file_extension": ".py",
   "mimetype": "text/x-python",
   "name": "python",
   "nbconvert_exporter": "python",
   "pygments_lexer": "ipython3",
   "version": "3.8.13"
  }
 },
 "nbformat": 4,
 "nbformat_minor": 5
}
