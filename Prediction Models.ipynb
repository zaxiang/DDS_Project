{
 "cells": [
  {
   "cell_type": "code",
   "execution_count": 1,
   "id": "01c455f3",
   "metadata": {},
   "outputs": [],
   "source": [
    "from sklearn import preprocessing\n",
    "from sklearn.model_selection import train_test_split\n",
    "from sklearn.neighbors import KNeighborsClassifier\n",
    "import matplotlib.pyplot as plt\n",
    "import pandas as pd\n",
    "import seaborn as sns\n",
    "import numpy as np\n",
    "from sklearn.metrics import classification_report, confusion_matrix, accuracy_score\n",
    "from sklearn.metrics import mean_squared_error\n",
    "from sklearn import linear_model"
   ]
  },
  {
   "cell_type": "markdown",
   "id": "6d597fb3",
   "metadata": {},
   "source": [
    "# Feature Selection"
   ]
  },
  {
   "cell_type": "code",
   "execution_count": 2,
   "id": "4ecedae9",
   "metadata": {},
   "outputs": [
    {
     "data": {
      "text/html": [
       "<div>\n",
       "<style scoped>\n",
       "    .dataframe tbody tr th:only-of-type {\n",
       "        vertical-align: middle;\n",
       "    }\n",
       "\n",
       "    .dataframe tbody tr th {\n",
       "        vertical-align: top;\n",
       "    }\n",
       "\n",
       "    .dataframe thead th {\n",
       "        text-align: right;\n",
       "    }\n",
       "</style>\n",
       "<table border=\"1\" class=\"dataframe\">\n",
       "  <thead>\n",
       "    <tr style=\"text-align: right;\">\n",
       "      <th></th>\n",
       "      <th>RELIG_SERVICES_12month</th>\n",
       "      <th>RELIG_IMPORTANT</th>\n",
       "      <th>RELIG_influ_decision</th>\n",
       "      <th>friend_SHARE_REL</th>\n",
       "      <th>Tabacco_Flag</th>\n",
       "      <th>Alcohol_Flag</th>\n",
       "      <th>Marijunana_Flag</th>\n",
       "      <th>Marijuana_Only_Flag</th>\n",
       "      <th>Cocaine_Flag</th>\n",
       "      <th>Crack_Flag</th>\n",
       "      <th>...</th>\n",
       "      <th>lifetime_mde</th>\n",
       "      <th>pst_yr_mde</th>\n",
       "      <th>age</th>\n",
       "      <th>HEALTH</th>\n",
       "      <th>IRSEX</th>\n",
       "      <th>IRMARIT</th>\n",
       "      <th>EDUCCAT2</th>\n",
       "      <th>NEWRACE2</th>\n",
       "      <th>EMPSTATY</th>\n",
       "      <th>suicide_risk</th>\n",
       "    </tr>\n",
       "  </thead>\n",
       "  <tbody>\n",
       "    <tr>\n",
       "      <th>0</th>\n",
       "      <td>0.6</td>\n",
       "      <td>0.333333</td>\n",
       "      <td>0.333333</td>\n",
       "      <td>0.333333</td>\n",
       "      <td>1.0</td>\n",
       "      <td>1.0</td>\n",
       "      <td>1.0</td>\n",
       "      <td>1.0</td>\n",
       "      <td>0.0</td>\n",
       "      <td>0.0</td>\n",
       "      <td>...</td>\n",
       "      <td>1.0</td>\n",
       "      <td>1.0</td>\n",
       "      <td>0.00</td>\n",
       "      <td>0.00</td>\n",
       "      <td>0.0</td>\n",
       "      <td>0.000000</td>\n",
       "      <td>0.666667</td>\n",
       "      <td>0.000000</td>\n",
       "      <td>0.000000</td>\n",
       "      <td>0.0</td>\n",
       "    </tr>\n",
       "    <tr>\n",
       "      <th>1</th>\n",
       "      <td>0.4</td>\n",
       "      <td>0.666667</td>\n",
       "      <td>0.666667</td>\n",
       "      <td>1.000000</td>\n",
       "      <td>1.0</td>\n",
       "      <td>1.0</td>\n",
       "      <td>1.0</td>\n",
       "      <td>1.0</td>\n",
       "      <td>0.0</td>\n",
       "      <td>0.0</td>\n",
       "      <td>...</td>\n",
       "      <td>1.0</td>\n",
       "      <td>1.0</td>\n",
       "      <td>0.00</td>\n",
       "      <td>0.25</td>\n",
       "      <td>1.0</td>\n",
       "      <td>0.333333</td>\n",
       "      <td>0.666667</td>\n",
       "      <td>0.166667</td>\n",
       "      <td>0.000000</td>\n",
       "      <td>0.0</td>\n",
       "    </tr>\n",
       "    <tr>\n",
       "      <th>2</th>\n",
       "      <td>0.2</td>\n",
       "      <td>0.333333</td>\n",
       "      <td>0.333333</td>\n",
       "      <td>0.666667</td>\n",
       "      <td>1.0</td>\n",
       "      <td>1.0</td>\n",
       "      <td>0.0</td>\n",
       "      <td>0.0</td>\n",
       "      <td>0.0</td>\n",
       "      <td>0.0</td>\n",
       "      <td>...</td>\n",
       "      <td>0.0</td>\n",
       "      <td>1.0</td>\n",
       "      <td>0.00</td>\n",
       "      <td>0.75</td>\n",
       "      <td>1.0</td>\n",
       "      <td>0.000000</td>\n",
       "      <td>0.000000</td>\n",
       "      <td>0.166667</td>\n",
       "      <td>0.333333</td>\n",
       "      <td>0.0</td>\n",
       "    </tr>\n",
       "    <tr>\n",
       "      <th>3</th>\n",
       "      <td>0.6</td>\n",
       "      <td>0.000000</td>\n",
       "      <td>0.000000</td>\n",
       "      <td>0.333333</td>\n",
       "      <td>1.0</td>\n",
       "      <td>0.0</td>\n",
       "      <td>0.0</td>\n",
       "      <td>0.0</td>\n",
       "      <td>0.0</td>\n",
       "      <td>0.0</td>\n",
       "      <td>...</td>\n",
       "      <td>1.0</td>\n",
       "      <td>1.0</td>\n",
       "      <td>0.75</td>\n",
       "      <td>0.75</td>\n",
       "      <td>1.0</td>\n",
       "      <td>0.666667</td>\n",
       "      <td>0.333333</td>\n",
       "      <td>0.166667</td>\n",
       "      <td>0.666667</td>\n",
       "      <td>0.0</td>\n",
       "    </tr>\n",
       "    <tr>\n",
       "      <th>4</th>\n",
       "      <td>0.4</td>\n",
       "      <td>0.000000</td>\n",
       "      <td>0.000000</td>\n",
       "      <td>0.333333</td>\n",
       "      <td>1.0</td>\n",
       "      <td>1.0</td>\n",
       "      <td>1.0</td>\n",
       "      <td>0.0</td>\n",
       "      <td>0.0</td>\n",
       "      <td>0.0</td>\n",
       "      <td>...</td>\n",
       "      <td>0.0</td>\n",
       "      <td>1.0</td>\n",
       "      <td>0.00</td>\n",
       "      <td>0.00</td>\n",
       "      <td>1.0</td>\n",
       "      <td>0.000000</td>\n",
       "      <td>0.666667</td>\n",
       "      <td>0.166667</td>\n",
       "      <td>0.333333</td>\n",
       "      <td>0.0</td>\n",
       "    </tr>\n",
       "    <tr>\n",
       "      <th>...</th>\n",
       "      <td>...</td>\n",
       "      <td>...</td>\n",
       "      <td>...</td>\n",
       "      <td>...</td>\n",
       "      <td>...</td>\n",
       "      <td>...</td>\n",
       "      <td>...</td>\n",
       "      <td>...</td>\n",
       "      <td>...</td>\n",
       "      <td>...</td>\n",
       "      <td>...</td>\n",
       "      <td>...</td>\n",
       "      <td>...</td>\n",
       "      <td>...</td>\n",
       "      <td>...</td>\n",
       "      <td>...</td>\n",
       "      <td>...</td>\n",
       "      <td>...</td>\n",
       "      <td>...</td>\n",
       "      <td>...</td>\n",
       "      <td>...</td>\n",
       "    </tr>\n",
       "    <tr>\n",
       "      <th>189290</th>\n",
       "      <td>0.8</td>\n",
       "      <td>0.000000</td>\n",
       "      <td>0.333333</td>\n",
       "      <td>0.666667</td>\n",
       "      <td>1.0</td>\n",
       "      <td>1.0</td>\n",
       "      <td>0.0</td>\n",
       "      <td>0.0</td>\n",
       "      <td>0.0</td>\n",
       "      <td>0.0</td>\n",
       "      <td>...</td>\n",
       "      <td>1.0</td>\n",
       "      <td>1.0</td>\n",
       "      <td>0.00</td>\n",
       "      <td>0.00</td>\n",
       "      <td>1.0</td>\n",
       "      <td>0.000000</td>\n",
       "      <td>0.333333</td>\n",
       "      <td>0.166667</td>\n",
       "      <td>0.000000</td>\n",
       "      <td>0.0</td>\n",
       "    </tr>\n",
       "    <tr>\n",
       "      <th>189291</th>\n",
       "      <td>0.4</td>\n",
       "      <td>1.000000</td>\n",
       "      <td>0.333333</td>\n",
       "      <td>0.666667</td>\n",
       "      <td>0.0</td>\n",
       "      <td>0.0</td>\n",
       "      <td>0.0</td>\n",
       "      <td>0.0</td>\n",
       "      <td>0.0</td>\n",
       "      <td>0.0</td>\n",
       "      <td>...</td>\n",
       "      <td>0.0</td>\n",
       "      <td>0.0</td>\n",
       "      <td>0.50</td>\n",
       "      <td>0.75</td>\n",
       "      <td>1.0</td>\n",
       "      <td>0.666667</td>\n",
       "      <td>0.333333</td>\n",
       "      <td>0.166667</td>\n",
       "      <td>0.333333</td>\n",
       "      <td>0.5</td>\n",
       "    </tr>\n",
       "    <tr>\n",
       "      <th>189292</th>\n",
       "      <td>0.8</td>\n",
       "      <td>0.000000</td>\n",
       "      <td>0.000000</td>\n",
       "      <td>0.666667</td>\n",
       "      <td>1.0</td>\n",
       "      <td>1.0</td>\n",
       "      <td>1.0</td>\n",
       "      <td>0.0</td>\n",
       "      <td>1.0</td>\n",
       "      <td>1.0</td>\n",
       "      <td>...</td>\n",
       "      <td>1.0</td>\n",
       "      <td>1.0</td>\n",
       "      <td>0.50</td>\n",
       "      <td>0.25</td>\n",
       "      <td>0.0</td>\n",
       "      <td>0.333333</td>\n",
       "      <td>1.000000</td>\n",
       "      <td>0.166667</td>\n",
       "      <td>0.000000</td>\n",
       "      <td>0.0</td>\n",
       "    </tr>\n",
       "    <tr>\n",
       "      <th>189293</th>\n",
       "      <td>0.6</td>\n",
       "      <td>0.333333</td>\n",
       "      <td>0.333333</td>\n",
       "      <td>1.000000</td>\n",
       "      <td>0.0</td>\n",
       "      <td>0.0</td>\n",
       "      <td>0.0</td>\n",
       "      <td>0.0</td>\n",
       "      <td>0.0</td>\n",
       "      <td>0.0</td>\n",
       "      <td>...</td>\n",
       "      <td>0.0</td>\n",
       "      <td>0.0</td>\n",
       "      <td>0.00</td>\n",
       "      <td>0.00</td>\n",
       "      <td>1.0</td>\n",
       "      <td>0.000000</td>\n",
       "      <td>0.666667</td>\n",
       "      <td>0.166667</td>\n",
       "      <td>1.000000</td>\n",
       "      <td>0.0</td>\n",
       "    </tr>\n",
       "    <tr>\n",
       "      <th>189294</th>\n",
       "      <td>0.6</td>\n",
       "      <td>0.000000</td>\n",
       "      <td>0.000000</td>\n",
       "      <td>0.000000</td>\n",
       "      <td>1.0</td>\n",
       "      <td>1.0</td>\n",
       "      <td>1.0</td>\n",
       "      <td>0.0</td>\n",
       "      <td>0.0</td>\n",
       "      <td>0.0</td>\n",
       "      <td>...</td>\n",
       "      <td>1.0</td>\n",
       "      <td>1.0</td>\n",
       "      <td>1.00</td>\n",
       "      <td>0.75</td>\n",
       "      <td>0.0</td>\n",
       "      <td>0.333333</td>\n",
       "      <td>0.000000</td>\n",
       "      <td>0.333333</td>\n",
       "      <td>0.000000</td>\n",
       "      <td>0.0</td>\n",
       "    </tr>\n",
       "  </tbody>\n",
       "</table>\n",
       "<p>189295 rows × 43 columns</p>\n",
       "</div>"
      ],
      "text/plain": [
       "        RELIG_SERVICES_12month  RELIG_IMPORTANT  RELIG_influ_decision  \\\n",
       "0                          0.6         0.333333              0.333333   \n",
       "1                          0.4         0.666667              0.666667   \n",
       "2                          0.2         0.333333              0.333333   \n",
       "3                          0.6         0.000000              0.000000   \n",
       "4                          0.4         0.000000              0.000000   \n",
       "...                        ...              ...                   ...   \n",
       "189290                     0.8         0.000000              0.333333   \n",
       "189291                     0.4         1.000000              0.333333   \n",
       "189292                     0.8         0.000000              0.000000   \n",
       "189293                     0.6         0.333333              0.333333   \n",
       "189294                     0.6         0.000000              0.000000   \n",
       "\n",
       "        friend_SHARE_REL  Tabacco_Flag  Alcohol_Flag  Marijunana_Flag  \\\n",
       "0               0.333333           1.0           1.0              1.0   \n",
       "1               1.000000           1.0           1.0              1.0   \n",
       "2               0.666667           1.0           1.0              0.0   \n",
       "3               0.333333           1.0           0.0              0.0   \n",
       "4               0.333333           1.0           1.0              1.0   \n",
       "...                  ...           ...           ...              ...   \n",
       "189290          0.666667           1.0           1.0              0.0   \n",
       "189291          0.666667           0.0           0.0              0.0   \n",
       "189292          0.666667           1.0           1.0              1.0   \n",
       "189293          1.000000           0.0           0.0              0.0   \n",
       "189294          0.000000           1.0           1.0              1.0   \n",
       "\n",
       "        Marijuana_Only_Flag  Cocaine_Flag  Crack_Flag  ...  lifetime_mde  \\\n",
       "0                       1.0           0.0         0.0  ...           1.0   \n",
       "1                       1.0           0.0         0.0  ...           1.0   \n",
       "2                       0.0           0.0         0.0  ...           0.0   \n",
       "3                       0.0           0.0         0.0  ...           1.0   \n",
       "4                       0.0           0.0         0.0  ...           0.0   \n",
       "...                     ...           ...         ...  ...           ...   \n",
       "189290                  0.0           0.0         0.0  ...           1.0   \n",
       "189291                  0.0           0.0         0.0  ...           0.0   \n",
       "189292                  0.0           1.0         1.0  ...           1.0   \n",
       "189293                  0.0           0.0         0.0  ...           0.0   \n",
       "189294                  0.0           0.0         0.0  ...           1.0   \n",
       "\n",
       "        pst_yr_mde   age  HEALTH  IRSEX   IRMARIT  EDUCCAT2  NEWRACE2  \\\n",
       "0              1.0  0.00    0.00    0.0  0.000000  0.666667  0.000000   \n",
       "1              1.0  0.00    0.25    1.0  0.333333  0.666667  0.166667   \n",
       "2              1.0  0.00    0.75    1.0  0.000000  0.000000  0.166667   \n",
       "3              1.0  0.75    0.75    1.0  0.666667  0.333333  0.166667   \n",
       "4              1.0  0.00    0.00    1.0  0.000000  0.666667  0.166667   \n",
       "...            ...   ...     ...    ...       ...       ...       ...   \n",
       "189290         1.0  0.00    0.00    1.0  0.000000  0.333333  0.166667   \n",
       "189291         0.0  0.50    0.75    1.0  0.666667  0.333333  0.166667   \n",
       "189292         1.0  0.50    0.25    0.0  0.333333  1.000000  0.166667   \n",
       "189293         0.0  0.00    0.00    1.0  0.000000  0.666667  0.166667   \n",
       "189294         1.0  1.00    0.75    0.0  0.333333  0.000000  0.333333   \n",
       "\n",
       "        EMPSTATY  suicide_risk  \n",
       "0       0.000000           0.0  \n",
       "1       0.000000           0.0  \n",
       "2       0.333333           0.0  \n",
       "3       0.666667           0.0  \n",
       "4       0.333333           0.0  \n",
       "...          ...           ...  \n",
       "189290  0.000000           0.0  \n",
       "189291  0.333333           0.5  \n",
       "189292  0.000000           0.0  \n",
       "189293  1.000000           0.0  \n",
       "189294  0.000000           0.0  \n",
       "\n",
       "[189295 rows x 43 columns]"
      ]
     },
     "execution_count": 2,
     "metadata": {},
     "output_type": "execute_result"
    }
   ],
   "source": [
    "df = pd.read_csv('data/new_health.csv')\n",
    "df = df.drop('Unnamed: 0', axis = 1)\n",
    "df"
   ]
  },
  {
   "cell_type": "code",
   "execution_count": 3,
   "id": "5c89f75e",
   "metadata": {},
   "outputs": [
    {
     "data": {
      "text/plain": [
       "Index(['RELIG_SERVICES_12month', 'RELIG_IMPORTANT', 'RELIG_influ_decision',\n",
       "       'friend_SHARE_REL', 'Tabacco_Flag', 'Alcohol_Flag', 'Marijunana_Flag',\n",
       "       'Marijuana_Only_Flag', 'Cocaine_Flag', 'Crack_Flag', 'Herion_Flag',\n",
       "       'Hallcinogens_Flag', 'Inhalants_Flag', 'Painkiller_Flag',\n",
       "       'Tranquilizer_Flag', 'Stimulant Flag', 'Meth_Flag', 'Sedatives Flag',\n",
       "       'Any_Drug_Flag', 'Drug_Not_Marijunana', 'Ever_Steal_50',\n",
       "       'Sell_Illegal_Drugs', 'Ever_Booked_Arrested', 'Drug_or_Alc_Past_year',\n",
       "       'inpatient', 'outpatient', 'needed_not_rcvd', 'rcvd_any_tmt',\n",
       "       'psych_distress_month', 'psych_distress_yr', 'whodas_score',\n",
       "       'predicted_ment_ill', 'svrl_days_depressed', 'lifetime_mde',\n",
       "       'pst_yr_mde', 'age', 'HEALTH', 'IRSEX', 'IRMARIT', 'EDUCCAT2',\n",
       "       'NEWRACE2', 'EMPSTATY', 'suicide_risk'],\n",
       "      dtype='object')"
      ]
     },
     "execution_count": 3,
     "metadata": {},
     "output_type": "execute_result"
    }
   ],
   "source": [
    "df.columns"
   ]
  },
  {
   "cell_type": "code",
   "execution_count": 4,
   "id": "4d013eff",
   "metadata": {},
   "outputs": [
    {
     "data": {
      "text/plain": [
       "0.000000    178945\n",
       "0.166667      6795\n",
       "0.500000      1896\n",
       "1.000000      1279\n",
       "0.666667       374\n",
       "0.333333         6\n",
       "Name: suicide_risk, dtype: int64"
      ]
     },
     "execution_count": 4,
     "metadata": {},
     "output_type": "execute_result"
    }
   ],
   "source": [
    "df['suicide_risk'].value_counts()"
   ]
  },
  {
   "cell_type": "code",
   "execution_count": 5,
   "id": "fb8b5c2a",
   "metadata": {},
   "outputs": [],
   "source": [
    "x_data = df.drop(['suicide_risk'],axis=1)\n",
    "y_data = df['suicide_risk']\n",
    "X_train, X_test, y_train, y_test = train_test_split(x_data, y_data,test_size=0.2, random_state = 1)"
   ]
  },
  {
   "cell_type": "markdown",
   "id": "8b3868b5",
   "metadata": {},
   "source": [
    "### Approach 1: Ridge Regression"
   ]
  },
  {
   "cell_type": "code",
   "execution_count": 6,
   "id": "f05ea9d5",
   "metadata": {},
   "outputs": [],
   "source": [
    "from sklearn.linear_model import Ridge\n",
    "clf = Ridge().fit(X_train,y_train)\n",
    "ypred=clf.predict(X_test)"
   ]
  },
  {
   "cell_type": "code",
   "execution_count": 7,
   "id": "a88b0803",
   "metadata": {},
   "outputs": [
    {
     "name": "stdout",
     "output_type": "stream",
     "text": [
      "MSE: 0.00753706967076093\n"
     ]
    }
   ],
   "source": [
    "result = mean_squared_error(y_test, ypred)\n",
    "print('MSE:',result)"
   ]
  },
  {
   "cell_type": "code",
   "execution_count": 8,
   "id": "79a40c3b",
   "metadata": {},
   "outputs": [
    {
     "data": {
      "text/plain": [
       "array([ 2.84931353e-03,  5.47693970e-03,  2.68161676e-03,  1.14346755e-03,\n",
       "        1.24333161e-03, -4.99781480e-04, -9.69696588e-04,  3.93511691e-04,\n",
       "       -7.17422192e-06,  1.01570489e-03, -1.00139956e-03, -7.04184166e-04,\n",
       "        1.87986738e-03,  1.24867374e-04,  1.17982715e-03, -3.44564098e-03,\n",
       "        2.56652468e-03,  1.24589174e-04,  9.89301876e-04,  5.95790156e-04,\n",
       "        6.24775236e-02,  1.57543215e-02, -9.57158862e-04,  1.95931541e-02,\n",
       "       -1.46466547e-01, -1.01911853e-02, -2.46618350e-02,  6.47828006e-03,\n",
       "        3.49691043e-02,  1.02915481e-02, -2.70694965e-02,  1.94928318e-01,\n",
       "       -3.49416330e-01, -7.86531554e-03,  1.34457400e-02, -9.99809853e-03,\n",
       "        1.47073691e-03, -1.01719166e-03, -5.32843408e-03, -7.33926838e-03,\n",
       "        2.93306793e-03,  2.70713648e-03])"
      ]
     },
     "execution_count": 8,
     "metadata": {},
     "output_type": "execute_result"
    }
   ],
   "source": [
    "clf.coef_"
   ]
  },
  {
   "cell_type": "code",
   "execution_count": 9,
   "id": "01fcb02b",
   "metadata": {},
   "outputs": [
    {
     "data": {
      "text/plain": [
       "array([7.17422192e-06, 1.24589174e-04, 1.24867374e-04, 3.93511691e-04,\n",
       "       4.99781480e-04, 5.95790156e-04, 7.04184166e-04, 9.57158862e-04,\n",
       "       9.69696588e-04, 9.89301876e-04, 1.00139956e-03, 1.01570489e-03,\n",
       "       1.01719166e-03, 1.14346755e-03, 1.17982715e-03, 1.24333161e-03,\n",
       "       1.47073691e-03, 1.87986738e-03, 2.56652468e-03, 2.68161676e-03,\n",
       "       2.70713648e-03, 2.84931353e-03, 2.93306793e-03, 3.44564098e-03,\n",
       "       5.32843408e-03, 5.47693970e-03, 6.47828006e-03, 7.33926838e-03,\n",
       "       7.86531554e-03, 9.99809853e-03, 1.01911853e-02, 1.02915481e-02,\n",
       "       1.34457400e-02, 1.57543215e-02, 1.95931541e-02, 2.46618350e-02,\n",
       "       2.70694965e-02, 3.49691043e-02, 6.24775236e-02, 1.46466547e-01,\n",
       "       1.94928318e-01, 3.49416330e-01])"
      ]
     },
     "execution_count": 9,
     "metadata": {},
     "output_type": "execute_result"
    }
   ],
   "source": [
    "s = np.sort(abs(clf.coef_))\n",
    "s"
   ]
  },
  {
   "cell_type": "markdown",
   "id": "978aa60a",
   "metadata": {},
   "source": [
    "10 most important features:"
   ]
  },
  {
   "cell_type": "code",
   "execution_count": 11,
   "id": "3eb2bc36",
   "metadata": {},
   "outputs": [
    {
     "name": "stdout",
     "output_type": "stream",
     "text": [
      "svrl_days_depressed\n",
      "predicted_ment_ill\n",
      "inpatient\n",
      "Ever_Steal_50\n",
      "psych_distress_month\n",
      "whodas_score\n",
      "needed_not_rcvd\n",
      "Drug_or_Alc_Past_year\n",
      "Sell_Illegal_Drugs\n",
      "pst_yr_mde\n"
     ]
    }
   ],
   "source": [
    "for i in range(-1, -11, -1):\n",
    "    print(df.columns[np.where(abs(clf.coef_) == s[i])][0])"
   ]
  },
  {
   "cell_type": "markdown",
   "id": "bfc6b5a4",
   "metadata": {},
   "source": [
    "10 least important features:"
   ]
  },
  {
   "cell_type": "code",
   "execution_count": 12,
   "id": "9c306749",
   "metadata": {},
   "outputs": [
    {
     "name": "stdout",
     "output_type": "stream",
     "text": [
      "Cocaine_Flag\n",
      "Sedatives Flag\n",
      "Painkiller_Flag\n",
      "Marijuana_Only_Flag\n",
      "Alcohol_Flag\n",
      "Drug_Not_Marijunana\n",
      "Hallcinogens_Flag\n",
      "Ever_Booked_Arrested\n",
      "Marijunana_Flag\n",
      "Any_Drug_Flag\n"
     ]
    }
   ],
   "source": [
    "for i in range(10):\n",
    "    print(df.columns[np.where(abs(clf.coef_) == s[i])][0])"
   ]
  },
  {
   "cell_type": "markdown",
   "id": "a61cf696",
   "metadata": {},
   "source": [
    "### Approach 2: LASSO Regression"
   ]
  },
  {
   "cell_type": "code",
   "execution_count": 13,
   "id": "bf0f067d",
   "metadata": {},
   "outputs": [],
   "source": [
    "from sklearn.linear_model import Ridge\n",
    "clf = linear_model.Lasso(alpha=0.1).fit(X_train,y_train)\n",
    "ypred=clf.predict(X_test)"
   ]
  },
  {
   "cell_type": "code",
   "execution_count": 14,
   "id": "64d7eb01",
   "metadata": {},
   "outputs": [
    {
     "name": "stdout",
     "output_type": "stream",
     "text": [
      "MSE: 0.010140933911482004\n"
     ]
    }
   ],
   "source": [
    "result = mean_squared_error(y_test, ypred)\n",
    "print('MSE:',result)"
   ]
  },
  {
   "cell_type": "code",
   "execution_count": 15,
   "id": "5e92a2e1",
   "metadata": {},
   "outputs": [
    {
     "data": {
      "text/plain": [
       "array([-0.,  0.,  0.,  0.,  0.,  0.,  0., -0.,  0.,  0.,  0.,  0.,  0.,\n",
       "        0.,  0.,  0.,  0.,  0.,  0.,  0.,  0.,  0.,  0.,  0., -0., -0.,\n",
       "       -0., -0.,  0.,  0.,  0.,  0., -0., -0., -0., -0.,  0.,  0., -0.,\n",
       "       -0.,  0.,  0.])"
      ]
     },
     "execution_count": 15,
     "metadata": {},
     "output_type": "execute_result"
    }
   ],
   "source": [
    "clf.coef_"
   ]
  },
  {
   "cell_type": "code",
   "execution_count": 16,
   "id": "b918e10e",
   "metadata": {},
   "outputs": [
    {
     "data": {
      "text/plain": [
       "array([0., 0., 0., 0., 0., 0., 0., 0., 0., 0., 0., 0., 0., 0., 0., 0., 0.,\n",
       "       0., 0., 0., 0., 0., 0., 0., 0., 0., 0., 0., 0., 0., 0., 0., 0., 0.,\n",
       "       0., 0., 0., 0., 0., 0., 0., 0.])"
      ]
     },
     "execution_count": 16,
     "metadata": {},
     "output_type": "execute_result"
    }
   ],
   "source": [
    "s = np.sort(abs(clf.coef_))\n",
    "s"
   ]
  },
  {
   "cell_type": "markdown",
   "id": "e3ae53d3",
   "metadata": {},
   "source": [
    "No features selected according to LASSO."
   ]
  },
  {
   "cell_type": "markdown",
   "id": "6b1c3872",
   "metadata": {},
   "source": [
    "# Prediction Models"
   ]
  },
  {
   "cell_type": "markdown",
   "id": "aece3174",
   "metadata": {},
   "source": [
    "Making suicide risk column categorical:"
   ]
  },
  {
   "cell_type": "code",
   "execution_count": 17,
   "id": "7c76d631",
   "metadata": {},
   "outputs": [],
   "source": [
    "df['suicide_risk'] = df['suicide_risk']*6\n",
    "df = df.astype({'suicide_risk':'int'})"
   ]
  },
  {
   "cell_type": "code",
   "execution_count": 18,
   "id": "94fca7b4",
   "metadata": {},
   "outputs": [
    {
     "data": {
      "text/html": [
       "<div>\n",
       "<style scoped>\n",
       "    .dataframe tbody tr th:only-of-type {\n",
       "        vertical-align: middle;\n",
       "    }\n",
       "\n",
       "    .dataframe tbody tr th {\n",
       "        vertical-align: top;\n",
       "    }\n",
       "\n",
       "    .dataframe thead th {\n",
       "        text-align: right;\n",
       "    }\n",
       "</style>\n",
       "<table border=\"1\" class=\"dataframe\">\n",
       "  <thead>\n",
       "    <tr style=\"text-align: right;\">\n",
       "      <th></th>\n",
       "      <th>RELIG_SERVICES_12month</th>\n",
       "      <th>RELIG_IMPORTANT</th>\n",
       "      <th>RELIG_influ_decision</th>\n",
       "      <th>friend_SHARE_REL</th>\n",
       "      <th>Tabacco_Flag</th>\n",
       "      <th>Alcohol_Flag</th>\n",
       "      <th>Marijunana_Flag</th>\n",
       "      <th>Marijuana_Only_Flag</th>\n",
       "      <th>Cocaine_Flag</th>\n",
       "      <th>Crack_Flag</th>\n",
       "      <th>...</th>\n",
       "      <th>lifetime_mde</th>\n",
       "      <th>pst_yr_mde</th>\n",
       "      <th>age</th>\n",
       "      <th>HEALTH</th>\n",
       "      <th>IRSEX</th>\n",
       "      <th>IRMARIT</th>\n",
       "      <th>EDUCCAT2</th>\n",
       "      <th>NEWRACE2</th>\n",
       "      <th>EMPSTATY</th>\n",
       "      <th>suicide_risk</th>\n",
       "    </tr>\n",
       "  </thead>\n",
       "  <tbody>\n",
       "    <tr>\n",
       "      <th>0</th>\n",
       "      <td>0.6</td>\n",
       "      <td>0.333333</td>\n",
       "      <td>0.333333</td>\n",
       "      <td>0.333333</td>\n",
       "      <td>1.0</td>\n",
       "      <td>1.0</td>\n",
       "      <td>1.0</td>\n",
       "      <td>1.0</td>\n",
       "      <td>0.0</td>\n",
       "      <td>0.0</td>\n",
       "      <td>...</td>\n",
       "      <td>1.0</td>\n",
       "      <td>1.0</td>\n",
       "      <td>0.00</td>\n",
       "      <td>0.00</td>\n",
       "      <td>0.0</td>\n",
       "      <td>0.000000</td>\n",
       "      <td>0.666667</td>\n",
       "      <td>0.000000</td>\n",
       "      <td>0.000000</td>\n",
       "      <td>0</td>\n",
       "    </tr>\n",
       "    <tr>\n",
       "      <th>1</th>\n",
       "      <td>0.4</td>\n",
       "      <td>0.666667</td>\n",
       "      <td>0.666667</td>\n",
       "      <td>1.000000</td>\n",
       "      <td>1.0</td>\n",
       "      <td>1.0</td>\n",
       "      <td>1.0</td>\n",
       "      <td>1.0</td>\n",
       "      <td>0.0</td>\n",
       "      <td>0.0</td>\n",
       "      <td>...</td>\n",
       "      <td>1.0</td>\n",
       "      <td>1.0</td>\n",
       "      <td>0.00</td>\n",
       "      <td>0.25</td>\n",
       "      <td>1.0</td>\n",
       "      <td>0.333333</td>\n",
       "      <td>0.666667</td>\n",
       "      <td>0.166667</td>\n",
       "      <td>0.000000</td>\n",
       "      <td>0</td>\n",
       "    </tr>\n",
       "    <tr>\n",
       "      <th>2</th>\n",
       "      <td>0.2</td>\n",
       "      <td>0.333333</td>\n",
       "      <td>0.333333</td>\n",
       "      <td>0.666667</td>\n",
       "      <td>1.0</td>\n",
       "      <td>1.0</td>\n",
       "      <td>0.0</td>\n",
       "      <td>0.0</td>\n",
       "      <td>0.0</td>\n",
       "      <td>0.0</td>\n",
       "      <td>...</td>\n",
       "      <td>0.0</td>\n",
       "      <td>1.0</td>\n",
       "      <td>0.00</td>\n",
       "      <td>0.75</td>\n",
       "      <td>1.0</td>\n",
       "      <td>0.000000</td>\n",
       "      <td>0.000000</td>\n",
       "      <td>0.166667</td>\n",
       "      <td>0.333333</td>\n",
       "      <td>0</td>\n",
       "    </tr>\n",
       "    <tr>\n",
       "      <th>3</th>\n",
       "      <td>0.6</td>\n",
       "      <td>0.000000</td>\n",
       "      <td>0.000000</td>\n",
       "      <td>0.333333</td>\n",
       "      <td>1.0</td>\n",
       "      <td>0.0</td>\n",
       "      <td>0.0</td>\n",
       "      <td>0.0</td>\n",
       "      <td>0.0</td>\n",
       "      <td>0.0</td>\n",
       "      <td>...</td>\n",
       "      <td>1.0</td>\n",
       "      <td>1.0</td>\n",
       "      <td>0.75</td>\n",
       "      <td>0.75</td>\n",
       "      <td>1.0</td>\n",
       "      <td>0.666667</td>\n",
       "      <td>0.333333</td>\n",
       "      <td>0.166667</td>\n",
       "      <td>0.666667</td>\n",
       "      <td>0</td>\n",
       "    </tr>\n",
       "    <tr>\n",
       "      <th>4</th>\n",
       "      <td>0.4</td>\n",
       "      <td>0.000000</td>\n",
       "      <td>0.000000</td>\n",
       "      <td>0.333333</td>\n",
       "      <td>1.0</td>\n",
       "      <td>1.0</td>\n",
       "      <td>1.0</td>\n",
       "      <td>0.0</td>\n",
       "      <td>0.0</td>\n",
       "      <td>0.0</td>\n",
       "      <td>...</td>\n",
       "      <td>0.0</td>\n",
       "      <td>1.0</td>\n",
       "      <td>0.00</td>\n",
       "      <td>0.00</td>\n",
       "      <td>1.0</td>\n",
       "      <td>0.000000</td>\n",
       "      <td>0.666667</td>\n",
       "      <td>0.166667</td>\n",
       "      <td>0.333333</td>\n",
       "      <td>0</td>\n",
       "    </tr>\n",
       "    <tr>\n",
       "      <th>...</th>\n",
       "      <td>...</td>\n",
       "      <td>...</td>\n",
       "      <td>...</td>\n",
       "      <td>...</td>\n",
       "      <td>...</td>\n",
       "      <td>...</td>\n",
       "      <td>...</td>\n",
       "      <td>...</td>\n",
       "      <td>...</td>\n",
       "      <td>...</td>\n",
       "      <td>...</td>\n",
       "      <td>...</td>\n",
       "      <td>...</td>\n",
       "      <td>...</td>\n",
       "      <td>...</td>\n",
       "      <td>...</td>\n",
       "      <td>...</td>\n",
       "      <td>...</td>\n",
       "      <td>...</td>\n",
       "      <td>...</td>\n",
       "      <td>...</td>\n",
       "    </tr>\n",
       "    <tr>\n",
       "      <th>189290</th>\n",
       "      <td>0.8</td>\n",
       "      <td>0.000000</td>\n",
       "      <td>0.333333</td>\n",
       "      <td>0.666667</td>\n",
       "      <td>1.0</td>\n",
       "      <td>1.0</td>\n",
       "      <td>0.0</td>\n",
       "      <td>0.0</td>\n",
       "      <td>0.0</td>\n",
       "      <td>0.0</td>\n",
       "      <td>...</td>\n",
       "      <td>1.0</td>\n",
       "      <td>1.0</td>\n",
       "      <td>0.00</td>\n",
       "      <td>0.00</td>\n",
       "      <td>1.0</td>\n",
       "      <td>0.000000</td>\n",
       "      <td>0.333333</td>\n",
       "      <td>0.166667</td>\n",
       "      <td>0.000000</td>\n",
       "      <td>0</td>\n",
       "    </tr>\n",
       "    <tr>\n",
       "      <th>189291</th>\n",
       "      <td>0.4</td>\n",
       "      <td>1.000000</td>\n",
       "      <td>0.333333</td>\n",
       "      <td>0.666667</td>\n",
       "      <td>0.0</td>\n",
       "      <td>0.0</td>\n",
       "      <td>0.0</td>\n",
       "      <td>0.0</td>\n",
       "      <td>0.0</td>\n",
       "      <td>0.0</td>\n",
       "      <td>...</td>\n",
       "      <td>0.0</td>\n",
       "      <td>0.0</td>\n",
       "      <td>0.50</td>\n",
       "      <td>0.75</td>\n",
       "      <td>1.0</td>\n",
       "      <td>0.666667</td>\n",
       "      <td>0.333333</td>\n",
       "      <td>0.166667</td>\n",
       "      <td>0.333333</td>\n",
       "      <td>3</td>\n",
       "    </tr>\n",
       "    <tr>\n",
       "      <th>189292</th>\n",
       "      <td>0.8</td>\n",
       "      <td>0.000000</td>\n",
       "      <td>0.000000</td>\n",
       "      <td>0.666667</td>\n",
       "      <td>1.0</td>\n",
       "      <td>1.0</td>\n",
       "      <td>1.0</td>\n",
       "      <td>0.0</td>\n",
       "      <td>1.0</td>\n",
       "      <td>1.0</td>\n",
       "      <td>...</td>\n",
       "      <td>1.0</td>\n",
       "      <td>1.0</td>\n",
       "      <td>0.50</td>\n",
       "      <td>0.25</td>\n",
       "      <td>0.0</td>\n",
       "      <td>0.333333</td>\n",
       "      <td>1.000000</td>\n",
       "      <td>0.166667</td>\n",
       "      <td>0.000000</td>\n",
       "      <td>0</td>\n",
       "    </tr>\n",
       "    <tr>\n",
       "      <th>189293</th>\n",
       "      <td>0.6</td>\n",
       "      <td>0.333333</td>\n",
       "      <td>0.333333</td>\n",
       "      <td>1.000000</td>\n",
       "      <td>0.0</td>\n",
       "      <td>0.0</td>\n",
       "      <td>0.0</td>\n",
       "      <td>0.0</td>\n",
       "      <td>0.0</td>\n",
       "      <td>0.0</td>\n",
       "      <td>...</td>\n",
       "      <td>0.0</td>\n",
       "      <td>0.0</td>\n",
       "      <td>0.00</td>\n",
       "      <td>0.00</td>\n",
       "      <td>1.0</td>\n",
       "      <td>0.000000</td>\n",
       "      <td>0.666667</td>\n",
       "      <td>0.166667</td>\n",
       "      <td>1.000000</td>\n",
       "      <td>0</td>\n",
       "    </tr>\n",
       "    <tr>\n",
       "      <th>189294</th>\n",
       "      <td>0.6</td>\n",
       "      <td>0.000000</td>\n",
       "      <td>0.000000</td>\n",
       "      <td>0.000000</td>\n",
       "      <td>1.0</td>\n",
       "      <td>1.0</td>\n",
       "      <td>1.0</td>\n",
       "      <td>0.0</td>\n",
       "      <td>0.0</td>\n",
       "      <td>0.0</td>\n",
       "      <td>...</td>\n",
       "      <td>1.0</td>\n",
       "      <td>1.0</td>\n",
       "      <td>1.00</td>\n",
       "      <td>0.75</td>\n",
       "      <td>0.0</td>\n",
       "      <td>0.333333</td>\n",
       "      <td>0.000000</td>\n",
       "      <td>0.333333</td>\n",
       "      <td>0.000000</td>\n",
       "      <td>0</td>\n",
       "    </tr>\n",
       "  </tbody>\n",
       "</table>\n",
       "<p>189295 rows × 43 columns</p>\n",
       "</div>"
      ],
      "text/plain": [
       "        RELIG_SERVICES_12month  RELIG_IMPORTANT  RELIG_influ_decision  \\\n",
       "0                          0.6         0.333333              0.333333   \n",
       "1                          0.4         0.666667              0.666667   \n",
       "2                          0.2         0.333333              0.333333   \n",
       "3                          0.6         0.000000              0.000000   \n",
       "4                          0.4         0.000000              0.000000   \n",
       "...                        ...              ...                   ...   \n",
       "189290                     0.8         0.000000              0.333333   \n",
       "189291                     0.4         1.000000              0.333333   \n",
       "189292                     0.8         0.000000              0.000000   \n",
       "189293                     0.6         0.333333              0.333333   \n",
       "189294                     0.6         0.000000              0.000000   \n",
       "\n",
       "        friend_SHARE_REL  Tabacco_Flag  Alcohol_Flag  Marijunana_Flag  \\\n",
       "0               0.333333           1.0           1.0              1.0   \n",
       "1               1.000000           1.0           1.0              1.0   \n",
       "2               0.666667           1.0           1.0              0.0   \n",
       "3               0.333333           1.0           0.0              0.0   \n",
       "4               0.333333           1.0           1.0              1.0   \n",
       "...                  ...           ...           ...              ...   \n",
       "189290          0.666667           1.0           1.0              0.0   \n",
       "189291          0.666667           0.0           0.0              0.0   \n",
       "189292          0.666667           1.0           1.0              1.0   \n",
       "189293          1.000000           0.0           0.0              0.0   \n",
       "189294          0.000000           1.0           1.0              1.0   \n",
       "\n",
       "        Marijuana_Only_Flag  Cocaine_Flag  Crack_Flag  ...  lifetime_mde  \\\n",
       "0                       1.0           0.0         0.0  ...           1.0   \n",
       "1                       1.0           0.0         0.0  ...           1.0   \n",
       "2                       0.0           0.0         0.0  ...           0.0   \n",
       "3                       0.0           0.0         0.0  ...           1.0   \n",
       "4                       0.0           0.0         0.0  ...           0.0   \n",
       "...                     ...           ...         ...  ...           ...   \n",
       "189290                  0.0           0.0         0.0  ...           1.0   \n",
       "189291                  0.0           0.0         0.0  ...           0.0   \n",
       "189292                  0.0           1.0         1.0  ...           1.0   \n",
       "189293                  0.0           0.0         0.0  ...           0.0   \n",
       "189294                  0.0           0.0         0.0  ...           1.0   \n",
       "\n",
       "        pst_yr_mde   age  HEALTH  IRSEX   IRMARIT  EDUCCAT2  NEWRACE2  \\\n",
       "0              1.0  0.00    0.00    0.0  0.000000  0.666667  0.000000   \n",
       "1              1.0  0.00    0.25    1.0  0.333333  0.666667  0.166667   \n",
       "2              1.0  0.00    0.75    1.0  0.000000  0.000000  0.166667   \n",
       "3              1.0  0.75    0.75    1.0  0.666667  0.333333  0.166667   \n",
       "4              1.0  0.00    0.00    1.0  0.000000  0.666667  0.166667   \n",
       "...            ...   ...     ...    ...       ...       ...       ...   \n",
       "189290         1.0  0.00    0.00    1.0  0.000000  0.333333  0.166667   \n",
       "189291         0.0  0.50    0.75    1.0  0.666667  0.333333  0.166667   \n",
       "189292         1.0  0.50    0.25    0.0  0.333333  1.000000  0.166667   \n",
       "189293         0.0  0.00    0.00    1.0  0.000000  0.666667  0.166667   \n",
       "189294         1.0  1.00    0.75    0.0  0.333333  0.000000  0.333333   \n",
       "\n",
       "        EMPSTATY  suicide_risk  \n",
       "0       0.000000             0  \n",
       "1       0.000000             0  \n",
       "2       0.333333             0  \n",
       "3       0.666667             0  \n",
       "4       0.333333             0  \n",
       "...          ...           ...  \n",
       "189290  0.000000             0  \n",
       "189291  0.333333             3  \n",
       "189292  0.000000             0  \n",
       "189293  1.000000             0  \n",
       "189294  0.000000             0  \n",
       "\n",
       "[189295 rows x 43 columns]"
      ]
     },
     "execution_count": 18,
     "metadata": {},
     "output_type": "execute_result"
    }
   ],
   "source": [
    "df"
   ]
  },
  {
   "cell_type": "markdown",
   "id": "f202f775",
   "metadata": {},
   "source": [
    "percentage in each category:"
   ]
  },
  {
   "cell_type": "code",
   "execution_count": 19,
   "id": "20bca664",
   "metadata": {},
   "outputs": [
    {
     "data": {
      "text/plain": [
       "0    0.981220\n",
       "3    0.010016\n",
       "6    0.006757\n",
       "4    0.001976\n",
       "2    0.000032\n",
       "Name: suicide_risk, dtype: float64"
      ]
     },
     "execution_count": 19,
     "metadata": {},
     "output_type": "execute_result"
    }
   ],
   "source": [
    "df['suicide_risk'].value_counts()/df.shape[0]"
   ]
  },
  {
   "cell_type": "code",
   "execution_count": 20,
   "id": "a8893191",
   "metadata": {},
   "outputs": [],
   "source": [
    "x_data = df.drop(['suicide_risk'],axis=1)\n",
    "y_data = df['suicide_risk']\n",
    "X_train, X_test, y_train, y_test = train_test_split(x_data, y_data,test_size=0.2, random_state = 1)"
   ]
  },
  {
   "cell_type": "markdown",
   "id": "064bc304",
   "metadata": {},
   "source": [
    "### Approach 1: K-Nearest Neighbors\n",
    "K-Nearest Neighbors classifies based on proximity to k datapoints.\n",
    "\n",
    "Note: There is a class imbalance. Since most people fall under the first risk category, K-NN is biased toward predicting that class. While it is good to have high accuracy, in the context of suicide risk, predicting 0 risk is not as important as predicting a risk of 2 or higher. \n",
    "\n",
    "Some disadvantages of K-NN observed here: doesn’t learn which features useful, computationally expensive, more noisy features → distance less meaningful"
   ]
  },
  {
   "cell_type": "markdown",
   "id": "59101a0a",
   "metadata": {},
   "source": [
    "k = 5"
   ]
  },
  {
   "cell_type": "code",
   "execution_count": 21,
   "id": "ed4bcef8",
   "metadata": {},
   "outputs": [],
   "source": [
    "knn_clf=KNeighborsClassifier()\n",
    "knn_clf.fit(X_train,y_train)\n",
    "ypred=knn_clf.predict(X_test) #These are the predicted output values"
   ]
  },
  {
   "cell_type": "code",
   "execution_count": 22,
   "id": "f412df82",
   "metadata": {},
   "outputs": [
    {
     "name": "stdout",
     "output_type": "stream",
     "text": [
      "Confusion Matrix:\n",
      "[[37157     0    33     0     7]\n",
      " [    2     0     0     0     0]\n",
      " [  340     0     9     0     4]\n",
      " [   64     0     4     0     0]\n",
      " [  224     0    10     0     5]]\n",
      "Classification Report:\n",
      "              precision    recall  f1-score   support\n",
      "\n",
      "           0       0.98      1.00      0.99     37197\n",
      "           2       0.00      0.00      0.00         2\n",
      "           3       0.16      0.03      0.04       353\n",
      "           4       0.00      0.00      0.00        68\n",
      "           6       0.31      0.02      0.04       239\n",
      "\n",
      "    accuracy                           0.98     37859\n",
      "   macro avg       0.29      0.21      0.21     37859\n",
      "weighted avg       0.97      0.98      0.97     37859\n",
      "\n",
      "Accuracy: 0.98182730658496\n"
     ]
    },
    {
     "name": "stderr",
     "output_type": "stream",
     "text": [
      "/Users/courtneycheung/opt/anaconda3/lib/python3.9/site-packages/sklearn/metrics/_classification.py:1248: UndefinedMetricWarning: Precision and F-score are ill-defined and being set to 0.0 in labels with no predicted samples. Use `zero_division` parameter to control this behavior.\n",
      "  _warn_prf(average, modifier, msg_start, len(result))\n",
      "/Users/courtneycheung/opt/anaconda3/lib/python3.9/site-packages/sklearn/metrics/_classification.py:1248: UndefinedMetricWarning: Precision and F-score are ill-defined and being set to 0.0 in labels with no predicted samples. Use `zero_division` parameter to control this behavior.\n",
      "  _warn_prf(average, modifier, msg_start, len(result))\n",
      "/Users/courtneycheung/opt/anaconda3/lib/python3.9/site-packages/sklearn/metrics/_classification.py:1248: UndefinedMetricWarning: Precision and F-score are ill-defined and being set to 0.0 in labels with no predicted samples. Use `zero_division` parameter to control this behavior.\n",
      "  _warn_prf(average, modifier, msg_start, len(result))\n"
     ]
    }
   ],
   "source": [
    "from sklearn.metrics import classification_report, confusion_matrix, accuracy_score\n",
    "result = confusion_matrix(y_test, ypred)\n",
    "print('Confusion Matrix:')\n",
    "print(result)\n",
    "result1 = classification_report(y_test, ypred)\n",
    "print('Classification Report:',)\n",
    "print (result1)\n",
    "result2 = accuracy_score(y_test,ypred)\n",
    "print('Accuracy:',result2)"
   ]
  },
  {
   "cell_type": "markdown",
   "id": "f720cf2e",
   "metadata": {},
   "source": [
    "### Approach 2: Naive Bayes\n",
    "Naive Bayes assumes independence among features."
   ]
  },
  {
   "cell_type": "code",
   "execution_count": 23,
   "id": "a4aa3c8c",
   "metadata": {},
   "outputs": [],
   "source": [
    "from sklearn.naive_bayes import MultinomialNB\n",
    "clf = MultinomialNB()\n",
    "clf.fit(X_train,y_train)\n",
    "ypred=clf.predict(X_test)"
   ]
  },
  {
   "cell_type": "code",
   "execution_count": 24,
   "id": "b6b87601",
   "metadata": {},
   "outputs": [
    {
     "name": "stdout",
     "output_type": "stream",
     "text": [
      "Confusion Matrix:\n",
      "[[36163    14   907     0   113]\n",
      " [    1     0     1     0     0]\n",
      " [  169     0   170     0    14]\n",
      " [   42     0    22     0     4]\n",
      " [  127     0    87     0    25]]\n",
      "Classification Report:\n",
      "              precision    recall  f1-score   support\n",
      "\n",
      "           0       0.99      0.97      0.98     37197\n",
      "           2       0.00      0.00      0.00         2\n",
      "           3       0.14      0.48      0.22       353\n",
      "           4       0.00      0.00      0.00        68\n",
      "           6       0.16      0.10      0.13       239\n",
      "\n",
      "    accuracy                           0.96     37859\n",
      "   macro avg       0.26      0.31      0.27     37859\n",
      "weighted avg       0.98      0.96      0.97     37859\n",
      "\n",
      "Accuracy: 0.9603528883488734\n"
     ]
    },
    {
     "name": "stderr",
     "output_type": "stream",
     "text": [
      "/Users/courtneycheung/opt/anaconda3/lib/python3.9/site-packages/sklearn/metrics/_classification.py:1248: UndefinedMetricWarning: Precision and F-score are ill-defined and being set to 0.0 in labels with no predicted samples. Use `zero_division` parameter to control this behavior.\n",
      "  _warn_prf(average, modifier, msg_start, len(result))\n",
      "/Users/courtneycheung/opt/anaconda3/lib/python3.9/site-packages/sklearn/metrics/_classification.py:1248: UndefinedMetricWarning: Precision and F-score are ill-defined and being set to 0.0 in labels with no predicted samples. Use `zero_division` parameter to control this behavior.\n",
      "  _warn_prf(average, modifier, msg_start, len(result))\n",
      "/Users/courtneycheung/opt/anaconda3/lib/python3.9/site-packages/sklearn/metrics/_classification.py:1248: UndefinedMetricWarning: Precision and F-score are ill-defined and being set to 0.0 in labels with no predicted samples. Use `zero_division` parameter to control this behavior.\n",
      "  _warn_prf(average, modifier, msg_start, len(result))\n"
     ]
    }
   ],
   "source": [
    "result = confusion_matrix(y_test, ypred)\n",
    "print('Confusion Matrix:')\n",
    "print(result)\n",
    "result1 = classification_report(y_test, ypred)\n",
    "print('Classification Report:',)\n",
    "print (result1)\n",
    "result2 = accuracy_score(y_test,ypred)\n",
    "print('Accuracy:',result2)"
   ]
  },
  {
   "cell_type": "markdown",
   "id": "5da290a8",
   "metadata": {},
   "source": [
    "### Approach 3: Ridge Regression Classifier\n",
    "Regularization: penalization risk for complexity (goal: low MSE, small complexity)"
   ]
  },
  {
   "cell_type": "code",
   "execution_count": 25,
   "id": "2c7b76f3",
   "metadata": {},
   "outputs": [],
   "source": [
    "from sklearn.linear_model import RidgeClassifier\n",
    "clf = RidgeClassifier().fit(X_train,y_train)\n",
    "ypred=clf.predict(X_test)"
   ]
  },
  {
   "cell_type": "markdown",
   "id": "7d786f4d",
   "metadata": {},
   "source": [
    "alpha = 1"
   ]
  },
  {
   "cell_type": "code",
   "execution_count": 26,
   "id": "0eb5b6c9",
   "metadata": {},
   "outputs": [
    {
     "name": "stdout",
     "output_type": "stream",
     "text": [
      "Confusion Matrix:\n",
      "[[37197     0     0     0     0]\n",
      " [    2     0     0     0     0]\n",
      " [  353     0     0     0     0]\n",
      " [   68     0     0     0     0]\n",
      " [  239     0     0     0     0]]\n",
      "Classification Report:\n",
      "              precision    recall  f1-score   support\n",
      "\n",
      "           0       0.98      1.00      0.99     37197\n",
      "           2       0.00      0.00      0.00         2\n",
      "           3       0.00      0.00      0.00       353\n",
      "           4       0.00      0.00      0.00        68\n",
      "           6       0.00      0.00      0.00       239\n",
      "\n",
      "    accuracy                           0.98     37859\n",
      "   macro avg       0.20      0.20      0.20     37859\n",
      "weighted avg       0.97      0.98      0.97     37859\n",
      "\n",
      "Accuracy: 0.9825140653477377\n"
     ]
    },
    {
     "name": "stderr",
     "output_type": "stream",
     "text": [
      "/Users/courtneycheung/opt/anaconda3/lib/python3.9/site-packages/sklearn/metrics/_classification.py:1248: UndefinedMetricWarning: Precision and F-score are ill-defined and being set to 0.0 in labels with no predicted samples. Use `zero_division` parameter to control this behavior.\n",
      "  _warn_prf(average, modifier, msg_start, len(result))\n",
      "/Users/courtneycheung/opt/anaconda3/lib/python3.9/site-packages/sklearn/metrics/_classification.py:1248: UndefinedMetricWarning: Precision and F-score are ill-defined and being set to 0.0 in labels with no predicted samples. Use `zero_division` parameter to control this behavior.\n",
      "  _warn_prf(average, modifier, msg_start, len(result))\n",
      "/Users/courtneycheung/opt/anaconda3/lib/python3.9/site-packages/sklearn/metrics/_classification.py:1248: UndefinedMetricWarning: Precision and F-score are ill-defined and being set to 0.0 in labels with no predicted samples. Use `zero_division` parameter to control this behavior.\n",
      "  _warn_prf(average, modifier, msg_start, len(result))\n"
     ]
    }
   ],
   "source": [
    "result = confusion_matrix(y_test, ypred)\n",
    "print('Confusion Matrix:')\n",
    "print(result)\n",
    "result1 = classification_report(y_test, ypred)\n",
    "print('Classification Report:',)\n",
    "print (result1)\n",
    "result2 = accuracy_score(y_test,ypred)\n",
    "print('Accuracy:',result2)"
   ]
  },
  {
   "cell_type": "markdown",
   "id": "aabcd9b8",
   "metadata": {},
   "source": [
    "### Approach 4: Random Forest"
   ]
  },
  {
   "cell_type": "code",
   "execution_count": 27,
   "id": "1e9ae034",
   "metadata": {},
   "outputs": [],
   "source": [
    "from sklearn.ensemble import RandomForestClassifier\n",
    "clf = RandomForestClassifier(max_depth=2, random_state=0)\n",
    "clf.fit(X_train,y_train)\n",
    "ypred = clf.predict(X_test)"
   ]
  },
  {
   "cell_type": "markdown",
   "id": "7e395111",
   "metadata": {},
   "source": [
    "max depth = 2"
   ]
  },
  {
   "cell_type": "code",
   "execution_count": 28,
   "id": "1e696f4d",
   "metadata": {},
   "outputs": [
    {
     "name": "stdout",
     "output_type": "stream",
     "text": [
      "Confusion Matrix:\n",
      "[[37197     0     0     0     0]\n",
      " [    2     0     0     0     0]\n",
      " [  353     0     0     0     0]\n",
      " [   68     0     0     0     0]\n",
      " [  239     0     0     0     0]]\n",
      "Classification Report:\n",
      "              precision    recall  f1-score   support\n",
      "\n",
      "           0       0.98      1.00      0.99     37197\n",
      "           2       0.00      0.00      0.00         2\n",
      "           3       0.00      0.00      0.00       353\n",
      "           4       0.00      0.00      0.00        68\n",
      "           6       0.00      0.00      0.00       239\n",
      "\n",
      "    accuracy                           0.98     37859\n",
      "   macro avg       0.20      0.20      0.20     37859\n",
      "weighted avg       0.97      0.98      0.97     37859\n",
      "\n",
      "Accuracy: 0.9825140653477377\n"
     ]
    },
    {
     "name": "stderr",
     "output_type": "stream",
     "text": [
      "/Users/courtneycheung/opt/anaconda3/lib/python3.9/site-packages/sklearn/metrics/_classification.py:1248: UndefinedMetricWarning: Precision and F-score are ill-defined and being set to 0.0 in labels with no predicted samples. Use `zero_division` parameter to control this behavior.\n",
      "  _warn_prf(average, modifier, msg_start, len(result))\n",
      "/Users/courtneycheung/opt/anaconda3/lib/python3.9/site-packages/sklearn/metrics/_classification.py:1248: UndefinedMetricWarning: Precision and F-score are ill-defined and being set to 0.0 in labels with no predicted samples. Use `zero_division` parameter to control this behavior.\n",
      "  _warn_prf(average, modifier, msg_start, len(result))\n",
      "/Users/courtneycheung/opt/anaconda3/lib/python3.9/site-packages/sklearn/metrics/_classification.py:1248: UndefinedMetricWarning: Precision and F-score are ill-defined and being set to 0.0 in labels with no predicted samples. Use `zero_division` parameter to control this behavior.\n",
      "  _warn_prf(average, modifier, msg_start, len(result))\n"
     ]
    }
   ],
   "source": [
    "result = confusion_matrix(y_test, ypred)\n",
    "print('Confusion Matrix:')\n",
    "print(result)\n",
    "result1 = classification_report(y_test, ypred)\n",
    "print('Classification Report:',)\n",
    "print (result1)\n",
    "result2 = accuracy_score(y_test,ypred)\n",
    "print('Accuracy:',result2)"
   ]
  },
  {
   "cell_type": "code",
   "execution_count": null,
   "id": "cc1769bc",
   "metadata": {},
   "outputs": [],
   "source": []
  }
 ],
 "metadata": {
  "kernelspec": {
   "display_name": "Python 3 (ipykernel)",
   "language": "python",
   "name": "python3"
  },
  "language_info": {
   "codemirror_mode": {
    "name": "ipython",
    "version": 3
   },
   "file_extension": ".py",
   "mimetype": "text/x-python",
   "name": "python",
   "nbconvert_exporter": "python",
   "pygments_lexer": "ipython3",
   "version": "3.8.13"
  }
 },
 "nbformat": 4,
 "nbformat_minor": 5
}
