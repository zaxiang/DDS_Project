{
 "cells": [
  {
   "cell_type": "code",
   "execution_count": 1,
   "id": "01c455f3",
   "metadata": {},
   "outputs": [],
   "source": [
    "from sklearn import preprocessing\n",
    "from sklearn.model_selection import train_test_split\n",
    "from sklearn.neighbors import KNeighborsClassifier\n",
    "import matplotlib.pyplot as plt\n",
    "import pandas as pd\n",
    "import seaborn as sns\n",
    "import numpy as np\n",
    "from sklearn.metrics import classification_report, confusion_matrix, accuracy_score\n",
    "from sklearn.metrics import mean_squared_error\n",
    "from sklearn import linear_model"
   ]
  },
  {
   "cell_type": "markdown",
   "id": "6d597fb3",
   "metadata": {},
   "source": [
    "# Prediction Models (Numerical) and Important Features"
   ]
  },
  {
   "cell_type": "code",
   "execution_count": 2,
   "id": "4ecedae9",
   "metadata": {},
   "outputs": [
    {
     "data": {
      "text/html": [
       "<div>\n",
       "<style scoped>\n",
       "    .dataframe tbody tr th:only-of-type {\n",
       "        vertical-align: middle;\n",
       "    }\n",
       "\n",
       "    .dataframe tbody tr th {\n",
       "        vertical-align: top;\n",
       "    }\n",
       "\n",
       "    .dataframe thead th {\n",
       "        text-align: right;\n",
       "    }\n",
       "</style>\n",
       "<table border=\"1\" class=\"dataframe\">\n",
       "  <thead>\n",
       "    <tr style=\"text-align: right;\">\n",
       "      <th></th>\n",
       "      <th>RELIG_SERVICES_12month</th>\n",
       "      <th>RELIG_IMPORTANT</th>\n",
       "      <th>RELIG_influ_decision</th>\n",
       "      <th>friend_SHARE_REL</th>\n",
       "      <th>Tabacco_Flag</th>\n",
       "      <th>Alcohol_Flag</th>\n",
       "      <th>Marijunana_Flag</th>\n",
       "      <th>Marijuana_Only_Flag</th>\n",
       "      <th>Cocaine_Flag</th>\n",
       "      <th>Crack_Flag</th>\n",
       "      <th>...</th>\n",
       "      <th>lifetime_mde</th>\n",
       "      <th>pst_yr_mde</th>\n",
       "      <th>age</th>\n",
       "      <th>HEALTH</th>\n",
       "      <th>IRSEX</th>\n",
       "      <th>IRMARIT</th>\n",
       "      <th>EDUCCAT2</th>\n",
       "      <th>NEWRACE2</th>\n",
       "      <th>EMPSTATY</th>\n",
       "      <th>suicide_risk</th>\n",
       "    </tr>\n",
       "  </thead>\n",
       "  <tbody>\n",
       "    <tr>\n",
       "      <th>0</th>\n",
       "      <td>0.6</td>\n",
       "      <td>0.333333</td>\n",
       "      <td>0.333333</td>\n",
       "      <td>0.333333</td>\n",
       "      <td>1.0</td>\n",
       "      <td>1.0</td>\n",
       "      <td>1.0</td>\n",
       "      <td>1.0</td>\n",
       "      <td>0.0</td>\n",
       "      <td>0.0</td>\n",
       "      <td>...</td>\n",
       "      <td>1.0</td>\n",
       "      <td>1.0</td>\n",
       "      <td>0.00</td>\n",
       "      <td>0.00</td>\n",
       "      <td>0.0</td>\n",
       "      <td>0.000000</td>\n",
       "      <td>0.666667</td>\n",
       "      <td>0.000000</td>\n",
       "      <td>0.000000</td>\n",
       "      <td>0.0</td>\n",
       "    </tr>\n",
       "    <tr>\n",
       "      <th>1</th>\n",
       "      <td>0.4</td>\n",
       "      <td>0.666667</td>\n",
       "      <td>0.666667</td>\n",
       "      <td>1.000000</td>\n",
       "      <td>1.0</td>\n",
       "      <td>1.0</td>\n",
       "      <td>1.0</td>\n",
       "      <td>1.0</td>\n",
       "      <td>0.0</td>\n",
       "      <td>0.0</td>\n",
       "      <td>...</td>\n",
       "      <td>1.0</td>\n",
       "      <td>1.0</td>\n",
       "      <td>0.00</td>\n",
       "      <td>0.25</td>\n",
       "      <td>1.0</td>\n",
       "      <td>0.333333</td>\n",
       "      <td>0.666667</td>\n",
       "      <td>0.166667</td>\n",
       "      <td>0.000000</td>\n",
       "      <td>0.0</td>\n",
       "    </tr>\n",
       "    <tr>\n",
       "      <th>2</th>\n",
       "      <td>0.2</td>\n",
       "      <td>0.333333</td>\n",
       "      <td>0.333333</td>\n",
       "      <td>0.666667</td>\n",
       "      <td>1.0</td>\n",
       "      <td>1.0</td>\n",
       "      <td>0.0</td>\n",
       "      <td>0.0</td>\n",
       "      <td>0.0</td>\n",
       "      <td>0.0</td>\n",
       "      <td>...</td>\n",
       "      <td>0.0</td>\n",
       "      <td>1.0</td>\n",
       "      <td>0.00</td>\n",
       "      <td>0.75</td>\n",
       "      <td>1.0</td>\n",
       "      <td>0.000000</td>\n",
       "      <td>0.000000</td>\n",
       "      <td>0.166667</td>\n",
       "      <td>0.333333</td>\n",
       "      <td>0.0</td>\n",
       "    </tr>\n",
       "    <tr>\n",
       "      <th>3</th>\n",
       "      <td>0.6</td>\n",
       "      <td>0.000000</td>\n",
       "      <td>0.000000</td>\n",
       "      <td>0.333333</td>\n",
       "      <td>1.0</td>\n",
       "      <td>0.0</td>\n",
       "      <td>0.0</td>\n",
       "      <td>0.0</td>\n",
       "      <td>0.0</td>\n",
       "      <td>0.0</td>\n",
       "      <td>...</td>\n",
       "      <td>1.0</td>\n",
       "      <td>1.0</td>\n",
       "      <td>0.75</td>\n",
       "      <td>0.75</td>\n",
       "      <td>1.0</td>\n",
       "      <td>0.666667</td>\n",
       "      <td>0.333333</td>\n",
       "      <td>0.166667</td>\n",
       "      <td>0.666667</td>\n",
       "      <td>0.0</td>\n",
       "    </tr>\n",
       "    <tr>\n",
       "      <th>4</th>\n",
       "      <td>0.4</td>\n",
       "      <td>0.000000</td>\n",
       "      <td>0.000000</td>\n",
       "      <td>0.333333</td>\n",
       "      <td>1.0</td>\n",
       "      <td>1.0</td>\n",
       "      <td>1.0</td>\n",
       "      <td>0.0</td>\n",
       "      <td>0.0</td>\n",
       "      <td>0.0</td>\n",
       "      <td>...</td>\n",
       "      <td>0.0</td>\n",
       "      <td>1.0</td>\n",
       "      <td>0.00</td>\n",
       "      <td>0.00</td>\n",
       "      <td>1.0</td>\n",
       "      <td>0.000000</td>\n",
       "      <td>0.666667</td>\n",
       "      <td>0.166667</td>\n",
       "      <td>0.333333</td>\n",
       "      <td>0.0</td>\n",
       "    </tr>\n",
       "    <tr>\n",
       "      <th>...</th>\n",
       "      <td>...</td>\n",
       "      <td>...</td>\n",
       "      <td>...</td>\n",
       "      <td>...</td>\n",
       "      <td>...</td>\n",
       "      <td>...</td>\n",
       "      <td>...</td>\n",
       "      <td>...</td>\n",
       "      <td>...</td>\n",
       "      <td>...</td>\n",
       "      <td>...</td>\n",
       "      <td>...</td>\n",
       "      <td>...</td>\n",
       "      <td>...</td>\n",
       "      <td>...</td>\n",
       "      <td>...</td>\n",
       "      <td>...</td>\n",
       "      <td>...</td>\n",
       "      <td>...</td>\n",
       "      <td>...</td>\n",
       "      <td>...</td>\n",
       "    </tr>\n",
       "    <tr>\n",
       "      <th>189290</th>\n",
       "      <td>0.8</td>\n",
       "      <td>0.000000</td>\n",
       "      <td>0.333333</td>\n",
       "      <td>0.666667</td>\n",
       "      <td>1.0</td>\n",
       "      <td>1.0</td>\n",
       "      <td>0.0</td>\n",
       "      <td>0.0</td>\n",
       "      <td>0.0</td>\n",
       "      <td>0.0</td>\n",
       "      <td>...</td>\n",
       "      <td>1.0</td>\n",
       "      <td>1.0</td>\n",
       "      <td>0.00</td>\n",
       "      <td>0.00</td>\n",
       "      <td>1.0</td>\n",
       "      <td>0.000000</td>\n",
       "      <td>0.333333</td>\n",
       "      <td>0.166667</td>\n",
       "      <td>0.000000</td>\n",
       "      <td>0.0</td>\n",
       "    </tr>\n",
       "    <tr>\n",
       "      <th>189291</th>\n",
       "      <td>0.4</td>\n",
       "      <td>1.000000</td>\n",
       "      <td>0.333333</td>\n",
       "      <td>0.666667</td>\n",
       "      <td>0.0</td>\n",
       "      <td>0.0</td>\n",
       "      <td>0.0</td>\n",
       "      <td>0.0</td>\n",
       "      <td>0.0</td>\n",
       "      <td>0.0</td>\n",
       "      <td>...</td>\n",
       "      <td>0.0</td>\n",
       "      <td>0.0</td>\n",
       "      <td>0.50</td>\n",
       "      <td>0.75</td>\n",
       "      <td>1.0</td>\n",
       "      <td>0.666667</td>\n",
       "      <td>0.333333</td>\n",
       "      <td>0.166667</td>\n",
       "      <td>0.333333</td>\n",
       "      <td>3.0</td>\n",
       "    </tr>\n",
       "    <tr>\n",
       "      <th>189292</th>\n",
       "      <td>0.8</td>\n",
       "      <td>0.000000</td>\n",
       "      <td>0.000000</td>\n",
       "      <td>0.666667</td>\n",
       "      <td>1.0</td>\n",
       "      <td>1.0</td>\n",
       "      <td>1.0</td>\n",
       "      <td>0.0</td>\n",
       "      <td>1.0</td>\n",
       "      <td>1.0</td>\n",
       "      <td>...</td>\n",
       "      <td>1.0</td>\n",
       "      <td>1.0</td>\n",
       "      <td>0.50</td>\n",
       "      <td>0.25</td>\n",
       "      <td>0.0</td>\n",
       "      <td>0.333333</td>\n",
       "      <td>1.000000</td>\n",
       "      <td>0.166667</td>\n",
       "      <td>0.000000</td>\n",
       "      <td>0.0</td>\n",
       "    </tr>\n",
       "    <tr>\n",
       "      <th>189293</th>\n",
       "      <td>0.6</td>\n",
       "      <td>0.333333</td>\n",
       "      <td>0.333333</td>\n",
       "      <td>1.000000</td>\n",
       "      <td>0.0</td>\n",
       "      <td>0.0</td>\n",
       "      <td>0.0</td>\n",
       "      <td>0.0</td>\n",
       "      <td>0.0</td>\n",
       "      <td>0.0</td>\n",
       "      <td>...</td>\n",
       "      <td>0.0</td>\n",
       "      <td>0.0</td>\n",
       "      <td>0.00</td>\n",
       "      <td>0.00</td>\n",
       "      <td>1.0</td>\n",
       "      <td>0.000000</td>\n",
       "      <td>0.666667</td>\n",
       "      <td>0.166667</td>\n",
       "      <td>1.000000</td>\n",
       "      <td>0.0</td>\n",
       "    </tr>\n",
       "    <tr>\n",
       "      <th>189294</th>\n",
       "      <td>0.6</td>\n",
       "      <td>0.000000</td>\n",
       "      <td>0.000000</td>\n",
       "      <td>0.000000</td>\n",
       "      <td>1.0</td>\n",
       "      <td>1.0</td>\n",
       "      <td>1.0</td>\n",
       "      <td>0.0</td>\n",
       "      <td>0.0</td>\n",
       "      <td>0.0</td>\n",
       "      <td>...</td>\n",
       "      <td>1.0</td>\n",
       "      <td>1.0</td>\n",
       "      <td>1.00</td>\n",
       "      <td>0.75</td>\n",
       "      <td>0.0</td>\n",
       "      <td>0.333333</td>\n",
       "      <td>0.000000</td>\n",
       "      <td>0.333333</td>\n",
       "      <td>0.000000</td>\n",
       "      <td>0.0</td>\n",
       "    </tr>\n",
       "  </tbody>\n",
       "</table>\n",
       "<p>189295 rows × 43 columns</p>\n",
       "</div>"
      ],
      "text/plain": [
       "        RELIG_SERVICES_12month  RELIG_IMPORTANT  RELIG_influ_decision  \\\n",
       "0                          0.6         0.333333              0.333333   \n",
       "1                          0.4         0.666667              0.666667   \n",
       "2                          0.2         0.333333              0.333333   \n",
       "3                          0.6         0.000000              0.000000   \n",
       "4                          0.4         0.000000              0.000000   \n",
       "...                        ...              ...                   ...   \n",
       "189290                     0.8         0.000000              0.333333   \n",
       "189291                     0.4         1.000000              0.333333   \n",
       "189292                     0.8         0.000000              0.000000   \n",
       "189293                     0.6         0.333333              0.333333   \n",
       "189294                     0.6         0.000000              0.000000   \n",
       "\n",
       "        friend_SHARE_REL  Tabacco_Flag  Alcohol_Flag  Marijunana_Flag  \\\n",
       "0               0.333333           1.0           1.0              1.0   \n",
       "1               1.000000           1.0           1.0              1.0   \n",
       "2               0.666667           1.0           1.0              0.0   \n",
       "3               0.333333           1.0           0.0              0.0   \n",
       "4               0.333333           1.0           1.0              1.0   \n",
       "...                  ...           ...           ...              ...   \n",
       "189290          0.666667           1.0           1.0              0.0   \n",
       "189291          0.666667           0.0           0.0              0.0   \n",
       "189292          0.666667           1.0           1.0              1.0   \n",
       "189293          1.000000           0.0           0.0              0.0   \n",
       "189294          0.000000           1.0           1.0              1.0   \n",
       "\n",
       "        Marijuana_Only_Flag  Cocaine_Flag  Crack_Flag  ...  lifetime_mde  \\\n",
       "0                       1.0           0.0         0.0  ...           1.0   \n",
       "1                       1.0           0.0         0.0  ...           1.0   \n",
       "2                       0.0           0.0         0.0  ...           0.0   \n",
       "3                       0.0           0.0         0.0  ...           1.0   \n",
       "4                       0.0           0.0         0.0  ...           0.0   \n",
       "...                     ...           ...         ...  ...           ...   \n",
       "189290                  0.0           0.0         0.0  ...           1.0   \n",
       "189291                  0.0           0.0         0.0  ...           0.0   \n",
       "189292                  0.0           1.0         1.0  ...           1.0   \n",
       "189293                  0.0           0.0         0.0  ...           0.0   \n",
       "189294                  0.0           0.0         0.0  ...           1.0   \n",
       "\n",
       "        pst_yr_mde   age  HEALTH  IRSEX   IRMARIT  EDUCCAT2  NEWRACE2  \\\n",
       "0              1.0  0.00    0.00    0.0  0.000000  0.666667  0.000000   \n",
       "1              1.0  0.00    0.25    1.0  0.333333  0.666667  0.166667   \n",
       "2              1.0  0.00    0.75    1.0  0.000000  0.000000  0.166667   \n",
       "3              1.0  0.75    0.75    1.0  0.666667  0.333333  0.166667   \n",
       "4              1.0  0.00    0.00    1.0  0.000000  0.666667  0.166667   \n",
       "...            ...   ...     ...    ...       ...       ...       ...   \n",
       "189290         1.0  0.00    0.00    1.0  0.000000  0.333333  0.166667   \n",
       "189291         0.0  0.50    0.75    1.0  0.666667  0.333333  0.166667   \n",
       "189292         1.0  0.50    0.25    0.0  0.333333  1.000000  0.166667   \n",
       "189293         0.0  0.00    0.00    1.0  0.000000  0.666667  0.166667   \n",
       "189294         1.0  1.00    0.75    0.0  0.333333  0.000000  0.333333   \n",
       "\n",
       "        EMPSTATY  suicide_risk  \n",
       "0       0.000000           0.0  \n",
       "1       0.000000           0.0  \n",
       "2       0.333333           0.0  \n",
       "3       0.666667           0.0  \n",
       "4       0.333333           0.0  \n",
       "...          ...           ...  \n",
       "189290  0.000000           0.0  \n",
       "189291  0.333333           3.0  \n",
       "189292  0.000000           0.0  \n",
       "189293  1.000000           0.0  \n",
       "189294  0.000000           0.0  \n",
       "\n",
       "[189295 rows x 43 columns]"
      ]
     },
     "execution_count": 2,
     "metadata": {},
     "output_type": "execute_result"
    }
   ],
   "source": [
    "df = pd.read_csv('data/new_health.csv')\n",
    "df = df.drop(columns=['Unnamed: 0'], axis = 1)\n",
    "df['suicide_risk'] = (df['suicide_risk']*6).round()\n",
    "df"
   ]
  },
  {
   "cell_type": "code",
   "execution_count": 3,
   "id": "5c89f75e",
   "metadata": {},
   "outputs": [
    {
     "data": {
      "text/plain": [
       "Index(['RELIG_SERVICES_12month', 'RELIG_IMPORTANT', 'RELIG_influ_decision',\n",
       "       'friend_SHARE_REL', 'Tabacco_Flag', 'Alcohol_Flag', 'Marijunana_Flag',\n",
       "       'Marijuana_Only_Flag', 'Cocaine_Flag', 'Crack_Flag', 'Herion_Flag',\n",
       "       'Hallcinogens_Flag', 'Inhalants_Flag', 'Painkiller_Flag',\n",
       "       'Tranquilizer_Flag', 'Stimulant Flag', 'Meth_Flag', 'Sedatives Flag',\n",
       "       'Any_Drug_Flag', 'Drug_Not_Marijunana', 'Ever_Steal_50',\n",
       "       'Sell_Illegal_Drugs', 'Ever_Booked_Arrested', 'Drug_or_Alc_Past_year',\n",
       "       'inpatient', 'outpatient', 'needed_not_rcvd', 'rcvd_any_tmt',\n",
       "       'psych_distress_month', 'psych_distress_yr', 'whodas_score',\n",
       "       'predicted_ment_ill', 'svrl_days_depressed', 'lifetime_mde',\n",
       "       'pst_yr_mde', 'age', 'HEALTH', 'IRSEX', 'IRMARIT', 'EDUCCAT2',\n",
       "       'NEWRACE2', 'EMPSTATY', 'suicide_risk'],\n",
       "      dtype='object')"
      ]
     },
     "execution_count": 3,
     "metadata": {},
     "output_type": "execute_result"
    }
   ],
   "source": [
    "df.columns"
   ]
  },
  {
   "cell_type": "code",
   "execution_count": 4,
   "id": "4d013eff",
   "metadata": {},
   "outputs": [
    {
     "data": {
      "text/plain": [
       "0.0    178945\n",
       "1.0      6795\n",
       "3.0      1896\n",
       "6.0      1279\n",
       "4.0       374\n",
       "2.0         6\n",
       "Name: suicide_risk, dtype: int64"
      ]
     },
     "execution_count": 4,
     "metadata": {},
     "output_type": "execute_result"
    }
   ],
   "source": [
    "df['suicide_risk'].value_counts()"
   ]
  },
  {
   "cell_type": "code",
   "execution_count": 5,
   "id": "fb8b5c2a",
   "metadata": {},
   "outputs": [],
   "source": [
    "x_data = df.drop(['suicide_risk'],axis=1)\n",
    "y_data = df['suicide_risk']\n",
    "X_train, X_test, y_train, y_test = train_test_split(x_data, y_data,test_size=0.2, random_state = 1)"
   ]
  },
  {
   "cell_type": "code",
   "execution_count": 6,
   "id": "f572eac5",
   "metadata": {},
   "outputs": [
    {
     "data": {
      "text/plain": [
       "1.0     143151\n",
       "2.0       5392\n",
       "8.0       1543\n",
       "64.0      1040\n",
       "16.0       306\n",
       "4.0          4\n",
       "Name: suicide_risk, dtype: int64"
      ]
     },
     "execution_count": 6,
     "metadata": {},
     "output_type": "execute_result"
    }
   ],
   "source": [
    "weights_train = 2**y_train\n",
    "weights_train.value_counts()"
   ]
  },
  {
   "cell_type": "code",
   "execution_count": 7,
   "id": "d42b6627",
   "metadata": {},
   "outputs": [
    {
     "data": {
      "text/plain": [
       "1.0     35794\n",
       "2.0      1403\n",
       "8.0       353\n",
       "64.0      239\n",
       "16.0       68\n",
       "4.0         2\n",
       "Name: suicide_risk, dtype: int64"
      ]
     },
     "execution_count": 7,
     "metadata": {},
     "output_type": "execute_result"
    }
   ],
   "source": [
    "weights_test = 2**y_test\n",
    "weights_test.value_counts()"
   ]
  },
  {
   "cell_type": "markdown",
   "id": "6cdb041c",
   "metadata": {},
   "source": [
    "### Approach 0: K Nearest Neighbors"
   ]
  },
  {
   "cell_type": "markdown",
   "id": "5c11be53",
   "metadata": {},
   "source": [
    "Without weights:"
   ]
  },
  {
   "cell_type": "code",
   "execution_count": 8,
   "id": "13c152cf",
   "metadata": {},
   "outputs": [],
   "source": [
    "from sklearn.neighbors import KNeighborsRegressor\n",
    "neigh = KNeighborsRegressor(n_neighbors=2)\n",
    "neigh.fit(X_train, y_train)\n",
    "ypred=neigh.predict(X_test)"
   ]
  },
  {
   "cell_type": "code",
   "execution_count": 9,
   "id": "19ef5ef8",
   "metadata": {},
   "outputs": [
    {
     "name": "stdout",
     "output_type": "stream",
     "text": [
      "RMSE (overall): 0.6285731480387563\n"
     ]
    }
   ],
   "source": [
    "result = mean_squared_error(y_test, ypred, squared=False)\n",
    "print('RMSE (overall):', result)"
   ]
  },
  {
   "cell_type": "code",
   "execution_count": 10,
   "id": "4b156370",
   "metadata": {},
   "outputs": [
    {
     "name": "stdout",
     "output_type": "stream",
     "text": [
      "RMSE (0): 0.3423425377335796\n",
      "RMSE (1): 1.0967943960724271\n",
      "RMSE (2): 2.0\n",
      "RMSE (3): 2.4064655591244444\n",
      "RMSE (4): 3.252826824923389\n",
      "RMSE (6): 5.135710565496492\n"
     ]
    }
   ],
   "source": [
    "RMSES_unweighted = []\n",
    "for risk in range(7):\n",
    "    if risk==5:\n",
    "        continue\n",
    "    y_test_subset = np.take(y_test.values, np.where(y_test==risk))[0]\n",
    "    ypred_subset = np.take(ypred, np.where(y_test==risk))[0]\n",
    "    result = mean_squared_error(y_test_subset, ypred_subset, squared=False)\n",
    "    print('RMSE (' + str(risk) + '):', result)\n",
    "    RMSES_unweighted.append(result)"
   ]
  },
  {
   "cell_type": "code",
   "execution_count": 12,
   "id": "d9f394da",
   "metadata": {},
   "outputs": [],
   "source": [
    "risks = [0, 1, 2, 3, 4, 6]"
   ]
  },
  {
   "cell_type": "code",
   "execution_count": 13,
   "id": "eb8d6ec3",
   "metadata": {},
   "outputs": [
    {
     "data": {
      "image/png": "[encoded data removed]",
      "text/plain": [
       "<Figure size 432x288 with 1 Axes>"
      ]
     },
     "metadata": {
      "needs_background": "light"
     },
     "output_type": "display_data"
    }
   ],
   "source": [
    "plt.scatter(risks, RMSES_unweighted, color='red')\n",
    "plt.plot(risks, RMSES_unweighted, color='red')\n",
    "plt.xlabel(\"Suicide Risk\")\n",
    "plt.ylabel(\"RMSE\")\n",
    "plt.show()"
   ]
  },
  {
   "cell_type": "markdown",
   "id": "32ccbf7d",
   "metadata": {},
   "source": [
    "### Approach 1: Least Squares Regression"
   ]
  },
  {
   "cell_type": "markdown",
   "id": "7c0cd280",
   "metadata": {},
   "source": [
    "Without weights:"
   ]
  },
  {
   "cell_type": "code",
   "execution_count": 14,
   "id": "6c301e1e",
   "metadata": {},
   "outputs": [],
   "source": [
    "from sklearn.linear_model import LinearRegression\n",
    "clf = LinearRegression().fit(X_train, y_train)\n",
    "ypred=clf.predict(X_test)"
   ]
  },
  {
   "cell_type": "code",
   "execution_count": 15,
   "id": "781a6b79",
   "metadata": {},
   "outputs": [
    {
     "name": "stdout",
     "output_type": "stream",
     "text": [
      "RMSE (overall): 0.5208196023569306\n"
     ]
    }
   ],
   "source": [
    "result = mean_squared_error(y_test, ypred, squared=False)\n",
    "print('RMSE (overall):', result)"
   ]
  },
  {
   "cell_type": "code",
   "execution_count": 16,
   "id": "9a764452",
   "metadata": {},
   "outputs": [
    {
     "name": "stdout",
     "output_type": "stream",
     "text": [
      "RMSE (0): 0.21214659789394671\n",
      "RMSE (1): 0.7061307733011126\n",
      "RMSE (2): 1.2508505693978986\n",
      "RMSE (3): 2.0409936378640356\n",
      "RMSE (4): 3.088389905114704\n",
      "RMSE (6): 4.941775522773012\n"
     ]
    }
   ],
   "source": [
    "RMSES_unweighted = []\n",
    "for risk in range(7):\n",
    "    if risk==5:\n",
    "        continue\n",
    "    y_test_subset = np.take(y_test.values, np.where(y_test==risk))[0]\n",
    "    ypred_subset = np.take(ypred, np.where(y_test==risk))[0]\n",
    "    result = mean_squared_error(y_test_subset, ypred_subset, squared=False)\n",
    "    print('RMSE (' + str(risk) + '):', result)\n",
    "    RMSES_unweighted.append(result)"
   ]
  },
  {
   "cell_type": "markdown",
   "id": "5103cc3c",
   "metadata": {},
   "source": [
    "With weights:"
   ]
  },
  {
   "cell_type": "code",
   "execution_count": 17,
   "id": "7faeff5a",
   "metadata": {},
   "outputs": [],
   "source": [
    "from sklearn.linear_model import LinearRegression\n",
    "clf = LinearRegression().fit(X_train, y_train, sample_weight=weights_train)\n",
    "ypred=clf.predict(X_test)"
   ]
  },
  {
   "cell_type": "code",
   "execution_count": 18,
   "id": "5f92a6b3",
   "metadata": {},
   "outputs": [
    {
     "name": "stdout",
     "output_type": "stream",
     "text": [
      "RMSE (overall): 1.8405128695129125\n"
     ]
    }
   ],
   "source": [
    "result = mean_squared_error(y_test, ypred, sample_weight=weights_test, squared=False)\n",
    "print('RMSE (overall):', result)"
   ]
  },
  {
   "cell_type": "code",
   "execution_count": 19,
   "id": "3f403a35",
   "metadata": {},
   "outputs": [
    {
     "name": "stdout",
     "output_type": "stream",
     "text": [
      "RMSE (0): 1.1704871729207997\n",
      "RMSE (1): 2.413386754864538\n",
      "RMSE (2): 2.213145319574186\n",
      "RMSE (3): 1.624272742003826\n",
      "RMSE (4): 1.7037914592016188\n",
      "RMSE (6): 2.798829532281996\n"
     ]
    }
   ],
   "source": [
    "RMSES_weighted = []\n",
    "for risk in range(7):\n",
    "    if risk==5:\n",
    "        continue\n",
    "    y_test_subset = np.take(y_test.values, np.where(y_test==risk))[0]\n",
    "    ypred_subset = np.take(ypred, np.where(y_test==risk))[0]\n",
    "    weights_test_subset = np.take(weights_test.values, np.where(y_test==risk))[0]\n",
    "    result = mean_squared_error(y_test_subset, ypred_subset, sample_weight=weights_test_subset, squared=False)\n",
    "    print('RMSE (' + str(risk) + '):', result)\n",
    "    RMSES_weighted.append(result)"
   ]
  },
  {
   "cell_type": "code",
   "execution_count": 20,
   "id": "4fbb5cfd",
   "metadata": {},
   "outputs": [],
   "source": [
    "risks = [0, 1, 2, 3, 4, 6]"
   ]
  },
  {
   "cell_type": "code",
   "execution_count": 21,
   "id": "cdbf820d",
   "metadata": {},
   "outputs": [
    {
     "data": {
      "image/png": "[encoded data removed]",
      "text/plain": [
       "<Figure size 432x288 with 1 Axes>"
      ]
     },
     "metadata": {
      "needs_background": "light"
     },
     "output_type": "display_data"
    }
   ],
   "source": [
    "plt.scatter(risks, RMSES_unweighted, color='red')\n",
    "plt.plot(risks, RMSES_unweighted, color='red')\n",
    "plt.scatter(risks, RMSES_weighted)\n",
    "plt.plot(risks, RMSES_weighted)\n",
    "plt.xlabel(\"Suicide Risk\")\n",
    "plt.ylabel(\"RMSE\")\n",
    "plt.legend(['unweighted', 'weighted'])\n",
    "plt.show()"
   ]
  },
  {
   "cell_type": "code",
   "execution_count": 22,
   "id": "42659f7f",
   "metadata": {},
   "outputs": [
    {
     "name": "stdout",
     "output_type": "stream",
     "text": [
      "10 most important features:\n",
      "Any_Drug_Flag\n",
      "Drug_Not_Marijunana\n",
      "Marijuana_Only_Flag\n",
      "predicted_ment_ill\n",
      "inpatient\n",
      "psych_distress_yr\n",
      "Ever_Steal_50\n",
      "Drug_or_Alc_Past_year\n",
      "psych_distress_month\n",
      "EDUCCAT2\n",
      "\n",
      "10 least important features:\n",
      "NEWRACE2\n",
      "Painkiller_Flag\n",
      "Inhalants_Flag\n",
      "Alcohol_Flag\n",
      "IRSEX\n",
      "Hallcinogens_Flag\n",
      "RELIG_SERVICES_12month\n",
      "Tabacco_Flag\n",
      "outpatient\n",
      "Meth_Flag\n"
     ]
    }
   ],
   "source": [
    "s = np.sort(abs(clf.coef_))\n",
    "print('10 most important features:')\n",
    "for i in range(-1, -11, -1):\n",
    "    print(df.columns[np.where(abs(clf.coef_) == s[i])][0])\n",
    "print('\\n10 least important features:')\n",
    "for i in range(10):\n",
    "    print(df.columns[np.where(abs(clf.coef_) == s[i])][0])"
   ]
  },
  {
   "cell_type": "markdown",
   "id": "8b3868b5",
   "metadata": {},
   "source": [
    "### Approach 2: Ridge Regression"
   ]
  },
  {
   "cell_type": "markdown",
   "id": "64c67b4d",
   "metadata": {},
   "source": [
    "Without weights:"
   ]
  },
  {
   "cell_type": "code",
   "execution_count": 23,
   "id": "f05ea9d5",
   "metadata": {},
   "outputs": [],
   "source": [
    "from sklearn.linear_model import Ridge\n",
    "clf = Ridge().fit(X_train,y_train)\n",
    "ypred=clf.predict(X_test)"
   ]
  },
  {
   "cell_type": "code",
   "execution_count": 24,
   "id": "fe5fa5a1",
   "metadata": {},
   "outputs": [
    {
     "name": "stdout",
     "output_type": "stream",
     "text": [
      "RMSE (overall): 0.5208977904996286\n"
     ]
    }
   ],
   "source": [
    "result = mean_squared_error(y_test, ypred, squared=False)\n",
    "print('RMSE (overall):', result)"
   ]
  },
  {
   "cell_type": "code",
   "execution_count": 25,
   "id": "75db55d1",
   "metadata": {},
   "outputs": [
    {
     "name": "stdout",
     "output_type": "stream",
     "text": [
      "RMSE (0): 0.21208699410184145\n",
      "RMSE (1): 0.7065349531765914\n",
      "RMSE (2): 1.2507892931180111\n",
      "RMSE (3): 2.0415586270818293\n",
      "RMSE (4): 3.0892629194899315\n",
      "RMSE (6): 4.9426250787629264\n"
     ]
    }
   ],
   "source": [
    "RMSES_unweighted = []\n",
    "for risk in range(7):\n",
    "    if risk==5:\n",
    "        continue\n",
    "    y_test_subset = np.take(y_test.values, np.where(y_test==risk))[0]\n",
    "    ypred_subset = np.take(ypred, np.where(y_test==risk))[0]\n",
    "    result = mean_squared_error(y_test_subset, ypred_subset, squared=False)\n",
    "    print('RMSE (' + str(risk) + '):', result)\n",
    "    RMSES_unweighted.append(result)"
   ]
  },
  {
   "cell_type": "markdown",
   "id": "93f3dc20",
   "metadata": {},
   "source": [
    "With weights:"
   ]
  },
  {
   "cell_type": "code",
   "execution_count": 26,
   "id": "255c02ae",
   "metadata": {},
   "outputs": [],
   "source": [
    "from sklearn.linear_model import Ridge\n",
    "clf = Ridge().fit(X_train,y_train, weights_train)\n",
    "ypred=clf.predict(X_test)"
   ]
  },
  {
   "cell_type": "code",
   "execution_count": 27,
   "id": "ae0b9435",
   "metadata": {},
   "outputs": [
    {
     "name": "stdout",
     "output_type": "stream",
     "text": [
      "RMSE (overall): 1.8405070522248383\n"
     ]
    }
   ],
   "source": [
    "result = mean_squared_error(y_test, ypred, sample_weight=weights_test, squared=False)\n",
    "print('RMSE (overall):', result)"
   ]
  },
  {
   "cell_type": "code",
   "execution_count": 28,
   "id": "0a686963",
   "metadata": {},
   "outputs": [
    {
     "name": "stdout",
     "output_type": "stream",
     "text": [
      "RMSE (0): 1.1705681356626954\n",
      "RMSE (1): 2.413421939374536\n",
      "RMSE (2): 2.213257032202245\n",
      "RMSE (3): 1.624341909788528\n",
      "RMSE (4): 1.7036983738221716\n",
      "RMSE (6): 2.7987268424590006\n"
     ]
    }
   ],
   "source": [
    "RMSES_weighted = []\n",
    "for risk in range(7):\n",
    "    if risk==5:\n",
    "        continue\n",
    "    y_test_subset = np.take(y_test.values, np.where(y_test==risk))[0]\n",
    "    ypred_subset = np.take(ypred, np.where(y_test==risk))[0]\n",
    "    weights_test_subset = np.take(weights_test.values, np.where(y_test==risk))[0]\n",
    "    result = mean_squared_error(y_test_subset, ypred_subset, sample_weight=weights_test_subset, squared=False)\n",
    "    print('RMSE (' + str(risk) + '):', result)\n",
    "    RMSES_weighted.append(result)"
   ]
  },
  {
   "cell_type": "code",
   "execution_count": 29,
   "id": "056f909c",
   "metadata": {},
   "outputs": [
    {
     "data": {
      "image/png": "[encoded data removed]",
      "text/plain": [
       "<Figure size 432x288 with 1 Axes>"
      ]
     },
     "metadata": {
      "needs_background": "light"
     },
     "output_type": "display_data"
    }
   ],
   "source": [
    "plt.scatter(risks, RMSES_unweighted, color='red')\n",
    "plt.plot(risks, RMSES_unweighted, color='red')\n",
    "plt.scatter(risks, RMSES_weighted)\n",
    "plt.plot(risks, RMSES_weighted)\n",
    "plt.xlabel(\"Suicide Risk\")\n",
    "plt.ylabel(\"RMSE\")\n",
    "plt.legend(['unweighted', 'weighted'])\n",
    "plt.show()"
   ]
  },
  {
   "cell_type": "code",
   "execution_count": 30,
   "id": "3eb2bc36",
   "metadata": {},
   "outputs": [
    {
     "name": "stdout",
     "output_type": "stream",
     "text": [
      "10 most important features:\n",
      "predicted_ment_ill\n",
      "inpatient\n",
      "psych_distress_yr\n",
      "Ever_Steal_50\n",
      "Drug_or_Alc_Past_year\n",
      "psych_distress_month\n",
      "EDUCCAT2\n",
      "whodas_score\n",
      "age\n",
      "RELIG_IMPORTANT\n",
      "\n",
      "10 least important features:\n",
      "Drug_Not_Marijunana\n",
      "NEWRACE2\n",
      "Painkiller_Flag\n",
      "Inhalants_Flag\n",
      "Alcohol_Flag\n",
      "IRSEX\n",
      "Hallcinogens_Flag\n",
      "RELIG_SERVICES_12month\n",
      "Tabacco_Flag\n",
      "outpatient\n"
     ]
    }
   ],
   "source": [
    "s = np.sort(abs(clf.coef_))\n",
    "print('10 most important features:')\n",
    "for i in range(-1, -11, -1):\n",
    "    print(df.columns[np.where(abs(clf.coef_) == s[i])][0])\n",
    "print('\\n10 least important features:')\n",
    "for i in range(10):\n",
    "    print(df.columns[np.where(abs(clf.coef_) == s[i])][0])"
   ]
  },
  {
   "cell_type": "markdown",
   "id": "a61cf696",
   "metadata": {},
   "source": [
    "### Approach 3: LASSO Regression"
   ]
  },
  {
   "cell_type": "markdown",
   "id": "56e8d1bf",
   "metadata": {},
   "source": [
    "Without weights:"
   ]
  },
  {
   "cell_type": "code",
   "execution_count": 31,
   "id": "f460b9e8",
   "metadata": {},
   "outputs": [],
   "source": [
    "from sklearn.linear_model import Lasso\n",
    "clf = linear_model.Lasso(alpha=0.1).fit(X_train, y_train)\n",
    "ypred=clf.predict(X_test)"
   ]
  },
  {
   "cell_type": "code",
   "execution_count": 32,
   "id": "cfbd2387",
   "metadata": {},
   "outputs": [
    {
     "name": "stdout",
     "output_type": "stream",
     "text": [
      "RMSE (overall): 0.6042132246263335\n"
     ]
    }
   ],
   "source": [
    "result = mean_squared_error(y_test, ypred, squared=False)\n",
    "print('RMSE (overall):', result)"
   ]
  },
  {
   "cell_type": "code",
   "execution_count": 33,
   "id": "b9fff170",
   "metadata": {},
   "outputs": [
    {
     "name": "stdout",
     "output_type": "stream",
     "text": [
      "RMSE (0): 0.11551414458913335\n",
      "RMSE (1): 0.8844858554108667\n",
      "RMSE (2): 1.8844858554108666\n",
      "RMSE (3): 2.8844858554108668\n",
      "RMSE (4): 3.8844858554108663\n",
      "RMSE (6): 5.884485855410867\n"
     ]
    }
   ],
   "source": [
    "RMSES_unweighted = []\n",
    "for risk in range(7):\n",
    "    if risk==5:\n",
    "        continue\n",
    "    y_test_subset = np.take(y_test.values, np.where(y_test==risk))[0]\n",
    "    ypred_subset = np.take(ypred, np.where(y_test==risk))[0]\n",
    "    result = mean_squared_error(y_test_subset, ypred_subset, squared=False)\n",
    "    print('RMSE (' + str(risk) + '):', result)\n",
    "    RMSES_unweighted.append(result)"
   ]
  },
  {
   "cell_type": "markdown",
   "id": "e7957062",
   "metadata": {},
   "source": [
    "With weights:"
   ]
  },
  {
   "cell_type": "code",
   "execution_count": 34,
   "id": "bf0f067d",
   "metadata": {},
   "outputs": [],
   "source": [
    "from sklearn.linear_model import Lasso\n",
    "clf = linear_model.Lasso(alpha=0.1).fit(X_train,y_train, sample_weight=weights_train)\n",
    "ypred=clf.predict(X_test)"
   ]
  },
  {
   "cell_type": "code",
   "execution_count": 35,
   "id": "64d7eb01",
   "metadata": {},
   "outputs": [
    {
     "name": "stdout",
     "output_type": "stream",
     "text": [
      "RMSE (overall): 1.9511187849061082\n"
     ]
    }
   ],
   "source": [
    "result = mean_squared_error(y_test, ypred, sample_weight=weights_test, squared=False)\n",
    "print('RMSE (overall):', result)"
   ]
  },
  {
   "cell_type": "code",
   "execution_count": 36,
   "id": "04e7f6f8",
   "metadata": {},
   "outputs": [
    {
     "name": "stdout",
     "output_type": "stream",
     "text": [
      "RMSE (0): 1.2711875042564755\n",
      "RMSE (1): 2.2927897116307983\n",
      "RMSE (2): 1.9850389984672552\n",
      "RMSE (3): 1.4114924365913968\n",
      "RMSE (4): 1.6511329660400544\n",
      "RMSE (6): 3.013250299181827\n"
     ]
    }
   ],
   "source": [
    "RMSES_weighted = []\n",
    "for risk in range(7):\n",
    "    if risk==5:\n",
    "        continue\n",
    "    y_test_subset = np.take(y_test.values, np.where(y_test==risk))[0]\n",
    "    ypred_subset = np.take(ypred, np.where(y_test==risk))[0]\n",
    "    weights_test_subset = np.take(weights_test.values, np.where(y_test==risk))[0]\n",
    "    result = mean_squared_error(y_test_subset, ypred_subset, sample_weight=weights_test_subset, squared=False)\n",
    "    print('RMSE (' + str(risk) + '):', result)\n",
    "    RMSES_weighted.append(result)"
   ]
  },
  {
   "cell_type": "code",
   "execution_count": 37,
   "id": "7cd3cd7f",
   "metadata": {},
   "outputs": [
    {
     "data": {
      "image/png": "[encoded data removed]",
      "text/plain": [
       "<Figure size 432x288 with 1 Axes>"
      ]
     },
     "metadata": {
      "needs_background": "light"
     },
     "output_type": "display_data"
    }
   ],
   "source": [
    "plt.scatter(risks, RMSES_unweighted, color='red')\n",
    "plt.plot(risks, RMSES_unweighted, color='red')\n",
    "plt.scatter(risks, RMSES_weighted)\n",
    "plt.plot(risks, RMSES_weighted)\n",
    "plt.xlabel(\"Suicide Risk\")\n",
    "plt.ylabel(\"RMSE\")\n",
    "plt.legend(['unweighted', 'weighted'])\n",
    "plt.show()"
   ]
  },
  {
   "cell_type": "code",
   "execution_count": 38,
   "id": "5c7fe6bb",
   "metadata": {},
   "outputs": [
    {
     "name": "stdout",
     "output_type": "stream",
     "text": [
      "10 most important features:\n",
      "psych_distress_yr\n",
      "predicted_ment_ill\n",
      "psych_distress_month\n",
      "inpatient\n",
      "EDUCCAT2\n",
      "rcvd_any_tmt\n",
      "RELIG_SERVICES_12month\n",
      "RELIG_SERVICES_12month\n",
      "RELIG_SERVICES_12month\n",
      "RELIG_SERVICES_12month\n",
      "\n",
      "10 least important features:\n",
      "RELIG_SERVICES_12month\n",
      "RELIG_SERVICES_12month\n",
      "RELIG_SERVICES_12month\n",
      "RELIG_SERVICES_12month\n",
      "RELIG_SERVICES_12month\n",
      "RELIG_SERVICES_12month\n",
      "RELIG_SERVICES_12month\n",
      "RELIG_SERVICES_12month\n",
      "RELIG_SERVICES_12month\n",
      "RELIG_SERVICES_12month\n"
     ]
    }
   ],
   "source": [
    "s = np.sort(abs(clf.coef_))\n",
    "print('10 most important features:')\n",
    "for i in range(-1, -11, -1):\n",
    "    print(df.columns[np.where(abs(clf.coef_) == s[i])][0])\n",
    "print('\\n10 least important features:')\n",
    "for i in range(10):\n",
    "    print(df.columns[np.where(abs(clf.coef_) == s[i])][0])"
   ]
  },
  {
   "cell_type": "markdown",
   "id": "94e4dbce",
   "metadata": {},
   "source": [
    "### Approach 4: Random Forest Regression"
   ]
  },
  {
   "cell_type": "markdown",
   "id": "0d7a5574",
   "metadata": {},
   "source": [
    "Without weights:"
   ]
  },
  {
   "cell_type": "code",
   "execution_count": 39,
   "id": "27267428",
   "metadata": {},
   "outputs": [],
   "source": [
    "from sklearn.ensemble import RandomForestRegressor\n",
    "regr = RandomForestRegressor(max_depth=2, random_state=0)\n",
    "regr.fit(X_train, y_train)\n",
    "ypred=regr.predict(X_test)"
   ]
  },
  {
   "cell_type": "code",
   "execution_count": 40,
   "id": "d6a40ea0",
   "metadata": {},
   "outputs": [
    {
     "name": "stdout",
     "output_type": "stream",
     "text": [
      "RMSE (overall): 0.5253173755241313\n"
     ]
    }
   ],
   "source": [
    "result = mean_squared_error(y_test, ypred, squared=False)\n",
    "print('RMSE (overall):', result)"
   ]
  },
  {
   "cell_type": "code",
   "execution_count": 41,
   "id": "444c99f4",
   "metadata": {},
   "outputs": [
    {
     "name": "stdout",
     "output_type": "stream",
     "text": [
      "RMSE (0): 0.19862906533236038\n",
      "RMSE (1): 0.7507205353038603\n",
      "RMSE (2): 1.4814549214092927\n",
      "RMSE (3): 2.116136240645824\n",
      "RMSE (4): 3.1909404345539256\n",
      "RMSE (6): 4.996687534828674\n"
     ]
    }
   ],
   "source": [
    "RMSES_unweighted = []\n",
    "for risk in range(7):\n",
    "    if risk==5:\n",
    "        continue\n",
    "    y_test_subset = np.take(y_test.values, np.where(y_test==risk))[0]\n",
    "    ypred_subset = np.take(ypred, np.where(y_test==risk))[0]\n",
    "    result = mean_squared_error(y_test_subset, ypred_subset, squared=False)\n",
    "    print('RMSE (' + str(risk) + '):', result)\n",
    "    RMSES_unweighted.append(result)"
   ]
  },
  {
   "cell_type": "markdown",
   "id": "cd53573a",
   "metadata": {},
   "source": [
    "With Weights:"
   ]
  },
  {
   "cell_type": "code",
   "execution_count": 42,
   "id": "480f0985",
   "metadata": {},
   "outputs": [],
   "source": [
    "from sklearn.ensemble import RandomForestRegressor\n",
    "regr = RandomForestRegressor(max_depth=2, random_state=0)\n",
    "regr.fit(X_train, y_train, sample_weight=weights_train)\n",
    "ypred=regr.predict(X_test)"
   ]
  },
  {
   "cell_type": "code",
   "execution_count": 43,
   "id": "5d0da4fa",
   "metadata": {},
   "outputs": [
    {
     "name": "stdout",
     "output_type": "stream",
     "text": [
      "RMSE (overall): 1.9380613120750672\n"
     ]
    }
   ],
   "source": [
    "result = mean_squared_error(y_test, ypred, sample_weight=weights_test, squared=False)\n",
    "print('RMSE (overall):', result)"
   ]
  },
  {
   "cell_type": "code",
   "execution_count": 44,
   "id": "46ec99db",
   "metadata": {},
   "outputs": [
    {
     "name": "stdout",
     "output_type": "stream",
     "text": [
      "RMSE (0): 1.2916488032166955\n",
      "RMSE (1): 2.6054635408030786\n",
      "RMSE (2): 2.233024355204495\n",
      "RMSE (3): 1.6197956949898455\n",
      "RMSE (4): 1.6097119783487261\n",
      "RMSE (6): 2.8942254743867912\n"
     ]
    }
   ],
   "source": [
    "RMSES_weighted = []\n",
    "for risk in range(7):\n",
    "    if risk==5:\n",
    "        continue\n",
    "    y_test_subset = np.take(y_test.values, np.where(y_test==risk))[0]\n",
    "    ypred_subset = np.take(ypred, np.where(y_test==risk))[0]\n",
    "    weights_test_subset = np.take(weights_test.values, np.where(y_test==risk))[0]\n",
    "    result = mean_squared_error(y_test_subset, ypred_subset, sample_weight=weights_test_subset, squared=False)\n",
    "    print('RMSE (' + str(risk) + '):', result)\n",
    "    RMSES_weighted.append(result)"
   ]
  },
  {
   "cell_type": "code",
   "execution_count": 45,
   "id": "bdc73236",
   "metadata": {},
   "outputs": [
    {
     "data": {
      "image/png": "[encoded data removed]",
      "text/plain": [
       "<Figure size 432x288 with 1 Axes>"
      ]
     },
     "metadata": {
      "needs_background": "light"
     },
     "output_type": "display_data"
    }
   ],
   "source": [
    "plt.scatter(risks, RMSES_unweighted, color='red')\n",
    "plt.plot(risks, RMSES_unweighted, color='red')\n",
    "plt.scatter(risks, RMSES_weighted)\n",
    "plt.plot(risks, RMSES_weighted)\n",
    "plt.xlabel(\"Suicide Risk\")\n",
    "plt.ylabel(\"RMSE\")\n",
    "plt.legend(['unweighted', 'weighted'])\n",
    "plt.show()"
   ]
  },
  {
   "cell_type": "code",
   "execution_count": 46,
   "id": "3f7c3a41",
   "metadata": {},
   "outputs": [
    {
     "data": {
      "text/plain": [
       "{'bootstrap': True,\n",
       " 'ccp_alpha': 0.0,\n",
       " 'criterion': 'mse',\n",
       " 'max_depth': 2,\n",
       " 'max_features': 'auto',\n",
       " 'max_leaf_nodes': None,\n",
       " 'max_samples': None,\n",
       " 'min_impurity_decrease': 0.0,\n",
       " 'min_impurity_split': None,\n",
       " 'min_samples_leaf': 1,\n",
       " 'min_samples_split': 2,\n",
       " 'min_weight_fraction_leaf': 0.0,\n",
       " 'n_estimators': 100,\n",
       " 'n_jobs': None,\n",
       " 'oob_score': False,\n",
       " 'random_state': 0,\n",
       " 'verbose': 0,\n",
       " 'warm_start': False}"
      ]
     },
     "execution_count": 46,
     "metadata": {},
     "output_type": "execute_result"
    }
   ],
   "source": [
    "regr.get_params()"
   ]
  },
  {
   "cell_type": "markdown",
   "id": "6b1c3872",
   "metadata": {},
   "source": [
    "# Prediction Models (Categorical)"
   ]
  },
  {
   "cell_type": "markdown",
   "id": "aece3174",
   "metadata": {},
   "source": [
    "Making suicide risk column categorical:"
   ]
  },
  {
   "cell_type": "code",
   "execution_count": null,
   "id": "7c76d631",
   "metadata": {},
   "outputs": [],
   "source": [
    "df = df.astype({'suicide_risk':'int'})"
   ]
  },
  {
   "cell_type": "code",
   "execution_count": null,
   "id": "94fca7b4",
   "metadata": {},
   "outputs": [],
   "source": [
    "df"
   ]
  },
  {
   "cell_type": "code",
   "execution_count": null,
   "id": "a8893191",
   "metadata": {},
   "outputs": [],
   "source": [
    "x_data = df.drop(['suicide_risk'],axis=1)\n",
    "y_data = df['suicide_risk']\n",
    "X_train, X_test, y_train, y_test = train_test_split(x_data, y_data,test_size=0.2, random_state = 1)"
   ]
  },
  {
   "cell_type": "code",
   "execution_count": null,
   "id": "5c3f02d2",
   "metadata": {},
   "outputs": [],
   "source": [
    "weights = 2**y_train\n",
    "weights.value_counts()"
   ]
  },
  {
   "cell_type": "code",
   "execution_count": null,
   "id": "aed6a335",
   "metadata": {},
   "outputs": [],
   "source": [
    "test_weights = 2**y_test\n",
    "test_weights.value_counts()"
   ]
  },
  {
   "cell_type": "code",
   "execution_count": null,
   "id": "9a1f18b3",
   "metadata": {},
   "outputs": [],
   "source": [
    "class_weights = {0: 1, 2: 4, 3: 8, 4: 16, 6: 64}"
   ]
  },
  {
   "cell_type": "markdown",
   "id": "064bc304",
   "metadata": {},
   "source": [
    "### Approach 1: K-Nearest Neighbors\n",
    "K-Nearest Neighbors classifies based on proximity to k datapoints.\n",
    "\n",
    "Note: There is a class imbalance. Since most people fall under the first risk category, K-NN is biased toward predicting that class. While it is good to have high accuracy, in the context of suicide risk, predicting 0 risk is not as important as predicting a risk of 2 or higher. \n",
    "\n",
    "Some disadvantages of K-NN observed here: doesn’t learn which features useful, computationally expensive, more noisy features → distance less meaningful"
   ]
  },
  {
   "cell_type": "markdown",
   "id": "59101a0a",
   "metadata": {},
   "source": [
    "k = 5"
   ]
  },
  {
   "cell_type": "code",
   "execution_count": null,
   "id": "ed4bcef8",
   "metadata": {},
   "outputs": [],
   "source": [
    "knn_clf=KNeighborsClassifier()\n",
    "knn_clf.fit(X_train,y_train)\n",
    "ypred=knn_clf.predict(X_test) #These are the predicted output values"
   ]
  },
  {
   "cell_type": "code",
   "execution_count": null,
   "id": "f412df82",
   "metadata": {},
   "outputs": [],
   "source": [
    "result = confusion_matrix(y_test, ypred)\n",
    "print('Confusion Matrix:')\n",
    "print(result)\n",
    "result2 = accuracy_score(y_test,ypred)\n",
    "print('Accuracy (overall):',result2)\n",
    "result1 = classification_report(y_test, ypred)\n",
    "print('Classification Report (overall):',)\n",
    "print (result1)"
   ]
  },
  {
   "cell_type": "markdown",
   "id": "f720cf2e",
   "metadata": {},
   "source": [
    "### Approach 2: Naive Bayes\n",
    "Naive Bayes assumes independence among features."
   ]
  },
  {
   "cell_type": "code",
   "execution_count": null,
   "id": "a4aa3c8c",
   "metadata": {},
   "outputs": [],
   "source": [
    "from sklearn.naive_bayes import MultinomialNB\n",
    "clf = MultinomialNB()\n",
    "clf.fit(X_train,y_train, sample_weight= weights)\n",
    "ypred=clf.predict(X_test)"
   ]
  },
  {
   "cell_type": "code",
   "execution_count": null,
   "id": "e4140086",
   "metadata": {},
   "outputs": [],
   "source": [
    "result = confusion_matrix(y_test, ypred)\n",
    "print('Confusion Matrix:')\n",
    "print(result)\n",
    "result2 = accuracy_score(y_test,ypred, sample_weight=test_weights)\n",
    "print('Accuracy (weighted):',result2)\n",
    "result1 = classification_report(y_test, ypred, sample_weight=test_weights)\n",
    "print('Classification Report (weighted):',)\n",
    "print (result1)"
   ]
  },
  {
   "cell_type": "markdown",
   "id": "5da290a8",
   "metadata": {},
   "source": [
    "### Approach 3: Ridge Regression Classifier\n",
    "Regularization: penalization risk for complexity"
   ]
  },
  {
   "cell_type": "code",
   "execution_count": null,
   "id": "2c7b76f3",
   "metadata": {},
   "outputs": [],
   "source": [
    "from sklearn.linear_model import RidgeClassifier\n",
    "clf = RidgeClassifier().fit(X_train,y_train, sample_weight= weights)\n",
    "ypred=clf.predict(X_test)"
   ]
  },
  {
   "cell_type": "markdown",
   "id": "7d786f4d",
   "metadata": {},
   "source": [
    "alpha = 1"
   ]
  },
  {
   "cell_type": "code",
   "execution_count": null,
   "id": "a646c483",
   "metadata": {},
   "outputs": [],
   "source": [
    "result = confusion_matrix(y_test, ypred)\n",
    "print('Confusion Matrix:')\n",
    "print(result)\n",
    "result2 = accuracy_score(y_test,ypred, sample_weight=test_weights)\n",
    "print('Accuracy (weighted):',result2)\n",
    "result1 = classification_report(y_test, ypred, sample_weight=test_weights)\n",
    "print('Classification Report (weighted):',)\n",
    "print (result1)"
   ]
  },
  {
   "cell_type": "markdown",
   "id": "aabcd9b8",
   "metadata": {},
   "source": [
    "### Approach 4: Random Forest"
   ]
  },
  {
   "cell_type": "code",
   "execution_count": null,
   "id": "1e9ae034",
   "metadata": {},
   "outputs": [],
   "source": [
    "from sklearn.ensemble import RandomForestClassifier\n",
    "clf = RandomForestClassifier(max_depth=2, random_state=0, class_weight=class_weights)\n",
    "clf.fit(X_train,y_train)\n",
    "ypred = clf.predict(X_test)"
   ]
  },
  {
   "cell_type": "markdown",
   "id": "7e395111",
   "metadata": {},
   "source": [
    "max depth = 2"
   ]
  },
  {
   "cell_type": "code",
   "execution_count": null,
   "id": "1e696f4d",
   "metadata": {},
   "outputs": [],
   "source": [
    "result = confusion_matrix(y_test, ypred)\n",
    "print('Confusion Matrix:')\n",
    "print(result)\n",
    "result2 = accuracy_score(y_test,ypred, sample_weight=test_weights)\n",
    "print('Accuracy (weighted):',result2)\n",
    "result1 = classification_report(y_test, ypred, sample_weight=test_weights)\n",
    "print('Classification Report (weighted):',)\n",
    "print (result1)"
   ]
  },
  {
   "cell_type": "code",
   "execution_count": null,
   "id": "cc1769bc",
   "metadata": {},
   "outputs": [],
   "source": []
  }
 ],
 "metadata": {
  "kernelspec": {
   "display_name": "Python 3 (ipykernel)",
   "language": "python",
   "name": "python3"
  },
  "language_info": {
   "codemirror_mode": {
    "name": "ipython",
    "version": 3
   },
   "file_extension": ".py",
   "mimetype": "text/x-python",
   "name": "python",
   "nbconvert_exporter": "python",
   "pygments_lexer": "ipython3",
   "version": "3.9.7"
  }
 },
 "nbformat": 4,
 "nbformat_minor": 5
}
