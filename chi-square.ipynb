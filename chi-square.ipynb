{
 "cells": [
  {
   "cell_type": "code",
   "execution_count": 1,
   "id": "46ac53d7",
   "metadata": {},
   "outputs": [],
   "source": [
    "import pandas as pd\n",
    "import seaborn as sns"
   ]
  },
  {
   "cell_type": "code",
   "execution_count": 2,
   "id": "9b496179",
   "metadata": {},
   "outputs": [],
   "source": [
    "data = pd.read_csv('data/new_health.csv')\n",
    "data = data.drop(columns = ['Unnamed: 0'])"
   ]
  },
  {
   "cell_type": "code",
   "execution_count": 3,
   "id": "bdbaf6f9",
   "metadata": {},
   "outputs": [
    {
     "data": {
      "text/plain": [
       "Index(['RELIG_SERVICES_12month', 'RELIG_IMPORTANT', 'RELIG_influ_decision',\n",
       "       'friend_SHARE_REL', 'Tabacco_Flag', 'Alcohol_Flag', 'Marijunana_Flag',\n",
       "       'Marijuana_Only_Flag', 'Cocaine_Flag', 'Crack_Flag', 'Herion_Flag',\n",
       "       'Hallcinogens_Flag', 'Inhalants_Flag', 'Painkiller_Flag',\n",
       "       'Tranquilizer_Flag', 'Stimulant Flag', 'Meth_Flag', 'Sedatives Flag',\n",
       "       'Any_Drug_Flag', 'Drug_Not_Marijunana', 'Ever_Steal_50',\n",
       "       'Sell_Illegal_Drugs', 'Ever_Booked_Arrested', 'Drug_or_Alc_Past_year',\n",
       "       'inpatient', 'outpatient', 'needed_not_rcvd', 'rcvd_any_tmt',\n",
       "       'psych_distress_month', 'psych_distress_yr', 'whodas_score',\n",
       "       'predicted_ment_ill', 'svrl_days_depressed', 'lifetime_mde',\n",
       "       'pst_yr_mde', 'age', 'HEALTH', 'IRSEX', 'IRMARIT', 'EDUCCAT2',\n",
       "       'NEWRACE2', 'EMPSTATY', 'suicide_risk'],\n",
       "      dtype='object')"
      ]
     },
     "execution_count": 3,
     "metadata": {},
     "output_type": "execute_result"
    }
   ],
   "source": [
    "data.columns"
   ]
  },
  {
   "cell_type": "code",
   "execution_count": 29,
   "id": "03628e87",
   "metadata": {},
   "outputs": [],
   "source": [
    "import scipy.stats as stats\n",
    "from scipy.stats import chi2\n",
    "\n",
    "def chi_square(col):\n",
    "    dataset_table = pd.crosstab(data['psych_distress_yr'],data['suicide_risk'])\n",
    "    dataset_table\n",
    "    \n",
    "    observed = dataset_table.values\n",
    "    val2 = stats.chi2_contingency(dataset_table)\n",
    "    expected = val2[3]\n",
    "    \n",
    "    ddof = (dataset_table.shape[0]-1)*(dataset_table.shape[1]-1)\n",
    "    chi_square = sum([(o-e)**2./e for o,e in zip(observed,expected)])\n",
    "    chi_square_statistic = chi_square[0] + chi_square[1]\n",
    "    p_value = 1-chi2.cdf(x = chi_square_statistic,df = ddof)\n",
    "    \n",
    "    # print(\"chi-square statistic:-\",chi_square_statistic)\n",
    "    # print('Degree of Freedom: ',ddof)\n",
    "    # print('p-value:',p_value)\n",
    "\n",
    "    if p_value<=0.05:\n",
    "        print(\"Reject Null Hypothesis for\", col)\n",
    "    else:\n",
    "        print(\"Accept Null Hypthesis for\", col)"
   ]
  },
  {
   "cell_type": "code",
   "execution_count": 31,
   "id": "66e9d569",
   "metadata": {},
   "outputs": [
    {
     "name": "stdout",
     "output_type": "stream",
     "text": [
      "Reject Null Hypothesis for RELIG_SERVICES_12month\n",
      "Reject Null Hypothesis for RELIG_IMPORTANT\n",
      "Reject Null Hypothesis for RELIG_influ_decision\n",
      "Reject Null Hypothesis for friend_SHARE_REL\n",
      "Reject Null Hypothesis for Tabacco_Flag\n",
      "Reject Null Hypothesis for Alcohol_Flag\n",
      "Reject Null Hypothesis for Marijunana_Flag\n",
      "Reject Null Hypothesis for Marijuana_Only_Flag\n",
      "Reject Null Hypothesis for Cocaine_Flag\n",
      "Reject Null Hypothesis for Crack_Flag\n",
      "Reject Null Hypothesis for Herion_Flag\n",
      "Reject Null Hypothesis for Hallcinogens_Flag\n",
      "Reject Null Hypothesis for Inhalants_Flag\n",
      "Reject Null Hypothesis for Painkiller_Flag\n",
      "Reject Null Hypothesis for Tranquilizer_Flag\n",
      "Reject Null Hypothesis for Stimulant Flag\n",
      "Reject Null Hypothesis for Meth_Flag\n",
      "Reject Null Hypothesis for Sedatives Flag\n",
      "Reject Null Hypothesis for Any_Drug_Flag\n",
      "Reject Null Hypothesis for Drug_Not_Marijunana\n",
      "Reject Null Hypothesis for Ever_Steal_50\n",
      "Reject Null Hypothesis for Sell_Illegal_Drugs\n",
      "Reject Null Hypothesis for Ever_Booked_Arrested\n",
      "Reject Null Hypothesis for Drug_or_Alc_Past_year\n",
      "Reject Null Hypothesis for inpatient\n",
      "Reject Null Hypothesis for outpatient\n",
      "Reject Null Hypothesis for needed_not_rcvd\n",
      "Reject Null Hypothesis for rcvd_any_tmt\n",
      "Reject Null Hypothesis for psych_distress_month\n",
      "Reject Null Hypothesis for psych_distress_yr\n",
      "Reject Null Hypothesis for whodas_score\n",
      "Reject Null Hypothesis for predicted_ment_ill\n",
      "Reject Null Hypothesis for svrl_days_depressed\n",
      "Reject Null Hypothesis for lifetime_mde\n",
      "Reject Null Hypothesis for pst_yr_mde\n",
      "Reject Null Hypothesis for age\n",
      "Reject Null Hypothesis for HEALTH\n",
      "Reject Null Hypothesis for IRSEX\n",
      "Reject Null Hypothesis for IRMARIT\n",
      "Reject Null Hypothesis for EDUCCAT2\n",
      "Reject Null Hypothesis for NEWRACE2\n",
      "Reject Null Hypothesis for EMPSTATY\n",
      "Reject Null Hypothesis for suicide_risk\n"
     ]
    }
   ],
   "source": [
    "for i in data.columns:\n",
    "    chi_square(i)"
   ]
  },
  {
   "cell_type": "code",
   "execution_count": null,
   "id": "24be3e05",
   "metadata": {},
   "outputs": [],
   "source": []
  }
 ],
 "metadata": {
  "kernelspec": {
   "display_name": "Python 3 (ipykernel)",
   "language": "python",
   "name": "python3"
  },
  "language_info": {
   "codemirror_mode": {
    "name": "ipython",
    "version": 3
   },
   "file_extension": ".py",
   "mimetype": "text/x-python",
   "name": "python",
   "nbconvert_exporter": "python",
   "pygments_lexer": "ipython3",
   "version": "3.8.13"
  }
 },
 "nbformat": 4,
 "nbformat_minor": 5
}
