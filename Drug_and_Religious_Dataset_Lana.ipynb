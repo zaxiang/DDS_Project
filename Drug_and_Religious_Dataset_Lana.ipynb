{
 "cells": [
  {
   "cell_type": "code",
   "execution_count": 1,
   "id": "64b645ae",
   "metadata": {},
   "outputs": [],
   "source": [
    "import pandas as pd\n",
    "import numpy as np"
   ]
  },
  {
   "cell_type": "code",
   "execution_count": 2,
   "id": "424ac908",
   "metadata": {},
   "outputs": [],
   "source": [
    "drug12 = pd.read_stata('2012data.dta', convert_categoricals=False)"
   ]
  },
  {
   "cell_type": "code",
   "execution_count": 3,
   "id": "48ea9404",
   "metadata": {},
   "outputs": [],
   "source": [
    "drug_df = drug12[[\"TOBFLAG\", \"TOBYR\", \"ALCFLAG\", \"ALCYR\", \"MRJFLAG\", \"MRJYR\", \"COCFLAG\", \"COCYR\", \"CRKFLAG\", \"CRKYR\",\n",
    "       \"HERFLAG\", \"HERYR\", \"HALFLAG\", \"HALYR\", \"INHFLAG\", \"INHYR\", \"ANLFLAG\", \"ANLYR\", \"TRQFLAG\",\n",
    "       \"TRQYR\", \"STMFLAG\", \"STMYR\", \"MTHFLAG\", \"MTHYR\", \"SEDFLAG\", \"SEDYR\", \"SUMFLAG\", \"SUMYR\", \"SUMMON\", \"SUMAGE\",\n",
    "       \"SUMYFU\", \"IEMFLAG\", \"SNRLGIMP\", \"SNRLGSVC\", 'SNRLDCSN', 'SNRLFRND']]"
   ]
  },
  {
   "cell_type": "code",
   "execution_count": 4,
   "id": "a8feb329",
   "metadata": {},
   "outputs": [],
   "source": [
    "drop_values = [94,97,98,99]\n",
    "\n",
    "drug_df = drug_df[(drug_df.SNRLGSVC.isin(drop_values) == False) & \n",
    "            (drug_df.SNRLGIMP.isin(drop_values) == False) & \n",
    "            (drug_df.SNRLDCSN.isin(drop_values) == False) & \n",
    "            (drug_df.SNRLFRND.isin(drop_values) == False)]"
   ]
  },
  {
   "cell_type": "code",
   "execution_count": null,
   "id": "37665c38",
   "metadata": {},
   "outputs": [],
   "source": []
  }
 ],
 "metadata": {
  "kernelspec": {
   "display_name": "Python 3",
   "language": "python",
   "name": "python3"
  },
  "language_info": {
   "codemirror_mode": {
    "name": "ipython",
    "version": 3
   },
   "file_extension": ".py",
   "mimetype": "text/x-python",
   "name": "python",
   "nbconvert_exporter": "python",
   "pygments_lexer": "ipython3",
   "version": "3.8.8"
  }
 },
 "nbformat": 4,
 "nbformat_minor": 5
}
