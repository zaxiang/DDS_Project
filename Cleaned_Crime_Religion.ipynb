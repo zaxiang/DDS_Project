{
 "cells": [
  {
   "cell_type": "code",
   "execution_count": 3,
   "id": "6032b8d7",
   "metadata": {},
   "outputs": [],
   "source": [
    "import pandas as pd\n",
    "import numpy as np"
   ]
  },
  {
   "cell_type": "markdown",
   "id": "84a508ba",
   "metadata": {},
   "source": [
    "### Preserve The CASEIDs"
   ]
  },
  {
   "cell_type": "code",
   "execution_count": 5,
   "id": "fc59fd9e",
   "metadata": {},
   "outputs": [],
   "source": [
    "drug_2010 = pd.read_stata('Data_File/2010.dta', convert_categoricals=False).set_index('CASEID')\n",
    "drug_2011 = pd.read_stata('Data_File/2011.dta', convert_categoricals=False).set_index('CASEID')\n",
    "drug_2012 = pd.read_stata('Data_File/2012.dta', convert_categoricals=False).set_index('CASEID')\n",
    "drug_2013 = pd.read_stata('Data_File/2013.dta', convert_categoricals=False).set_index('CASEID')\n",
    "drug_2014 = pd.read_stata('Data_File/2014.dta', convert_categoricals=False).set_index('CASEID')"
   ]
  },
  {
   "cell_type": "code",
   "execution_count": 6,
   "id": "3a72e844",
   "metadata": {},
   "outputs": [],
   "source": [
    "#testing for 2012\n",
    "drug_2012 = pd.read_stata('data/2012.dta', convert_categoricals=False).set_index('CASEID')\n",
    "crime_2012 = drug_2012[[\"SNYSTOLE\", \"SNYSELL\", \"BOOKED\", \"LOCJAIL\"]]\n",
    "crime = crime_2012"
   ]
  },
  {
   "cell_type": "code",
   "execution_count": 3,
   "id": "7831b6c3",
   "metadata": {},
   "outputs": [
    {
     "data": {
      "text/html": [
       "<div>\n",
       "<style scoped>\n",
       "    .dataframe tbody tr th:only-of-type {\n",
       "        vertical-align: middle;\n",
       "    }\n",
       "\n",
       "    .dataframe tbody tr th {\n",
       "        vertical-align: top;\n",
       "    }\n",
       "\n",
       "    .dataframe thead th {\n",
       "        text-align: right;\n",
       "    }\n",
       "</style>\n",
       "<table border=\"1\" class=\"dataframe\">\n",
       "  <thead>\n",
       "    <tr style=\"text-align: right;\">\n",
       "      <th></th>\n",
       "      <th>SNYSTOLE</th>\n",
       "      <th>SNYSELL</th>\n",
       "      <th>BOOKED</th>\n",
       "      <th>LOCJAIL</th>\n",
       "    </tr>\n",
       "    <tr>\n",
       "      <th>CASEID</th>\n",
       "      <th></th>\n",
       "      <th></th>\n",
       "      <th></th>\n",
       "      <th></th>\n",
       "    </tr>\n",
       "  </thead>\n",
       "  <tbody>\n",
       "    <tr>\n",
       "      <th>1</th>\n",
       "      <td>1</td>\n",
       "      <td>1</td>\n",
       "      <td>2</td>\n",
       "      <td>0</td>\n",
       "    </tr>\n",
       "    <tr>\n",
       "      <th>2</th>\n",
       "      <td>1</td>\n",
       "      <td>1</td>\n",
       "      <td>2</td>\n",
       "      <td>0</td>\n",
       "    </tr>\n",
       "    <tr>\n",
       "      <th>3</th>\n",
       "      <td>99</td>\n",
       "      <td>99</td>\n",
       "      <td>2</td>\n",
       "      <td>0</td>\n",
       "    </tr>\n",
       "    <tr>\n",
       "      <th>4</th>\n",
       "      <td>1</td>\n",
       "      <td>1</td>\n",
       "      <td>2</td>\n",
       "      <td>0</td>\n",
       "    </tr>\n",
       "    <tr>\n",
       "      <th>5</th>\n",
       "      <td>1</td>\n",
       "      <td>1</td>\n",
       "      <td>1</td>\n",
       "      <td>0</td>\n",
       "    </tr>\n",
       "    <tr>\n",
       "      <th>...</th>\n",
       "      <td>...</td>\n",
       "      <td>...</td>\n",
       "      <td>...</td>\n",
       "      <td>...</td>\n",
       "    </tr>\n",
       "    <tr>\n",
       "      <th>55267</th>\n",
       "      <td>1</td>\n",
       "      <td>1</td>\n",
       "      <td>2</td>\n",
       "      <td>0</td>\n",
       "    </tr>\n",
       "    <tr>\n",
       "      <th>55268</th>\n",
       "      <td>1</td>\n",
       "      <td>1</td>\n",
       "      <td>1</td>\n",
       "      <td>0</td>\n",
       "    </tr>\n",
       "    <tr>\n",
       "      <th>55269</th>\n",
       "      <td>1</td>\n",
       "      <td>1</td>\n",
       "      <td>2</td>\n",
       "      <td>0</td>\n",
       "    </tr>\n",
       "    <tr>\n",
       "      <th>55270</th>\n",
       "      <td>1</td>\n",
       "      <td>1</td>\n",
       "      <td>2</td>\n",
       "      <td>0</td>\n",
       "    </tr>\n",
       "    <tr>\n",
       "      <th>55271</th>\n",
       "      <td>1</td>\n",
       "      <td>1</td>\n",
       "      <td>2</td>\n",
       "      <td>0</td>\n",
       "    </tr>\n",
       "  </tbody>\n",
       "</table>\n",
       "<p>281409 rows × 4 columns</p>\n",
       "</div>"
      ],
      "text/plain": [
       "        SNYSTOLE  SNYSELL  BOOKED  LOCJAIL\n",
       "CASEID                                    \n",
       "1              1        1       2        0\n",
       "2              1        1       2        0\n",
       "3             99       99       2        0\n",
       "4              1        1       2        0\n",
       "5              1        1       1        0\n",
       "...          ...      ...     ...      ...\n",
       "55267          1        1       2        0\n",
       "55268          1        1       1        0\n",
       "55269          1        1       2        0\n",
       "55270          1        1       2        0\n",
       "55271          1        1       2        0\n",
       "\n",
       "[281409 rows x 4 columns]"
      ]
     },
     "execution_count": 3,
     "metadata": {},
     "output_type": "execute_result"
    }
   ],
   "source": [
    "# only contains the variables with <40% missingness\n",
    "crime_2010 = drug_2010[[\"SNYSTOLE\", \"SNYSELL\", \"BOOKED\", \"LOCJAIL\"]]\n",
    "crime_2011 = drug_2011[[\"SNYSTOLE\", \"SNYSELL\", \"BOOKED\", \"LOCJAIL\"]]\n",
    "crime_2012 = drug_2012[[\"SNYSTOLE\", \"SNYSELL\", \"BOOKED\", \"LOCJAIL\"]]\n",
    "crime_2013 = drug_2013[[\"SNYSTOLE\", \"SNYSELL\", \"BOOKED\", \"LOCJAIL\"]]\n",
    "crime_2014 = drug_2014[[\"SNYSTOLE\", \"SNYSELL\", \"BOOKED\", \"LOCJAIL\"]]\n",
    "\n",
    "#combine the dataframes\n",
    "crime = pd.concat([crime_2010, crime_2011, crime_2012, crime_2013, crime_2014])\n",
    "crime"
   ]
  },
  {
   "cell_type": "markdown",
   "id": "5691e6f7",
   "metadata": {},
   "source": [
    "### Clean the data (Non-Missing Data)"
   ]
  },
  {
   "cell_type": "code",
   "execution_count": 7,
   "id": "02a3a637",
   "metadata": {},
   "outputs": [
    {
     "name": "stderr",
     "output_type": "stream",
     "text": [
      "/tmp/ipykernel_294/1736908978.py:10: SettingWithCopyWarning: \n",
      "A value is trying to be set on a copy of a slice from a DataFrame.\n",
      "Try using .loc[row_indexer,col_indexer] = value instead\n",
      "\n",
      "See the caveats in the documentation: https://pandas.pydata.org/pandas-docs/stable/user_guide/indexing.html#returning-a-view-versus-a-copy\n",
      "  crime[col] = crime[col].replace(replace[col + \"_replace\"])\n"
     ]
    }
   ],
   "source": [
    "# Replace non-missing data with meaningful descriptions\n",
    "replace = {\n",
    "\"SNYSTOLE_replace\" : {1: \"0\", 2: \"1-2\", 3:\"3-5\", 4: \"6-9\", 5: \">=10\"}, #85:bad data; 89: LEGITIMATE SKIP; 94:don't know; 97:refused; 98:blank; 99:skip\n",
    "\"SNYSELL_replace\" : {1: \"0\", 2: \"1-2\", 3:\"3-5\", 4: \"6-9\", 5: \">=10\"}, #85:bad data; 89: LEGITIMATE SKIP; 94:don't know; 97:refused; 98:blank; 99:skip\n",
    "\"BOOKED_replace\" : {1: \"Yes\", 2: \"No\"}, #3: Yes LOGICALLY ASSIGNED; 85:bad data; 94:don't know; 97:refused; 98:blank;\n",
    "\"LOCJAIL_replace\" : {0:\"No/Unknown\", 1: \"Yes\"}\n",
    "}\n",
    "\n",
    "for col in crime.columns:\n",
    "    crime[col] = crime[col].replace(replace[col + \"_replace\"])\n",
    "        "
   ]
  },
  {
   "cell_type": "markdown",
   "id": "8da9b79c",
   "metadata": {},
   "source": [
    "### Rename the columns of Crime Variables"
   ]
  },
  {
   "cell_type": "code",
   "execution_count": 8,
   "id": "46cfbeb9",
   "metadata": {},
   "outputs": [],
   "source": [
    "# Rename the columns\n",
    "crime = crime.rename({\"SNYSTOLE\":'Ever_Steal_50', \"SNYSELL\": 'Sell_Illgal_Drugs', \n",
    "               \"BOOKED\":\"Ever_Booked_Arrested\", \"LOCJAIL\":\"Drug_or_Alc_Past_year\"},axis=1)"
   ]
  },
  {
   "cell_type": "code",
   "execution_count": 9,
   "id": "76abd8cb",
   "metadata": {},
   "outputs": [
    {
     "data": {
      "text/html": [
       "<div>\n",
       "<style scoped>\n",
       "    .dataframe tbody tr th:only-of-type {\n",
       "        vertical-align: middle;\n",
       "    }\n",
       "\n",
       "    .dataframe tbody tr th {\n",
       "        vertical-align: top;\n",
       "    }\n",
       "\n",
       "    .dataframe thead th {\n",
       "        text-align: right;\n",
       "    }\n",
       "</style>\n",
       "<table border=\"1\" class=\"dataframe\">\n",
       "  <thead>\n",
       "    <tr style=\"text-align: right;\">\n",
       "      <th></th>\n",
       "      <th>Ever_Steal_50</th>\n",
       "      <th>Sell_Illgal_Drugs</th>\n",
       "      <th>Ever_Booked_Arrested</th>\n",
       "      <th>Drug_or_Alc_Past_year</th>\n",
       "    </tr>\n",
       "    <tr>\n",
       "      <th>CASEID</th>\n",
       "      <th></th>\n",
       "      <th></th>\n",
       "      <th></th>\n",
       "      <th></th>\n",
       "    </tr>\n",
       "  </thead>\n",
       "  <tbody>\n",
       "    <tr>\n",
       "      <th>1</th>\n",
       "      <td>99</td>\n",
       "      <td>99</td>\n",
       "      <td>No</td>\n",
       "      <td>No/Unknown</td>\n",
       "    </tr>\n",
       "    <tr>\n",
       "      <th>2</th>\n",
       "      <td>0</td>\n",
       "      <td>0</td>\n",
       "      <td>No</td>\n",
       "      <td>No/Unknown</td>\n",
       "    </tr>\n",
       "    <tr>\n",
       "      <th>3</th>\n",
       "      <td>0</td>\n",
       "      <td>0</td>\n",
       "      <td>No</td>\n",
       "      <td>No/Unknown</td>\n",
       "    </tr>\n",
       "    <tr>\n",
       "      <th>4</th>\n",
       "      <td>0</td>\n",
       "      <td>0</td>\n",
       "      <td>No</td>\n",
       "      <td>No/Unknown</td>\n",
       "    </tr>\n",
       "    <tr>\n",
       "      <th>5</th>\n",
       "      <td>0</td>\n",
       "      <td>0</td>\n",
       "      <td>No</td>\n",
       "      <td>No/Unknown</td>\n",
       "    </tr>\n",
       "    <tr>\n",
       "      <th>...</th>\n",
       "      <td>...</td>\n",
       "      <td>...</td>\n",
       "      <td>...</td>\n",
       "      <td>...</td>\n",
       "    </tr>\n",
       "    <tr>\n",
       "      <th>55264</th>\n",
       "      <td>0</td>\n",
       "      <td>0</td>\n",
       "      <td>No</td>\n",
       "      <td>No/Unknown</td>\n",
       "    </tr>\n",
       "    <tr>\n",
       "      <th>55265</th>\n",
       "      <td>99</td>\n",
       "      <td>99</td>\n",
       "      <td>Yes</td>\n",
       "      <td>No/Unknown</td>\n",
       "    </tr>\n",
       "    <tr>\n",
       "      <th>55266</th>\n",
       "      <td>0</td>\n",
       "      <td>0</td>\n",
       "      <td>No</td>\n",
       "      <td>No/Unknown</td>\n",
       "    </tr>\n",
       "    <tr>\n",
       "      <th>55267</th>\n",
       "      <td>0</td>\n",
       "      <td>0</td>\n",
       "      <td>No</td>\n",
       "      <td>No/Unknown</td>\n",
       "    </tr>\n",
       "    <tr>\n",
       "      <th>55268</th>\n",
       "      <td>98</td>\n",
       "      <td>98</td>\n",
       "      <td>98</td>\n",
       "      <td>No/Unknown</td>\n",
       "    </tr>\n",
       "  </tbody>\n",
       "</table>\n",
       "<p>55268 rows × 4 columns</p>\n",
       "</div>"
      ],
      "text/plain": [
       "       Ever_Steal_50 Sell_Illgal_Drugs Ever_Booked_Arrested  \\\n",
       "CASEID                                                        \n",
       "1                 99                99                   No   \n",
       "2                  0                 0                   No   \n",
       "3                  0                 0                   No   \n",
       "4                  0                 0                   No   \n",
       "5                  0                 0                   No   \n",
       "...              ...               ...                  ...   \n",
       "55264              0                 0                   No   \n",
       "55265             99                99                  Yes   \n",
       "55266              0                 0                   No   \n",
       "55267              0                 0                   No   \n",
       "55268             98                98                   98   \n",
       "\n",
       "       Drug_or_Alc_Past_year  \n",
       "CASEID                        \n",
       "1                 No/Unknown  \n",
       "2                 No/Unknown  \n",
       "3                 No/Unknown  \n",
       "4                 No/Unknown  \n",
       "5                 No/Unknown  \n",
       "...                      ...  \n",
       "55264             No/Unknown  \n",
       "55265             No/Unknown  \n",
       "55266             No/Unknown  \n",
       "55267             No/Unknown  \n",
       "55268             No/Unknown  \n",
       "\n",
       "[55268 rows x 4 columns]"
      ]
     },
     "execution_count": 9,
     "metadata": {},
     "output_type": "execute_result"
    }
   ],
   "source": [
    "crime"
   ]
  },
  {
   "cell_type": "markdown",
   "id": "3822bc0c",
   "metadata": {},
   "source": [
    "### Impute Missing Data"
   ]
  },
  {
   "cell_type": "code",
   "execution_count": 12,
   "id": "c060d66d",
   "metadata": {},
   "outputs": [
    {
     "name": "stdout",
     "output_type": "stream",
     "text": [
      "0       37126\n",
      "99      17399\n",
      "1-2       424\n",
      "3-5        99\n",
      ">=10       92\n",
      "97         56\n",
      "6-9        46\n",
      "94         22\n",
      "98          4\n",
      "Name: Ever_Steal_50, dtype: int64\n",
      "0       36488\n",
      "99      17399\n",
      "1-2       508\n",
      ">=10      445\n",
      "3-5       216\n",
      "6-9       103\n",
      "97         79\n",
      "94         26\n",
      "98          4\n",
      "Name: Sell_Illgal_Drugs, dtype: int64\n",
      "No     46593\n",
      "Yes     8011\n",
      "3        514\n",
      "97        97\n",
      "94        49\n",
      "98         3\n",
      "85         1\n",
      "Name: Ever_Booked_Arrested, dtype: int64\n",
      "No/Unknown    55156\n",
      "Yes             112\n",
      "Name: Drug_or_Alc_Past_year, dtype: int64\n"
     ]
    }
   ],
   "source": [
    "for col in crime.columns:\n",
    "    print(crime[col].value_counts())"
   ]
  },
  {
   "cell_type": "markdown",
   "id": "e7faf05e",
   "metadata": {},
   "source": [
    "There are **86854** missing/bad data in Ever_Steal_50, **87052** in Sell_Illgal_Drugs, **3269** in Ever_Booked_Arrested, **0** in Drug_or_Alc_Past_year"
   ]
  },
  {
   "cell_type": "code",
   "execution_count": 13,
   "id": "6fb96561",
   "metadata": {},
   "outputs": [
    {
     "data": {
      "text/html": [
       "<div>\n",
       "<style scoped>\n",
       "    .dataframe tbody tr th:only-of-type {\n",
       "        vertical-align: middle;\n",
       "    }\n",
       "\n",
       "    .dataframe tbody tr th {\n",
       "        vertical-align: top;\n",
       "    }\n",
       "\n",
       "    .dataframe thead th {\n",
       "        text-align: right;\n",
       "    }\n",
       "</style>\n",
       "<table border=\"1\" class=\"dataframe\">\n",
       "  <thead>\n",
       "    <tr style=\"text-align: right;\">\n",
       "      <th></th>\n",
       "      <th>Ever_Steal_50</th>\n",
       "      <th>Sell_Illgal_Drugs</th>\n",
       "      <th>Ever_Booked_Arrested</th>\n",
       "      <th>Drug_or_Alc_Past_year</th>\n",
       "    </tr>\n",
       "    <tr>\n",
       "      <th>CASEID</th>\n",
       "      <th></th>\n",
       "      <th></th>\n",
       "      <th></th>\n",
       "      <th></th>\n",
       "    </tr>\n",
       "  </thead>\n",
       "  <tbody>\n",
       "    <tr>\n",
       "      <th>1</th>\n",
       "      <td>1-2</td>\n",
       "      <td>0</td>\n",
       "      <td>No</td>\n",
       "      <td>No/Unknown</td>\n",
       "    </tr>\n",
       "    <tr>\n",
       "      <th>2</th>\n",
       "      <td>0</td>\n",
       "      <td>0</td>\n",
       "      <td>No</td>\n",
       "      <td>No/Unknown</td>\n",
       "    </tr>\n",
       "    <tr>\n",
       "      <th>3</th>\n",
       "      <td>0</td>\n",
       "      <td>0</td>\n",
       "      <td>No</td>\n",
       "      <td>No/Unknown</td>\n",
       "    </tr>\n",
       "    <tr>\n",
       "      <th>4</th>\n",
       "      <td>0</td>\n",
       "      <td>0</td>\n",
       "      <td>No</td>\n",
       "      <td>No/Unknown</td>\n",
       "    </tr>\n",
       "    <tr>\n",
       "      <th>5</th>\n",
       "      <td>0</td>\n",
       "      <td>0</td>\n",
       "      <td>No</td>\n",
       "      <td>No/Unknown</td>\n",
       "    </tr>\n",
       "    <tr>\n",
       "      <th>...</th>\n",
       "      <td>...</td>\n",
       "      <td>...</td>\n",
       "      <td>...</td>\n",
       "      <td>...</td>\n",
       "    </tr>\n",
       "    <tr>\n",
       "      <th>55264</th>\n",
       "      <td>0</td>\n",
       "      <td>0</td>\n",
       "      <td>No</td>\n",
       "      <td>No/Unknown</td>\n",
       "    </tr>\n",
       "    <tr>\n",
       "      <th>55265</th>\n",
       "      <td>0</td>\n",
       "      <td>0</td>\n",
       "      <td>Yes</td>\n",
       "      <td>No/Unknown</td>\n",
       "    </tr>\n",
       "    <tr>\n",
       "      <th>55266</th>\n",
       "      <td>0</td>\n",
       "      <td>0</td>\n",
       "      <td>No</td>\n",
       "      <td>No/Unknown</td>\n",
       "    </tr>\n",
       "    <tr>\n",
       "      <th>55267</th>\n",
       "      <td>0</td>\n",
       "      <td>0</td>\n",
       "      <td>No</td>\n",
       "      <td>No/Unknown</td>\n",
       "    </tr>\n",
       "    <tr>\n",
       "      <th>55268</th>\n",
       "      <td>0</td>\n",
       "      <td>0</td>\n",
       "      <td>No</td>\n",
       "      <td>No/Unknown</td>\n",
       "    </tr>\n",
       "  </tbody>\n",
       "</table>\n",
       "<p>55268 rows × 4 columns</p>\n",
       "</div>"
      ],
      "text/plain": [
       "       Ever_Steal_50 Sell_Illgal_Drugs Ever_Booked_Arrested  \\\n",
       "CASEID                                                        \n",
       "1                1-2                 0                   No   \n",
       "2                  0                 0                   No   \n",
       "3                  0                 0                   No   \n",
       "4                  0                 0                   No   \n",
       "5                  0                 0                   No   \n",
       "...              ...               ...                  ...   \n",
       "55264              0                 0                   No   \n",
       "55265              0                 0                  Yes   \n",
       "55266              0                 0                   No   \n",
       "55267              0                 0                   No   \n",
       "55268              0                 0                   No   \n",
       "\n",
       "       Drug_or_Alc_Past_year  \n",
       "CASEID                        \n",
       "1                 No/Unknown  \n",
       "2                 No/Unknown  \n",
       "3                 No/Unknown  \n",
       "4                 No/Unknown  \n",
       "5                 No/Unknown  \n",
       "...                      ...  \n",
       "55264             No/Unknown  \n",
       "55265             No/Unknown  \n",
       "55266             No/Unknown  \n",
       "55267             No/Unknown  \n",
       "55268             No/Unknown  \n",
       "\n",
       "[55268 rows x 4 columns]"
      ]
     },
     "execution_count": 13,
     "metadata": {},
     "output_type": "execute_result"
    }
   ],
   "source": [
    "# short versions for the column names\n",
    "steal = \"Ever_Steal_50\"\n",
    "sell = \"Sell_Illgal_Drugs\"\n",
    "booked = \"Ever_Booked_Arrested\"\n",
    "\n",
    "#Sample values from the observed values to fill the missing values\n",
    "steal_not_missing = crime[(crime[steal] != 85) & (crime[steal] != 94) & (crime[steal] != 97) \n",
    "                          & (crime[steal] != 98) & (crime[steal] != 99) & (crime[steal] != 89)]\n",
    "sell_not_missing = crime[(crime[sell] != 85) & (crime[sell] != 94) & (crime[sell] != 97) & \n",
    "                         (crime[sell] != 98) & (crime[sell] != 99) & (crime[sell] != 89)]\n",
    "booked_not_missing = crime[(crime[booked] != 85) & (crime[booked] != 94) & (crime[booked] != 97) & \n",
    "                           (crime[booked] != 98) & (crime[booked] != 3)]\n",
    "\n",
    "fill_values_steal = np.random.choice(steal_not_missing[steal], crime.shape[0]-steal_not_missing.shape[0])\n",
    "fill_values_sell = np.random.choice(steal_not_missing[sell], crime.shape[0]-sell_not_missing.shape[0])\n",
    "fill_values_booked = np.random.choice(booked_not_missing[booked], crime.shape[0]-booked_not_missing.shape[0])\n",
    "\n",
    "#fill the missing values\n",
    "steal_missing = (crime[steal] == 85) | (crime[steal] == 94) | (crime[steal] == 97) | (crime[steal] == 98) | (crime[steal] == 99) | (crime[steal] == 89)\n",
    "sell_missing = (crime[sell] == 85) | (crime[sell] == 94) | (crime[sell] == 97) | (crime[sell] == 98) | (crime[sell] == 99) | (crime[sell] == 89)\n",
    "booked_missing = (crime[booked] == 85) | (crime[booked] == 94) | (crime[booked] == 97) | (crime[booked] == 98) | (crime[booked] == 3)\n",
    "\n",
    "\n",
    "crime.loc[steal_missing, steal] = fill_values_steal\n",
    "crime.loc[sell_missing, sell] = fill_values_sell\n",
    "crime.loc[booked_missing, booked] = fill_values_booked\n",
    "\n",
    "crime"
   ]
  },
  {
   "cell_type": "markdown",
   "id": "d59a8b87",
   "metadata": {},
   "source": [
    "### Merge with other clean dataset with aggregated data from 2010 to 2014\n",
    "\n",
    "Waiting for data..."
   ]
  },
  {
   "cell_type": "code",
   "execution_count": 10,
   "id": "06d66003",
   "metadata": {},
   "outputs": [],
   "source": [
    "#religion_crime = crime.merge(religion, left_on='CASEID', right_on='CASEID', how='inner')"
   ]
  },
  {
   "cell_type": "code",
   "execution_count": 11,
   "id": "f0c06c42",
   "metadata": {},
   "outputs": [],
   "source": [
    "#religion_crime.to_csv('Data_File/religion_crime.csv')"
   ]
  },
  {
   "cell_type": "code",
   "execution_count": 23,
   "id": "cac7646d",
   "metadata": {},
   "outputs": [],
   "source": [
    "demo_religion_2012 = pd.read_csv('data/religion_demographics_2012.csv')"
   ]
  },
  {
   "cell_type": "code",
   "execution_count": 24,
   "id": "a81a49bc",
   "metadata": {},
   "outputs": [],
   "source": [
    "demo_religion_2012 = demo_religion_2012.drop(columns=['Unnamed: 0'])"
   ]
  },
  {
   "cell_type": "code",
   "execution_count": 25,
   "id": "a02c18e1",
   "metadata": {},
   "outputs": [
    {
     "data": {
      "text/plain": [
       "Index(['CASEID', 'Age', 'Health', 'Sex', 'Marriage', 'Education', 'Race',\n",
       "       'Employment', 'religion_services', 'religion_important',\n",
       "       'religion_influence_decision', 'religion_share_important'],\n",
       "      dtype='object')"
      ]
     },
     "execution_count": 25,
     "metadata": {},
     "output_type": "execute_result"
    }
   ],
   "source": [
    "demo_religion_2012.columns"
   ]
  },
  {
   "cell_type": "code",
   "execution_count": 29,
   "id": "a93c22e1",
   "metadata": {},
   "outputs": [
    {
     "data": {
      "text/plain": [
       "(55268, 12)"
      ]
     },
     "execution_count": 29,
     "metadata": {},
     "output_type": "execute_result"
    }
   ],
   "source": [
    "demo_religion_2012.shape"
   ]
  },
  {
   "cell_type": "code",
   "execution_count": 26,
   "id": "3c05b043",
   "metadata": {},
   "outputs": [],
   "source": [
    "demo_religion_crime_2012 = crime.merge(demo_religion_2012, left_on='CASEID', right_on='CASEID', how='inner')"
   ]
  },
  {
   "cell_type": "code",
   "execution_count": 28,
   "id": "ec77120b",
   "metadata": {},
   "outputs": [
    {
     "data": {
      "text/plain": [
       "Index(['CASEID', 'Ever_Steal_50', 'Sell_Illgal_Drugs', 'Ever_Booked_Arrested',\n",
       "       'Drug_or_Alc_Past_year', 'Age', 'Health', 'Sex', 'Marriage',\n",
       "       'Education', 'Race', 'Employment', 'religion_services',\n",
       "       'religion_important', 'religion_influence_decision',\n",
       "       'religion_share_important'],\n",
       "      dtype='object')"
      ]
     },
     "execution_count": 28,
     "metadata": {},
     "output_type": "execute_result"
    }
   ],
   "source": [
    "demo_religion_crime_2012.columns"
   ]
  },
  {
   "cell_type": "code",
   "execution_count": null,
   "id": "7eeffe76",
   "metadata": {},
   "outputs": [],
   "source": [
    "demo_religion_crime_2012."
   ]
  },
  {
   "cell_type": "code",
   "execution_count": 18,
   "id": "4f2b7350",
   "metadata": {},
   "outputs": [],
   "source": [
    "demo_religion_crime_2012.to_csv('data/demo_religion_crime_2012.csv')"
   ]
  },
  {
   "cell_type": "code",
   "execution_count": 20,
   "id": "995407d5",
   "metadata": {},
   "outputs": [
    {
     "data": {
      "text/plain": [
       "Index(['CASEID', 'Ever_Steal_50', 'Sell_Illgal_Drugs', 'Ever_Booked_Arrested',\n",
       "       'Drug_or_Alc_Past_year', 'Unnamed: 0', 'Age', 'Health', 'Sex',\n",
       "       'Marriage', 'Education', 'Race', 'Employment', 'religion_services',\n",
       "       'religion_important', 'religion_influence_decision',\n",
       "       'religion_share_important'],\n",
       "      dtype='object')"
      ]
     },
     "execution_count": 20,
     "metadata": {},
     "output_type": "execute_result"
    }
   ],
   "source": [
    "demo_religion_crime_2012.columns"
   ]
  },
  {
   "cell_type": "code",
   "execution_count": null,
   "id": "b54f3ae9",
   "metadata": {},
   "outputs": [],
   "source": []
  }
 ],
 "metadata": {
  "kernelspec": {
   "display_name": "Python 3 (ipykernel)",
   "language": "python",
   "name": "python3"
  },
  "language_info": {
   "codemirror_mode": {
    "name": "ipython",
    "version": 3
   },
   "file_extension": ".py",
   "mimetype": "text/x-python",
   "name": "python",
   "nbconvert_exporter": "python",
   "pygments_lexer": "ipython3",
   "version": "3.9.5"
  }
 },
 "nbformat": 4,
 "nbformat_minor": 5
}
