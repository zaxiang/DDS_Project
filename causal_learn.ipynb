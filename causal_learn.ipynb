{
 "cells": [
  {
   "cell_type": "code",
   "execution_count": 2,
   "id": "efdd6160",
   "metadata": {},
   "outputs": [
    {
     "name": "stdout",
     "output_type": "stream",
     "text": [
      "Defaulting to user installation because normal site-packages is not writeable\n",
      "Collecting causal-learn\n",
      "  Downloading causal_learn-0.1.3.3-py3-none-any.whl (172 kB)\n",
      "\u001b[K     |████████████████████████████████| 172 kB 12.7 MB/s eta 0:00:01\n",
      "\u001b[?25hCollecting pydot\n",
      "  Downloading pydot-1.4.2-py2.py3-none-any.whl (21 kB)\n",
      "Requirement already satisfied: statsmodels in /opt/conda/lib/python3.9/site-packages (from causal-learn) (0.12.2)\n",
      "Requirement already satisfied: scikit-learn in /opt/conda/lib/python3.9/site-packages (from causal-learn) (0.24.2)\n",
      "Requirement already satisfied: pandas in /opt/conda/lib/python3.9/site-packages (from causal-learn) (1.3.4)\n",
      "Requirement already satisfied: tqdm in /opt/conda/lib/python3.9/site-packages (from causal-learn) (4.61.2)\n",
      "Collecting graphviz\n",
      "  Downloading graphviz-0.20.1-py3-none-any.whl (47 kB)\n",
      "\u001b[K     |████████████████████████████████| 47 kB 13.4 MB/s eta 0:00:01\n",
      "\u001b[?25hRequirement already satisfied: scipy in /opt/conda/lib/python3.9/site-packages (from causal-learn) (1.7.0)\n",
      "Requirement already satisfied: numpy in /opt/conda/lib/python3.9/site-packages (from causal-learn) (1.19.5)\n",
      "Requirement already satisfied: matplotlib in /opt/conda/lib/python3.9/site-packages (from causal-learn) (3.4.2)\n",
      "Requirement already satisfied: networkx in /opt/conda/lib/python3.9/site-packages (from causal-learn) (2.5)\n",
      "Requirement already satisfied: pyparsing>=2.2.1 in /opt/conda/lib/python3.9/site-packages (from matplotlib->causal-learn) (2.4.7)\n",
      "Requirement already satisfied: pillow>=6.2.0 in /opt/conda/lib/python3.9/site-packages (from matplotlib->causal-learn) (8.3.1)\n",
      "Requirement already satisfied: cycler>=0.10 in /opt/conda/lib/python3.9/site-packages (from matplotlib->causal-learn) (0.10.0)\n",
      "Requirement already satisfied: python-dateutil>=2.7 in /opt/conda/lib/python3.9/site-packages (from matplotlib->causal-learn) (2.8.2)\n",
      "Requirement already satisfied: kiwisolver>=1.0.1 in /opt/conda/lib/python3.9/site-packages (from matplotlib->causal-learn) (1.3.1)\n",
      "Requirement already satisfied: six in /opt/conda/lib/python3.9/site-packages (from cycler>=0.10->matplotlib->causal-learn) (1.15.0)\n",
      "Requirement already satisfied: decorator>=4.3.0 in /opt/conda/lib/python3.9/site-packages (from networkx->causal-learn) (5.0.9)\n",
      "Requirement already satisfied: pytz>=2017.3 in /opt/conda/lib/python3.9/site-packages (from pandas->causal-learn) (2021.1)\n",
      "Requirement already satisfied: joblib>=0.11 in /opt/conda/lib/python3.9/site-packages (from scikit-learn->causal-learn) (1.0.1)\n",
      "Requirement already satisfied: threadpoolctl>=2.0.0 in /opt/conda/lib/python3.9/site-packages (from scikit-learn->causal-learn) (2.2.0)\n",
      "Requirement already satisfied: patsy>=0.5 in /opt/conda/lib/python3.9/site-packages (from statsmodels->causal-learn) (0.5.1)\n",
      "Installing collected packages: pydot, graphviz, causal-learn\n",
      "Successfully installed causal-learn-0.1.3.3 graphviz-0.20.1 pydot-1.4.2\n"
     ]
    }
   ],
   "source": [
    "!pip install causal-learn"
   ]
  },
  {
   "cell_type": "code",
   "execution_count": 88,
   "id": "42a1797b",
   "metadata": {},
   "outputs": [],
   "source": [
    "from causallearn.utils.cit import CIT\n",
    "import pandas\n",
    "from scipy.stats import chi2_contingency\n",
    "\n",
    "import pandas as pd\n",
    "import numpy as np"
   ]
  },
  {
   "cell_type": "code",
   "execution_count": 91,
   "id": "3210cdfc",
   "metadata": {},
   "outputs": [
    {
     "data": {
      "text/html": [
       "<div>\n",
       "<style scoped>\n",
       "    .dataframe tbody tr th:only-of-type {\n",
       "        vertical-align: middle;\n",
       "    }\n",
       "\n",
       "    .dataframe tbody tr th {\n",
       "        vertical-align: top;\n",
       "    }\n",
       "\n",
       "    .dataframe thead th {\n",
       "        text-align: right;\n",
       "    }\n",
       "</style>\n",
       "<table border=\"1\" class=\"dataframe\">\n",
       "  <thead>\n",
       "    <tr style=\"text-align: right;\">\n",
       "      <th></th>\n",
       "      <th>Unnamed: 0</th>\n",
       "      <th>CASEID</th>\n",
       "      <th>inpatient</th>\n",
       "      <th>outpatient</th>\n",
       "      <th>needed_not_rcvd</th>\n",
       "      <th>rcvd_any_tmt</th>\n",
       "      <th>suic_thought_pst_12month</th>\n",
       "      <th>psych_distress_month</th>\n",
       "      <th>psych_distress_yr</th>\n",
       "      <th>suic_thought_pst_yr</th>\n",
       "      <th>...</th>\n",
       "      <th>Health</th>\n",
       "      <th>Sex</th>\n",
       "      <th>Marriage</th>\n",
       "      <th>Education</th>\n",
       "      <th>Race</th>\n",
       "      <th>Employment</th>\n",
       "      <th>religion_services</th>\n",
       "      <th>religion_important</th>\n",
       "      <th>religion_influence_decision</th>\n",
       "      <th>religion_share_important</th>\n",
       "    </tr>\n",
       "  </thead>\n",
       "  <tbody>\n",
       "    <tr>\n",
       "      <th>0</th>\n",
       "      <td>0</td>\n",
       "      <td>1</td>\n",
       "      <td>1.0</td>\n",
       "      <td>1.0</td>\n",
       "      <td>1.0</td>\n",
       "      <td>1.0</td>\n",
       "      <td>1.0</td>\n",
       "      <td>0.0</td>\n",
       "      <td>0.0</td>\n",
       "      <td>0.0</td>\n",
       "      <td>...</td>\n",
       "      <td>H_Excellent</td>\n",
       "      <td>Female</td>\n",
       "      <td>Not_Married</td>\n",
       "      <td>Edu_youth</td>\n",
       "      <td>White</td>\n",
       "      <td>E_Unemployed</td>\n",
       "      <td>99</td>\n",
       "      <td>99</td>\n",
       "      <td>99</td>\n",
       "      <td>99</td>\n",
       "    </tr>\n",
       "    <tr>\n",
       "      <th>1</th>\n",
       "      <td>1</td>\n",
       "      <td>2</td>\n",
       "      <td>1.0</td>\n",
       "      <td>1.0</td>\n",
       "      <td>1.0</td>\n",
       "      <td>1.0</td>\n",
       "      <td>1.0</td>\n",
       "      <td>0.0</td>\n",
       "      <td>0.0</td>\n",
       "      <td>0.0</td>\n",
       "      <td>...</td>\n",
       "      <td>H_Excellent</td>\n",
       "      <td>Female</td>\n",
       "      <td>Married</td>\n",
       "      <td>Some_college</td>\n",
       "      <td>White</td>\n",
       "      <td>E_full_time</td>\n",
       "      <td>1-2</td>\n",
       "      <td>Agree</td>\n",
       "      <td>Agree</td>\n",
       "      <td>Disagree</td>\n",
       "    </tr>\n",
       "    <tr>\n",
       "      <th>2</th>\n",
       "      <td>2</td>\n",
       "      <td>3</td>\n",
       "      <td>1.0</td>\n",
       "      <td>1.0</td>\n",
       "      <td>1.0</td>\n",
       "      <td>1.0</td>\n",
       "      <td>1.0</td>\n",
       "      <td>0.0</td>\n",
       "      <td>0.0</td>\n",
       "      <td>0.0</td>\n",
       "      <td>...</td>\n",
       "      <td>H_Very_good</td>\n",
       "      <td>Male</td>\n",
       "      <td>Not_Married</td>\n",
       "      <td>High_school_graduate</td>\n",
       "      <td>White</td>\n",
       "      <td>E_full_time</td>\n",
       "      <td>52+</td>\n",
       "      <td>Strongly Agree</td>\n",
       "      <td>Strongly Agree</td>\n",
       "      <td>Disagree</td>\n",
       "    </tr>\n",
       "    <tr>\n",
       "      <th>3</th>\n",
       "      <td>3</td>\n",
       "      <td>4</td>\n",
       "      <td>1.0</td>\n",
       "      <td>1.0</td>\n",
       "      <td>1.0</td>\n",
       "      <td>1.0</td>\n",
       "      <td>1.0</td>\n",
       "      <td>0.0</td>\n",
       "      <td>0.0</td>\n",
       "      <td>0.0</td>\n",
       "      <td>...</td>\n",
       "      <td>H_Very_good</td>\n",
       "      <td>Male</td>\n",
       "      <td>Not_Married</td>\n",
       "      <td>Some_college</td>\n",
       "      <td>White</td>\n",
       "      <td>E_part_time</td>\n",
       "      <td>6-24</td>\n",
       "      <td>Agree</td>\n",
       "      <td>Agree</td>\n",
       "      <td>Strongly Disagree</td>\n",
       "    </tr>\n",
       "    <tr>\n",
       "      <th>4</th>\n",
       "      <td>4</td>\n",
       "      <td>5</td>\n",
       "      <td>1.0</td>\n",
       "      <td>1.0</td>\n",
       "      <td>1.0</td>\n",
       "      <td>1.0</td>\n",
       "      <td>1.0</td>\n",
       "      <td>0.0</td>\n",
       "      <td>0.0</td>\n",
       "      <td>0.0</td>\n",
       "      <td>...</td>\n",
       "      <td>H_Very_good</td>\n",
       "      <td>Male</td>\n",
       "      <td>Widowed</td>\n",
       "      <td>College_graduate</td>\n",
       "      <td>White</td>\n",
       "      <td>E_full_time</td>\n",
       "      <td>1-2</td>\n",
       "      <td>Strongly Disagree</td>\n",
       "      <td>Strongly Disagree</td>\n",
       "      <td>Strongly Disagree</td>\n",
       "    </tr>\n",
       "  </tbody>\n",
       "</table>\n",
       "<p>5 rows × 32 columns</p>\n",
       "</div>"
      ],
      "text/plain": [
       "   Unnamed: 0  CASEID  inpatient  outpatient  needed_not_rcvd  rcvd_any_tmt  \\\n",
       "0           0       1        1.0         1.0              1.0           1.0   \n",
       "1           1       2        1.0         1.0              1.0           1.0   \n",
       "2           2       3        1.0         1.0              1.0           1.0   \n",
       "3           3       4        1.0         1.0              1.0           1.0   \n",
       "4           4       5        1.0         1.0              1.0           1.0   \n",
       "\n",
       "   suic_thought_pst_12month  psych_distress_month  psych_distress_yr  \\\n",
       "0                       1.0                   0.0                0.0   \n",
       "1                       1.0                   0.0                0.0   \n",
       "2                       1.0                   0.0                0.0   \n",
       "3                       1.0                   0.0                0.0   \n",
       "4                       1.0                   0.0                0.0   \n",
       "\n",
       "   suic_thought_pst_yr  ...       Health     Sex     Marriage  \\\n",
       "0                  0.0  ...  H_Excellent  Female  Not_Married   \n",
       "1                  0.0  ...  H_Excellent  Female      Married   \n",
       "2                  0.0  ...  H_Very_good    Male  Not_Married   \n",
       "3                  0.0  ...  H_Very_good    Male  Not_Married   \n",
       "4                  0.0  ...  H_Very_good    Male      Widowed   \n",
       "\n",
       "              Education   Race    Employment  religion_services  \\\n",
       "0             Edu_youth  White  E_Unemployed                 99   \n",
       "1          Some_college  White   E_full_time                1-2   \n",
       "2  High_school_graduate  White   E_full_time                52+   \n",
       "3          Some_college  White   E_part_time               6-24   \n",
       "4      College_graduate  White   E_full_time                1-2   \n",
       "\n",
       "  religion_important religion_influence_decision religion_share_important  \n",
       "0                 99                          99                       99  \n",
       "1              Agree                       Agree                 Disagree  \n",
       "2     Strongly Agree              Strongly Agree                 Disagree  \n",
       "3              Agree                       Agree        Strongly Disagree  \n",
       "4  Strongly Disagree           Strongly Disagree        Strongly Disagree  \n",
       "\n",
       "[5 rows x 32 columns]"
      ]
     },
     "execution_count": 91,
     "metadata": {},
     "output_type": "execute_result"
    }
   ],
   "source": [
    "#read data\n",
    "data_df = pd.read_csv('data/demo_religion_crime_health_2012.csv')\n",
    "data_df.head()"
   ]
  },
  {
   "cell_type": "code",
   "execution_count": 69,
   "id": "ed2eafca",
   "metadata": {},
   "outputs": [],
   "source": [
    "# data_test = data_df[['inpatient', 'outpatient', 'rcvd_any_tmt']] "
   ]
  },
  {
   "cell_type": "code",
   "execution_count": 92,
   "id": "d946f56f",
   "metadata": {},
   "outputs": [],
   "source": [
    "def chisq_of_df_cols(df, c1, c2):\n",
    "    groupsizes = df.groupby([c1, c2]).size()\n",
    "    ctsum = groupsizes.unstack(c1)\n",
    "    return chi2_contingency(ctsum.fillna(0))"
   ]
  },
  {
   "cell_type": "markdown",
   "id": "3cc67958",
   "metadata": {},
   "source": [
    "Null hypothesis (H0): Variable 1 and variable 2 are not related in the population\n",
    "\n",
    "p-value < 0.05: the null hypothesis is rejected and test is statistically significant "
   ]
  },
  {
   "cell_type": "code",
   "execution_count": 93,
   "id": "687024e7",
   "metadata": {},
   "outputs": [
    {
     "data": {
      "text/plain": [
       "(1591.0722769981255,\n",
       " 0.0,\n",
       " 1,\n",
       " array([[   80.37336252,  7894.62663748],\n",
       "        [  476.62663748, 46816.37336252]]))"
      ]
     },
     "execution_count": 93,
     "metadata": {},
     "output_type": "execute_result"
    }
   ],
   "source": [
    "chisq_of_df_cols(data_df, 'inpatient', 'rcvd_any_tmt')"
   ]
  },
  {
   "cell_type": "code",
   "execution_count": 94,
   "id": "52461f28",
   "metadata": {},
   "outputs": [
    {
     "data": {
      "text/plain": [
       "(11995.285918667014,\n",
       " 0.0,\n",
       " 1,\n",
       " array([[  583.82517913,  7391.17482087],\n",
       "        [ 3462.17482087, 43830.82517913]]))"
      ]
     },
     "execution_count": 94,
     "metadata": {},
     "output_type": "execute_result"
    }
   ],
   "source": [
    "chisq_of_df_cols(data_df, 'outpatient', 'rcvd_any_tmt')"
   ]
  },
  {
   "cell_type": "code",
   "execution_count": 95,
   "id": "ac37973f",
   "metadata": {},
   "outputs": [
    {
     "data": {
      "text/plain": [
       "(931.9832175961541,\n",
       " 1.0944273940022682e-204,\n",
       " 1,\n",
       " array([[4.07762539e+01, 5.16223746e+02],\n",
       "        [4.00522375e+03, 5.07057763e+04]]))"
      ]
     },
     "execution_count": 95,
     "metadata": {},
     "output_type": "execute_result"
    }
   ],
   "source": [
    "chisq_of_df_cols(data_df, 'outpatient', 'inpatient')"
   ]
  },
  {
   "cell_type": "markdown",
   "id": "b45b6de4",
   "metadata": {},
   "source": [
    "We can reject the null hypothesis under alpha=0.05 and therefore, we can speak about a statistically significant association between outpatient and inopatient treatment\". \n",
    "\n",
    "**Importantly, association by itself does not imply causation. We need to distinguish between marginal associations and conditional associations. The latter is the key building block of causal inference.**\n",
    "https://towardsdatascience.com/a-step-by-step-guide-in-detecting-causal-relationships-using-bayesian-structure-learning-in-python-c20c6b31cee5"
   ]
  },
  {
   "cell_type": "markdown",
   "id": "73d07291",
   "metadata": {},
   "source": [
    "## Causal-Learn "
   ]
  },
  {
   "cell_type": "markdown",
   "id": "489478d4",
   "metadata": {},
   "source": [
    "data: numpy.ndarray, shape (n_samples, n_features). Data, where n_samples is the number of samples and n_features is the number of features."
   ]
  },
  {
   "cell_type": "code",
   "execution_count": 28,
   "id": "6e1960eb",
   "metadata": {},
   "outputs": [],
   "source": [
    "chisq_obj = CIT(data, \"chisq\")"
   ]
  },
  {
   "cell_type": "code",
   "execution_count": 29,
   "id": "8b143ef7",
   "metadata": {},
   "outputs": [
    {
     "ename": "NameError",
     "evalue": "name 'X' is not defined",
     "output_type": "error",
     "traceback": [
      "\u001b[0;31m---------------------------------------------------------------------------\u001b[0m",
      "\u001b[0;31mNameError\u001b[0m                                 Traceback (most recent call last)",
      "\u001b[0;32m/tmp/ipykernel_655/3704258284.py\u001b[0m in \u001b[0;36m<module>\u001b[0;34m\u001b[0m\n\u001b[0;32m----> 1\u001b[0;31m \u001b[0mchisq_obj\u001b[0m\u001b[0;34m(\u001b[0m\u001b[0mX\u001b[0m\u001b[0;34m,\u001b[0m \u001b[0mY\u001b[0m\u001b[0;34m,\u001b[0m \u001b[0mS\u001b[0m\u001b[0;34m)\u001b[0m\u001b[0;34m\u001b[0m\u001b[0;34m\u001b[0m\u001b[0m\n\u001b[0m",
      "\u001b[0;31mNameError\u001b[0m: name 'X' is not defined"
     ]
    }
   ],
   "source": [
    "chisq_obj(X, Y, S)"
   ]
  },
  {
   "cell_type": "code",
   "execution_count": 30,
   "id": "bc98d2ce",
   "metadata": {},
   "outputs": [
    {
     "ename": "AttributeError",
     "evalue": "'list' object has no attribute 'shape'",
     "output_type": "error",
     "traceback": [
      "\u001b[0;31m---------------------------------------------------------------------------\u001b[0m",
      "\u001b[0;31mAttributeError\u001b[0m                            Traceback (most recent call last)",
      "\u001b[0;32m/tmp/ipykernel_655/3349998817.py\u001b[0m in \u001b[0;36m<module>\u001b[0;34m\u001b[0m\n\u001b[1;32m      1\u001b[0m \u001b[0;32mfrom\u001b[0m \u001b[0mcausallearn\u001b[0m\u001b[0;34m.\u001b[0m\u001b[0msearch\u001b[0m\u001b[0;34m.\u001b[0m\u001b[0mConstraintBased\u001b[0m\u001b[0;34m.\u001b[0m\u001b[0mPC\u001b[0m \u001b[0;32mimport\u001b[0m \u001b[0mpc\u001b[0m\u001b[0;34m\u001b[0m\u001b[0;34m\u001b[0m\u001b[0m\n\u001b[1;32m      2\u001b[0m \u001b[0;32mfrom\u001b[0m \u001b[0mcausallearn\u001b[0m\u001b[0;34m.\u001b[0m\u001b[0mutils\u001b[0m\u001b[0;34m.\u001b[0m\u001b[0mcit\u001b[0m \u001b[0;32mimport\u001b[0m \u001b[0mchisq\u001b[0m\u001b[0;34m\u001b[0m\u001b[0;34m\u001b[0m\u001b[0m\n\u001b[0;32m----> 3\u001b[0;31m \u001b[0mcg\u001b[0m \u001b[0;34m=\u001b[0m \u001b[0mpc\u001b[0m\u001b[0;34m(\u001b[0m\u001b[0mdata\u001b[0m\u001b[0;34m,\u001b[0m \u001b[0;36m0.05\u001b[0m\u001b[0;34m,\u001b[0m \u001b[0mchisq\u001b[0m\u001b[0;34m)\u001b[0m\u001b[0;34m\u001b[0m\u001b[0;34m\u001b[0m\u001b[0m\n\u001b[0m",
      "\u001b[0;32m~/.local/lib/python3.9/site-packages/causallearn/search/ConstraintBased/PC.py\u001b[0m in \u001b[0;36mpc\u001b[0;34m(data, alpha, indep_test, stable, uc_rule, uc_priority, mvpc, correction_name, background_knowledge, verbose, show_progress, node_names, **kwargs)\u001b[0m\n\u001b[1;32m     33\u001b[0m     \u001b[0;34m**\u001b[0m\u001b[0mkwargs\u001b[0m\u001b[0;34m\u001b[0m\u001b[0;34m\u001b[0m\u001b[0m\n\u001b[1;32m     34\u001b[0m ):\n\u001b[0;32m---> 35\u001b[0;31m     \u001b[0;32mif\u001b[0m \u001b[0mdata\u001b[0m\u001b[0;34m.\u001b[0m\u001b[0mshape\u001b[0m\u001b[0;34m[\u001b[0m\u001b[0;36m0\u001b[0m\u001b[0;34m]\u001b[0m \u001b[0;34m<\u001b[0m \u001b[0mdata\u001b[0m\u001b[0;34m.\u001b[0m\u001b[0mshape\u001b[0m\u001b[0;34m[\u001b[0m\u001b[0;36m1\u001b[0m\u001b[0;34m]\u001b[0m\u001b[0;34m:\u001b[0m\u001b[0;34m\u001b[0m\u001b[0;34m\u001b[0m\u001b[0m\n\u001b[0m\u001b[1;32m     36\u001b[0m         \u001b[0mwarnings\u001b[0m\u001b[0;34m.\u001b[0m\u001b[0mwarn\u001b[0m\u001b[0;34m(\u001b[0m\u001b[0;34m\"The number of features is much larger than the sample size!\"\u001b[0m\u001b[0;34m)\u001b[0m\u001b[0;34m\u001b[0m\u001b[0;34m\u001b[0m\u001b[0m\n\u001b[1;32m     37\u001b[0m \u001b[0;34m\u001b[0m\u001b[0m\n",
      "\u001b[0;31mAttributeError\u001b[0m: 'list' object has no attribute 'shape'"
     ]
    }
   ],
   "source": [
    "from causallearn.search.ConstraintBased.PC import pc\n",
    "from causallearn.utils.cit import chisq\n",
    "cg = pc(data, 0.05, chisq)"
   ]
  },
  {
   "cell_type": "code",
   "execution_count": null,
   "id": "25c91bcb",
   "metadata": {},
   "outputs": [],
   "source": []
  }
 ],
 "metadata": {
  "kernelspec": {
   "display_name": "Python 3 (clean)",
   "language": "python",
   "name": "python3_clean"
  },
  "language_info": {
   "codemirror_mode": {
    "name": "ipython",
    "version": 3
   },
   "file_extension": ".py",
   "mimetype": "text/x-python",
   "name": "python",
   "nbconvert_exporter": "python",
   "pygments_lexer": "ipython3",
   "version": "3.9.5"
  }
 },
 "nbformat": 4,
 "nbformat_minor": 5
}
