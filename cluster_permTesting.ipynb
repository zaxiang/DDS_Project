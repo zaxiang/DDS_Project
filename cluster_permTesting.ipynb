{
 "cells": [
  {
   "cell_type": "code",
   "execution_count": 2,
   "id": "a41956e8-087f-4be6-be75-d9717dbb092e",
   "metadata": {},
   "outputs": [],
   "source": [
    "import pandas as pd\n",
    "import numpy as np\n",
    "import seaborn as sns\n",
    "import matplotlib as plt\n",
    "import plotly.express as px"
   ]
  },
  {
   "cell_type": "code",
   "execution_count": 3,
   "id": "94e57f6d-c790-4086-9a3e-54cb1e8288db",
   "metadata": {},
   "outputs": [],
   "source": [
    "# to look at all columns in a dataframe\n",
    "pd.set_option('display.max_columns', None)"
   ]
  },
  {
   "cell_type": "code",
   "execution_count": 4,
   "id": "7b03632e-f2d6-4ca1-8674-6017124b0dba",
   "metadata": {},
   "outputs": [],
   "source": [
    "df = pd.read_csv('clusters.csv')"
   ]
  },
  {
   "cell_type": "code",
   "execution_count": 5,
   "id": "fa2915aa-2486-4904-aa1e-4258573c9fd9",
   "metadata": {},
   "outputs": [
    {
     "data": {
      "text/html": [
       "<div>\n",
       "<style scoped>\n",
       "    .dataframe tbody tr th:only-of-type {\n",
       "        vertical-align: middle;\n",
       "    }\n",
       "\n",
       "    .dataframe tbody tr th {\n",
       "        vertical-align: top;\n",
       "    }\n",
       "\n",
       "    .dataframe thead th {\n",
       "        text-align: right;\n",
       "    }\n",
       "</style>\n",
       "<table border=\"1\" class=\"dataframe\">\n",
       "  <thead>\n",
       "    <tr style=\"text-align: right;\">\n",
       "      <th></th>\n",
       "      <th>Cluster</th>\n",
       "      <th>index</th>\n",
       "      <th>SNRLGSVC</th>\n",
       "      <th>SNRLGIMP</th>\n",
       "      <th>SNRLDCSN</th>\n",
       "      <th>SNRLFRND</th>\n",
       "      <th>YEAR</th>\n",
       "      <th>CASEID</th>\n",
       "      <th>Tabacco_Flag</th>\n",
       "      <th>Alcohol_Flag</th>\n",
       "      <th>Marijunana_Flag</th>\n",
       "      <th>Marijuana_Only_Flag</th>\n",
       "      <th>Cocaine_Flag</th>\n",
       "      <th>Crack_Flag</th>\n",
       "      <th>Herion_Flag</th>\n",
       "      <th>Hallcinogens_Flag</th>\n",
       "      <th>Inhalants_Flag</th>\n",
       "      <th>Painkiller_Flag</th>\n",
       "      <th>Tranquilizer_Flag</th>\n",
       "      <th>Stimulant Flag</th>\n",
       "      <th>CPN_Meth_Flag</th>\n",
       "      <th>Meth_Flag</th>\n",
       "      <th>Sedatives Flag</th>\n",
       "      <th>Any_Drug_Flag</th>\n",
       "      <th>Any_Drug_Past_Year</th>\n",
       "      <th>Any_Drug_Past_Month</th>\n",
       "      <th>Age_First_Use</th>\n",
       "      <th>Year_First_Use</th>\n",
       "      <th>Drug_Not_Marijunana</th>\n",
       "      <th>Ever_Steal_50</th>\n",
       "      <th>Sell_Illegal_Drugs</th>\n",
       "      <th>Ever_Booked_Arrested</th>\n",
       "      <th>Drug_or_Alc_Past_year</th>\n",
       "      <th>inpatient</th>\n",
       "      <th>outpatient</th>\n",
       "      <th>needed_not_rcvd</th>\n",
       "      <th>rcvd_any_tmt</th>\n",
       "      <th>suic_thought_pst_12month</th>\n",
       "      <th>psych_distress_month</th>\n",
       "      <th>psych_distress_yr</th>\n",
       "      <th>suic_thought_pst_yr</th>\n",
       "      <th>suic_plan</th>\n",
       "      <th>suic_attempt</th>\n",
       "      <th>whodas_score</th>\n",
       "      <th>predicted_ment_ill</th>\n",
       "      <th>svrl_days_depressed</th>\n",
       "      <th>lifetime_mde</th>\n",
       "      <th>pst_yr_mde</th>\n",
       "      <th>CATAG6</th>\n",
       "      <th>HEALTH</th>\n",
       "      <th>IRSEX</th>\n",
       "      <th>IRMARIT</th>\n",
       "      <th>EDUCCAT2</th>\n",
       "      <th>NEWRACE2</th>\n",
       "      <th>EMPSTATY</th>\n",
       "    </tr>\n",
       "  </thead>\n",
       "  <tbody>\n",
       "    <tr>\n",
       "      <th>0</th>\n",
       "      <td>2</td>\n",
       "      <td>0</td>\n",
       "      <td>6-24</td>\n",
       "      <td>Agree</td>\n",
       "      <td>Agree</td>\n",
       "      <td>Agree</td>\n",
       "      <td>2010</td>\n",
       "      <td>1</td>\n",
       "      <td>1</td>\n",
       "      <td>1</td>\n",
       "      <td>1</td>\n",
       "      <td>1</td>\n",
       "      <td>0</td>\n",
       "      <td>0</td>\n",
       "      <td>0</td>\n",
       "      <td>0</td>\n",
       "      <td>0</td>\n",
       "      <td>0</td>\n",
       "      <td>0</td>\n",
       "      <td>0</td>\n",
       "      <td>0</td>\n",
       "      <td>0</td>\n",
       "      <td>0</td>\n",
       "      <td>1</td>\n",
       "      <td>0</td>\n",
       "      <td>0</td>\n",
       "      <td>16</td>\n",
       "      <td>2005</td>\n",
       "      <td>0</td>\n",
       "      <td>0</td>\n",
       "      <td>0</td>\n",
       "      <td>No</td>\n",
       "      <td>No/Unknown</td>\n",
       "      <td>1.0</td>\n",
       "      <td>1.0</td>\n",
       "      <td>1.0</td>\n",
       "      <td>1.0</td>\n",
       "      <td>1.0</td>\n",
       "      <td>0.0</td>\n",
       "      <td>0.0</td>\n",
       "      <td>0.0</td>\n",
       "      <td>0.0</td>\n",
       "      <td>0.0</td>\n",
       "      <td>0.0</td>\n",
       "      <td>0.0</td>\n",
       "      <td>1.0</td>\n",
       "      <td>1.0</td>\n",
       "      <td>1.0</td>\n",
       "      <td>A-18-25</td>\n",
       "      <td>H_Very_good</td>\n",
       "      <td>Male</td>\n",
       "      <td>Not_Married</td>\n",
       "      <td>Some_college</td>\n",
       "      <td>Black/Afr_Am</td>\n",
       "      <td>E_full_time</td>\n",
       "    </tr>\n",
       "    <tr>\n",
       "      <th>1</th>\n",
       "      <td>0</td>\n",
       "      <td>1</td>\n",
       "      <td>3-5</td>\n",
       "      <td>Disagree</td>\n",
       "      <td>Disagree</td>\n",
       "      <td>Strongly Disagree</td>\n",
       "      <td>2010</td>\n",
       "      <td>2</td>\n",
       "      <td>1</td>\n",
       "      <td>1</td>\n",
       "      <td>1</td>\n",
       "      <td>1</td>\n",
       "      <td>0</td>\n",
       "      <td>0</td>\n",
       "      <td>0</td>\n",
       "      <td>0</td>\n",
       "      <td>0</td>\n",
       "      <td>0</td>\n",
       "      <td>0</td>\n",
       "      <td>0</td>\n",
       "      <td>0</td>\n",
       "      <td>0</td>\n",
       "      <td>0</td>\n",
       "      <td>1</td>\n",
       "      <td>0</td>\n",
       "      <td>0</td>\n",
       "      <td>14</td>\n",
       "      <td>1998</td>\n",
       "      <td>0</td>\n",
       "      <td>0</td>\n",
       "      <td>0</td>\n",
       "      <td>No</td>\n",
       "      <td>No/Unknown</td>\n",
       "      <td>1.0</td>\n",
       "      <td>1.0</td>\n",
       "      <td>1.0</td>\n",
       "      <td>0.0</td>\n",
       "      <td>1.0</td>\n",
       "      <td>1.0</td>\n",
       "      <td>1.0</td>\n",
       "      <td>0.0</td>\n",
       "      <td>0.0</td>\n",
       "      <td>0.0</td>\n",
       "      <td>20.0</td>\n",
       "      <td>0.0</td>\n",
       "      <td>0.0</td>\n",
       "      <td>1.0</td>\n",
       "      <td>1.0</td>\n",
       "      <td>A-18-25</td>\n",
       "      <td>H_Excellent</td>\n",
       "      <td>Female</td>\n",
       "      <td>Married</td>\n",
       "      <td>Some_college</td>\n",
       "      <td>White</td>\n",
       "      <td>E_full_time</td>\n",
       "    </tr>\n",
       "    <tr>\n",
       "      <th>2</th>\n",
       "      <td>1</td>\n",
       "      <td>2</td>\n",
       "      <td>99</td>\n",
       "      <td>99</td>\n",
       "      <td>99</td>\n",
       "      <td>99</td>\n",
       "      <td>2010</td>\n",
       "      <td>3</td>\n",
       "      <td>0</td>\n",
       "      <td>1</td>\n",
       "      <td>1</td>\n",
       "      <td>1</td>\n",
       "      <td>0</td>\n",
       "      <td>0</td>\n",
       "      <td>0</td>\n",
       "      <td>0</td>\n",
       "      <td>0</td>\n",
       "      <td>0</td>\n",
       "      <td>0</td>\n",
       "      <td>0</td>\n",
       "      <td>0</td>\n",
       "      <td>0</td>\n",
       "      <td>0</td>\n",
       "      <td>1</td>\n",
       "      <td>1</td>\n",
       "      <td>0</td>\n",
       "      <td>14</td>\n",
       "      <td>2009</td>\n",
       "      <td>0</td>\n",
       "      <td>0</td>\n",
       "      <td>0</td>\n",
       "      <td>No</td>\n",
       "      <td>No/Unknown</td>\n",
       "      <td>1.0</td>\n",
       "      <td>1.0</td>\n",
       "      <td>1.0</td>\n",
       "      <td>0.0</td>\n",
       "      <td>1.0</td>\n",
       "      <td>0.0</td>\n",
       "      <td>0.0</td>\n",
       "      <td>0.0</td>\n",
       "      <td>0.0</td>\n",
       "      <td>0.0</td>\n",
       "      <td>15.0</td>\n",
       "      <td>0.0</td>\n",
       "      <td>0.0</td>\n",
       "      <td>1.0</td>\n",
       "      <td>0.0</td>\n",
       "      <td>A-12-17</td>\n",
       "      <td>H_Good</td>\n",
       "      <td>Female</td>\n",
       "      <td>Not_Married</td>\n",
       "      <td>Edu_youth</td>\n",
       "      <td>Hispanic</td>\n",
       "      <td>E_Other</td>\n",
       "    </tr>\n",
       "    <tr>\n",
       "      <th>3</th>\n",
       "      <td>0</td>\n",
       "      <td>3</td>\n",
       "      <td>1-2</td>\n",
       "      <td>Agree</td>\n",
       "      <td>Agree</td>\n",
       "      <td>Disagree</td>\n",
       "      <td>2010</td>\n",
       "      <td>4</td>\n",
       "      <td>1</td>\n",
       "      <td>1</td>\n",
       "      <td>0</td>\n",
       "      <td>0</td>\n",
       "      <td>0</td>\n",
       "      <td>0</td>\n",
       "      <td>0</td>\n",
       "      <td>0</td>\n",
       "      <td>0</td>\n",
       "      <td>0</td>\n",
       "      <td>0</td>\n",
       "      <td>0</td>\n",
       "      <td>0</td>\n",
       "      <td>0</td>\n",
       "      <td>0</td>\n",
       "      <td>0</td>\n",
       "      <td>0</td>\n",
       "      <td>0</td>\n",
       "      <td>991</td>\n",
       "      <td>9999</td>\n",
       "      <td>0</td>\n",
       "      <td>0</td>\n",
       "      <td>0</td>\n",
       "      <td>No</td>\n",
       "      <td>No/Unknown</td>\n",
       "      <td>1.0</td>\n",
       "      <td>1.0</td>\n",
       "      <td>1.0</td>\n",
       "      <td>1.0</td>\n",
       "      <td>1.0</td>\n",
       "      <td>0.0</td>\n",
       "      <td>1.0</td>\n",
       "      <td>0.0</td>\n",
       "      <td>0.0</td>\n",
       "      <td>0.0</td>\n",
       "      <td>6.0</td>\n",
       "      <td>0.0</td>\n",
       "      <td>0.0</td>\n",
       "      <td>0.0</td>\n",
       "      <td>1.0</td>\n",
       "      <td>A-18-25</td>\n",
       "      <td>H_Fair</td>\n",
       "      <td>Female</td>\n",
       "      <td>Not_Married</td>\n",
       "      <td>Less_than_high_school</td>\n",
       "      <td>White</td>\n",
       "      <td>E_Other</td>\n",
       "    </tr>\n",
       "    <tr>\n",
       "      <th>4</th>\n",
       "      <td>0</td>\n",
       "      <td>4</td>\n",
       "      <td>6-24</td>\n",
       "      <td>Strongly Agree</td>\n",
       "      <td>Strongly Agree</td>\n",
       "      <td>Agree</td>\n",
       "      <td>2010</td>\n",
       "      <td>5</td>\n",
       "      <td>1</td>\n",
       "      <td>0</td>\n",
       "      <td>0</td>\n",
       "      <td>0</td>\n",
       "      <td>0</td>\n",
       "      <td>0</td>\n",
       "      <td>0</td>\n",
       "      <td>0</td>\n",
       "      <td>0</td>\n",
       "      <td>0</td>\n",
       "      <td>0</td>\n",
       "      <td>0</td>\n",
       "      <td>0</td>\n",
       "      <td>0</td>\n",
       "      <td>0</td>\n",
       "      <td>0</td>\n",
       "      <td>0</td>\n",
       "      <td>0</td>\n",
       "      <td>991</td>\n",
       "      <td>9999</td>\n",
       "      <td>0</td>\n",
       "      <td>0</td>\n",
       "      <td>0</td>\n",
       "      <td>Yes</td>\n",
       "      <td>No/Unknown</td>\n",
       "      <td>0.0</td>\n",
       "      <td>0.0</td>\n",
       "      <td>1.0</td>\n",
       "      <td>0.0</td>\n",
       "      <td>1.0</td>\n",
       "      <td>0.0</td>\n",
       "      <td>0.0</td>\n",
       "      <td>0.0</td>\n",
       "      <td>0.0</td>\n",
       "      <td>0.0</td>\n",
       "      <td>0.0</td>\n",
       "      <td>0.0</td>\n",
       "      <td>1.0</td>\n",
       "      <td>1.0</td>\n",
       "      <td>1.0</td>\n",
       "      <td>A-50-64</td>\n",
       "      <td>H_Fair</td>\n",
       "      <td>Female</td>\n",
       "      <td>Divorced_Separated</td>\n",
       "      <td>High_school_graduate</td>\n",
       "      <td>White</td>\n",
       "      <td>E_Unemployed</td>\n",
       "    </tr>\n",
       "  </tbody>\n",
       "</table>\n",
       "</div>"
      ],
      "text/plain": [
       "   Cluster  index SNRLGSVC        SNRLGIMP        SNRLDCSN           SNRLFRND   \n",
       "0        2      0     6-24           Agree           Agree              Agree  \\\n",
       "1        0      1      3-5        Disagree        Disagree  Strongly Disagree   \n",
       "2        1      2       99              99              99                 99   \n",
       "3        0      3      1-2           Agree           Agree           Disagree   \n",
       "4        0      4     6-24  Strongly Agree  Strongly Agree              Agree   \n",
       "\n",
       "   YEAR  CASEID  Tabacco_Flag  Alcohol_Flag  Marijunana_Flag   \n",
       "0  2010       1             1             1                1  \\\n",
       "1  2010       2             1             1                1   \n",
       "2  2010       3             0             1                1   \n",
       "3  2010       4             1             1                0   \n",
       "4  2010       5             1             0                0   \n",
       "\n",
       "   Marijuana_Only_Flag  Cocaine_Flag  Crack_Flag  Herion_Flag   \n",
       "0                    1             0           0            0  \\\n",
       "1                    1             0           0            0   \n",
       "2                    1             0           0            0   \n",
       "3                    0             0           0            0   \n",
       "4                    0             0           0            0   \n",
       "\n",
       "   Hallcinogens_Flag  Inhalants_Flag  Painkiller_Flag  Tranquilizer_Flag   \n",
       "0                  0               0                0                  0  \\\n",
       "1                  0               0                0                  0   \n",
       "2                  0               0                0                  0   \n",
       "3                  0               0                0                  0   \n",
       "4                  0               0                0                  0   \n",
       "\n",
       "   Stimulant Flag  CPN_Meth_Flag  Meth_Flag  Sedatives Flag  Any_Drug_Flag   \n",
       "0               0              0          0               0              1  \\\n",
       "1               0              0          0               0              1   \n",
       "2               0              0          0               0              1   \n",
       "3               0              0          0               0              0   \n",
       "4               0              0          0               0              0   \n",
       "\n",
       "   Any_Drug_Past_Year  Any_Drug_Past_Month  Age_First_Use  Year_First_Use   \n",
       "0                   0                    0             16            2005  \\\n",
       "1                   0                    0             14            1998   \n",
       "2                   1                    0             14            2009   \n",
       "3                   0                    0            991            9999   \n",
       "4                   0                    0            991            9999   \n",
       "\n",
       "   Drug_Not_Marijunana Ever_Steal_50 Sell_Illegal_Drugs Ever_Booked_Arrested   \n",
       "0                    0             0                  0                   No  \\\n",
       "1                    0             0                  0                   No   \n",
       "2                    0             0                  0                   No   \n",
       "3                    0             0                  0                   No   \n",
       "4                    0             0                  0                  Yes   \n",
       "\n",
       "  Drug_or_Alc_Past_year  inpatient  outpatient  needed_not_rcvd  rcvd_any_tmt   \n",
       "0            No/Unknown        1.0         1.0              1.0           1.0  \\\n",
       "1            No/Unknown        1.0         1.0              1.0           0.0   \n",
       "2            No/Unknown        1.0         1.0              1.0           0.0   \n",
       "3            No/Unknown        1.0         1.0              1.0           1.0   \n",
       "4            No/Unknown        0.0         0.0              1.0           0.0   \n",
       "\n",
       "   suic_thought_pst_12month  psych_distress_month  psych_distress_yr   \n",
       "0                       1.0                   0.0                0.0  \\\n",
       "1                       1.0                   1.0                1.0   \n",
       "2                       1.0                   0.0                0.0   \n",
       "3                       1.0                   0.0                1.0   \n",
       "4                       1.0                   0.0                0.0   \n",
       "\n",
       "   suic_thought_pst_yr  suic_plan  suic_attempt  whodas_score   \n",
       "0                  0.0        0.0           0.0           0.0  \\\n",
       "1                  0.0        0.0           0.0          20.0   \n",
       "2                  0.0        0.0           0.0          15.0   \n",
       "3                  0.0        0.0           0.0           6.0   \n",
       "4                  0.0        0.0           0.0           0.0   \n",
       "\n",
       "   predicted_ment_ill  svrl_days_depressed  lifetime_mde  pst_yr_mde   CATAG6   \n",
       "0                 0.0                  1.0           1.0         1.0  A-18-25  \\\n",
       "1                 0.0                  0.0           1.0         1.0  A-18-25   \n",
       "2                 0.0                  0.0           1.0         0.0  A-12-17   \n",
       "3                 0.0                  0.0           0.0         1.0  A-18-25   \n",
       "4                 0.0                  1.0           1.0         1.0  A-50-64   \n",
       "\n",
       "        HEALTH   IRSEX             IRMARIT               EDUCCAT2   \n",
       "0  H_Very_good    Male         Not_Married           Some_college  \\\n",
       "1  H_Excellent  Female             Married           Some_college   \n",
       "2       H_Good  Female         Not_Married              Edu_youth   \n",
       "3       H_Fair  Female         Not_Married  Less_than_high_school   \n",
       "4       H_Fair  Female  Divorced_Separated   High_school_graduate   \n",
       "\n",
       "       NEWRACE2      EMPSTATY  \n",
       "0  Black/Afr_Am   E_full_time  \n",
       "1         White   E_full_time  \n",
       "2      Hispanic       E_Other  \n",
       "3         White       E_Other  \n",
       "4         White  E_Unemployed  "
      ]
     },
     "execution_count": 5,
     "metadata": {},
     "output_type": "execute_result"
    }
   ],
   "source": [
    "df.head()"
   ]
  },
  {
   "cell_type": "code",
   "execution_count": 6,
   "id": "8e0a8a84-a608-4f47-a8f3-54f2190377e5",
   "metadata": {},
   "outputs": [
    {
     "data": {
      "text/plain": [
       "Cluster\n",
       "0    107751\n",
       "1     98348\n",
       "2     74226\n",
       "Name: count, dtype: int64"
      ]
     },
     "execution_count": 6,
     "metadata": {},
     "output_type": "execute_result"
    }
   ],
   "source": [
    "df.Cluster.value_counts()"
   ]
  },
  {
   "cell_type": "code",
   "execution_count": 7,
   "id": "7904cceb-b745-4727-9feb-6b97436b2664",
   "metadata": {},
   "outputs": [],
   "source": [
    "suic = df[['Cluster','suic_thought_pst_12month', 'suic_thought_pst_yr', 'suic_plan', 'suic_attempt']]"
   ]
  },
  {
   "cell_type": "code",
   "execution_count": 8,
   "id": "fd96e643-669e-4438-a2dc-3f1fdcf9a2cb",
   "metadata": {},
   "outputs": [
    {
     "data": {
      "text/html": [
       "<div>\n",
       "<style scoped>\n",
       "    .dataframe tbody tr th:only-of-type {\n",
       "        vertical-align: middle;\n",
       "    }\n",
       "\n",
       "    .dataframe tbody tr th {\n",
       "        vertical-align: top;\n",
       "    }\n",
       "\n",
       "    .dataframe thead th {\n",
       "        text-align: right;\n",
       "    }\n",
       "</style>\n",
       "<table border=\"1\" class=\"dataframe\">\n",
       "  <thead>\n",
       "    <tr style=\"text-align: right;\">\n",
       "      <th></th>\n",
       "      <th>suic_thought_pst_12month</th>\n",
       "      <th>suic_thought_pst_yr</th>\n",
       "      <th>suic_plan</th>\n",
       "      <th>suic_attempt</th>\n",
       "    </tr>\n",
       "    <tr>\n",
       "      <th>Cluster</th>\n",
       "      <th></th>\n",
       "      <th></th>\n",
       "      <th></th>\n",
       "      <th></th>\n",
       "    </tr>\n",
       "  </thead>\n",
       "  <tbody>\n",
       "    <tr>\n",
       "      <th>0</th>\n",
       "      <td>0.959128</td>\n",
       "      <td>0.041670</td>\n",
       "      <td>0.012158</td>\n",
       "      <td>0.006088</td>\n",
       "    </tr>\n",
       "    <tr>\n",
       "      <th>1</th>\n",
       "      <td>0.953736</td>\n",
       "      <td>0.056209</td>\n",
       "      <td>0.017458</td>\n",
       "      <td>0.009477</td>\n",
       "    </tr>\n",
       "    <tr>\n",
       "      <th>2</th>\n",
       "      <td>0.928960</td>\n",
       "      <td>0.071269</td>\n",
       "      <td>0.022687</td>\n",
       "      <td>0.012462</td>\n",
       "    </tr>\n",
       "  </tbody>\n",
       "</table>\n",
       "</div>"
      ],
      "text/plain": [
       "         suic_thought_pst_12month  suic_thought_pst_yr  suic_plan   \n",
       "Cluster                                                             \n",
       "0                        0.959128             0.041670   0.012158  \\\n",
       "1                        0.953736             0.056209   0.017458   \n",
       "2                        0.928960             0.071269   0.022687   \n",
       "\n",
       "         suic_attempt  \n",
       "Cluster                \n",
       "0            0.006088  \n",
       "1            0.009477  \n",
       "2            0.012462  "
      ]
     },
     "execution_count": 8,
     "metadata": {},
     "output_type": "execute_result"
    }
   ],
   "source": [
    "suic_means = suic.groupby('Cluster').mean()\n",
    "suic_means "
   ]
  },
  {
   "cell_type": "markdown",
   "id": "4e63e476-3d0a-49a0-8e57-921c4d16e8db",
   "metadata": {},
   "source": [
    "# Permutation Testing"
   ]
  },
  {
   "cell_type": "markdown",
   "id": "11bfb2b9-ece2-45d6-97e8-61c5e8b3db7f",
   "metadata": {},
   "source": [
    "- **Null Hypothesis:** Both samples are drawn from the same population thus the observed tvd is due to chance alone.\n",
    "- **Alternative Hypothesis:** Samples are drawn from two different populations thus the tvd is not due to chance alone, and there are other factors at hand. "
   ]
  },
  {
   "cell_type": "markdown",
   "id": "b459e48b-4dc7-4375-9462-5e1c67f96919",
   "metadata": {},
   "source": [
    "Under the null hypothesis both samples (cluster 0 & cluster 1) are sampled from the same population. If this is true then the group label `Cluster` will have no effect on the tvd.  "
   ]
  },
  {
   "cell_type": "code",
   "execution_count": 9,
   "id": "39dd5112-f405-4857-8bb7-9c7e36de4659",
   "metadata": {},
   "outputs": [],
   "source": [
    "def total_variation_distance(dist1, dist2):\n",
    "    '''Given two categorical distributions, \n",
    "    both sorted with same categories, calculates the TVD'''\n",
    "    return np.sum(np.abs(dist1 - dist2)) / 2"
   ]
  },
  {
   "cell_type": "markdown",
   "id": "0b61872b-3e18-4970-8ac6-1183eeb4cf09",
   "metadata": {},
   "source": [
    "## Cluster 0 and 1"
   ]
  },
  {
   "cell_type": "code",
   "execution_count": 10,
   "id": "18c831aa-b708-4fbc-8d20-b4971c08873c",
   "metadata": {},
   "outputs": [
    {
     "data": {
      "text/html": [
       "<div>\n",
       "<style scoped>\n",
       "    .dataframe tbody tr th:only-of-type {\n",
       "        vertical-align: middle;\n",
       "    }\n",
       "\n",
       "    .dataframe tbody tr th {\n",
       "        vertical-align: top;\n",
       "    }\n",
       "\n",
       "    .dataframe thead th {\n",
       "        text-align: right;\n",
       "    }\n",
       "</style>\n",
       "<table border=\"1\" class=\"dataframe\">\n",
       "  <thead>\n",
       "    <tr style=\"text-align: right;\">\n",
       "      <th></th>\n",
       "      <th>Cluster</th>\n",
       "      <th>suic_thought_pst_12month</th>\n",
       "      <th>suic_thought_pst_yr</th>\n",
       "      <th>suic_plan</th>\n",
       "      <th>suic_attempt</th>\n",
       "    </tr>\n",
       "  </thead>\n",
       "  <tbody>\n",
       "    <tr>\n",
       "      <th>1</th>\n",
       "      <td>0</td>\n",
       "      <td>1.0</td>\n",
       "      <td>0.0</td>\n",
       "      <td>0.0</td>\n",
       "      <td>0.0</td>\n",
       "    </tr>\n",
       "    <tr>\n",
       "      <th>2</th>\n",
       "      <td>1</td>\n",
       "      <td>1.0</td>\n",
       "      <td>0.0</td>\n",
       "      <td>0.0</td>\n",
       "      <td>0.0</td>\n",
       "    </tr>\n",
       "    <tr>\n",
       "      <th>3</th>\n",
       "      <td>0</td>\n",
       "      <td>1.0</td>\n",
       "      <td>0.0</td>\n",
       "      <td>0.0</td>\n",
       "      <td>0.0</td>\n",
       "    </tr>\n",
       "    <tr>\n",
       "      <th>4</th>\n",
       "      <td>0</td>\n",
       "      <td>1.0</td>\n",
       "      <td>0.0</td>\n",
       "      <td>0.0</td>\n",
       "      <td>0.0</td>\n",
       "    </tr>\n",
       "    <tr>\n",
       "      <th>6</th>\n",
       "      <td>0</td>\n",
       "      <td>1.0</td>\n",
       "      <td>0.0</td>\n",
       "      <td>0.0</td>\n",
       "      <td>0.0</td>\n",
       "    </tr>\n",
       "  </tbody>\n",
       "</table>\n",
       "</div>"
      ],
      "text/plain": [
       "   Cluster  suic_thought_pst_12month  suic_thought_pst_yr  suic_plan   \n",
       "1        0                       1.0                  0.0        0.0  \\\n",
       "2        1                       1.0                  0.0        0.0   \n",
       "3        0                       1.0                  0.0        0.0   \n",
       "4        0                       1.0                  0.0        0.0   \n",
       "6        0                       1.0                  0.0        0.0   \n",
       "\n",
       "   suic_attempt  \n",
       "1           0.0  \n",
       "2           0.0  \n",
       "3           0.0  \n",
       "4           0.0  \n",
       "6           0.0  "
      ]
     },
     "execution_count": 10,
     "metadata": {},
     "output_type": "execute_result"
    }
   ],
   "source": [
    "test1 = df[(df['Cluster'] == 0) | (df['Cluster'] == 1)][['Cluster',\n",
    "                                                        'suic_thought_pst_12month', \n",
    "                                                        'suic_thought_pst_yr',\n",
    "                                                        'suic_plan', \n",
    "                                                        'suic_attempt']]\n",
    "test1.head()"
   ]
  },
  {
   "cell_type": "code",
   "execution_count": 11,
   "id": "2b275db4-d685-487c-bc3d-9c3d875354be",
   "metadata": {},
   "outputs": [
    {
     "data": {
      "text/html": [
       "<div>\n",
       "<style scoped>\n",
       "    .dataframe tbody tr th:only-of-type {\n",
       "        vertical-align: middle;\n",
       "    }\n",
       "\n",
       "    .dataframe tbody tr th {\n",
       "        vertical-align: top;\n",
       "    }\n",
       "\n",
       "    .dataframe thead th {\n",
       "        text-align: right;\n",
       "    }\n",
       "</style>\n",
       "<table border=\"1\" class=\"dataframe\">\n",
       "  <thead>\n",
       "    <tr style=\"text-align: right;\">\n",
       "      <th></th>\n",
       "      <th>suic_thought_pst_12month</th>\n",
       "      <th>suic_thought_pst_yr</th>\n",
       "      <th>suic_plan</th>\n",
       "      <th>suic_attempt</th>\n",
       "    </tr>\n",
       "    <tr>\n",
       "      <th>Cluster</th>\n",
       "      <th></th>\n",
       "      <th></th>\n",
       "      <th></th>\n",
       "      <th></th>\n",
       "    </tr>\n",
       "  </thead>\n",
       "  <tbody>\n",
       "    <tr>\n",
       "      <th>0</th>\n",
       "      <td>0.959128</td>\n",
       "      <td>0.041670</td>\n",
       "      <td>0.012158</td>\n",
       "      <td>0.006088</td>\n",
       "    </tr>\n",
       "    <tr>\n",
       "      <th>1</th>\n",
       "      <td>0.953736</td>\n",
       "      <td>0.056209</td>\n",
       "      <td>0.017458</td>\n",
       "      <td>0.009477</td>\n",
       "    </tr>\n",
       "  </tbody>\n",
       "</table>\n",
       "</div>"
      ],
      "text/plain": [
       "         suic_thought_pst_12month  suic_thought_pst_yr  suic_plan   \n",
       "Cluster                                                             \n",
       "0                        0.959128             0.041670   0.012158  \\\n",
       "1                        0.953736             0.056209   0.017458   \n",
       "\n",
       "         suic_attempt  \n",
       "Cluster                \n",
       "0            0.006088  \n",
       "1            0.009477  "
      ]
     },
     "execution_count": 11,
     "metadata": {},
     "output_type": "execute_result"
    }
   ],
   "source": [
    "test1_means = test1.groupby('Cluster').mean()\n",
    "test1_means.head()"
   ]
  },
  {
   "cell_type": "code",
   "execution_count": 12,
   "id": "902eb906-8265-4c44-a7fc-0cc540034a97",
   "metadata": {},
   "outputs": [
    {
     "data": {
      "text/plain": [
       "0.014309944708445004"
      ]
     },
     "execution_count": 12,
     "metadata": {},
     "output_type": "execute_result"
    }
   ],
   "source": [
    "cluster_0 = suic_means.iloc[0]\n",
    "cluster_1 = suic_means.iloc[1]\n",
    "observed_tvd = total_variation_distance(cluster_0,cluster_1)\n",
    "observed_tvd"
   ]
  },
  {
   "cell_type": "code",
   "execution_count": 35,
   "id": "c4096873-ae4b-4731-a6d0-46c53568e526",
   "metadata": {},
   "outputs": [
    {
     "data": {
      "text/plain": [
       "[0.0022889794517681823,\n",
       " 0.002806561942052667,\n",
       " 0.001284562566719646,\n",
       " 0.0029319754120985717,\n",
       " 0.0011863197024430446,\n",
       " 0.0041858468800482565,\n",
       " 0.003048100487847032,\n",
       " 0.0022215336586966805,\n",
       " 0.0033209495002460283,\n",
       " 0.006112204842266014]"
      ]
     },
     "execution_count": 35,
     "metadata": {},
     "output_type": "execute_result"
    }
   ],
   "source": [
    "n_repetitions = 500\n",
    "\n",
    "tvds = []\n",
    "for _ in range(n_repetitions):\n",
    "    \n",
    "    # Step 1: Shuffle the clusters and store them in a DataFrame.\n",
    "    with_shuffled = test1.assign(shuffled_clusters=np.random.permutation(test1['Cluster']))\n",
    "\n",
    "    # Step 2: Compute the test statistic.\n",
    "    # Remember, alphabetically, False comes before True,\n",
    "    # so this computes True - False.\n",
    "    cluster_props = with_shuffled = with_shuffled.groupby('shuffled_clusters').mean()\n",
    "    test_statistic = total_variation_distance(cluster_props.iloc[0],cluster_props.iloc[1])\n",
    "    \n",
    "    # Step 4: Store the result\n",
    "    tvds.append(test_statistic)\n",
    "    \n",
    "tvds[:10]"
   ]
  },
  {
   "cell_type": "code",
   "execution_count": 36,
   "id": "f691483a-e3ce-496d-9902-0578666b3f16",
   "metadata": {},
   "outputs": [
    {
     "data": {
      "application/vnd.plotly.v1+json": {
       "config": {
        "plotlyServerURL": "https://plot.ly"
       },
       "data": [
        {
         "alignmentgroup": "True",
         "bingroup": "x",
         "histnorm": "probability",
         "hovertemplate": "0=%{x}<br>probability=%{y}<extra></extra>",
         "legendgroup": "",
         "marker": {
          "color": "#636efa",
          "pattern": {
           "shape": ""
          }
         },
         "name": "",
         "nbinsx": 50,
         "offsetgroup": "",
         "orientation": "v",
         "showlegend": false,
         "type": "histogram",
         "x": [
          0.0022889794517681823,
          0.002806561942052667,
          0.001284562566719646,
          0.0029319754120985717,
          0.0011863197024430446,
          0.0041858468800482565,
          0.003048100487847032,
          0.0022215336586966805,
          0.0033209495002460283,
          0.006112204842266014,
          0.002937129513123996,
          0.00511022357746552,
          0.00337372254622091,
          0.003485070275126882,
          0.0019843753698006524,
          0.0012253105755484985,
          0.003009204687963704,
          0.0017735907230038333,
          0.0022117531012329013,
          0.0010442670502241566,
          0.003656295874256968,
          0.003241963846865232,
          0.002897232542669742,
          0.00152733253485871,
          0.001856729306839128,
          0.0008017850383504796,
          0.00453692341355348,
          0.0016332973736304522,
          0.0021486875650597145,
          0.0027126978720093987,
          0.002392796626557243,
          0.0021446840623444746,
          0.003160354314101843,
          0.0013707408514297575,
          0.0019833741992297256,
          0.002704314112395807,
          0.002021704749881615,
          0.0039671331265255,
          0.002138963249422698,
          0.0037097307053502965,
          0.0035936070922667645,
          0.0032629788979416565,
          0.0022020864900875532,
          0.002119285829039803,
          0.002606504244128848,
          0.002645627370455913,
          0.0009281434371406737,
          0.002119852540936129,
          0.002111129395870007,
          0.0028059952301562967,
          0.0007292768675011339,
          0.002223103003828892,
          0.0031738936374058366,
          0.003315944826959755,
          0.0033019353276464844,
          0.0013996864718971644,
          0.003565057099078574,
          0.003888771889532706,
          0.0035402644090656854,
          0.0016092785277447372,
          0.0023056157086112643,
          0.00472124948931813,
          0.001225649961000979,
          0.0019258006868695297,
          0.0022507080682727834,
          0.0028881685494862234,
          0.0012198729062525226,
          0.0014931549146612552,
          0.0029906980601039313,
          0.0031750847656901097,
          0.00391356457954557,
          0.003598610302888077,
          0.002484466935080352,
          0.005362487609467904,
          0.0016094699481229691,
          0.0025862817687275753,
          0.0034320684400432826,
          0.0010750670467591697,
          0.0021340148179631734,
          0.0024511410577147015,
          0.004039982145492348,
          0.0027610906610859368,
          0.0028065619420526446,
          0.004064148956452347,
          0.0022613743873242447,
          0.002271156407452934,
          0.005257089482592462,
          0.0028194365549083023,
          0.002372118035603397,
          0.0025527271022530913,
          0.0029653027521292547,
          0.00245929749088448,
          0.003272760918070409,
          0.0025819000491643478,
          0.0021192858290397672,
          0.0026007257267153887,
          0.002838885186182442,
          0.0023878481950976513,
          0.003705011062999415,
          0.004730783847241831,
          0.002804992596920453,
          0.0015257631897264566,
          0.0038065394030462343,
          0.0037434738668730622,
          0.0016870730528412178,
          0.0008892447119274861,
          0.003656389484814124,
          0.0009626604427906051,
          0.0026315242605855042,
          0.001439586367681303,
          0.004551593235320186,
          0.0019011979545698957,
          0.0024840916435623296,
          0.003997308706672642,
          0.003909562539495268,
          0.0029599572307254522,
          0.0026687944735099118,
          0.0052213425172627625,
          0.0040933233660284795,
          0.001520759979105159,
          0.0030869977503952665,
          0.0033452113844281506,
          0.0025721771961921954,
          0.0026359045174837695,
          0.003539037374715881,
          0.002733146211189518,
          0.002985979880418127,
          0.0012295957592246029,
          0.0009442129820874485,
          0.0031996874979896704,
          0.0028395484339658107,
          0.0036416604958907973,
          0.002391795455986316,
          0.003559051255221401,
          0.004939337363788019,
          0.0016719687723998696,
          0.0023786920540218286,
          0.003393739352056262,
          0.004520853868606707,
          0.00259162582746634,
          0.0011572418287539936,
          0.0024564851164534597,
          0.002542436074719753,
          0.0027319191768397553,
          0.00258705415018973,
          0.0034122818859815894,
          0.0026509728918596366,
          0.001346289009534324,
          0.00269902775814865,
          0.005771911499460453,
          0.0028774445259430897,
          0.0036764062906495137,
          0.0025084857809661225,
          0.0012214970305465152,
          0.0009871122846860695,
          0.0018039547981992892,
          0.0025822768033472534,
          0.0035202490658952372,
          0.002591625827466338,
          0.0029514240433726824,
          0.0022413590441538117,
          0.003914509508289869,
          0.002533655225162028,
          0.002611507454750125,
          0.0022123760549559554,
          0.0036412260372161737,
          0.0034716289503749246,
          0.0024787461221586022,
          0.0030280289028498863,
          0.004576385925333093,
          0.0029066160101894165,
          0.006155443530317094,
          0.0028444565713649675,
          0.0026497817635754077,
          0.0026217984822834474,
          0.0035688721067455636,
          0.003409469511550509,
          0.004001083420279136,
          0.002835110472575853,
          0.0013657376408084919,
          0.0009423057141676179,
          0.004347384069606858,
          0.0030092046879637013,
          0.001769210466105598,
          0.0024153970177149364,
          0.004935184433333455,
          0.003734088936688537,
          0.0009623195946731333,
          0.0022123760549559402,
          0.0030490454165912734,
          0.0018244060627093128,
          0.004112771997302603,
          0.0034866381575941437,
          0.00247493403982158,
          0.002747590169177374,
          0.0014483080500824488,
          0.002829162333210332,
          0.0023089962576035533,
          0.0030194942528320905,
          0.0026541246517432105,
          0.0023780661749690426,
          0.005075477782706854,
          0.0024800881408470225,
          0.0012199306107442218,
          0.0035537663636392228,
          0.0034467988916315737,
          0.002707126486826789,
          0.0030538213007687874,
          0.0018472337803107732,
          0.004132447955020496,
          0.003739528068649453,
          0.001487432639074508,
          0.0019593538906790267,
          0.0032334306595124683,
          0.0022939855877193403,
          0.0018730261782296774,
          0.0006374136759348353,
          0.001632730661734185,
          0.003394740522627234,
          0.0031556346717509553,
          0.003276140004397744,
          0.002397573973399693,
          0.001973081709031344,
          0.0011857515278817948,
          0.005114035659802548,
          0.003165737204235997,
          0.0027918329531293386,
          0.0012491035576553534,
          0.004118720136668198,
          0.0047799721373234984,
          0.0008601309321728877,
          0.0011663043592725969,
          0.00391928685513232,
          0.002212377517620851,
          0.0043658300676450365,
          0.0023959469237758812,
          0.0014684199291400061,
          0.002708694369294121,
          0.0038113167498887205,
          0.004783410390807437,
          0.0042793123974824866,
          0.0007541069262445321,
          0.004974081695881724,
          0.00308265486222749,
          0.0012102048324421429,
          0.002726573655436002,
          0.0024348441863240406,
          0.004162393283393934,
          0.0036510095200098383,
          0.0029129049976723315,
          0.004051272880931708,
          0.0012446655962654188,
          0.0031161706973064406,
          0.00217863435609808,
          0.003267983571227922,
          0.0022846006575348255,
          0.0037337495512359694,
          0.003107391310413586,
          0.0034525197045532797,
          0.002819663881352152,
          0.002849839461499215,
          0.003446797428966587,
          0.001871402053935762,
          0.002460865373351721,
          0.0007202128743175377,
          0.00255810999238733,
          0.004415452816401291,
          0.0010025574132449017,
          0.0015705712229098136,
          0.0034089013369892353,
          0.003413849768448857,
          0.001604560348058884,
          0.0015749514798080303,
          0.0033461174817769313,
          0.001921649219079963,
          0.002304275152587833,
          0.003287204876058296,
          0.005733579486143564,
          0.002150026658418278,
          0.0016424549773711781,
          0.002976026775672294,
          0.001643795533394676,
          0.002206465284320803,
          0.004458126255221096,
          0.0022705319910649607,
          0.005709126181583164,
          0.006446607750197588,
          0.004430522653442124,
          0.004721626243501094,
          0.0035303127669848826,
          0.0017795029563038595,
          0.002612075629311451,
          0.003898835590622258,
          0.0012826567614649003,
          0.0032824866963724318,
          0.003092945889760824,
          0.00130901587128004,
          0.002737865853540309,
          0.0022419834605417552,
          0.0053574829361816515,
          0.0034126198087691506,
          0.002926970738812329,
          0.0024884704377956864,
          0.0016967973684783436,
          0.0018871307507650169,
          0.0031403404335963304,
          0.002689244275354962,
          0.0029847499207384036,
          0.0022700989950552993,
          0.000830332106208764,
          0.0025481583503064484,
          0.00489609867573687,
          0.0019749904396160626,
          0.003195534567535187,
          0.002727576288671882,
          0.002791493567676791,
          0.004434675583896638,
          0.002843832154977052,
          0.0034709671652565018,
          0.004521193254059247,
          0.0021345815298594137,
          0.0018369427527774236,
          0.002712470545565607,
          0.0016434576106070815,
          0.0023830708482552353,
          0.0044088802606478145,
          0.004050648464543757,
          0.0031171718678773947,
          0.0030572018497610717,
          0.004516472149043479,
          0.005921720569575089,
          0.0018855643309627578,
          0.001808674440550107,
          0.0022274832607272034,
          0.0022073713816696855,
          0.0019746510541635725,
          0.003451745860426144,
          0.0052900745118406416,
          0.002552102685865148,
          0.0022889794517682023,
          0.005684391196061971,
          0.003616830437147489,
          0.002494191250717497,
          0.0023094292536132263,
          0.003705577774895749,
          0.0026829567505369336,
          0.003433296937057983,
          0.0031610160992202405,
          0.0036272165379029647,
          0.0036854688211681464,
          0.0012111497611863842,
          0.0037050110629994527,
          0.00162019543433098,
          0.005027084993630271,
          0.001958354182773002,
          0.0011766889973631638,
          0.00214946140918686,
          0.006195002577983794,
          0.0012501032655613756,
          0.002687677855552699,
          0.0027563724814000878,
          0.0019687014521330487,
          0.0013959117582906192,
          0.0030436625264570667,
          0.0027086943692940764,
          0.004108619066848097,
          0.0044436260554065465,
          0.0010317318228209968,
          0.0032344318300834367,
          0.0025872829392985346,
          0.002665415387182566,
          0.00235867524818647,
          0.0024652082615195248,
          0.0037347507218069794,
          0.0013021039300740223,
          0.005689338164856562,
          0.004323553718769447,
          0.0033542753776117226,
          0.0015850151808976588,
          0.0037250278688348726,
          0.002368343321996913,
          0.0019599206025752735,
          0.0013667373487144924,
          0.00679252872001241,
          0.004258636731858537,
          0.00500425727602875,
          0.003676177501540788,
          0.0019210248026919623,
          0.0018525763763846295,
          0.002947082617869812,
          0.004444060514081176,
          0.0014921537440903084,
          0.0011814086397139282,
          0.0025916243648013526,
          0.0020901128821286183,
          0.003223080464822495,
          0.0038125467095683854,
          0.0019260294759782266,
          0.0016585259849829902,
          0.0015261025751789532,
          0.0014147922150035217,
          0.0022667184460630463,
          0.00154678116613278,
          0.0022802577693669893,
          0.003086940045903592,
          0.005761751262483825,
          0.006456993850953136,
          0.0006019546668704547,
          0.0037823725920862507,
          0.00515012054791982,
          0.002353897901344036,
          0.0016380761831378287,
          0.002232201440413043,
          0.004546213270515851,
          0.0012895672400059922,
          0.003986016508568273,
          0.005615886527927858,
          0.0035628662628882984,
          0.00409332190336352,
          0.0012300302178992707,
          0.0024495731752473974,
          0.0015904557755235353,
          0.001993531510876409,
          0.0019789924796664153,
          0.002586052979618823,
          0.0035045203690659806,
          0.0037968165500740776,
          0.00237806617496903,
          0.002431692426440552,
          0.001541399738663575,
          0.0017313158367932065,
          0.0021594115886027876,
          0.0006180227491522808,
          0.0028498379988342133,
          0.0053581461839650535,
          0.004002652765411389,
          0.0012456653041714107,
          0.003802593604822562,
          0.00271403842803283,
          0.0024656441828591483,
          0.0021437405962651053,
          0.001715813003742748,
          0.002061601720335878,
          0.0015759541130440317,
          0.0026305216273495987,
          0.0032964947330207093,
          0.0024803140046258713,
          0.003044098447796647,
          0.0021242342604994103,
          0.002274876341897798,
          0.002635337805587511,
          0.004236034878035863,
          0.0036758381160882617,
          0.0028303908302250696,
          0.002955576973827178,
          0.001853010835059221,
          0.004692512463746458,
          0.0032667565368781335,
          0.0030051997225834745,
          0.0031697392442863385,
          0.0019498195327552147,
          0.0033931711774950273,
          0.0026051636881053654,
          0.003320382788349704,
          0.002168910040461052,
          0.002007975468864343,
          0.004886941071996093,
          0.002683524925098169,
          0.0018871307507650754,
          0.005348988580224298,
          0.0028099395657150265,
          0.004614283479975393,
          0.001181410102378959,
          0.0010398867933258346,
          0.0019890950121514697,
          0.0033602235169772625,
          0.0015752908652605828,
          0.0013457222976380506,
          0.0012117727149094574,
          0.0012004819794700643,
          0.0032485364026187736,
          0.002723421895552405,
          0.0029859784177531106,
          0.0022648126408082135,
          0.0023677751474356526,
          0.0019536345404221373,
          0.002951859964712346,
          0.0014445333364759248,
          0.003000047084222988,
          0.0025142080565528175,
          0.003583504559781736,
          0.0018482334882167985,
          0.0018438546939834027,
          0.0018664550851411315,
          0.003092945889760832,
          0.002396571340163853,
          0.004162959995290259,
          0.0021983088511510385,
          0.0012048622363683603,
          0.0032523111162253526
         ],
         "xaxis": "x",
         "yaxis": "y"
        }
       ],
       "layout": {
        "autosize": true,
        "barmode": "relative",
        "legend": {
         "tracegroupgap": 0
        },
        "shapes": [
         {
          "line": {
           "color": "red"
          },
          "type": "line",
          "x0": 0.03833505292544645,
          "x1": 0.03833505292544645,
          "xref": "x",
          "y0": 0,
          "y1": 1,
          "yref": "y domain"
         }
        ],
        "template": {
         "data": {
          "bar": [
           {
            "error_x": {
             "color": "#2a3f5f"
            },
            "error_y": {
             "color": "#2a3f5f"
            },
            "marker": {
             "line": {
              "color": "#E5ECF6",
              "width": 0.5
             },
             "pattern": {
              "fillmode": "overlay",
              "size": 10,
              "solidity": 0.2
             }
            },
            "type": "bar"
           }
          ],
          "barpolar": [
           {
            "marker": {
             "line": {
              "color": "#E5ECF6",
              "width": 0.5
             },
             "pattern": {
              "fillmode": "overlay",
              "size": 10,
              "solidity": 0.2
             }
            },
            "type": "barpolar"
           }
          ],
          "carpet": [
           {
            "aaxis": {
             "endlinecolor": "#2a3f5f",
             "gridcolor": "white",
             "linecolor": "white",
             "minorgridcolor": "white",
             "startlinecolor": "#2a3f5f"
            },
            "baxis": {
             "endlinecolor": "#2a3f5f",
             "gridcolor": "white",
             "linecolor": "white",
             "minorgridcolor": "white",
             "startlinecolor": "#2a3f5f"
            },
            "type": "carpet"
           }
          ],
          "choropleth": [
           {
            "colorbar": {
             "outlinewidth": 0,
             "ticks": ""
            },
            "type": "choropleth"
           }
          ],
          "contour": [
           {
            "colorbar": {
             "outlinewidth": 0,
             "ticks": ""
            },
            "colorscale": [
             [
              0,
              "#0d0887"
             ],
             [
              0.1111111111111111,
              "#46039f"
             ],
             [
              0.2222222222222222,
              "#7201a8"
             ],
             [
              0.3333333333333333,
              "#9c179e"
             ],
             [
              0.4444444444444444,
              "#bd3786"
             ],
             [
              0.5555555555555556,
              "#d8576b"
             ],
             [
              0.6666666666666666,
              "#ed7953"
             ],
             [
              0.7777777777777778,
              "#fb9f3a"
             ],
             [
              0.8888888888888888,
              "#fdca26"
             ],
             [
              1,
              "#f0f921"
             ]
            ],
            "type": "contour"
           }
          ],
          "contourcarpet": [
           {
            "colorbar": {
             "outlinewidth": 0,
             "ticks": ""
            },
            "type": "contourcarpet"
           }
          ],
          "heatmap": [
           {
            "colorbar": {
             "outlinewidth": 0,
             "ticks": ""
            },
            "colorscale": [
             [
              0,
              "#0d0887"
             ],
             [
              0.1111111111111111,
              "#46039f"
             ],
             [
              0.2222222222222222,
              "#7201a8"
             ],
             [
              0.3333333333333333,
              "#9c179e"
             ],
             [
              0.4444444444444444,
              "#bd3786"
             ],
             [
              0.5555555555555556,
              "#d8576b"
             ],
             [
              0.6666666666666666,
              "#ed7953"
             ],
             [
              0.7777777777777778,
              "#fb9f3a"
             ],
             [
              0.8888888888888888,
              "#fdca26"
             ],
             [
              1,
              "#f0f921"
             ]
            ],
            "type": "heatmap"
           }
          ],
          "heatmapgl": [
           {
            "colorbar": {
             "outlinewidth": 0,
             "ticks": ""
            },
            "colorscale": [
             [
              0,
              "#0d0887"
             ],
             [
              0.1111111111111111,
              "#46039f"
             ],
             [
              0.2222222222222222,
              "#7201a8"
             ],
             [
              0.3333333333333333,
              "#9c179e"
             ],
             [
              0.4444444444444444,
              "#bd3786"
             ],
             [
              0.5555555555555556,
              "#d8576b"
             ],
             [
              0.6666666666666666,
              "#ed7953"
             ],
             [
              0.7777777777777778,
              "#fb9f3a"
             ],
             [
              0.8888888888888888,
              "#fdca26"
             ],
             [
              1,
              "#f0f921"
             ]
            ],
            "type": "heatmapgl"
           }
          ],
          "histogram": [
           {
            "marker": {
             "pattern": {
              "fillmode": "overlay",
              "size": 10,
              "solidity": 0.2
             }
            },
            "type": "histogram"
           }
          ],
          "histogram2d": [
           {
            "colorbar": {
             "outlinewidth": 0,
             "ticks": ""
            },
            "colorscale": [
             [
              0,
              "#0d0887"
             ],
             [
              0.1111111111111111,
              "#46039f"
             ],
             [
              0.2222222222222222,
              "#7201a8"
             ],
             [
              0.3333333333333333,
              "#9c179e"
             ],
             [
              0.4444444444444444,
              "#bd3786"
             ],
             [
              0.5555555555555556,
              "#d8576b"
             ],
             [
              0.6666666666666666,
              "#ed7953"
             ],
             [
              0.7777777777777778,
              "#fb9f3a"
             ],
             [
              0.8888888888888888,
              "#fdca26"
             ],
             [
              1,
              "#f0f921"
             ]
            ],
            "type": "histogram2d"
           }
          ],
          "histogram2dcontour": [
           {
            "colorbar": {
             "outlinewidth": 0,
             "ticks": ""
            },
            "colorscale": [
             [
              0,
              "#0d0887"
             ],
             [
              0.1111111111111111,
              "#46039f"
             ],
             [
              0.2222222222222222,
              "#7201a8"
             ],
             [
              0.3333333333333333,
              "#9c179e"
             ],
             [
              0.4444444444444444,
              "#bd3786"
             ],
             [
              0.5555555555555556,
              "#d8576b"
             ],
             [
              0.6666666666666666,
              "#ed7953"
             ],
             [
              0.7777777777777778,
              "#fb9f3a"
             ],
             [
              0.8888888888888888,
              "#fdca26"
             ],
             [
              1,
              "#f0f921"
             ]
            ],
            "type": "histogram2dcontour"
           }
          ],
          "mesh3d": [
           {
            "colorbar": {
             "outlinewidth": 0,
             "ticks": ""
            },
            "type": "mesh3d"
           }
          ],
          "parcoords": [
           {
            "line": {
             "colorbar": {
              "outlinewidth": 0,
              "ticks": ""
             }
            },
            "type": "parcoords"
           }
          ],
          "pie": [
           {
            "automargin": true,
            "type": "pie"
           }
          ],
          "scatter": [
           {
            "fillpattern": {
             "fillmode": "overlay",
             "size": 10,
             "solidity": 0.2
            },
            "type": "scatter"
           }
          ],
          "scatter3d": [
           {
            "line": {
             "colorbar": {
              "outlinewidth": 0,
              "ticks": ""
             }
            },
            "marker": {
             "colorbar": {
              "outlinewidth": 0,
              "ticks": ""
             }
            },
            "type": "scatter3d"
           }
          ],
          "scattercarpet": [
           {
            "marker": {
             "colorbar": {
              "outlinewidth": 0,
              "ticks": ""
             }
            },
            "type": "scattercarpet"
           }
          ],
          "scattergeo": [
           {
            "marker": {
             "colorbar": {
              "outlinewidth": 0,
              "ticks": ""
             }
            },
            "type": "scattergeo"
           }
          ],
          "scattergl": [
           {
            "marker": {
             "colorbar": {
              "outlinewidth": 0,
              "ticks": ""
             }
            },
            "type": "scattergl"
           }
          ],
          "scattermapbox": [
           {
            "marker": {
             "colorbar": {
              "outlinewidth": 0,
              "ticks": ""
             }
            },
            "type": "scattermapbox"
           }
          ],
          "scatterpolar": [
           {
            "marker": {
             "colorbar": {
              "outlinewidth": 0,
              "ticks": ""
             }
            },
            "type": "scatterpolar"
           }
          ],
          "scatterpolargl": [
           {
            "marker": {
             "colorbar": {
              "outlinewidth": 0,
              "ticks": ""
             }
            },
            "type": "scatterpolargl"
           }
          ],
          "scatterternary": [
           {
            "marker": {
             "colorbar": {
              "outlinewidth": 0,
              "ticks": ""
             }
            },
            "type": "scatterternary"
           }
          ],
          "surface": [
           {
            "colorbar": {
             "outlinewidth": 0,
             "ticks": ""
            },
            "colorscale": [
             [
              0,
              "#0d0887"
             ],
             [
              0.1111111111111111,
              "#46039f"
             ],
             [
              0.2222222222222222,
              "#7201a8"
             ],
             [
              0.3333333333333333,
              "#9c179e"
             ],
             [
              0.4444444444444444,
              "#bd3786"
             ],
             [
              0.5555555555555556,
              "#d8576b"
             ],
             [
              0.6666666666666666,
              "#ed7953"
             ],
             [
              0.7777777777777778,
              "#fb9f3a"
             ],
             [
              0.8888888888888888,
              "#fdca26"
             ],
             [
              1,
              "#f0f921"
             ]
            ],
            "type": "surface"
           }
          ],
          "table": [
           {
            "cells": {
             "fill": {
              "color": "#EBF0F8"
             },
             "line": {
              "color": "white"
             }
            },
            "header": {
             "fill": {
              "color": "#C8D4E3"
             },
             "line": {
              "color": "white"
             }
            },
            "type": "table"
           }
          ]
         },
         "layout": {
          "annotationdefaults": {
           "arrowcolor": "#2a3f5f",
           "arrowhead": 0,
           "arrowwidth": 1
          },
          "autotypenumbers": "strict",
          "coloraxis": {
           "colorbar": {
            "outlinewidth": 0,
            "ticks": ""
           }
          },
          "colorscale": {
           "diverging": [
            [
             0,
             "#8e0152"
            ],
            [
             0.1,
             "#c51b7d"
            ],
            [
             0.2,
             "#de77ae"
            ],
            [
             0.3,
             "#f1b6da"
            ],
            [
             0.4,
             "#fde0ef"
            ],
            [
             0.5,
             "#f7f7f7"
            ],
            [
             0.6,
             "#e6f5d0"
            ],
            [
             0.7,
             "#b8e186"
            ],
            [
             0.8,
             "#7fbc41"
            ],
            [
             0.9,
             "#4d9221"
            ],
            [
             1,
             "#276419"
            ]
           ],
           "sequential": [
            [
             0,
             "#0d0887"
            ],
            [
             0.1111111111111111,
             "#46039f"
            ],
            [
             0.2222222222222222,
             "#7201a8"
            ],
            [
             0.3333333333333333,
             "#9c179e"
            ],
            [
             0.4444444444444444,
             "#bd3786"
            ],
            [
             0.5555555555555556,
             "#d8576b"
            ],
            [
             0.6666666666666666,
             "#ed7953"
            ],
            [
             0.7777777777777778,
             "#fb9f3a"
            ],
            [
             0.8888888888888888,
             "#fdca26"
            ],
            [
             1,
             "#f0f921"
            ]
           ],
           "sequentialminus": [
            [
             0,
             "#0d0887"
            ],
            [
             0.1111111111111111,
             "#46039f"
            ],
            [
             0.2222222222222222,
             "#7201a8"
            ],
            [
             0.3333333333333333,
             "#9c179e"
            ],
            [
             0.4444444444444444,
             "#bd3786"
            ],
            [
             0.5555555555555556,
             "#d8576b"
            ],
            [
             0.6666666666666666,
             "#ed7953"
            ],
            [
             0.7777777777777778,
             "#fb9f3a"
            ],
            [
             0.8888888888888888,
             "#fdca26"
            ],
            [
             1,
             "#f0f921"
            ]
           ]
          },
          "colorway": [
           "#636efa",
           "#EF553B",
           "#00cc96",
           "#ab63fa",
           "#FFA15A",
           "#19d3f3",
           "#FF6692",
           "#B6E880",
           "#FF97FF",
           "#FECB52"
          ],
          "font": {
           "color": "#2a3f5f"
          },
          "geo": {
           "bgcolor": "white",
           "lakecolor": "white",
           "landcolor": "#E5ECF6",
           "showlakes": true,
           "showland": true,
           "subunitcolor": "white"
          },
          "hoverlabel": {
           "align": "left"
          },
          "hovermode": "closest",
          "mapbox": {
           "style": "light"
          },
          "paper_bgcolor": "white",
          "plot_bgcolor": "#E5ECF6",
          "polar": {
           "angularaxis": {
            "gridcolor": "white",
            "linecolor": "white",
            "ticks": ""
           },
           "bgcolor": "#E5ECF6",
           "radialaxis": {
            "gridcolor": "white",
            "linecolor": "white",
            "ticks": ""
           }
          },
          "scene": {
           "xaxis": {
            "backgroundcolor": "#E5ECF6",
            "gridcolor": "white",
            "gridwidth": 2,
            "linecolor": "white",
            "showbackground": true,
            "ticks": "",
            "zerolinecolor": "white"
           },
           "yaxis": {
            "backgroundcolor": "#E5ECF6",
            "gridcolor": "white",
            "gridwidth": 2,
            "linecolor": "white",
            "showbackground": true,
            "ticks": "",
            "zerolinecolor": "white"
           },
           "zaxis": {
            "backgroundcolor": "#E5ECF6",
            "gridcolor": "white",
            "gridwidth": 2,
            "linecolor": "white",
            "showbackground": true,
            "ticks": "",
            "zerolinecolor": "white"
           }
          },
          "shapedefaults": {
           "line": {
            "color": "#2a3f5f"
           }
          },
          "ternary": {
           "aaxis": {
            "gridcolor": "white",
            "linecolor": "white",
            "ticks": ""
           },
           "baxis": {
            "gridcolor": "white",
            "linecolor": "white",
            "ticks": ""
           },
           "bgcolor": "#E5ECF6",
           "caxis": {
            "gridcolor": "white",
            "linecolor": "white",
            "ticks": ""
           }
          },
          "title": {
           "x": 0.05
          },
          "xaxis": {
           "automargin": true,
           "gridcolor": "white",
           "linecolor": "white",
           "ticks": "",
           "title": {
            "standoff": 15
           },
           "zerolinecolor": "white",
           "zerolinewidth": 2
          },
          "yaxis": {
           "automargin": true,
           "gridcolor": "white",
           "linecolor": "white",
           "ticks": "",
           "title": {
            "standoff": 15
           },
           "zerolinecolor": "white",
           "zerolinewidth": 2
          }
         }
        },
        "title": {
         "text": "Empirical Distribution of the TVDS between Cluster 1 & 2"
        },
        "xaxis": {
         "anchor": "y",
         "autorange": true,
         "domain": [
          0,
          1
         ],
         "range": [
          0.0005000000000000004,
          0.03836581313107689
         ],
         "title": {
          "text": "0"
         },
         "type": "linear"
        },
        "yaxis": {
         "anchor": "x",
         "autorange": true,
         "domain": [
          0,
          1
         ],
         "range": [
          0,
          0.09052631578947368
         ],
         "title": {
          "text": "probability"
         }
        }
       }
      },
      "image/png": "[encoded data removed]",
      "text/html": [
       "<div>                            <div id=\"afab2a43-eb8d-4ea5-a86a-04011b936893\" class=\"plotly-graph-div\" style=\"height:525px; width:100%;\"></div>            <script type=\"text/javascript\">                require([\"plotly\"], function(Plotly) {                    window.PLOTLYENV=window.PLOTLYENV || {};                                    if (document.getElementById(\"afab2a43-eb8d-4ea5-a86a-04011b936893\")) {                    Plotly.newPlot(                        \"afab2a43-eb8d-4ea5-a86a-04011b936893\",                        [{\"alignmentgroup\":\"True\",\"bingroup\":\"x\",\"histnorm\":\"probability\",\"hovertemplate\":\"0=%{x}<br>probability=%{y}<extra></extra>\",\"legendgroup\":\"\",\"marker\":{\"color\":\"#636efa\",\"pattern\":{\"shape\":\"\"}},\"name\":\"\",\"nbinsx\":50,\"offsetgroup\":\"\",\"orientation\":\"v\",\"showlegend\":false,\"x\":[0.0022889794517681823,0.002806561942052667,0.001284562566719646,0.0029319754120985717,0.0011863197024430446,0.0041858468800482565,0.003048100487847032,0.0022215336586966805,0.0033209495002460283,0.006112204842266014,0.002937129513123996,0.00511022357746552,0.00337372254622091,0.003485070275126882,0.0019843753698006524,0.0012253105755484985,0.003009204687963704,0.0017735907230038333,0.0022117531012329013,0.0010442670502241566,0.003656295874256968,0.003241963846865232,0.002897232542669742,0.00152733253485871,0.001856729306839128,0.0008017850383504796,0.00453692341355348,0.0016332973736304522,0.0021486875650597145,0.0027126978720093987,0.002392796626557243,0.0021446840623444746,0.003160354314101843,0.0013707408514297575,0.0019833741992297256,0.002704314112395807,0.002021704749881615,0.0039671331265255,0.002138963249422698,0.0037097307053502965,0.0035936070922667645,0.0032629788979416565,0.0022020864900875532,0.002119285829039803,0.002606504244128848,0.002645627370455913,0.0009281434371406737,0.002119852540936129,0.002111129395870007,0.0028059952301562967,0.0007292768675011339,0.002223103003828892,0.0031738936374058366,0.003315944826959755,0.0033019353276464844,0.0013996864718971644,0.003565057099078574,0.003888771889532706,0.0035402644090656854,0.0016092785277447372,0.0023056157086112643,0.00472124948931813,0.001225649961000979,0.0019258006868695297,0.0022507080682727834,0.0028881685494862234,0.0012198729062525226,0.0014931549146612552,0.0029906980601039313,0.0031750847656901097,0.00391356457954557,0.003598610302888077,0.002484466935080352,0.005362487609467904,0.0016094699481229691,0.0025862817687275753,0.0034320684400432826,0.0010750670467591697,0.0021340148179631734,0.0024511410577147015,0.004039982145492348,0.0027610906610859368,0.0028065619420526446,0.004064148956452347,0.0022613743873242447,0.002271156407452934,0.005257089482592462,0.0028194365549083023,0.002372118035603397,0.0025527271022530913,0.0029653027521292547,0.00245929749088448,0.003272760918070409,0.0025819000491643478,0.0021192858290397672,0.0026007257267153887,0.002838885186182442,0.0023878481950976513,0.003705011062999415,0.004730783847241831,0.002804992596920453,0.0015257631897264566,0.0038065394030462343,0.0037434738668730622,0.0016870730528412178,0.0008892447119274861,0.003656389484814124,0.0009626604427906051,0.0026315242605855042,0.001439586367681303,0.004551593235320186,0.0019011979545698957,0.0024840916435623296,0.003997308706672642,0.003909562539495268,0.0029599572307254522,0.0026687944735099118,0.0052213425172627625,0.0040933233660284795,0.001520759979105159,0.0030869977503952665,0.0033452113844281506,0.0025721771961921954,0.0026359045174837695,0.003539037374715881,0.002733146211189518,0.002985979880418127,0.0012295957592246029,0.0009442129820874485,0.0031996874979896704,0.0028395484339658107,0.0036416604958907973,0.002391795455986316,0.003559051255221401,0.004939337363788019,0.0016719687723998696,0.0023786920540218286,0.003393739352056262,0.004520853868606707,0.00259162582746634,0.0011572418287539936,0.0024564851164534597,0.002542436074719753,0.0027319191768397553,0.00258705415018973,0.0034122818859815894,0.0026509728918596366,0.001346289009534324,0.00269902775814865,0.005771911499460453,0.0028774445259430897,0.0036764062906495137,0.0025084857809661225,0.0012214970305465152,0.0009871122846860695,0.0018039547981992892,0.0025822768033472534,0.0035202490658952372,0.002591625827466338,0.0029514240433726824,0.0022413590441538117,0.003914509508289869,0.002533655225162028,0.002611507454750125,0.0022123760549559554,0.0036412260372161737,0.0034716289503749246,0.0024787461221586022,0.0030280289028498863,0.004576385925333093,0.0029066160101894165,0.006155443530317094,0.0028444565713649675,0.0026497817635754077,0.0026217984822834474,0.0035688721067455636,0.003409469511550509,0.004001083420279136,0.002835110472575853,0.0013657376408084919,0.0009423057141676179,0.004347384069606858,0.0030092046879637013,0.001769210466105598,0.0024153970177149364,0.004935184433333455,0.003734088936688537,0.0009623195946731333,0.0022123760549559402,0.0030490454165912734,0.0018244060627093128,0.004112771997302603,0.0034866381575941437,0.00247493403982158,0.002747590169177374,0.0014483080500824488,0.002829162333210332,0.0023089962576035533,0.0030194942528320905,0.0026541246517432105,0.0023780661749690426,0.005075477782706854,0.0024800881408470225,0.0012199306107442218,0.0035537663636392228,0.0034467988916315737,0.002707126486826789,0.0030538213007687874,0.0018472337803107732,0.004132447955020496,0.003739528068649453,0.001487432639074508,0.0019593538906790267,0.0032334306595124683,0.0022939855877193403,0.0018730261782296774,0.0006374136759348353,0.001632730661734185,0.003394740522627234,0.0031556346717509553,0.003276140004397744,0.002397573973399693,0.001973081709031344,0.0011857515278817948,0.005114035659802548,0.003165737204235997,0.0027918329531293386,0.0012491035576553534,0.004118720136668198,0.0047799721373234984,0.0008601309321728877,0.0011663043592725969,0.00391928685513232,0.002212377517620851,0.0043658300676450365,0.0023959469237758812,0.0014684199291400061,0.002708694369294121,0.0038113167498887205,0.004783410390807437,0.0042793123974824866,0.0007541069262445321,0.004974081695881724,0.00308265486222749,0.0012102048324421429,0.002726573655436002,0.0024348441863240406,0.004162393283393934,0.0036510095200098383,0.0029129049976723315,0.004051272880931708,0.0012446655962654188,0.0031161706973064406,0.00217863435609808,0.003267983571227922,0.0022846006575348255,0.0037337495512359694,0.003107391310413586,0.0034525197045532797,0.002819663881352152,0.002849839461499215,0.003446797428966587,0.001871402053935762,0.002460865373351721,0.0007202128743175377,0.00255810999238733,0.004415452816401291,0.0010025574132449017,0.0015705712229098136,0.0034089013369892353,0.003413849768448857,0.001604560348058884,0.0015749514798080303,0.0033461174817769313,0.001921649219079963,0.002304275152587833,0.003287204876058296,0.005733579486143564,0.002150026658418278,0.0016424549773711781,0.002976026775672294,0.001643795533394676,0.002206465284320803,0.004458126255221096,0.0022705319910649607,0.005709126181583164,0.006446607750197588,0.004430522653442124,0.004721626243501094,0.0035303127669848826,0.0017795029563038595,0.002612075629311451,0.003898835590622258,0.0012826567614649003,0.0032824866963724318,0.003092945889760824,0.00130901587128004,0.002737865853540309,0.0022419834605417552,0.0053574829361816515,0.0034126198087691506,0.002926970738812329,0.0024884704377956864,0.0016967973684783436,0.0018871307507650169,0.0031403404335963304,0.002689244275354962,0.0029847499207384036,0.0022700989950552993,0.000830332106208764,0.0025481583503064484,0.00489609867573687,0.0019749904396160626,0.003195534567535187,0.002727576288671882,0.002791493567676791,0.004434675583896638,0.002843832154977052,0.0034709671652565018,0.004521193254059247,0.0021345815298594137,0.0018369427527774236,0.002712470545565607,0.0016434576106070815,0.0023830708482552353,0.0044088802606478145,0.004050648464543757,0.0031171718678773947,0.0030572018497610717,0.004516472149043479,0.005921720569575089,0.0018855643309627578,0.001808674440550107,0.0022274832607272034,0.0022073713816696855,0.0019746510541635725,0.003451745860426144,0.0052900745118406416,0.002552102685865148,0.0022889794517682023,0.005684391196061971,0.003616830437147489,0.002494191250717497,0.0023094292536132263,0.003705577774895749,0.0026829567505369336,0.003433296937057983,0.0031610160992202405,0.0036272165379029647,0.0036854688211681464,0.0012111497611863842,0.0037050110629994527,0.00162019543433098,0.005027084993630271,0.001958354182773002,0.0011766889973631638,0.00214946140918686,0.006195002577983794,0.0012501032655613756,0.002687677855552699,0.0027563724814000878,0.0019687014521330487,0.0013959117582906192,0.0030436625264570667,0.0027086943692940764,0.004108619066848097,0.0044436260554065465,0.0010317318228209968,0.0032344318300834367,0.0025872829392985346,0.002665415387182566,0.00235867524818647,0.0024652082615195248,0.0037347507218069794,0.0013021039300740223,0.005689338164856562,0.004323553718769447,0.0033542753776117226,0.0015850151808976588,0.0037250278688348726,0.002368343321996913,0.0019599206025752735,0.0013667373487144924,0.00679252872001241,0.004258636731858537,0.00500425727602875,0.003676177501540788,0.0019210248026919623,0.0018525763763846295,0.002947082617869812,0.004444060514081176,0.0014921537440903084,0.0011814086397139282,0.0025916243648013526,0.0020901128821286183,0.003223080464822495,0.0038125467095683854,0.0019260294759782266,0.0016585259849829902,0.0015261025751789532,0.0014147922150035217,0.0022667184460630463,0.00154678116613278,0.0022802577693669893,0.003086940045903592,0.005761751262483825,0.006456993850953136,0.0006019546668704547,0.0037823725920862507,0.00515012054791982,0.002353897901344036,0.0016380761831378287,0.002232201440413043,0.004546213270515851,0.0012895672400059922,0.003986016508568273,0.005615886527927858,0.0035628662628882984,0.00409332190336352,0.0012300302178992707,0.0024495731752473974,0.0015904557755235353,0.001993531510876409,0.0019789924796664153,0.002586052979618823,0.0035045203690659806,0.0037968165500740776,0.00237806617496903,0.002431692426440552,0.001541399738663575,0.0017313158367932065,0.0021594115886027876,0.0006180227491522808,0.0028498379988342133,0.0053581461839650535,0.004002652765411389,0.0012456653041714107,0.003802593604822562,0.00271403842803283,0.0024656441828591483,0.0021437405962651053,0.001715813003742748,0.002061601720335878,0.0015759541130440317,0.0026305216273495987,0.0032964947330207093,0.0024803140046258713,0.003044098447796647,0.0021242342604994103,0.002274876341897798,0.002635337805587511,0.004236034878035863,0.0036758381160882617,0.0028303908302250696,0.002955576973827178,0.001853010835059221,0.004692512463746458,0.0032667565368781335,0.0030051997225834745,0.0031697392442863385,0.0019498195327552147,0.0033931711774950273,0.0026051636881053654,0.003320382788349704,0.002168910040461052,0.002007975468864343,0.004886941071996093,0.002683524925098169,0.0018871307507650754,0.005348988580224298,0.0028099395657150265,0.004614283479975393,0.001181410102378959,0.0010398867933258346,0.0019890950121514697,0.0033602235169772625,0.0015752908652605828,0.0013457222976380506,0.0012117727149094574,0.0012004819794700643,0.0032485364026187736,0.002723421895552405,0.0029859784177531106,0.0022648126408082135,0.0023677751474356526,0.0019536345404221373,0.002951859964712346,0.0014445333364759248,0.003000047084222988,0.0025142080565528175,0.003583504559781736,0.0018482334882167985,0.0018438546939834027,0.0018664550851411315,0.003092945889760832,0.002396571340163853,0.004162959995290259,0.0021983088511510385,0.0012048622363683603,0.0032523111162253526],\"xaxis\":\"x\",\"yaxis\":\"y\",\"type\":\"histogram\"}],                        {\"template\":{\"data\":{\"histogram2dcontour\":[{\"type\":\"histogram2dcontour\",\"colorbar\":{\"outlinewidth\":0,\"ticks\":\"\"},\"colorscale\":[[0.0,\"#0d0887\"],[0.1111111111111111,\"#46039f\"],[0.2222222222222222,\"#7201a8\"],[0.3333333333333333,\"#9c179e\"],[0.4444444444444444,\"#bd3786\"],[0.5555555555555556,\"#d8576b\"],[0.6666666666666666,\"#ed7953\"],[0.7777777777777778,\"#fb9f3a\"],[0.8888888888888888,\"#fdca26\"],[1.0,\"#f0f921\"]]}],\"choropleth\":[{\"type\":\"choropleth\",\"colorbar\":{\"outlinewidth\":0,\"ticks\":\"\"}}],\"histogram2d\":[{\"type\":\"histogram2d\",\"colorbar\":{\"outlinewidth\":0,\"ticks\":\"\"},\"colorscale\":[[0.0,\"#0d0887\"],[0.1111111111111111,\"#46039f\"],[0.2222222222222222,\"#7201a8\"],[0.3333333333333333,\"#9c179e\"],[0.4444444444444444,\"#bd3786\"],[0.5555555555555556,\"#d8576b\"],[0.6666666666666666,\"#ed7953\"],[0.7777777777777778,\"#fb9f3a\"],[0.8888888888888888,\"#fdca26\"],[1.0,\"#f0f921\"]]}],\"heatmap\":[{\"type\":\"heatmap\",\"colorbar\":{\"outlinewidth\":0,\"ticks\":\"\"},\"colorscale\":[[0.0,\"#0d0887\"],[0.1111111111111111,\"#46039f\"],[0.2222222222222222,\"#7201a8\"],[0.3333333333333333,\"#9c179e\"],[0.4444444444444444,\"#bd3786\"],[0.5555555555555556,\"#d8576b\"],[0.6666666666666666,\"#ed7953\"],[0.7777777777777778,\"#fb9f3a\"],[0.8888888888888888,\"#fdca26\"],[1.0,\"#f0f921\"]]}],\"heatmapgl\":[{\"type\":\"heatmapgl\",\"colorbar\":{\"outlinewidth\":0,\"ticks\":\"\"},\"colorscale\":[[0.0,\"#0d0887\"],[0.1111111111111111,\"#46039f\"],[0.2222222222222222,\"#7201a8\"],[0.3333333333333333,\"#9c179e\"],[0.4444444444444444,\"#bd3786\"],[0.5555555555555556,\"#d8576b\"],[0.6666666666666666,\"#ed7953\"],[0.7777777777777778,\"#fb9f3a\"],[0.8888888888888888,\"#fdca26\"],[1.0,\"#f0f921\"]]}],\"contourcarpet\":[{\"type\":\"contourcarpet\",\"colorbar\":{\"outlinewidth\":0,\"ticks\":\"\"}}],\"contour\":[{\"type\":\"contour\",\"colorbar\":{\"outlinewidth\":0,\"ticks\":\"\"},\"colorscale\":[[0.0,\"#0d0887\"],[0.1111111111111111,\"#46039f\"],[0.2222222222222222,\"#7201a8\"],[0.3333333333333333,\"#9c179e\"],[0.4444444444444444,\"#bd3786\"],[0.5555555555555556,\"#d8576b\"],[0.6666666666666666,\"#ed7953\"],[0.7777777777777778,\"#fb9f3a\"],[0.8888888888888888,\"#fdca26\"],[1.0,\"#f0f921\"]]}],\"surface\":[{\"type\":\"surface\",\"colorbar\":{\"outlinewidth\":0,\"ticks\":\"\"},\"colorscale\":[[0.0,\"#0d0887\"],[0.1111111111111111,\"#46039f\"],[0.2222222222222222,\"#7201a8\"],[0.3333333333333333,\"#9c179e\"],[0.4444444444444444,\"#bd3786\"],[0.5555555555555556,\"#d8576b\"],[0.6666666666666666,\"#ed7953\"],[0.7777777777777778,\"#fb9f3a\"],[0.8888888888888888,\"#fdca26\"],[1.0,\"#f0f921\"]]}],\"mesh3d\":[{\"type\":\"mesh3d\",\"colorbar\":{\"outlinewidth\":0,\"ticks\":\"\"}}],\"scatter\":[{\"fillpattern\":{\"fillmode\":\"overlay\",\"size\":10,\"solidity\":0.2},\"type\":\"scatter\"}],\"parcoords\":[{\"type\":\"parcoords\",\"line\":{\"colorbar\":{\"outlinewidth\":0,\"ticks\":\"\"}}}],\"scatterpolargl\":[{\"type\":\"scatterpolargl\",\"marker\":{\"colorbar\":{\"outlinewidth\":0,\"ticks\":\"\"}}}],\"bar\":[{\"error_x\":{\"color\":\"#2a3f5f\"},\"error_y\":{\"color\":\"#2a3f5f\"},\"marker\":{\"line\":{\"color\":\"#E5ECF6\",\"width\":0.5},\"pattern\":{\"fillmode\":\"overlay\",\"size\":10,\"solidity\":0.2}},\"type\":\"bar\"}],\"scattergeo\":[{\"type\":\"scattergeo\",\"marker\":{\"colorbar\":{\"outlinewidth\":0,\"ticks\":\"\"}}}],\"scatterpolar\":[{\"type\":\"scatterpolar\",\"marker\":{\"colorbar\":{\"outlinewidth\":0,\"ticks\":\"\"}}}],\"histogram\":[{\"marker\":{\"pattern\":{\"fillmode\":\"overlay\",\"size\":10,\"solidity\":0.2}},\"type\":\"histogram\"}],\"scattergl\":[{\"type\":\"scattergl\",\"marker\":{\"colorbar\":{\"outlinewidth\":0,\"ticks\":\"\"}}}],\"scatter3d\":[{\"type\":\"scatter3d\",\"line\":{\"colorbar\":{\"outlinewidth\":0,\"ticks\":\"\"}},\"marker\":{\"colorbar\":{\"outlinewidth\":0,\"ticks\":\"\"}}}],\"scattermapbox\":[{\"type\":\"scattermapbox\",\"marker\":{\"colorbar\":{\"outlinewidth\":0,\"ticks\":\"\"}}}],\"scatterternary\":[{\"type\":\"scatterternary\",\"marker\":{\"colorbar\":{\"outlinewidth\":0,\"ticks\":\"\"}}}],\"scattercarpet\":[{\"type\":\"scattercarpet\",\"marker\":{\"colorbar\":{\"outlinewidth\":0,\"ticks\":\"\"}}}],\"carpet\":[{\"aaxis\":{\"endlinecolor\":\"#2a3f5f\",\"gridcolor\":\"white\",\"linecolor\":\"white\",\"minorgridcolor\":\"white\",\"startlinecolor\":\"#2a3f5f\"},\"baxis\":{\"endlinecolor\":\"#2a3f5f\",\"gridcolor\":\"white\",\"linecolor\":\"white\",\"minorgridcolor\":\"white\",\"startlinecolor\":\"#2a3f5f\"},\"type\":\"carpet\"}],\"table\":[{\"cells\":{\"fill\":{\"color\":\"#EBF0F8\"},\"line\":{\"color\":\"white\"}},\"header\":{\"fill\":{\"color\":\"#C8D4E3\"},\"line\":{\"color\":\"white\"}},\"type\":\"table\"}],\"barpolar\":[{\"marker\":{\"line\":{\"color\":\"#E5ECF6\",\"width\":0.5},\"pattern\":{\"fillmode\":\"overlay\",\"size\":10,\"solidity\":0.2}},\"type\":\"barpolar\"}],\"pie\":[{\"automargin\":true,\"type\":\"pie\"}]},\"layout\":{\"autotypenumbers\":\"strict\",\"colorway\":[\"#636efa\",\"#EF553B\",\"#00cc96\",\"#ab63fa\",\"#FFA15A\",\"#19d3f3\",\"#FF6692\",\"#B6E880\",\"#FF97FF\",\"#FECB52\"],\"font\":{\"color\":\"#2a3f5f\"},\"hovermode\":\"closest\",\"hoverlabel\":{\"align\":\"left\"},\"paper_bgcolor\":\"white\",\"plot_bgcolor\":\"#E5ECF6\",\"polar\":{\"bgcolor\":\"#E5ECF6\",\"angularaxis\":{\"gridcolor\":\"white\",\"linecolor\":\"white\",\"ticks\":\"\"},\"radialaxis\":{\"gridcolor\":\"white\",\"linecolor\":\"white\",\"ticks\":\"\"}},\"ternary\":{\"bgcolor\":\"#E5ECF6\",\"aaxis\":{\"gridcolor\":\"white\",\"linecolor\":\"white\",\"ticks\":\"\"},\"baxis\":{\"gridcolor\":\"white\",\"linecolor\":\"white\",\"ticks\":\"\"},\"caxis\":{\"gridcolor\":\"white\",\"linecolor\":\"white\",\"ticks\":\"\"}},\"coloraxis\":{\"colorbar\":{\"outlinewidth\":0,\"ticks\":\"\"}},\"colorscale\":{\"sequential\":[[0.0,\"#0d0887\"],[0.1111111111111111,\"#46039f\"],[0.2222222222222222,\"#7201a8\"],[0.3333333333333333,\"#9c179e\"],[0.4444444444444444,\"#bd3786\"],[0.5555555555555556,\"#d8576b\"],[0.6666666666666666,\"#ed7953\"],[0.7777777777777778,\"#fb9f3a\"],[0.8888888888888888,\"#fdca26\"],[1.0,\"#f0f921\"]],\"sequentialminus\":[[0.0,\"#0d0887\"],[0.1111111111111111,\"#46039f\"],[0.2222222222222222,\"#7201a8\"],[0.3333333333333333,\"#9c179e\"],[0.4444444444444444,\"#bd3786\"],[0.5555555555555556,\"#d8576b\"],[0.6666666666666666,\"#ed7953\"],[0.7777777777777778,\"#fb9f3a\"],[0.8888888888888888,\"#fdca26\"],[1.0,\"#f0f921\"]],\"diverging\":[[0,\"#8e0152\"],[0.1,\"#c51b7d\"],[0.2,\"#de77ae\"],[0.3,\"#f1b6da\"],[0.4,\"#fde0ef\"],[0.5,\"#f7f7f7\"],[0.6,\"#e6f5d0\"],[0.7,\"#b8e186\"],[0.8,\"#7fbc41\"],[0.9,\"#4d9221\"],[1,\"#276419\"]]},\"xaxis\":{\"gridcolor\":\"white\",\"linecolor\":\"white\",\"ticks\":\"\",\"title\":{\"standoff\":15},\"zerolinecolor\":\"white\",\"automargin\":true,\"zerolinewidth\":2},\"yaxis\":{\"gridcolor\":\"white\",\"linecolor\":\"white\",\"ticks\":\"\",\"title\":{\"standoff\":15},\"zerolinecolor\":\"white\",\"automargin\":true,\"zerolinewidth\":2},\"scene\":{\"xaxis\":{\"backgroundcolor\":\"#E5ECF6\",\"gridcolor\":\"white\",\"linecolor\":\"white\",\"showbackground\":true,\"ticks\":\"\",\"zerolinecolor\":\"white\",\"gridwidth\":2},\"yaxis\":{\"backgroundcolor\":\"#E5ECF6\",\"gridcolor\":\"white\",\"linecolor\":\"white\",\"showbackground\":true,\"ticks\":\"\",\"zerolinecolor\":\"white\",\"gridwidth\":2},\"zaxis\":{\"backgroundcolor\":\"#E5ECF6\",\"gridcolor\":\"white\",\"linecolor\":\"white\",\"showbackground\":true,\"ticks\":\"\",\"zerolinecolor\":\"white\",\"gridwidth\":2}},\"shapedefaults\":{\"line\":{\"color\":\"#2a3f5f\"}},\"annotationdefaults\":{\"arrowcolor\":\"#2a3f5f\",\"arrowhead\":0,\"arrowwidth\":1},\"geo\":{\"bgcolor\":\"white\",\"landcolor\":\"#E5ECF6\",\"subunitcolor\":\"white\",\"showland\":true,\"showlakes\":true,\"lakecolor\":\"white\"},\"title\":{\"x\":0.05},\"mapbox\":{\"style\":\"light\"}}},\"xaxis\":{\"anchor\":\"y\",\"domain\":[0.0,1.0],\"title\":{\"text\":\"0\"}},\"yaxis\":{\"anchor\":\"x\",\"domain\":[0.0,1.0],\"title\":{\"text\":\"probability\"}},\"legend\":{\"tracegroupgap\":0},\"title\":{\"text\":\"Empirical Distribution of the TVDS between Cluster 1 & 2\"},\"barmode\":\"relative\",\"shapes\":[{\"line\":{\"color\":\"red\"},\"type\":\"line\",\"x0\":0.03833505292544645,\"x1\":0.03833505292544645,\"xref\":\"x\",\"y0\":0,\"y1\":1,\"yref\":\"y domain\"}]},                        {\"responsive\": true}                    ).then(function(){\n",
       "                            \n",
       "var gd = document.getElementById('afab2a43-eb8d-4ea5-a86a-04011b936893');\n",
       "var x = new MutationObserver(function (mutations, observer) {{\n",
       "        var display = window.getComputedStyle(gd).display;\n",
       "        if (!display || display === 'none') {{\n",
       "            console.log([gd, 'removed!']);\n",
       "            Plotly.purge(gd);\n",
       "            observer.disconnect();\n",
       "        }}\n",
       "}});\n",
       "\n",
       "// Listen for the removal of the full notebook cells\n",
       "var notebookContainer = gd.closest('#notebook-container');\n",
       "if (notebookContainer) {{\n",
       "    x.observe(notebookContainer, {childList: true});\n",
       "}}\n",
       "\n",
       "// Listen for the clearing of the current output cell\n",
       "var outputEl = gd.closest('.output');\n",
       "if (outputEl) {{\n",
       "    x.observe(outputEl, {childList: true});\n",
       "}}\n",
       "\n",
       "                        })                };                });            </script>        </div>"
      ]
     },
     "metadata": {},
     "output_type": "display_data"
    }
   ],
   "source": [
    "fig = px.histogram(pd.DataFrame(tvds), x=0, nbins=50, histnorm='probability', \n",
    "                   title='Empirical Distribution of the TVDS between Cluster 0 & 1')\n",
    "fig.add_vline(x=observed_tvd, line_color='red')"
   ]
  },
  {
   "cell_type": "code",
   "execution_count": 38,
   "id": "6e8f4878-c0c4-4253-bb9f-952fcf12527f",
   "metadata": {},
   "outputs": [
    {
     "data": {
      "text/plain": [
       "0.0"
      ]
     },
     "execution_count": 38,
     "metadata": {},
     "output_type": "execute_result"
    }
   ],
   "source": [
    "p_val = (np.array(tvds) >= observed_tvd).mean()\n",
    "p_val"
   ]
  },
  {
   "cell_type": "markdown",
   "id": "4f84c41c-dcd7-414f-8852-f2a4d7a570d3",
   "metadata": {},
   "source": [
    "# Between 0 and 2"
   ]
  },
  {
   "cell_type": "code",
   "execution_count": 39,
   "id": "5af4e2e8-fc8c-4ab7-b9b7-6f0817965924",
   "metadata": {},
   "outputs": [
    {
     "data": {
      "text/html": [
       "<div>\n",
       "<style scoped>\n",
       "    .dataframe tbody tr th:only-of-type {\n",
       "        vertical-align: middle;\n",
       "    }\n",
       "\n",
       "    .dataframe tbody tr th {\n",
       "        vertical-align: top;\n",
       "    }\n",
       "\n",
       "    .dataframe thead th {\n",
       "        text-align: right;\n",
       "    }\n",
       "</style>\n",
       "<table border=\"1\" class=\"dataframe\">\n",
       "  <thead>\n",
       "    <tr style=\"text-align: right;\">\n",
       "      <th></th>\n",
       "      <th>Cluster</th>\n",
       "      <th>suic_thought_pst_12month</th>\n",
       "      <th>suic_thought_pst_yr</th>\n",
       "      <th>suic_plan</th>\n",
       "      <th>suic_attempt</th>\n",
       "    </tr>\n",
       "  </thead>\n",
       "  <tbody>\n",
       "    <tr>\n",
       "      <th>0</th>\n",
       "      <td>2</td>\n",
       "      <td>1.0</td>\n",
       "      <td>0.0</td>\n",
       "      <td>0.0</td>\n",
       "      <td>0.0</td>\n",
       "    </tr>\n",
       "    <tr>\n",
       "      <th>1</th>\n",
       "      <td>0</td>\n",
       "      <td>1.0</td>\n",
       "      <td>0.0</td>\n",
       "      <td>0.0</td>\n",
       "      <td>0.0</td>\n",
       "    </tr>\n",
       "    <tr>\n",
       "      <th>3</th>\n",
       "      <td>0</td>\n",
       "      <td>1.0</td>\n",
       "      <td>0.0</td>\n",
       "      <td>0.0</td>\n",
       "      <td>0.0</td>\n",
       "    </tr>\n",
       "    <tr>\n",
       "      <th>4</th>\n",
       "      <td>0</td>\n",
       "      <td>1.0</td>\n",
       "      <td>0.0</td>\n",
       "      <td>0.0</td>\n",
       "      <td>0.0</td>\n",
       "    </tr>\n",
       "    <tr>\n",
       "      <th>5</th>\n",
       "      <td>2</td>\n",
       "      <td>1.0</td>\n",
       "      <td>0.0</td>\n",
       "      <td>0.0</td>\n",
       "      <td>0.0</td>\n",
       "    </tr>\n",
       "  </tbody>\n",
       "</table>\n",
       "</div>"
      ],
      "text/plain": [
       "   Cluster  suic_thought_pst_12month  suic_thought_pst_yr  suic_plan   \n",
       "0        2                       1.0                  0.0        0.0  \\\n",
       "1        0                       1.0                  0.0        0.0   \n",
       "3        0                       1.0                  0.0        0.0   \n",
       "4        0                       1.0                  0.0        0.0   \n",
       "5        2                       1.0                  0.0        0.0   \n",
       "\n",
       "   suic_attempt  \n",
       "0           0.0  \n",
       "1           0.0  \n",
       "3           0.0  \n",
       "4           0.0  \n",
       "5           0.0  "
      ]
     },
     "execution_count": 39,
     "metadata": {},
     "output_type": "execute_result"
    }
   ],
   "source": [
    "test2 = df[(df['Cluster'] == 0) | (df['Cluster'] == 2)][['Cluster',\n",
    "                                                        'suic_thought_pst_12month', \n",
    "                                                        'suic_thought_pst_yr',\n",
    "                                                        'suic_plan', \n",
    "                                                        'suic_attempt']]\n",
    "test2.head()"
   ]
  },
  {
   "cell_type": "code",
   "execution_count": 40,
   "id": "e1fb459b-2bad-4307-8136-c52f3631496b",
   "metadata": {},
   "outputs": [
    {
     "data": {
      "text/html": [
       "<div>\n",
       "<style scoped>\n",
       "    .dataframe tbody tr th:only-of-type {\n",
       "        vertical-align: middle;\n",
       "    }\n",
       "\n",
       "    .dataframe tbody tr th {\n",
       "        vertical-align: top;\n",
       "    }\n",
       "\n",
       "    .dataframe thead th {\n",
       "        text-align: right;\n",
       "    }\n",
       "</style>\n",
       "<table border=\"1\" class=\"dataframe\">\n",
       "  <thead>\n",
       "    <tr style=\"text-align: right;\">\n",
       "      <th></th>\n",
       "      <th>suic_thought_pst_12month</th>\n",
       "      <th>suic_thought_pst_yr</th>\n",
       "      <th>suic_plan</th>\n",
       "      <th>suic_attempt</th>\n",
       "    </tr>\n",
       "    <tr>\n",
       "      <th>Cluster</th>\n",
       "      <th></th>\n",
       "      <th></th>\n",
       "      <th></th>\n",
       "      <th></th>\n",
       "    </tr>\n",
       "  </thead>\n",
       "  <tbody>\n",
       "    <tr>\n",
       "      <th>0</th>\n",
       "      <td>0.959128</td>\n",
       "      <td>0.041670</td>\n",
       "      <td>0.012158</td>\n",
       "      <td>0.006088</td>\n",
       "    </tr>\n",
       "    <tr>\n",
       "      <th>2</th>\n",
       "      <td>0.928960</td>\n",
       "      <td>0.071269</td>\n",
       "      <td>0.022687</td>\n",
       "      <td>0.012462</td>\n",
       "    </tr>\n",
       "  </tbody>\n",
       "</table>\n",
       "</div>"
      ],
      "text/plain": [
       "         suic_thought_pst_12month  suic_thought_pst_yr  suic_plan   \n",
       "Cluster                                                             \n",
       "0                        0.959128             0.041670   0.012158  \\\n",
       "2                        0.928960             0.071269   0.022687   \n",
       "\n",
       "         suic_attempt  \n",
       "Cluster                \n",
       "0            0.006088  \n",
       "2            0.012462  "
      ]
     },
     "execution_count": 40,
     "metadata": {},
     "output_type": "execute_result"
    }
   ],
   "source": [
    "test2_means = test2.groupby('Cluster').mean()\n",
    "test2_means.head()"
   ]
  },
  {
   "cell_type": "code",
   "execution_count": 41,
   "id": "1cb69101-d773-4493-8a9d-bd2e717fbb30",
   "metadata": {},
   "outputs": [
    {
     "data": {
      "text/plain": [
       "0.03833505292544645"
      ]
     },
     "execution_count": 41,
     "metadata": {},
     "output_type": "execute_result"
    }
   ],
   "source": [
    "cluster_0 = test2_means.iloc[0]\n",
    "cluster_2 = test2_means.iloc[1]\n",
    "observed_tvd = total_variation_distance(cluster_0,cluster_2)\n",
    "observed_tvd"
   ]
  },
  {
   "cell_type": "code",
   "execution_count": 46,
   "id": "20d2f374-6fa7-47ad-a214-b215c76c6395",
   "metadata": {},
   "outputs": [
    {
     "data": {
      "text/plain": [
       "[0.0008218592826677237,\n",
       " 0.0017348728251993292,\n",
       " 0.0027197662550536555,\n",
       " 0.001353831777256992,\n",
       " 0.0015843451707493626,\n",
       " 0.001672867560710803,\n",
       " 0.004786872848236304,\n",
       " 0.0011227713044156297,\n",
       " 0.001936210403862432,\n",
       " 0.0030461548824840456]"
      ]
     },
     "execution_count": 46,
     "metadata": {},
     "output_type": "execute_result"
    }
   ],
   "source": [
    "n_repetitions = 500\n",
    "\n",
    "tvds = []\n",
    "for _ in range(n_repetitions):\n",
    "    \n",
    "    # Step 1: Shuffle the clusters and store them in a DataFrame.\n",
    "    with_shuffled = test2.assign(shuffled_clusters=np.random.permutation(test2['Cluster']))\n",
    "\n",
    "    # Step 2: Compute the test statistic.\n",
    "    # Remember, alphabetically, False comes before True,\n",
    "    # so this computes True - False.\n",
    "    cluster_props = with_shuffled = with_shuffled.groupby('shuffled_clusters').mean()\n",
    "    test_statistic = total_variation_distance(cluster_props.iloc[0],cluster_props.iloc[1])\n",
    "    \n",
    "    # Step 4: Store the result\n",
    "    tvds.append(test_statistic)\n",
    "    \n",
    "tvds[:10]"
   ]
  },
  {
   "cell_type": "code",
   "execution_count": 49,
   "id": "d03a5805-0447-4ce0-a5c6-6e72eeda123c",
   "metadata": {},
   "outputs": [
    {
     "data": {
      "application/vnd.plotly.v1+json": {
       "config": {
        "plotlyServerURL": "https://plot.ly"
       },
       "data": [
        {
         "alignmentgroup": "True",
         "bingroup": "x",
         "histnorm": "probability",
         "hovertemplate": "0=%{x}<br>probability=%{y}<extra></extra>",
         "legendgroup": "",
         "marker": {
          "color": "#636efa",
          "pattern": {
           "shape": ""
          }
         },
         "name": "",
         "nbinsx": 50,
         "offsetgroup": "",
         "orientation": "v",
         "showlegend": false,
         "type": "histogram",
         "x": [
          0.0008218592826677237,
          0.0017348728251993292,
          0.0027197662550536555,
          0.001353831777256992,
          0.0015843451707493626,
          0.001672867560710803,
          0.004786872848236304,
          0.0011227713044156297,
          0.001936210403862432,
          0.0030461548824840456,
          0.0024096172758081326,
          0.0008786302524860252,
          0.002571871595797859,
          0.0016579398151815453,
          0.005503221961278832,
          0.0051728096655745,
          0.0020192856314604603,
          0.002877477772166092,
          0.0026826535698188016,
          0.002593817973647952,
          0.0072817476674826645,
          0.004055792915724376,
          0.002568081800663675,
          0.0038815939986887437,
          0.0033140894787049248,
          0.006550232247055469,
          0.0024289306584640907,
          0.0032251959300079076,
          0.0039511531592835445,
          0.004007282712792689,
          0.0013803419634306749,
          0.006693173184389264,
          0.004343188870468944,
          0.0028726146362314598,
          0.006414149587965306,
          0.0012514431670030204,
          0.0024922360100446527,
          0.0028904139388103564,
          0.002241146093884089,
          0.003185943690020181,
          0.002818365070173433,
          0.004128894119715151,
          0.0023549648552962507,
          0.005245351974652723,
          0.005256728486903142,
          0.00627146821793328,
          0.0037827566217136007,
          0.0029985302841758262,
          0.002306793177638917,
          0.003140697208320088,
          0.0010522610847261728,
          0.003006409202055131,
          0.002346200332793623,
          0.0036518336129394693,
          0.006199419349296388,
          0.0027609890684798556,
          0.0047789149723844165,
          0.007431612900177088,
          0.0019172681799421694,
          0.0026984367246423125,
          0.0019056321003899134,
          0.003196826761829301,
          0.0019621224974602086,
          0.003921886758466737,
          0.0015024794442557955,
          0.0031975797695723233,
          0.0037095228208424607,
          0.005059537983511408,
          0.004070152576458202,
          0.0017170735226204941,
          0.0013280209599186204,
          0.0035687004328151797,
          0.006350297157035578,
          0.0019282735334569222,
          0.001354325217698355,
          0.0029600965064025785,
          0.0014453373157019738,
          0.002598713743043832,
          0.006552091229060297,
          0.001865774828527099,
          0.0025532076940420383,
          0.004050818188355833,
          0.0029359199878120947,
          0.0019147784719000093,
          0.00453658957872648,
          0.0017004627156999392,
          0.00327156657818657,
          0.004303331598606032,
          0.003412926855680066,
          0.004869927070388053,
          0.005870307140684225,
          0.0017682283487612535,
          0.002796418692323302,
          0.002776648816305862,
          0.0029998748202928116,
          0.0035358919886023764,
          0.00190552050895601,
          0.005418229799149842,
          0.003356850941078636,
          0.003188433398062216,
          0.007136576589408615,
          0.0024171829874780424,
          0.0012776727804286207,
          0.0014280781531728574,
          0.0028698910550498096,
          0.004547594932241381,
          0.002780737939050938,
          0.002121764827701993,
          0.0027295831129102045,
          0.0038786108502053716,
          0.004536218419990878,
          0.003688999937081882,
          0.005241562179518578,
          0.0018743741206880653,
          0.0012665768409262299,
          0.0029343603334182665,
          0.0040242753687208055,
          0.0015934915422594247,
          0.0018351218807004998,
          0.0034281141685111264,
          0.002539972199786812,
          0.0024201871414078384,
          0.0023316647514462913,
          0.001797462116116656,
          0.002431563653658303,
          0.004888890299754668,
          0.0030908869182964486,
          0.0015222493202732938,
          0.001991690476471414,
          0.004178704409738906,
          0.0047553553012328175,
          0.0027956120456725433,
          0.0030226488502401354,
          0.002604420472708988,
          0.004152400151959117,
          0.0019142640260122815,
          0.0019995157554430574,
          0.0036662469125810313,
          0.002275275630635394,
          0.002374660086959606,
          0.0025916414718152496,
          0.005315034542244988,
          0.003686769796341584,
          0.0013489360078610272,
          0.002926402457566363,
          0.0036510806051963827,
          0.0028804609206494946,
          0.006417132736448707,
          0.002915025945315981,
          0.003984789255593588,
          0.0017069970974621885,
          0.005422812362336284,
          0.00400805672598217,
          0.0033780443111856642,
          0.005353468320018223,
          0.006400107447059326,
          0.001643951313183253,
          0.0018346494457055842,
          0.0022809244077743778,
          0.002952250221984605,
          0.0020201502306374684,
          0.002963536148247534,
          0.002776648816305855,
          0.0035274986248352994,
          0.0014193136306702306,
          0.005090169925891554,
          0.004103910954473886,
          0.0033709720399571694,
          0.0032848020724417382,
          0.002797842186412957,
          0.0035957576983379697,
          0.004767538460133966,
          0.005896043313668585,
          0.006370067033053079,
          0.004345047852473675,
          0.0021130003051993227,
          0.004072011558462979,
          0.0028012608228114655,
          0.004970756026248239,
          0.002830548229074666,
          0.005236205603142659,
          0.002500082294462659,
          0.0017183736097125934,
          0.001117101521830319,
          0.0029040205918011344,
          0.002490676355650829,
          0.004765978805740155,
          0.0046863432199870615,
          0.0048342378792428815,
          0.0053443219485081765,
          0.003017785714305554,
          0.00253343781802458,
          0.002476555256772297,
          0.004755902380581843,
          0.007346216945851093,
          0.0022836689944024362,
          0.005494075589768738,
          0.0054690924245275,
          0.0013332552545887947,
          0.0025134293801517722,
          0.0032585514535696854,
          0.0015892083066838718,
          0.004323854482366534,
          0.002617398650246028,
          0.005313611048155462,
          0.003532361760769904,
          0.0041489235630343515,
          0.0007660103019066717,
          0.0028100253453140983,
          0.004323854482366535,
          0.0012746896319452104,
          0.006493349685803248,
          0.0018080856206241242,
          0.005207432642767201,
          0.0009017754411689075,
          0.005484258731912097,
          0.006174436184055135,
          0.002438077029974152,
          0.003327696131695701,
          0.005054674847576851,
          0.0025111992394113644,
          0.0036434938880801748,
          0.004613995023739227,
          0.0013932968849378266,
          0.0031255309009354847,
          0.0014225842912010634,
          0.001270665963671344,
          0.004244218896613458,
          0.0017056970103701318,
          0.003927100047690552,
          0.0019992561881412947,
          0.003921372312578986,
          0.0022078232037835233,
          0.0021331413399524705,
          0.001968916446524147,
          0.004697719732237468,
          0.003848271108588197,
          0.0030481254559227115,
          0.004960186160648498,
          0.001334555341680835,
          0.0023313841786982642,
          0.0036215148767687073,
          0.0014342203707531365,
          0.0021848106119809214,
          0.0037534692154504194,
          0.0025248058924022274,
          0.0030686483396832756,
          0.003675393284091136,
          0.002806967552476651,
          0.004640837170985205,
          0.004832007738502502,
          0.004303331598606019,
          0.006129736781704161,
          0.0057117889769210855,
          0.0029697899572617035,
          0.002699736811734424,
          0.0017853325961232269,
          0.0021418152764675806,
          0.001439174092675263,
          0.0023427816963950774,
          0.004542238355865447,
          0.006498998462942199,
          0.0030011959128313087,
          0.004028065163855022,
          0.003666740353022423,
          0.006449702618806273,
          0.003590108921199084,
          0.0008115163509084368,
          0.004005312139354115,
          0.0014713540614343622,
          0.002227593079801025,
          0.0019426331941907234,
          0.004061388053955498,
          0.00249420658348337,
          0.0017008338744354942,
          0.0034947925821736045,
          0.004339813557803494,
          0.003828262670715405,
          0.003629887235089325,
          0.0028107783530571745,
          0.0038786108502053924,
          0.0009385169676680936,
          0.0008653947582308863,
          0.004493695519472499,
          0.0018118754157582665,
          0.0010046364864179187,
          0.0041145134535349615,
          0.001715102949181849,
          0.0024399360119789076,
          0.005313611048155467,
          0.004920015682576277,
          0.003909995800328619,
          0.0050340613778287885,
          0.0035069757410747847,
          0.007607876727611429,
          0.002067021821202596,
          0.003194596621088926,
          0.0032138194177574143,
          0.002110388315451556,
          0.0014470203770931998,
          0.0023955751349021706,
          0.0017287096021726097,
          0.005657629996850564,
          0.0044194491435565674,
          0.0017262198941305354,
          0.0038417367268259077,
          0.0034860816985786067,
          0.0026030179840657343,
          0.0028463313838981126,
          0.0037678288761842918,
          0.005784890180911908,
          0.001623337843435253,
          0.0038316813071139514,
          0.007623043034996042,
          0.003921393318025363,
          0.005258958627643551,
          0.0021133924693813736,
          0.004146693422293977,
          0.0028560248347573062,
          0.0013158914399250638,
          0.0020591218978769704,
          0.0028362549587397576,
          0.0029771428012383624,
          0.005043298335326418,
          0.001712098795252119,
          0.0016098217764319075,
          0.003338940047065863,
          0.002342781696395098,
          0.0024581064732933844,
          0.004391306909218499,
          0.002158012913759798,
          0.0011175370097454423,
          0.002596854761039084,
          0.006047435567295496,
          0.0054747412016664205,
          0.003147769479548689,
          0.002880896408564625,
          0.0028661012599155962,
          0.001920427249038929,
          0.005571481034781479,
          0.00312579046823719,
          0.0009932599741674566,
          0.0033616930715667133,
          0.006692913617087524,
          0.002780737939050937,
          0.005127797057014077,
          0.004035158440529883,
          0.0018976742245380056,
          0.003935493411457641,
          0.003964780817720745,
          0.004072818205113622,
          0.009684050734331618,
          0.0011538966872371046,
          0.0014277069944373085,
          0.0012294641556914515,
          0.002676490346792182,
          0.0016098217764319257,
          0.005883860154767318,
          0.0019965326069595595,
          0.0015095727209307646,
          0.004590377400061441,
          0.007454365924678005,
          0.0022844756410532636,
          0.00247090647963336,
          0.004414866580370122,
          0.0040378820217116,
          0.004656003478369871,
          0.00263098429779046,
          0.004699279386631241,
          0.0019339802631220286,
          0.004638607030244894,
          0.005247603120839522,
          0.006048520536110824,
          0.003400797335686531,
          0.0026840770639084974,
          0.0022183930693832126,
          0.005731558852938571,
          0.005375468336776084,
          0.004444712881545954,
          0.0022495394576511375,
          0.00673790522020158,
          0.004722032411132223,
          0.002448960101783238,
          0.0016376975041691834,
          0.0035017624518510326,
          0.0058396751983040215,
          0.004913873464995917,
          0.0038710241330890648,
          0.0030003892661805967,
          0.0028676609143094365,
          0.0030496851103165197,
          0.004674966707736599,
          0.0027596235269164195,
          0.00173982654712142,
          0.003770494504839894,
          0.0018229923607069728,
          0.002866101259915591,
          0.0030895423821794216,
          0.00527867486475333,
          0.002010632700391685,
          0.002856284402058982,
          0.004026505509461149,
          0.0018146200023863345,
          0.006842926825649778,
          0.0024034540527814756,
          0.0017489729186314822,
          0.004172976674627367,
          0.0020079997051975834,
          0.0024990487139715453,
          0.002113827957296527,
          0.0023243119074697043,
          0.0033909804778299675,
          0.0011739840830825446,
          0.003673833629697339,
          0.003178915867816606,
          0.001533625832523788,
          0.0021388111225378653,
          0.001221070791924462,
          0.0036326108162710227,
          0.0047803384664740906,
          0.00414325378044905,
          0.001052282090172542,
          0.005609400366667042,
          0.001704273516280462,
          0.0010721425521775397,
          0.003470616063583081,
          0.002970070530009845,
          0.0009437302568918752,
          0.0020242393533825937,
          0.002351928067905161,
          0.003424303367930483,
          0.003848271108588169,
          0.002278312418026599,
          0.0021104093208980206,
          0.0033709720399571286,
          0.0033587099230833655,
          0.005972148671589156,
          0.002622219775287769,
          0.003193789974438173,
          0.0011682773534173723,
          0.004712079392971313,
          0.0047973847613098095,
          0.0016893667761975553,
          0.004646979388565563,
          0.0023413582023054293,
          0.004615360565302652,
          0.003806262653957556,
          0.001132288834661317,
          0.0028725030447976077,
          0.0015301861906787768,
          0.003288591867575942,
          0.0038937771575899656,
          0.003139116548479948,
          0.003716616097517376,
          0.00453658957872645,
          0.0024090701964590887,
          0.0029806193901631296,
          0.0068714402187234945,
          0.004050818188355804,
          0.002384198622651711,
          0.0054273761706598546,
          0.0015464258388638305,
          0.0031770568858118034,
          0.001954121297875094,
          0.0036063812028453556,
          0.003544602872197246,
          0.004533494838809149,
          0.0031520737205706075,
          0.0022888822836262673,
          0.005122440480638201,
          0.0015957426884461662,
          0.0031280206089775867,
          0.006237338681181963,
          0.0017693735206862722,
          0.003634861962457844,
          0.0067891390043148874,
          0.002765272304055431,
          0.002222203869963778,
          0.0043493520934955706,
          0.002056945396044281,
          0.003364437658194915,
          0.001078129854590707,
          0.002044247791255417,
          0.00460261851148876,
          0.005518388268663406,
          0.0038767518682005994,
          0.0033902274700869034,
          0.0032221917760780474,
          0.003457679896938789,
          0.004460372629371947,
          0.0014053251286719696,
          0.003525938970441446,
          0.002017426649455727,
          0.004150223650126383,
          0.003478202780699288,
          0.004629460658734796,
          0.0033477045695685355,
          0.004934767507492123,
          0.0023579480037797104,
          0.0043693605313683955
         ],
         "xaxis": "x",
         "yaxis": "y"
        }
       ],
       "layout": {
        "autosize": true,
        "barmode": "relative",
        "legend": {
         "tracegroupgap": 0
        },
        "shapes": [
         {
          "line": {
           "color": "red"
          },
          "type": "line",
          "x0": 0.03833505292544645,
          "x1": 0.03833505292544645,
          "xref": "x",
          "y0": 0,
          "y1": 1,
          "yref": "y domain"
         }
        ],
        "template": {
         "data": {
          "bar": [
           {
            "error_x": {
             "color": "#2a3f5f"
            },
            "error_y": {
             "color": "#2a3f5f"
            },
            "marker": {
             "line": {
              "color": "#E5ECF6",
              "width": 0.5
             },
             "pattern": {
              "fillmode": "overlay",
              "size": 10,
              "solidity": 0.2
             }
            },
            "type": "bar"
           }
          ],
          "barpolar": [
           {
            "marker": {
             "line": {
              "color": "#E5ECF6",
              "width": 0.5
             },
             "pattern": {
              "fillmode": "overlay",
              "size": 10,
              "solidity": 0.2
             }
            },
            "type": "barpolar"
           }
          ],
          "carpet": [
           {
            "aaxis": {
             "endlinecolor": "#2a3f5f",
             "gridcolor": "white",
             "linecolor": "white",
             "minorgridcolor": "white",
             "startlinecolor": "#2a3f5f"
            },
            "baxis": {
             "endlinecolor": "#2a3f5f",
             "gridcolor": "white",
             "linecolor": "white",
             "minorgridcolor": "white",
             "startlinecolor": "#2a3f5f"
            },
            "type": "carpet"
           }
          ],
          "choropleth": [
           {
            "colorbar": {
             "outlinewidth": 0,
             "ticks": ""
            },
            "type": "choropleth"
           }
          ],
          "contour": [
           {
            "colorbar": {
             "outlinewidth": 0,
             "ticks": ""
            },
            "colorscale": [
             [
              0,
              "#0d0887"
             ],
             [
              0.1111111111111111,
              "#46039f"
             ],
             [
              0.2222222222222222,
              "#7201a8"
             ],
             [
              0.3333333333333333,
              "#9c179e"
             ],
             [
              0.4444444444444444,
              "#bd3786"
             ],
             [
              0.5555555555555556,
              "#d8576b"
             ],
             [
              0.6666666666666666,
              "#ed7953"
             ],
             [
              0.7777777777777778,
              "#fb9f3a"
             ],
             [
              0.8888888888888888,
              "#fdca26"
             ],
             [
              1,
              "#f0f921"
             ]
            ],
            "type": "contour"
           }
          ],
          "contourcarpet": [
           {
            "colorbar": {
             "outlinewidth": 0,
             "ticks": ""
            },
            "type": "contourcarpet"
           }
          ],
          "heatmap": [
           {
            "colorbar": {
             "outlinewidth": 0,
             "ticks": ""
            },
            "colorscale": [
             [
              0,
              "#0d0887"
             ],
             [
              0.1111111111111111,
              "#46039f"
             ],
             [
              0.2222222222222222,
              "#7201a8"
             ],
             [
              0.3333333333333333,
              "#9c179e"
             ],
             [
              0.4444444444444444,
              "#bd3786"
             ],
             [
              0.5555555555555556,
              "#d8576b"
             ],
             [
              0.6666666666666666,
              "#ed7953"
             ],
             [
              0.7777777777777778,
              "#fb9f3a"
             ],
             [
              0.8888888888888888,
              "#fdca26"
             ],
             [
              1,
              "#f0f921"
             ]
            ],
            "type": "heatmap"
           }
          ],
          "heatmapgl": [
           {
            "colorbar": {
             "outlinewidth": 0,
             "ticks": ""
            },
            "colorscale": [
             [
              0,
              "#0d0887"
             ],
             [
              0.1111111111111111,
              "#46039f"
             ],
             [
              0.2222222222222222,
              "#7201a8"
             ],
             [
              0.3333333333333333,
              "#9c179e"
             ],
             [
              0.4444444444444444,
              "#bd3786"
             ],
             [
              0.5555555555555556,
              "#d8576b"
             ],
             [
              0.6666666666666666,
              "#ed7953"
             ],
             [
              0.7777777777777778,
              "#fb9f3a"
             ],
             [
              0.8888888888888888,
              "#fdca26"
             ],
             [
              1,
              "#f0f921"
             ]
            ],
            "type": "heatmapgl"
           }
          ],
          "histogram": [
           {
            "marker": {
             "pattern": {
              "fillmode": "overlay",
              "size": 10,
              "solidity": 0.2
             }
            },
            "type": "histogram"
           }
          ],
          "histogram2d": [
           {
            "colorbar": {
             "outlinewidth": 0,
             "ticks": ""
            },
            "colorscale": [
             [
              0,
              "#0d0887"
             ],
             [
              0.1111111111111111,
              "#46039f"
             ],
             [
              0.2222222222222222,
              "#7201a8"
             ],
             [
              0.3333333333333333,
              "#9c179e"
             ],
             [
              0.4444444444444444,
              "#bd3786"
             ],
             [
              0.5555555555555556,
              "#d8576b"
             ],
             [
              0.6666666666666666,
              "#ed7953"
             ],
             [
              0.7777777777777778,
              "#fb9f3a"
             ],
             [
              0.8888888888888888,
              "#fdca26"
             ],
             [
              1,
              "#f0f921"
             ]
            ],
            "type": "histogram2d"
           }
          ],
          "histogram2dcontour": [
           {
            "colorbar": {
             "outlinewidth": 0,
             "ticks": ""
            },
            "colorscale": [
             [
              0,
              "#0d0887"
             ],
             [
              0.1111111111111111,
              "#46039f"
             ],
             [
              0.2222222222222222,
              "#7201a8"
             ],
             [
              0.3333333333333333,
              "#9c179e"
             ],
             [
              0.4444444444444444,
              "#bd3786"
             ],
             [
              0.5555555555555556,
              "#d8576b"
             ],
             [
              0.6666666666666666,
              "#ed7953"
             ],
             [
              0.7777777777777778,
              "#fb9f3a"
             ],
             [
              0.8888888888888888,
              "#fdca26"
             ],
             [
              1,
              "#f0f921"
             ]
            ],
            "type": "histogram2dcontour"
           }
          ],
          "mesh3d": [
           {
            "colorbar": {
             "outlinewidth": 0,
             "ticks": ""
            },
            "type": "mesh3d"
           }
          ],
          "parcoords": [
           {
            "line": {
             "colorbar": {
              "outlinewidth": 0,
              "ticks": ""
             }
            },
            "type": "parcoords"
           }
          ],
          "pie": [
           {
            "automargin": true,
            "type": "pie"
           }
          ],
          "scatter": [
           {
            "fillpattern": {
             "fillmode": "overlay",
             "size": 10,
             "solidity": 0.2
            },
            "type": "scatter"
           }
          ],
          "scatter3d": [
           {
            "line": {
             "colorbar": {
              "outlinewidth": 0,
              "ticks": ""
             }
            },
            "marker": {
             "colorbar": {
              "outlinewidth": 0,
              "ticks": ""
             }
            },
            "type": "scatter3d"
           }
          ],
          "scattercarpet": [
           {
            "marker": {
             "colorbar": {
              "outlinewidth": 0,
              "ticks": ""
             }
            },
            "type": "scattercarpet"
           }
          ],
          "scattergeo": [
           {
            "marker": {
             "colorbar": {
              "outlinewidth": 0,
              "ticks": ""
             }
            },
            "type": "scattergeo"
           }
          ],
          "scattergl": [
           {
            "marker": {
             "colorbar": {
              "outlinewidth": 0,
              "ticks": ""
             }
            },
            "type": "scattergl"
           }
          ],
          "scattermapbox": [
           {
            "marker": {
             "colorbar": {
              "outlinewidth": 0,
              "ticks": ""
             }
            },
            "type": "scattermapbox"
           }
          ],
          "scatterpolar": [
           {
            "marker": {
             "colorbar": {
              "outlinewidth": 0,
              "ticks": ""
             }
            },
            "type": "scatterpolar"
           }
          ],
          "scatterpolargl": [
           {
            "marker": {
             "colorbar": {
              "outlinewidth": 0,
              "ticks": ""
             }
            },
            "type": "scatterpolargl"
           }
          ],
          "scatterternary": [
           {
            "marker": {
             "colorbar": {
              "outlinewidth": 0,
              "ticks": ""
             }
            },
            "type": "scatterternary"
           }
          ],
          "surface": [
           {
            "colorbar": {
             "outlinewidth": 0,
             "ticks": ""
            },
            "colorscale": [
             [
              0,
              "#0d0887"
             ],
             [
              0.1111111111111111,
              "#46039f"
             ],
             [
              0.2222222222222222,
              "#7201a8"
             ],
             [
              0.3333333333333333,
              "#9c179e"
             ],
             [
              0.4444444444444444,
              "#bd3786"
             ],
             [
              0.5555555555555556,
              "#d8576b"
             ],
             [
              0.6666666666666666,
              "#ed7953"
             ],
             [
              0.7777777777777778,
              "#fb9f3a"
             ],
             [
              0.8888888888888888,
              "#fdca26"
             ],
             [
              1,
              "#f0f921"
             ]
            ],
            "type": "surface"
           }
          ],
          "table": [
           {
            "cells": {
             "fill": {
              "color": "#EBF0F8"
             },
             "line": {
              "color": "white"
             }
            },
            "header": {
             "fill": {
              "color": "#C8D4E3"
             },
             "line": {
              "color": "white"
             }
            },
            "type": "table"
           }
          ]
         },
         "layout": {
          "annotationdefaults": {
           "arrowcolor": "#2a3f5f",
           "arrowhead": 0,
           "arrowwidth": 1
          },
          "autotypenumbers": "strict",
          "coloraxis": {
           "colorbar": {
            "outlinewidth": 0,
            "ticks": ""
           }
          },
          "colorscale": {
           "diverging": [
            [
             0,
             "#8e0152"
            ],
            [
             0.1,
             "#c51b7d"
            ],
            [
             0.2,
             "#de77ae"
            ],
            [
             0.3,
             "#f1b6da"
            ],
            [
             0.4,
             "#fde0ef"
            ],
            [
             0.5,
             "#f7f7f7"
            ],
            [
             0.6,
             "#e6f5d0"
            ],
            [
             0.7,
             "#b8e186"
            ],
            [
             0.8,
             "#7fbc41"
            ],
            [
             0.9,
             "#4d9221"
            ],
            [
             1,
             "#276419"
            ]
           ],
           "sequential": [
            [
             0,
             "#0d0887"
            ],
            [
             0.1111111111111111,
             "#46039f"
            ],
            [
             0.2222222222222222,
             "#7201a8"
            ],
            [
             0.3333333333333333,
             "#9c179e"
            ],
            [
             0.4444444444444444,
             "#bd3786"
            ],
            [
             0.5555555555555556,
             "#d8576b"
            ],
            [
             0.6666666666666666,
             "#ed7953"
            ],
            [
             0.7777777777777778,
             "#fb9f3a"
            ],
            [
             0.8888888888888888,
             "#fdca26"
            ],
            [
             1,
             "#f0f921"
            ]
           ],
           "sequentialminus": [
            [
             0,
             "#0d0887"
            ],
            [
             0.1111111111111111,
             "#46039f"
            ],
            [
             0.2222222222222222,
             "#7201a8"
            ],
            [
             0.3333333333333333,
             "#9c179e"
            ],
            [
             0.4444444444444444,
             "#bd3786"
            ],
            [
             0.5555555555555556,
             "#d8576b"
            ],
            [
             0.6666666666666666,
             "#ed7953"
            ],
            [
             0.7777777777777778,
             "#fb9f3a"
            ],
            [
             0.8888888888888888,
             "#fdca26"
            ],
            [
             1,
             "#f0f921"
            ]
           ]
          },
          "colorway": [
           "#636efa",
           "#EF553B",
           "#00cc96",
           "#ab63fa",
           "#FFA15A",
           "#19d3f3",
           "#FF6692",
           "#B6E880",
           "#FF97FF",
           "#FECB52"
          ],
          "font": {
           "color": "#2a3f5f"
          },
          "geo": {
           "bgcolor": "white",
           "lakecolor": "white",
           "landcolor": "#E5ECF6",
           "showlakes": true,
           "showland": true,
           "subunitcolor": "white"
          },
          "hoverlabel": {
           "align": "left"
          },
          "hovermode": "closest",
          "mapbox": {
           "style": "light"
          },
          "paper_bgcolor": "white",
          "plot_bgcolor": "#E5ECF6",
          "polar": {
           "angularaxis": {
            "gridcolor": "white",
            "linecolor": "white",
            "ticks": ""
           },
           "bgcolor": "#E5ECF6",
           "radialaxis": {
            "gridcolor": "white",
            "linecolor": "white",
            "ticks": ""
           }
          },
          "scene": {
           "xaxis": {
            "backgroundcolor": "#E5ECF6",
            "gridcolor": "white",
            "gridwidth": 2,
            "linecolor": "white",
            "showbackground": true,
            "ticks": "",
            "zerolinecolor": "white"
           },
           "yaxis": {
            "backgroundcolor": "#E5ECF6",
            "gridcolor": "white",
            "gridwidth": 2,
            "linecolor": "white",
            "showbackground": true,
            "ticks": "",
            "zerolinecolor": "white"
           },
           "zaxis": {
            "backgroundcolor": "#E5ECF6",
            "gridcolor": "white",
            "gridwidth": 2,
            "linecolor": "white",
            "showbackground": true,
            "ticks": "",
            "zerolinecolor": "white"
           }
          },
          "shapedefaults": {
           "line": {
            "color": "#2a3f5f"
           }
          },
          "ternary": {
           "aaxis": {
            "gridcolor": "white",
            "linecolor": "white",
            "ticks": ""
           },
           "baxis": {
            "gridcolor": "white",
            "linecolor": "white",
            "ticks": ""
           },
           "bgcolor": "#E5ECF6",
           "caxis": {
            "gridcolor": "white",
            "linecolor": "white",
            "ticks": ""
           }
          },
          "title": {
           "x": 0.05
          },
          "xaxis": {
           "automargin": true,
           "gridcolor": "white",
           "linecolor": "white",
           "ticks": "",
           "title": {
            "standoff": 15
           },
           "zerolinecolor": "white",
           "zerolinewidth": 2
          },
          "yaxis": {
           "automargin": true,
           "gridcolor": "white",
           "linecolor": "white",
           "ticks": "",
           "title": {
            "standoff": 15
           },
           "zerolinecolor": "white",
           "zerolinewidth": 2
          }
         }
        },
        "title": {
         "text": "Empirical Distribution of the TVDS between Cluster 0 & 2"
        },
        "xaxis": {
         "anchor": "y",
         "autorange": true,
         "domain": [
          0,
          1
         ],
         "range": [
          0.0006000000000000006,
          0.038365731830263886
         ],
         "title": {
          "text": "0"
         },
         "type": "linear"
        },
        "yaxis": {
         "anchor": "x",
         "autorange": true,
         "domain": [
          0,
          1
         ],
         "range": [
          0,
          0.07157894736842106
         ],
         "title": {
          "text": "probability"
         }
        }
       }
      },
      "image/png": "[encoded data removed]",
      "text/html": [
       "<div>                            <div id=\"98b5e329-8070-4695-9de6-e3ec8a56378e\" class=\"plotly-graph-div\" style=\"height:525px; width:100%;\"></div>            <script type=\"text/javascript\">                require([\"plotly\"], function(Plotly) {                    window.PLOTLYENV=window.PLOTLYENV || {};                                    if (document.getElementById(\"98b5e329-8070-4695-9de6-e3ec8a56378e\")) {                    Plotly.newPlot(                        \"98b5e329-8070-4695-9de6-e3ec8a56378e\",                        [{\"alignmentgroup\":\"True\",\"bingroup\":\"x\",\"histnorm\":\"probability\",\"hovertemplate\":\"0=%{x}<br>probability=%{y}<extra></extra>\",\"legendgroup\":\"\",\"marker\":{\"color\":\"#636efa\",\"pattern\":{\"shape\":\"\"}},\"name\":\"\",\"nbinsx\":50,\"offsetgroup\":\"\",\"orientation\":\"v\",\"showlegend\":false,\"x\":[0.0008218592826677237,0.0017348728251993292,0.0027197662550536555,0.001353831777256992,0.0015843451707493626,0.001672867560710803,0.004786872848236304,0.0011227713044156297,0.001936210403862432,0.0030461548824840456,0.0024096172758081326,0.0008786302524860252,0.002571871595797859,0.0016579398151815453,0.005503221961278832,0.0051728096655745,0.0020192856314604603,0.002877477772166092,0.0026826535698188016,0.002593817973647952,0.0072817476674826645,0.004055792915724376,0.002568081800663675,0.0038815939986887437,0.0033140894787049248,0.006550232247055469,0.0024289306584640907,0.0032251959300079076,0.0039511531592835445,0.004007282712792689,0.0013803419634306749,0.006693173184389264,0.004343188870468944,0.0028726146362314598,0.006414149587965306,0.0012514431670030204,0.0024922360100446527,0.0028904139388103564,0.002241146093884089,0.003185943690020181,0.002818365070173433,0.004128894119715151,0.0023549648552962507,0.005245351974652723,0.005256728486903142,0.00627146821793328,0.0037827566217136007,0.0029985302841758262,0.002306793177638917,0.003140697208320088,0.0010522610847261728,0.003006409202055131,0.002346200332793623,0.0036518336129394693,0.006199419349296388,0.0027609890684798556,0.0047789149723844165,0.007431612900177088,0.0019172681799421694,0.0026984367246423125,0.0019056321003899134,0.003196826761829301,0.0019621224974602086,0.003921886758466737,0.0015024794442557955,0.0031975797695723233,0.0037095228208424607,0.005059537983511408,0.004070152576458202,0.0017170735226204941,0.0013280209599186204,0.0035687004328151797,0.006350297157035578,0.0019282735334569222,0.001354325217698355,0.0029600965064025785,0.0014453373157019738,0.002598713743043832,0.006552091229060297,0.001865774828527099,0.0025532076940420383,0.004050818188355833,0.0029359199878120947,0.0019147784719000093,0.00453658957872648,0.0017004627156999392,0.00327156657818657,0.004303331598606032,0.003412926855680066,0.004869927070388053,0.005870307140684225,0.0017682283487612535,0.002796418692323302,0.002776648816305862,0.0029998748202928116,0.0035358919886023764,0.00190552050895601,0.005418229799149842,0.003356850941078636,0.003188433398062216,0.007136576589408615,0.0024171829874780424,0.0012776727804286207,0.0014280781531728574,0.0028698910550498096,0.004547594932241381,0.002780737939050938,0.002121764827701993,0.0027295831129102045,0.0038786108502053716,0.004536218419990878,0.003688999937081882,0.005241562179518578,0.0018743741206880653,0.0012665768409262299,0.0029343603334182665,0.0040242753687208055,0.0015934915422594247,0.0018351218807004998,0.0034281141685111264,0.002539972199786812,0.0024201871414078384,0.0023316647514462913,0.001797462116116656,0.002431563653658303,0.004888890299754668,0.0030908869182964486,0.0015222493202732938,0.001991690476471414,0.004178704409738906,0.0047553553012328175,0.0027956120456725433,0.0030226488502401354,0.002604420472708988,0.004152400151959117,0.0019142640260122815,0.0019995157554430574,0.0036662469125810313,0.002275275630635394,0.002374660086959606,0.0025916414718152496,0.005315034542244988,0.003686769796341584,0.0013489360078610272,0.002926402457566363,0.0036510806051963827,0.0028804609206494946,0.006417132736448707,0.002915025945315981,0.003984789255593588,0.0017069970974621885,0.005422812362336284,0.00400805672598217,0.0033780443111856642,0.005353468320018223,0.006400107447059326,0.001643951313183253,0.0018346494457055842,0.0022809244077743778,0.002952250221984605,0.0020201502306374684,0.002963536148247534,0.002776648816305855,0.0035274986248352994,0.0014193136306702306,0.005090169925891554,0.004103910954473886,0.0033709720399571694,0.0032848020724417382,0.002797842186412957,0.0035957576983379697,0.004767538460133966,0.005896043313668585,0.006370067033053079,0.004345047852473675,0.0021130003051993227,0.004072011558462979,0.0028012608228114655,0.004970756026248239,0.002830548229074666,0.005236205603142659,0.002500082294462659,0.0017183736097125934,0.001117101521830319,0.0029040205918011344,0.002490676355650829,0.004765978805740155,0.0046863432199870615,0.0048342378792428815,0.0053443219485081765,0.003017785714305554,0.00253343781802458,0.002476555256772297,0.004755902380581843,0.007346216945851093,0.0022836689944024362,0.005494075589768738,0.0054690924245275,0.0013332552545887947,0.0025134293801517722,0.0032585514535696854,0.0015892083066838718,0.004323854482366534,0.002617398650246028,0.005313611048155462,0.003532361760769904,0.0041489235630343515,0.0007660103019066717,0.0028100253453140983,0.004323854482366535,0.0012746896319452104,0.006493349685803248,0.0018080856206241242,0.005207432642767201,0.0009017754411689075,0.005484258731912097,0.006174436184055135,0.002438077029974152,0.003327696131695701,0.005054674847576851,0.0025111992394113644,0.0036434938880801748,0.004613995023739227,0.0013932968849378266,0.0031255309009354847,0.0014225842912010634,0.001270665963671344,0.004244218896613458,0.0017056970103701318,0.003927100047690552,0.0019992561881412947,0.003921372312578986,0.0022078232037835233,0.0021331413399524705,0.001968916446524147,0.004697719732237468,0.003848271108588197,0.0030481254559227115,0.004960186160648498,0.001334555341680835,0.0023313841786982642,0.0036215148767687073,0.0014342203707531365,0.0021848106119809214,0.0037534692154504194,0.0025248058924022274,0.0030686483396832756,0.003675393284091136,0.002806967552476651,0.004640837170985205,0.004832007738502502,0.004303331598606019,0.006129736781704161,0.0057117889769210855,0.0029697899572617035,0.002699736811734424,0.0017853325961232269,0.0021418152764675806,0.001439174092675263,0.0023427816963950774,0.004542238355865447,0.006498998462942199,0.0030011959128313087,0.004028065163855022,0.003666740353022423,0.006449702618806273,0.003590108921199084,0.0008115163509084368,0.004005312139354115,0.0014713540614343622,0.002227593079801025,0.0019426331941907234,0.004061388053955498,0.00249420658348337,0.0017008338744354942,0.0034947925821736045,0.004339813557803494,0.003828262670715405,0.003629887235089325,0.0028107783530571745,0.0038786108502053924,0.0009385169676680936,0.0008653947582308863,0.004493695519472499,0.0018118754157582665,0.0010046364864179187,0.0041145134535349615,0.001715102949181849,0.0024399360119789076,0.005313611048155467,0.004920015682576277,0.003909995800328619,0.0050340613778287885,0.0035069757410747847,0.007607876727611429,0.002067021821202596,0.003194596621088926,0.0032138194177574143,0.002110388315451556,0.0014470203770931998,0.0023955751349021706,0.0017287096021726097,0.005657629996850564,0.0044194491435565674,0.0017262198941305354,0.0038417367268259077,0.0034860816985786067,0.0026030179840657343,0.0028463313838981126,0.0037678288761842918,0.005784890180911908,0.001623337843435253,0.0038316813071139514,0.007623043034996042,0.003921393318025363,0.005258958627643551,0.0021133924693813736,0.004146693422293977,0.0028560248347573062,0.0013158914399250638,0.0020591218978769704,0.0028362549587397576,0.0029771428012383624,0.005043298335326418,0.001712098795252119,0.0016098217764319075,0.003338940047065863,0.002342781696395098,0.0024581064732933844,0.004391306909218499,0.002158012913759798,0.0011175370097454423,0.002596854761039084,0.006047435567295496,0.0054747412016664205,0.003147769479548689,0.002880896408564625,0.0028661012599155962,0.001920427249038929,0.005571481034781479,0.00312579046823719,0.0009932599741674566,0.0033616930715667133,0.006692913617087524,0.002780737939050937,0.005127797057014077,0.004035158440529883,0.0018976742245380056,0.003935493411457641,0.003964780817720745,0.004072818205113622,0.009684050734331618,0.0011538966872371046,0.0014277069944373085,0.0012294641556914515,0.002676490346792182,0.0016098217764319257,0.005883860154767318,0.0019965326069595595,0.0015095727209307646,0.004590377400061441,0.007454365924678005,0.0022844756410532636,0.00247090647963336,0.004414866580370122,0.0040378820217116,0.004656003478369871,0.00263098429779046,0.004699279386631241,0.0019339802631220286,0.004638607030244894,0.005247603120839522,0.006048520536110824,0.003400797335686531,0.0026840770639084974,0.0022183930693832126,0.005731558852938571,0.005375468336776084,0.004444712881545954,0.0022495394576511375,0.00673790522020158,0.004722032411132223,0.002448960101783238,0.0016376975041691834,0.0035017624518510326,0.0058396751983040215,0.004913873464995917,0.0038710241330890648,0.0030003892661805967,0.0028676609143094365,0.0030496851103165197,0.004674966707736599,0.0027596235269164195,0.00173982654712142,0.003770494504839894,0.0018229923607069728,0.002866101259915591,0.0030895423821794216,0.00527867486475333,0.002010632700391685,0.002856284402058982,0.004026505509461149,0.0018146200023863345,0.006842926825649778,0.0024034540527814756,0.0017489729186314822,0.004172976674627367,0.0020079997051975834,0.0024990487139715453,0.002113827957296527,0.0023243119074697043,0.0033909804778299675,0.0011739840830825446,0.003673833629697339,0.003178915867816606,0.001533625832523788,0.0021388111225378653,0.001221070791924462,0.0036326108162710227,0.0047803384664740906,0.00414325378044905,0.001052282090172542,0.005609400366667042,0.001704273516280462,0.0010721425521775397,0.003470616063583081,0.002970070530009845,0.0009437302568918752,0.0020242393533825937,0.002351928067905161,0.003424303367930483,0.003848271108588169,0.002278312418026599,0.0021104093208980206,0.0033709720399571286,0.0033587099230833655,0.005972148671589156,0.002622219775287769,0.003193789974438173,0.0011682773534173723,0.004712079392971313,0.0047973847613098095,0.0016893667761975553,0.004646979388565563,0.0023413582023054293,0.004615360565302652,0.003806262653957556,0.001132288834661317,0.0028725030447976077,0.0015301861906787768,0.003288591867575942,0.0038937771575899656,0.003139116548479948,0.003716616097517376,0.00453658957872645,0.0024090701964590887,0.0029806193901631296,0.0068714402187234945,0.004050818188355804,0.002384198622651711,0.0054273761706598546,0.0015464258388638305,0.0031770568858118034,0.001954121297875094,0.0036063812028453556,0.003544602872197246,0.004533494838809149,0.0031520737205706075,0.0022888822836262673,0.005122440480638201,0.0015957426884461662,0.0031280206089775867,0.006237338681181963,0.0017693735206862722,0.003634861962457844,0.0067891390043148874,0.002765272304055431,0.002222203869963778,0.0043493520934955706,0.002056945396044281,0.003364437658194915,0.001078129854590707,0.002044247791255417,0.00460261851148876,0.005518388268663406,0.0038767518682005994,0.0033902274700869034,0.0032221917760780474,0.003457679896938789,0.004460372629371947,0.0014053251286719696,0.003525938970441446,0.002017426649455727,0.004150223650126383,0.003478202780699288,0.004629460658734796,0.0033477045695685355,0.004934767507492123,0.0023579480037797104,0.0043693605313683955],\"xaxis\":\"x\",\"yaxis\":\"y\",\"type\":\"histogram\"}],                        {\"template\":{\"data\":{\"histogram2dcontour\":[{\"type\":\"histogram2dcontour\",\"colorbar\":{\"outlinewidth\":0,\"ticks\":\"\"},\"colorscale\":[[0.0,\"#0d0887\"],[0.1111111111111111,\"#46039f\"],[0.2222222222222222,\"#7201a8\"],[0.3333333333333333,\"#9c179e\"],[0.4444444444444444,\"#bd3786\"],[0.5555555555555556,\"#d8576b\"],[0.6666666666666666,\"#ed7953\"],[0.7777777777777778,\"#fb9f3a\"],[0.8888888888888888,\"#fdca26\"],[1.0,\"#f0f921\"]]}],\"choropleth\":[{\"type\":\"choropleth\",\"colorbar\":{\"outlinewidth\":0,\"ticks\":\"\"}}],\"histogram2d\":[{\"type\":\"histogram2d\",\"colorbar\":{\"outlinewidth\":0,\"ticks\":\"\"},\"colorscale\":[[0.0,\"#0d0887\"],[0.1111111111111111,\"#46039f\"],[0.2222222222222222,\"#7201a8\"],[0.3333333333333333,\"#9c179e\"],[0.4444444444444444,\"#bd3786\"],[0.5555555555555556,\"#d8576b\"],[0.6666666666666666,\"#ed7953\"],[0.7777777777777778,\"#fb9f3a\"],[0.8888888888888888,\"#fdca26\"],[1.0,\"#f0f921\"]]}],\"heatmap\":[{\"type\":\"heatmap\",\"colorbar\":{\"outlinewidth\":0,\"ticks\":\"\"},\"colorscale\":[[0.0,\"#0d0887\"],[0.1111111111111111,\"#46039f\"],[0.2222222222222222,\"#7201a8\"],[0.3333333333333333,\"#9c179e\"],[0.4444444444444444,\"#bd3786\"],[0.5555555555555556,\"#d8576b\"],[0.6666666666666666,\"#ed7953\"],[0.7777777777777778,\"#fb9f3a\"],[0.8888888888888888,\"#fdca26\"],[1.0,\"#f0f921\"]]}],\"heatmapgl\":[{\"type\":\"heatmapgl\",\"colorbar\":{\"outlinewidth\":0,\"ticks\":\"\"},\"colorscale\":[[0.0,\"#0d0887\"],[0.1111111111111111,\"#46039f\"],[0.2222222222222222,\"#7201a8\"],[0.3333333333333333,\"#9c179e\"],[0.4444444444444444,\"#bd3786\"],[0.5555555555555556,\"#d8576b\"],[0.6666666666666666,\"#ed7953\"],[0.7777777777777778,\"#fb9f3a\"],[0.8888888888888888,\"#fdca26\"],[1.0,\"#f0f921\"]]}],\"contourcarpet\":[{\"type\":\"contourcarpet\",\"colorbar\":{\"outlinewidth\":0,\"ticks\":\"\"}}],\"contour\":[{\"type\":\"contour\",\"colorbar\":{\"outlinewidth\":0,\"ticks\":\"\"},\"colorscale\":[[0.0,\"#0d0887\"],[0.1111111111111111,\"#46039f\"],[0.2222222222222222,\"#7201a8\"],[0.3333333333333333,\"#9c179e\"],[0.4444444444444444,\"#bd3786\"],[0.5555555555555556,\"#d8576b\"],[0.6666666666666666,\"#ed7953\"],[0.7777777777777778,\"#fb9f3a\"],[0.8888888888888888,\"#fdca26\"],[1.0,\"#f0f921\"]]}],\"surface\":[{\"type\":\"surface\",\"colorbar\":{\"outlinewidth\":0,\"ticks\":\"\"},\"colorscale\":[[0.0,\"#0d0887\"],[0.1111111111111111,\"#46039f\"],[0.2222222222222222,\"#7201a8\"],[0.3333333333333333,\"#9c179e\"],[0.4444444444444444,\"#bd3786\"],[0.5555555555555556,\"#d8576b\"],[0.6666666666666666,\"#ed7953\"],[0.7777777777777778,\"#fb9f3a\"],[0.8888888888888888,\"#fdca26\"],[1.0,\"#f0f921\"]]}],\"mesh3d\":[{\"type\":\"mesh3d\",\"colorbar\":{\"outlinewidth\":0,\"ticks\":\"\"}}],\"scatter\":[{\"fillpattern\":{\"fillmode\":\"overlay\",\"size\":10,\"solidity\":0.2},\"type\":\"scatter\"}],\"parcoords\":[{\"type\":\"parcoords\",\"line\":{\"colorbar\":{\"outlinewidth\":0,\"ticks\":\"\"}}}],\"scatterpolargl\":[{\"type\":\"scatterpolargl\",\"marker\":{\"colorbar\":{\"outlinewidth\":0,\"ticks\":\"\"}}}],\"bar\":[{\"error_x\":{\"color\":\"#2a3f5f\"},\"error_y\":{\"color\":\"#2a3f5f\"},\"marker\":{\"line\":{\"color\":\"#E5ECF6\",\"width\":0.5},\"pattern\":{\"fillmode\":\"overlay\",\"size\":10,\"solidity\":0.2}},\"type\":\"bar\"}],\"scattergeo\":[{\"type\":\"scattergeo\",\"marker\":{\"colorbar\":{\"outlinewidth\":0,\"ticks\":\"\"}}}],\"scatterpolar\":[{\"type\":\"scatterpolar\",\"marker\":{\"colorbar\":{\"outlinewidth\":0,\"ticks\":\"\"}}}],\"histogram\":[{\"marker\":{\"pattern\":{\"fillmode\":\"overlay\",\"size\":10,\"solidity\":0.2}},\"type\":\"histogram\"}],\"scattergl\":[{\"type\":\"scattergl\",\"marker\":{\"colorbar\":{\"outlinewidth\":0,\"ticks\":\"\"}}}],\"scatter3d\":[{\"type\":\"scatter3d\",\"line\":{\"colorbar\":{\"outlinewidth\":0,\"ticks\":\"\"}},\"marker\":{\"colorbar\":{\"outlinewidth\":0,\"ticks\":\"\"}}}],\"scattermapbox\":[{\"type\":\"scattermapbox\",\"marker\":{\"colorbar\":{\"outlinewidth\":0,\"ticks\":\"\"}}}],\"scatterternary\":[{\"type\":\"scatterternary\",\"marker\":{\"colorbar\":{\"outlinewidth\":0,\"ticks\":\"\"}}}],\"scattercarpet\":[{\"type\":\"scattercarpet\",\"marker\":{\"colorbar\":{\"outlinewidth\":0,\"ticks\":\"\"}}}],\"carpet\":[{\"aaxis\":{\"endlinecolor\":\"#2a3f5f\",\"gridcolor\":\"white\",\"linecolor\":\"white\",\"minorgridcolor\":\"white\",\"startlinecolor\":\"#2a3f5f\"},\"baxis\":{\"endlinecolor\":\"#2a3f5f\",\"gridcolor\":\"white\",\"linecolor\":\"white\",\"minorgridcolor\":\"white\",\"startlinecolor\":\"#2a3f5f\"},\"type\":\"carpet\"}],\"table\":[{\"cells\":{\"fill\":{\"color\":\"#EBF0F8\"},\"line\":{\"color\":\"white\"}},\"header\":{\"fill\":{\"color\":\"#C8D4E3\"},\"line\":{\"color\":\"white\"}},\"type\":\"table\"}],\"barpolar\":[{\"marker\":{\"line\":{\"color\":\"#E5ECF6\",\"width\":0.5},\"pattern\":{\"fillmode\":\"overlay\",\"size\":10,\"solidity\":0.2}},\"type\":\"barpolar\"}],\"pie\":[{\"automargin\":true,\"type\":\"pie\"}]},\"layout\":{\"autotypenumbers\":\"strict\",\"colorway\":[\"#636efa\",\"#EF553B\",\"#00cc96\",\"#ab63fa\",\"#FFA15A\",\"#19d3f3\",\"#FF6692\",\"#B6E880\",\"#FF97FF\",\"#FECB52\"],\"font\":{\"color\":\"#2a3f5f\"},\"hovermode\":\"closest\",\"hoverlabel\":{\"align\":\"left\"},\"paper_bgcolor\":\"white\",\"plot_bgcolor\":\"#E5ECF6\",\"polar\":{\"bgcolor\":\"#E5ECF6\",\"angularaxis\":{\"gridcolor\":\"white\",\"linecolor\":\"white\",\"ticks\":\"\"},\"radialaxis\":{\"gridcolor\":\"white\",\"linecolor\":\"white\",\"ticks\":\"\"}},\"ternary\":{\"bgcolor\":\"#E5ECF6\",\"aaxis\":{\"gridcolor\":\"white\",\"linecolor\":\"white\",\"ticks\":\"\"},\"baxis\":{\"gridcolor\":\"white\",\"linecolor\":\"white\",\"ticks\":\"\"},\"caxis\":{\"gridcolor\":\"white\",\"linecolor\":\"white\",\"ticks\":\"\"}},\"coloraxis\":{\"colorbar\":{\"outlinewidth\":0,\"ticks\":\"\"}},\"colorscale\":{\"sequential\":[[0.0,\"#0d0887\"],[0.1111111111111111,\"#46039f\"],[0.2222222222222222,\"#7201a8\"],[0.3333333333333333,\"#9c179e\"],[0.4444444444444444,\"#bd3786\"],[0.5555555555555556,\"#d8576b\"],[0.6666666666666666,\"#ed7953\"],[0.7777777777777778,\"#fb9f3a\"],[0.8888888888888888,\"#fdca26\"],[1.0,\"#f0f921\"]],\"sequentialminus\":[[0.0,\"#0d0887\"],[0.1111111111111111,\"#46039f\"],[0.2222222222222222,\"#7201a8\"],[0.3333333333333333,\"#9c179e\"],[0.4444444444444444,\"#bd3786\"],[0.5555555555555556,\"#d8576b\"],[0.6666666666666666,\"#ed7953\"],[0.7777777777777778,\"#fb9f3a\"],[0.8888888888888888,\"#fdca26\"],[1.0,\"#f0f921\"]],\"diverging\":[[0,\"#8e0152\"],[0.1,\"#c51b7d\"],[0.2,\"#de77ae\"],[0.3,\"#f1b6da\"],[0.4,\"#fde0ef\"],[0.5,\"#f7f7f7\"],[0.6,\"#e6f5d0\"],[0.7,\"#b8e186\"],[0.8,\"#7fbc41\"],[0.9,\"#4d9221\"],[1,\"#276419\"]]},\"xaxis\":{\"gridcolor\":\"white\",\"linecolor\":\"white\",\"ticks\":\"\",\"title\":{\"standoff\":15},\"zerolinecolor\":\"white\",\"automargin\":true,\"zerolinewidth\":2},\"yaxis\":{\"gridcolor\":\"white\",\"linecolor\":\"white\",\"ticks\":\"\",\"title\":{\"standoff\":15},\"zerolinecolor\":\"white\",\"automargin\":true,\"zerolinewidth\":2},\"scene\":{\"xaxis\":{\"backgroundcolor\":\"#E5ECF6\",\"gridcolor\":\"white\",\"linecolor\":\"white\",\"showbackground\":true,\"ticks\":\"\",\"zerolinecolor\":\"white\",\"gridwidth\":2},\"yaxis\":{\"backgroundcolor\":\"#E5ECF6\",\"gridcolor\":\"white\",\"linecolor\":\"white\",\"showbackground\":true,\"ticks\":\"\",\"zerolinecolor\":\"white\",\"gridwidth\":2},\"zaxis\":{\"backgroundcolor\":\"#E5ECF6\",\"gridcolor\":\"white\",\"linecolor\":\"white\",\"showbackground\":true,\"ticks\":\"\",\"zerolinecolor\":\"white\",\"gridwidth\":2}},\"shapedefaults\":{\"line\":{\"color\":\"#2a3f5f\"}},\"annotationdefaults\":{\"arrowcolor\":\"#2a3f5f\",\"arrowhead\":0,\"arrowwidth\":1},\"geo\":{\"bgcolor\":\"white\",\"landcolor\":\"#E5ECF6\",\"subunitcolor\":\"white\",\"showland\":true,\"showlakes\":true,\"lakecolor\":\"white\"},\"title\":{\"x\":0.05},\"mapbox\":{\"style\":\"light\"}}},\"xaxis\":{\"anchor\":\"y\",\"domain\":[0.0,1.0],\"title\":{\"text\":\"0\"}},\"yaxis\":{\"anchor\":\"x\",\"domain\":[0.0,1.0],\"title\":{\"text\":\"probability\"}},\"legend\":{\"tracegroupgap\":0},\"title\":{\"text\":\"Empirical Distribution of the TVDS between Cluster 0 & 2\"},\"barmode\":\"relative\",\"shapes\":[{\"line\":{\"color\":\"red\"},\"type\":\"line\",\"x0\":0.03833505292544645,\"x1\":0.03833505292544645,\"xref\":\"x\",\"y0\":0,\"y1\":1,\"yref\":\"y domain\"}]},                        {\"responsive\": true}                    ).then(function(){\n",
       "                            \n",
       "var gd = document.getElementById('98b5e329-8070-4695-9de6-e3ec8a56378e');\n",
       "var x = new MutationObserver(function (mutations, observer) {{\n",
       "        var display = window.getComputedStyle(gd).display;\n",
       "        if (!display || display === 'none') {{\n",
       "            console.log([gd, 'removed!']);\n",
       "            Plotly.purge(gd);\n",
       "            observer.disconnect();\n",
       "        }}\n",
       "}});\n",
       "\n",
       "// Listen for the removal of the full notebook cells\n",
       "var notebookContainer = gd.closest('#notebook-container');\n",
       "if (notebookContainer) {{\n",
       "    x.observe(notebookContainer, {childList: true});\n",
       "}}\n",
       "\n",
       "// Listen for the clearing of the current output cell\n",
       "var outputEl = gd.closest('.output');\n",
       "if (outputEl) {{\n",
       "    x.observe(outputEl, {childList: true});\n",
       "}}\n",
       "\n",
       "                        })                };                });            </script>        </div>"
      ]
     },
     "metadata": {},
     "output_type": "display_data"
    }
   ],
   "source": [
    "fig = px.histogram(pd.DataFrame(tvds), x=0, nbins=50, histnorm='probability', \n",
    "                   title='Empirical Distribution of the TVDS between Cluster 0 & 2')\n",
    "fig.add_vline(x=observed_tvd, line_color='red')"
   ]
  },
  {
   "cell_type": "code",
   "execution_count": 48,
   "id": "94fa255d-35ca-461f-9906-7f2dae80753a",
   "metadata": {},
   "outputs": [
    {
     "data": {
      "text/plain": [
       "0.0"
      ]
     },
     "execution_count": 48,
     "metadata": {},
     "output_type": "execute_result"
    }
   ],
   "source": [
    "p_val = (np.array(tvds) >= observed_tvd).mean()\n",
    "p_val"
   ]
  },
  {
   "cell_type": "markdown",
   "id": "cf4c8d96-f46f-4829-aeb5-9bc9ef74bec3",
   "metadata": {},
   "source": [
    "With a p-value of 0 in both tests we reject the null hypothesis in favor for the alternative for both tests. "
   ]
  }
 ],
 "metadata": {
  "kernelspec": {
   "display_name": "Python 3 (ipykernel)",
   "language": "python",
   "name": "python3"
  },
  "language_info": {
   "codemirror_mode": {
    "name": "ipython",
    "version": 3
   },
   "file_extension": ".py",
   "mimetype": "text/x-python",
   "name": "python",
   "nbconvert_exporter": "python",
   "pygments_lexer": "ipython3",
   "version": "3.9.7"
  }
 },
 "nbformat": 4,
 "nbformat_minor": 5
}
